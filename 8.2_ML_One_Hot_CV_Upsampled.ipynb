{
 "cells": [
  {
   "cell_type": "code",
   "execution_count": 1,
   "metadata": {},
   "outputs": [],
   "source": [
    "from sklearn.naive_bayes import MultinomialNB\n",
    "from sklearn.ensemble import RandomForestClassifier\n",
    "from sklearn.tree import DecisionTreeClassifier\n",
    "from sklearn.metrics import confusion_matrix, plot_confusion_matrix, f1_score\n",
    "from sklearn.model_selection import cross_val_score, KFold # for cross validation\n",
    "from sklearn import preprocessing\n",
    "from sklearn.neural_network import MLPClassifier\n",
    "from sklearn.linear_model import LogisticRegression\n",
    "from sklearn.svm import SVC\n",
    "from sklearn import metrics # for f1 macro in cross validation\n",
    "\n",
    "import xgboost as xgb\n",
    "\n",
    "import pandas as pd\n",
    "import matplotlib.pyplot as plt\n",
    "import numpy as np\n",
    "import itertools\n",
    "from helper import util_visualizations, util_ml"
   ]
  },
  {
   "cell_type": "markdown",
   "metadata": {},
   "source": [
    "# 0. Load Data"
   ]
  },
  {
   "cell_type": "markdown",
   "metadata": {},
   "source": [
    "## 0.1 Training"
   ]
  },
  {
   "cell_type": "code",
   "execution_count": 2,
   "metadata": {},
   "outputs": [],
   "source": [
    "# read data\n",
    "train = pd.read_csv('/path/to/9_FINAL/data/machine_learning/one_hot_encoded/train/upsampled_training_data.csv', sep=\";\")\n",
    "del train['Unnamed: 0']"
   ]
  },
  {
   "cell_type": "code",
   "execution_count": 3,
   "metadata": {},
   "outputs": [],
   "source": [
    "# get label\n",
    "y_train = train['label']"
   ]
  },
  {
   "cell_type": "code",
   "execution_count": 4,
   "metadata": {},
   "outputs": [
    {
     "data": {
      "text/plain": [
       "(331875, 65)"
      ]
     },
     "execution_count": 4,
     "metadata": {},
     "output_type": "execute_result"
    }
   ],
   "source": [
    "# get variables\n",
    "X_train = train.copy()\n",
    "del X_train['label']\n",
    "X_train.shape"
   ]
  },
  {
   "cell_type": "code",
   "execution_count": 5,
   "metadata": {},
   "outputs": [
    {
     "data": {
      "text/html": [
       "<div>\n",
       "<style scoped>\n",
       "    .dataframe tbody tr th:only-of-type {\n",
       "        vertical-align: middle;\n",
       "    }\n",
       "\n",
       "    .dataframe tbody tr th {\n",
       "        vertical-align: top;\n",
       "    }\n",
       "\n",
       "    .dataframe thead th {\n",
       "        text-align: right;\n",
       "    }\n",
       "</style>\n",
       "<table border=\"1\" class=\"dataframe\">\n",
       "  <thead>\n",
       "    <tr style=\"text-align: right;\">\n",
       "      <th></th>\n",
       "      <th>instance</th>\n",
       "      <th>class</th>\n",
       "      <th>frequency</th>\n",
       "      <th>pidspread</th>\n",
       "      <th>pldspread</th>\n",
       "      <th>id</th>\n",
       "      <th>pids</th>\n",
       "      <th>p1</th>\n",
       "      <th>p10</th>\n",
       "      <th>p11</th>\n",
       "      <th>...</th>\n",
       "      <th>p4</th>\n",
       "      <th>p42</th>\n",
       "      <th>p43</th>\n",
       "      <th>p5</th>\n",
       "      <th>p6</th>\n",
       "      <th>p7</th>\n",
       "      <th>p8a</th>\n",
       "      <th>p8b</th>\n",
       "      <th>p8c</th>\n",
       "      <th>p8d</th>\n",
       "    </tr>\n",
       "  </thead>\n",
       "  <tbody>\n",
       "    <tr>\n",
       "      <td>0</td>\n",
       "      <td>glomalin</td>\n",
       "      <td>biomolecule</td>\n",
       "      <td>2</td>\n",
       "      <td>1</td>\n",
       "      <td>1</td>\n",
       "      <td>82829299</td>\n",
       "      <td>['p5']</td>\n",
       "      <td>0</td>\n",
       "      <td>0</td>\n",
       "      <td>0</td>\n",
       "      <td>...</td>\n",
       "      <td>0</td>\n",
       "      <td>0</td>\n",
       "      <td>0</td>\n",
       "      <td>1</td>\n",
       "      <td>0</td>\n",
       "      <td>0</td>\n",
       "      <td>0</td>\n",
       "      <td>0</td>\n",
       "      <td>0</td>\n",
       "      <td>0</td>\n",
       "    </tr>\n",
       "    <tr>\n",
       "      <td>1</td>\n",
       "      <td>endocrinologist</td>\n",
       "      <td>anesthesiologist</td>\n",
       "      <td>1</td>\n",
       "      <td>1</td>\n",
       "      <td>1</td>\n",
       "      <td>187218903</td>\n",
       "      <td>['p1']</td>\n",
       "      <td>1</td>\n",
       "      <td>0</td>\n",
       "      <td>0</td>\n",
       "      <td>...</td>\n",
       "      <td>0</td>\n",
       "      <td>0</td>\n",
       "      <td>0</td>\n",
       "      <td>0</td>\n",
       "      <td>0</td>\n",
       "      <td>0</td>\n",
       "      <td>0</td>\n",
       "      <td>0</td>\n",
       "      <td>0</td>\n",
       "      <td>0</td>\n",
       "    </tr>\n",
       "    <tr>\n",
       "      <td>2</td>\n",
       "      <td>election</td>\n",
       "      <td>event</td>\n",
       "      <td>1657</td>\n",
       "      <td>37</td>\n",
       "      <td>1039</td>\n",
       "      <td>362225264</td>\n",
       "      <td>['p6p5p4p2p1p8dp10p12ap8ap8cp8bp43p16p15ap23dp...</td>\n",
       "      <td>1</td>\n",
       "      <td>1</td>\n",
       "      <td>0</td>\n",
       "      <td>...</td>\n",
       "      <td>1</td>\n",
       "      <td>0</td>\n",
       "      <td>1</td>\n",
       "      <td>1</td>\n",
       "      <td>1</td>\n",
       "      <td>0</td>\n",
       "      <td>1</td>\n",
       "      <td>1</td>\n",
       "      <td>1</td>\n",
       "      <td>1</td>\n",
       "    </tr>\n",
       "    <tr>\n",
       "      <td>3</td>\n",
       "      <td>econometrician</td>\n",
       "      <td>person</td>\n",
       "      <td>1</td>\n",
       "      <td>1</td>\n",
       "      <td>1</td>\n",
       "      <td>54195916</td>\n",
       "      <td>['p8a']</td>\n",
       "      <td>0</td>\n",
       "      <td>0</td>\n",
       "      <td>0</td>\n",
       "      <td>...</td>\n",
       "      <td>0</td>\n",
       "      <td>0</td>\n",
       "      <td>0</td>\n",
       "      <td>0</td>\n",
       "      <td>0</td>\n",
       "      <td>0</td>\n",
       "      <td>1</td>\n",
       "      <td>0</td>\n",
       "      <td>0</td>\n",
       "      <td>0</td>\n",
       "    </tr>\n",
       "    <tr>\n",
       "      <td>4</td>\n",
       "      <td>restaurant</td>\n",
       "      <td>place</td>\n",
       "      <td>13738</td>\n",
       "      <td>44</td>\n",
       "      <td>5915</td>\n",
       "      <td>475994031</td>\n",
       "      <td>['p7p6p5p4p2p1p12ap12cp43p26p15ap25p20cp20bp20...</td>\n",
       "      <td>1</td>\n",
       "      <td>1</td>\n",
       "      <td>1</td>\n",
       "      <td>...</td>\n",
       "      <td>1</td>\n",
       "      <td>0</td>\n",
       "      <td>1</td>\n",
       "      <td>1</td>\n",
       "      <td>1</td>\n",
       "      <td>1</td>\n",
       "      <td>1</td>\n",
       "      <td>1</td>\n",
       "      <td>1</td>\n",
       "      <td>1</td>\n",
       "    </tr>\n",
       "    <tr>\n",
       "      <td>...</td>\n",
       "      <td>...</td>\n",
       "      <td>...</td>\n",
       "      <td>...</td>\n",
       "      <td>...</td>\n",
       "      <td>...</td>\n",
       "      <td>...</td>\n",
       "      <td>...</td>\n",
       "      <td>...</td>\n",
       "      <td>...</td>\n",
       "      <td>...</td>\n",
       "      <td>...</td>\n",
       "      <td>...</td>\n",
       "      <td>...</td>\n",
       "      <td>...</td>\n",
       "      <td>...</td>\n",
       "      <td>...</td>\n",
       "      <td>...</td>\n",
       "      <td>...</td>\n",
       "      <td>...</td>\n",
       "      <td>...</td>\n",
       "      <td>...</td>\n",
       "    </tr>\n",
       "    <tr>\n",
       "      <td>331870</td>\n",
       "      <td>dejene</td>\n",
       "      <td>runner</td>\n",
       "      <td>1</td>\n",
       "      <td>1</td>\n",
       "      <td>1</td>\n",
       "      <td>397559175</td>\n",
       "      <td>['p8a']</td>\n",
       "      <td>0</td>\n",
       "      <td>0</td>\n",
       "      <td>0</td>\n",
       "      <td>...</td>\n",
       "      <td>0</td>\n",
       "      <td>0</td>\n",
       "      <td>0</td>\n",
       "      <td>0</td>\n",
       "      <td>0</td>\n",
       "      <td>0</td>\n",
       "      <td>1</td>\n",
       "      <td>0</td>\n",
       "      <td>0</td>\n",
       "      <td>0</td>\n",
       "    </tr>\n",
       "    <tr>\n",
       "      <td>331871</td>\n",
       "      <td>unless</td>\n",
       "      <td>suite</td>\n",
       "      <td>1</td>\n",
       "      <td>1</td>\n",
       "      <td>1</td>\n",
       "      <td>113361288</td>\n",
       "      <td>['p21a']</td>\n",
       "      <td>0</td>\n",
       "      <td>0</td>\n",
       "      <td>0</td>\n",
       "      <td>...</td>\n",
       "      <td>0</td>\n",
       "      <td>0</td>\n",
       "      <td>0</td>\n",
       "      <td>0</td>\n",
       "      <td>0</td>\n",
       "      <td>0</td>\n",
       "      <td>0</td>\n",
       "      <td>0</td>\n",
       "      <td>0</td>\n",
       "      <td>0</td>\n",
       "    </tr>\n",
       "    <tr>\n",
       "      <td>331872</td>\n",
       "      <td>port</td>\n",
       "      <td>place</td>\n",
       "      <td>1017</td>\n",
       "      <td>32</td>\n",
       "      <td>586</td>\n",
       "      <td>87144960</td>\n",
       "      <td>['p6p5p4p1p10p8ap8cp8bp43p26p34p23dp25p20cp20a...</td>\n",
       "      <td>1</td>\n",
       "      <td>1</td>\n",
       "      <td>0</td>\n",
       "      <td>...</td>\n",
       "      <td>1</td>\n",
       "      <td>0</td>\n",
       "      <td>1</td>\n",
       "      <td>1</td>\n",
       "      <td>1</td>\n",
       "      <td>1</td>\n",
       "      <td>1</td>\n",
       "      <td>1</td>\n",
       "      <td>1</td>\n",
       "      <td>0</td>\n",
       "    </tr>\n",
       "    <tr>\n",
       "      <td>331873</td>\n",
       "      <td>youngberry</td>\n",
       "      <td>berry</td>\n",
       "      <td>3</td>\n",
       "      <td>3</td>\n",
       "      <td>3</td>\n",
       "      <td>473121725</td>\n",
       "      <td>['p4p28b', 'p1']</td>\n",
       "      <td>1</td>\n",
       "      <td>0</td>\n",
       "      <td>0</td>\n",
       "      <td>...</td>\n",
       "      <td>1</td>\n",
       "      <td>0</td>\n",
       "      <td>0</td>\n",
       "      <td>0</td>\n",
       "      <td>0</td>\n",
       "      <td>0</td>\n",
       "      <td>0</td>\n",
       "      <td>0</td>\n",
       "      <td>0</td>\n",
       "      <td>0</td>\n",
       "    </tr>\n",
       "    <tr>\n",
       "      <td>331874</td>\n",
       "      <td>imidazolate</td>\n",
       "      <td>imidazole</td>\n",
       "      <td>2</td>\n",
       "      <td>1</td>\n",
       "      <td>1</td>\n",
       "      <td>278072569</td>\n",
       "      <td>['p28d', 'p28d']</td>\n",
       "      <td>0</td>\n",
       "      <td>0</td>\n",
       "      <td>0</td>\n",
       "      <td>...</td>\n",
       "      <td>0</td>\n",
       "      <td>0</td>\n",
       "      <td>0</td>\n",
       "      <td>0</td>\n",
       "      <td>0</td>\n",
       "      <td>0</td>\n",
       "      <td>0</td>\n",
       "      <td>0</td>\n",
       "      <td>0</td>\n",
       "      <td>0</td>\n",
       "    </tr>\n",
       "  </tbody>\n",
       "</table>\n",
       "<p>331875 rows × 65 columns</p>\n",
       "</div>"
      ],
      "text/plain": [
       "               instance             class  frequency  pidspread  pldspread  \\\n",
       "0              glomalin       biomolecule          2          1          1   \n",
       "1       endocrinologist  anesthesiologist          1          1          1   \n",
       "2              election             event       1657         37       1039   \n",
       "3        econometrician            person          1          1          1   \n",
       "4            restaurant             place      13738         44       5915   \n",
       "...                 ...               ...        ...        ...        ...   \n",
       "331870           dejene            runner          1          1          1   \n",
       "331871           unless             suite          1          1          1   \n",
       "331872             port             place       1017         32        586   \n",
       "331873       youngberry             berry          3          3          3   \n",
       "331874      imidazolate         imidazole          2          1          1   \n",
       "\n",
       "               id                                               pids  p1  p10  \\\n",
       "0        82829299                                             ['p5']   0    0   \n",
       "1       187218903                                             ['p1']   1    0   \n",
       "2       362225264  ['p6p5p4p2p1p8dp10p12ap8ap8cp8bp43p16p15ap23dp...   1    1   \n",
       "3        54195916                                            ['p8a']   0    0   \n",
       "4       475994031  ['p7p6p5p4p2p1p12ap12cp43p26p15ap25p20cp20bp20...   1    1   \n",
       "...           ...                                                ...  ..  ...   \n",
       "331870  397559175                                            ['p8a']   0    0   \n",
       "331871  113361288                                           ['p21a']   0    0   \n",
       "331872   87144960  ['p6p5p4p1p10p8ap8cp8bp43p26p34p23dp25p20cp20a...   1    1   \n",
       "331873  473121725                                   ['p4p28b', 'p1']   1    0   \n",
       "331874  278072569                                   ['p28d', 'p28d']   0    0   \n",
       "\n",
       "        p11  ...  p4  p42  p43  p5  p6  p7  p8a  p8b  p8c  p8d  \n",
       "0         0  ...   0    0    0   1   0   0    0    0    0    0  \n",
       "1         0  ...   0    0    0   0   0   0    0    0    0    0  \n",
       "2         0  ...   1    0    1   1   1   0    1    1    1    1  \n",
       "3         0  ...   0    0    0   0   0   0    1    0    0    0  \n",
       "4         1  ...   1    0    1   1   1   1    1    1    1    1  \n",
       "...     ...  ...  ..  ...  ...  ..  ..  ..  ...  ...  ...  ...  \n",
       "331870    0  ...   0    0    0   0   0   0    1    0    0    0  \n",
       "331871    0  ...   0    0    0   0   0   0    0    0    0    0  \n",
       "331872    0  ...   1    0    1   1   1   1    1    1    1    0  \n",
       "331873    0  ...   1    0    0   0   0   0    0    0    0    0  \n",
       "331874    0  ...   0    0    0   0   0   0    0    0    0    0  \n",
       "\n",
       "[331875 rows x 65 columns]"
      ]
     },
     "execution_count": 5,
     "metadata": {},
     "output_type": "execute_result"
    }
   ],
   "source": [
    "X_train"
   ]
  },
  {
   "cell_type": "code",
   "execution_count": 6,
   "metadata": {},
   "outputs": [
    {
     "data": {
      "text/html": [
       "<div>\n",
       "<style scoped>\n",
       "    .dataframe tbody tr th:only-of-type {\n",
       "        vertical-align: middle;\n",
       "    }\n",
       "\n",
       "    .dataframe tbody tr th {\n",
       "        vertical-align: top;\n",
       "    }\n",
       "\n",
       "    .dataframe thead th {\n",
       "        text-align: right;\n",
       "    }\n",
       "</style>\n",
       "<table border=\"1\" class=\"dataframe\">\n",
       "  <thead>\n",
       "    <tr style=\"text-align: right;\">\n",
       "      <th></th>\n",
       "      <th>p1</th>\n",
       "      <th>p10</th>\n",
       "      <th>p11</th>\n",
       "      <th>p12a</th>\n",
       "      <th>p12b</th>\n",
       "      <th>p12c</th>\n",
       "      <th>p13</th>\n",
       "      <th>p14</th>\n",
       "      <th>p15a</th>\n",
       "      <th>p15b</th>\n",
       "      <th>...</th>\n",
       "      <th>p4</th>\n",
       "      <th>p42</th>\n",
       "      <th>p43</th>\n",
       "      <th>p5</th>\n",
       "      <th>p6</th>\n",
       "      <th>p7</th>\n",
       "      <th>p8a</th>\n",
       "      <th>p8b</th>\n",
       "      <th>p8c</th>\n",
       "      <th>p8d</th>\n",
       "    </tr>\n",
       "  </thead>\n",
       "  <tbody>\n",
       "    <tr>\n",
       "      <td>0</td>\n",
       "      <td>0</td>\n",
       "      <td>0</td>\n",
       "      <td>0</td>\n",
       "      <td>0</td>\n",
       "      <td>0</td>\n",
       "      <td>0</td>\n",
       "      <td>0</td>\n",
       "      <td>0</td>\n",
       "      <td>0</td>\n",
       "      <td>0</td>\n",
       "      <td>...</td>\n",
       "      <td>0</td>\n",
       "      <td>0</td>\n",
       "      <td>0</td>\n",
       "      <td>1</td>\n",
       "      <td>0</td>\n",
       "      <td>0</td>\n",
       "      <td>0</td>\n",
       "      <td>0</td>\n",
       "      <td>0</td>\n",
       "      <td>0</td>\n",
       "    </tr>\n",
       "    <tr>\n",
       "      <td>1</td>\n",
       "      <td>1</td>\n",
       "      <td>0</td>\n",
       "      <td>0</td>\n",
       "      <td>0</td>\n",
       "      <td>0</td>\n",
       "      <td>0</td>\n",
       "      <td>0</td>\n",
       "      <td>0</td>\n",
       "      <td>0</td>\n",
       "      <td>0</td>\n",
       "      <td>...</td>\n",
       "      <td>0</td>\n",
       "      <td>0</td>\n",
       "      <td>0</td>\n",
       "      <td>0</td>\n",
       "      <td>0</td>\n",
       "      <td>0</td>\n",
       "      <td>0</td>\n",
       "      <td>0</td>\n",
       "      <td>0</td>\n",
       "      <td>0</td>\n",
       "    </tr>\n",
       "    <tr>\n",
       "      <td>2</td>\n",
       "      <td>1</td>\n",
       "      <td>1</td>\n",
       "      <td>0</td>\n",
       "      <td>1</td>\n",
       "      <td>0</td>\n",
       "      <td>0</td>\n",
       "      <td>0</td>\n",
       "      <td>0</td>\n",
       "      <td>1</td>\n",
       "      <td>1</td>\n",
       "      <td>...</td>\n",
       "      <td>1</td>\n",
       "      <td>0</td>\n",
       "      <td>1</td>\n",
       "      <td>1</td>\n",
       "      <td>1</td>\n",
       "      <td>0</td>\n",
       "      <td>1</td>\n",
       "      <td>1</td>\n",
       "      <td>1</td>\n",
       "      <td>1</td>\n",
       "    </tr>\n",
       "    <tr>\n",
       "      <td>3</td>\n",
       "      <td>0</td>\n",
       "      <td>0</td>\n",
       "      <td>0</td>\n",
       "      <td>0</td>\n",
       "      <td>0</td>\n",
       "      <td>0</td>\n",
       "      <td>0</td>\n",
       "      <td>0</td>\n",
       "      <td>0</td>\n",
       "      <td>0</td>\n",
       "      <td>...</td>\n",
       "      <td>0</td>\n",
       "      <td>0</td>\n",
       "      <td>0</td>\n",
       "      <td>0</td>\n",
       "      <td>0</td>\n",
       "      <td>0</td>\n",
       "      <td>1</td>\n",
       "      <td>0</td>\n",
       "      <td>0</td>\n",
       "      <td>0</td>\n",
       "    </tr>\n",
       "    <tr>\n",
       "      <td>4</td>\n",
       "      <td>1</td>\n",
       "      <td>1</td>\n",
       "      <td>1</td>\n",
       "      <td>1</td>\n",
       "      <td>0</td>\n",
       "      <td>1</td>\n",
       "      <td>0</td>\n",
       "      <td>1</td>\n",
       "      <td>1</td>\n",
       "      <td>0</td>\n",
       "      <td>...</td>\n",
       "      <td>1</td>\n",
       "      <td>0</td>\n",
       "      <td>1</td>\n",
       "      <td>1</td>\n",
       "      <td>1</td>\n",
       "      <td>1</td>\n",
       "      <td>1</td>\n",
       "      <td>1</td>\n",
       "      <td>1</td>\n",
       "      <td>1</td>\n",
       "    </tr>\n",
       "  </tbody>\n",
       "</table>\n",
       "<p>5 rows × 58 columns</p>\n",
       "</div>"
      ],
      "text/plain": [
       "   p1  p10  p11  p12a  p12b  p12c  p13  p14  p15a  p15b  ...  p4  p42  p43  \\\n",
       "0   0    0    0     0     0     0    0    0     0     0  ...   0    0    0   \n",
       "1   1    0    0     0     0     0    0    0     0     0  ...   0    0    0   \n",
       "2   1    1    0     1     0     0    0    0     1     1  ...   1    0    1   \n",
       "3   0    0    0     0     0     0    0    0     0     0  ...   0    0    0   \n",
       "4   1    1    1     1     0     1    0    1     1     0  ...   1    0    1   \n",
       "\n",
       "   p5  p6  p7  p8a  p8b  p8c  p8d  \n",
       "0   1   0   0    0    0    0    0  \n",
       "1   0   0   0    0    0    0    0  \n",
       "2   1   1   0    1    1    1    1  \n",
       "3   0   0   0    1    0    0    0  \n",
       "4   1   1   1    1    1    1    1  \n",
       "\n",
       "[5 rows x 58 columns]"
      ]
     },
     "execution_count": 6,
     "metadata": {},
     "output_type": "execute_result"
    }
   ],
   "source": [
    "# only take one hot encoded columns\n",
    "X_train_one_hot = X_train.drop(['instance', 'class', 'frequency', 'pidspread', 'pldspread', 'id', 'pids'], axis=1)\n",
    "X_train_one_hot.head()"
   ]
  },
  {
   "cell_type": "code",
   "execution_count": 7,
   "metadata": {},
   "outputs": [
    {
     "data": {
      "text/html": [
       "<div>\n",
       "<style scoped>\n",
       "    .dataframe tbody tr th:only-of-type {\n",
       "        vertical-align: middle;\n",
       "    }\n",
       "\n",
       "    .dataframe tbody tr th {\n",
       "        vertical-align: top;\n",
       "    }\n",
       "\n",
       "    .dataframe thead th {\n",
       "        text-align: right;\n",
       "    }\n",
       "</style>\n",
       "<table border=\"1\" class=\"dataframe\">\n",
       "  <thead>\n",
       "    <tr style=\"text-align: right;\">\n",
       "      <th></th>\n",
       "      <th>frequency</th>\n",
       "      <th>pidspread</th>\n",
       "      <th>pldspread</th>\n",
       "      <th>p1</th>\n",
       "      <th>p10</th>\n",
       "      <th>p11</th>\n",
       "      <th>p12a</th>\n",
       "      <th>p12b</th>\n",
       "      <th>p12c</th>\n",
       "      <th>p13</th>\n",
       "      <th>...</th>\n",
       "      <th>p4</th>\n",
       "      <th>p42</th>\n",
       "      <th>p43</th>\n",
       "      <th>p5</th>\n",
       "      <th>p6</th>\n",
       "      <th>p7</th>\n",
       "      <th>p8a</th>\n",
       "      <th>p8b</th>\n",
       "      <th>p8c</th>\n",
       "      <th>p8d</th>\n",
       "    </tr>\n",
       "  </thead>\n",
       "  <tbody>\n",
       "    <tr>\n",
       "      <td>0</td>\n",
       "      <td>2</td>\n",
       "      <td>1</td>\n",
       "      <td>1</td>\n",
       "      <td>0</td>\n",
       "      <td>0</td>\n",
       "      <td>0</td>\n",
       "      <td>0</td>\n",
       "      <td>0</td>\n",
       "      <td>0</td>\n",
       "      <td>0</td>\n",
       "      <td>...</td>\n",
       "      <td>0</td>\n",
       "      <td>0</td>\n",
       "      <td>0</td>\n",
       "      <td>1</td>\n",
       "      <td>0</td>\n",
       "      <td>0</td>\n",
       "      <td>0</td>\n",
       "      <td>0</td>\n",
       "      <td>0</td>\n",
       "      <td>0</td>\n",
       "    </tr>\n",
       "    <tr>\n",
       "      <td>1</td>\n",
       "      <td>1</td>\n",
       "      <td>1</td>\n",
       "      <td>1</td>\n",
       "      <td>1</td>\n",
       "      <td>0</td>\n",
       "      <td>0</td>\n",
       "      <td>0</td>\n",
       "      <td>0</td>\n",
       "      <td>0</td>\n",
       "      <td>0</td>\n",
       "      <td>...</td>\n",
       "      <td>0</td>\n",
       "      <td>0</td>\n",
       "      <td>0</td>\n",
       "      <td>0</td>\n",
       "      <td>0</td>\n",
       "      <td>0</td>\n",
       "      <td>0</td>\n",
       "      <td>0</td>\n",
       "      <td>0</td>\n",
       "      <td>0</td>\n",
       "    </tr>\n",
       "    <tr>\n",
       "      <td>2</td>\n",
       "      <td>1657</td>\n",
       "      <td>37</td>\n",
       "      <td>1039</td>\n",
       "      <td>1</td>\n",
       "      <td>1</td>\n",
       "      <td>0</td>\n",
       "      <td>1</td>\n",
       "      <td>0</td>\n",
       "      <td>0</td>\n",
       "      <td>0</td>\n",
       "      <td>...</td>\n",
       "      <td>1</td>\n",
       "      <td>0</td>\n",
       "      <td>1</td>\n",
       "      <td>1</td>\n",
       "      <td>1</td>\n",
       "      <td>0</td>\n",
       "      <td>1</td>\n",
       "      <td>1</td>\n",
       "      <td>1</td>\n",
       "      <td>1</td>\n",
       "    </tr>\n",
       "    <tr>\n",
       "      <td>3</td>\n",
       "      <td>1</td>\n",
       "      <td>1</td>\n",
       "      <td>1</td>\n",
       "      <td>0</td>\n",
       "      <td>0</td>\n",
       "      <td>0</td>\n",
       "      <td>0</td>\n",
       "      <td>0</td>\n",
       "      <td>0</td>\n",
       "      <td>0</td>\n",
       "      <td>...</td>\n",
       "      <td>0</td>\n",
       "      <td>0</td>\n",
       "      <td>0</td>\n",
       "      <td>0</td>\n",
       "      <td>0</td>\n",
       "      <td>0</td>\n",
       "      <td>1</td>\n",
       "      <td>0</td>\n",
       "      <td>0</td>\n",
       "      <td>0</td>\n",
       "    </tr>\n",
       "    <tr>\n",
       "      <td>4</td>\n",
       "      <td>13738</td>\n",
       "      <td>44</td>\n",
       "      <td>5915</td>\n",
       "      <td>1</td>\n",
       "      <td>1</td>\n",
       "      <td>1</td>\n",
       "      <td>1</td>\n",
       "      <td>0</td>\n",
       "      <td>1</td>\n",
       "      <td>0</td>\n",
       "      <td>...</td>\n",
       "      <td>1</td>\n",
       "      <td>0</td>\n",
       "      <td>1</td>\n",
       "      <td>1</td>\n",
       "      <td>1</td>\n",
       "      <td>1</td>\n",
       "      <td>1</td>\n",
       "      <td>1</td>\n",
       "      <td>1</td>\n",
       "      <td>1</td>\n",
       "    </tr>\n",
       "  </tbody>\n",
       "</table>\n",
       "<p>5 rows × 61 columns</p>\n",
       "</div>"
      ],
      "text/plain": [
       "   frequency  pidspread  pldspread  p1  p10  p11  p12a  p12b  p12c  p13  ...  \\\n",
       "0          2          1          1   0    0    0     0     0     0    0  ...   \n",
       "1          1          1          1   1    0    0     0     0     0    0  ...   \n",
       "2       1657         37       1039   1    1    0     1     0     0    0  ...   \n",
       "3          1          1          1   0    0    0     0     0     0    0  ...   \n",
       "4      13738         44       5915   1    1    1     1     0     1    0  ...   \n",
       "\n",
       "   p4  p42  p43  p5  p6  p7  p8a  p8b  p8c  p8d  \n",
       "0   0    0    0   1   0   0    0    0    0    0  \n",
       "1   0    0    0   0   0   0    0    0    0    0  \n",
       "2   1    0    1   1   1   0    1    1    1    1  \n",
       "3   0    0    0   0   0   0    1    0    0    0  \n",
       "4   1    0    1   1   1   1    1    1    1    1  \n",
       "\n",
       "[5 rows x 61 columns]"
      ]
     },
     "execution_count": 7,
     "metadata": {},
     "output_type": "execute_result"
    }
   ],
   "source": [
    "# only take one hot encoded columns\n",
    "X_train_one_hot_more = X_train.drop(['instance', 'class', 'id', 'pids'], axis=1) \n",
    "X_train_one_hot_more.head()"
   ]
  },
  {
   "cell_type": "code",
   "execution_count": 8,
   "metadata": {},
   "outputs": [
    {
     "data": {
      "text/html": [
       "<div>\n",
       "<style scoped>\n",
       "    .dataframe tbody tr th:only-of-type {\n",
       "        vertical-align: middle;\n",
       "    }\n",
       "\n",
       "    .dataframe tbody tr th {\n",
       "        vertical-align: top;\n",
       "    }\n",
       "\n",
       "    .dataframe thead th {\n",
       "        text-align: right;\n",
       "    }\n",
       "</style>\n",
       "<table border=\"1\" class=\"dataframe\">\n",
       "  <thead>\n",
       "    <tr style=\"text-align: right;\">\n",
       "      <th></th>\n",
       "      <th>0</th>\n",
       "      <th>1</th>\n",
       "      <th>2</th>\n",
       "      <th>3</th>\n",
       "      <th>4</th>\n",
       "      <th>5</th>\n",
       "      <th>6</th>\n",
       "      <th>7</th>\n",
       "      <th>8</th>\n",
       "      <th>9</th>\n",
       "      <th>...</th>\n",
       "      <th>51</th>\n",
       "      <th>52</th>\n",
       "      <th>53</th>\n",
       "      <th>54</th>\n",
       "      <th>55</th>\n",
       "      <th>56</th>\n",
       "      <th>57</th>\n",
       "      <th>58</th>\n",
       "      <th>59</th>\n",
       "      <th>60</th>\n",
       "    </tr>\n",
       "  </thead>\n",
       "  <tbody>\n",
       "    <tr>\n",
       "      <td>0</td>\n",
       "      <td>0.000015</td>\n",
       "      <td>0.00</td>\n",
       "      <td>0.000000</td>\n",
       "      <td>0.0</td>\n",
       "      <td>0.0</td>\n",
       "      <td>0.0</td>\n",
       "      <td>0.0</td>\n",
       "      <td>0.0</td>\n",
       "      <td>0.0</td>\n",
       "      <td>0.0</td>\n",
       "      <td>...</td>\n",
       "      <td>0.0</td>\n",
       "      <td>0.0</td>\n",
       "      <td>0.0</td>\n",
       "      <td>1.0</td>\n",
       "      <td>0.0</td>\n",
       "      <td>0.0</td>\n",
       "      <td>0.0</td>\n",
       "      <td>0.0</td>\n",
       "      <td>0.0</td>\n",
       "      <td>0.0</td>\n",
       "    </tr>\n",
       "    <tr>\n",
       "      <td>1</td>\n",
       "      <td>0.000000</td>\n",
       "      <td>0.00</td>\n",
       "      <td>0.000000</td>\n",
       "      <td>1.0</td>\n",
       "      <td>0.0</td>\n",
       "      <td>0.0</td>\n",
       "      <td>0.0</td>\n",
       "      <td>0.0</td>\n",
       "      <td>0.0</td>\n",
       "      <td>0.0</td>\n",
       "      <td>...</td>\n",
       "      <td>0.0</td>\n",
       "      <td>0.0</td>\n",
       "      <td>0.0</td>\n",
       "      <td>0.0</td>\n",
       "      <td>0.0</td>\n",
       "      <td>0.0</td>\n",
       "      <td>0.0</td>\n",
       "      <td>0.0</td>\n",
       "      <td>0.0</td>\n",
       "      <td>0.0</td>\n",
       "    </tr>\n",
       "    <tr>\n",
       "      <td>2</td>\n",
       "      <td>0.025538</td>\n",
       "      <td>0.72</td>\n",
       "      <td>0.053340</td>\n",
       "      <td>1.0</td>\n",
       "      <td>1.0</td>\n",
       "      <td>0.0</td>\n",
       "      <td>1.0</td>\n",
       "      <td>0.0</td>\n",
       "      <td>0.0</td>\n",
       "      <td>0.0</td>\n",
       "      <td>...</td>\n",
       "      <td>1.0</td>\n",
       "      <td>0.0</td>\n",
       "      <td>1.0</td>\n",
       "      <td>1.0</td>\n",
       "      <td>1.0</td>\n",
       "      <td>0.0</td>\n",
       "      <td>1.0</td>\n",
       "      <td>1.0</td>\n",
       "      <td>1.0</td>\n",
       "      <td>1.0</td>\n",
       "    </tr>\n",
       "    <tr>\n",
       "      <td>3</td>\n",
       "      <td>0.000000</td>\n",
       "      <td>0.00</td>\n",
       "      <td>0.000000</td>\n",
       "      <td>0.0</td>\n",
       "      <td>0.0</td>\n",
       "      <td>0.0</td>\n",
       "      <td>0.0</td>\n",
       "      <td>0.0</td>\n",
       "      <td>0.0</td>\n",
       "      <td>0.0</td>\n",
       "      <td>...</td>\n",
       "      <td>0.0</td>\n",
       "      <td>0.0</td>\n",
       "      <td>0.0</td>\n",
       "      <td>0.0</td>\n",
       "      <td>0.0</td>\n",
       "      <td>0.0</td>\n",
       "      <td>1.0</td>\n",
       "      <td>0.0</td>\n",
       "      <td>0.0</td>\n",
       "      <td>0.0</td>\n",
       "    </tr>\n",
       "    <tr>\n",
       "      <td>4</td>\n",
       "      <td>0.211847</td>\n",
       "      <td>0.86</td>\n",
       "      <td>0.303905</td>\n",
       "      <td>1.0</td>\n",
       "      <td>1.0</td>\n",
       "      <td>1.0</td>\n",
       "      <td>1.0</td>\n",
       "      <td>0.0</td>\n",
       "      <td>1.0</td>\n",
       "      <td>0.0</td>\n",
       "      <td>...</td>\n",
       "      <td>1.0</td>\n",
       "      <td>0.0</td>\n",
       "      <td>1.0</td>\n",
       "      <td>1.0</td>\n",
       "      <td>1.0</td>\n",
       "      <td>1.0</td>\n",
       "      <td>1.0</td>\n",
       "      <td>1.0</td>\n",
       "      <td>1.0</td>\n",
       "      <td>1.0</td>\n",
       "    </tr>\n",
       "  </tbody>\n",
       "</table>\n",
       "<p>5 rows × 61 columns</p>\n",
       "</div>"
      ],
      "text/plain": [
       "         0     1         2    3    4    5    6    7    8    9   ...   51   52  \\\n",
       "0  0.000015  0.00  0.000000  0.0  0.0  0.0  0.0  0.0  0.0  0.0  ...  0.0  0.0   \n",
       "1  0.000000  0.00  0.000000  1.0  0.0  0.0  0.0  0.0  0.0  0.0  ...  0.0  0.0   \n",
       "2  0.025538  0.72  0.053340  1.0  1.0  0.0  1.0  0.0  0.0  0.0  ...  1.0  0.0   \n",
       "3  0.000000  0.00  0.000000  0.0  0.0  0.0  0.0  0.0  0.0  0.0  ...  0.0  0.0   \n",
       "4  0.211847  0.86  0.303905  1.0  1.0  1.0  1.0  0.0  1.0  0.0  ...  1.0  0.0   \n",
       "\n",
       "    53   54   55   56   57   58   59   60  \n",
       "0  0.0  1.0  0.0  0.0  0.0  0.0  0.0  0.0  \n",
       "1  0.0  0.0  0.0  0.0  0.0  0.0  0.0  0.0  \n",
       "2  1.0  1.0  1.0  0.0  1.0  1.0  1.0  1.0  \n",
       "3  0.0  0.0  0.0  0.0  1.0  0.0  0.0  0.0  \n",
       "4  1.0  1.0  1.0  1.0  1.0  1.0  1.0  1.0  \n",
       "\n",
       "[5 rows x 61 columns]"
      ]
     },
     "execution_count": 8,
     "metadata": {},
     "output_type": "execute_result"
    }
   ],
   "source": [
    "# scale\n",
    "min_max_scaler = preprocessing.MinMaxScaler()\n",
    "X_train_one_hot_more_scaled = pd.DataFrame(min_max_scaler.fit_transform(X_train_one_hot_more))\n",
    "X_train_one_hot_more_scaled.head()"
   ]
  },
  {
   "cell_type": "code",
   "execution_count": 9,
   "metadata": {},
   "outputs": [
    {
     "data": {
      "text/html": [
       "<div>\n",
       "<style scoped>\n",
       "    .dataframe tbody tr th:only-of-type {\n",
       "        vertical-align: middle;\n",
       "    }\n",
       "\n",
       "    .dataframe tbody tr th {\n",
       "        vertical-align: top;\n",
       "    }\n",
       "\n",
       "    .dataframe thead th {\n",
       "        text-align: right;\n",
       "    }\n",
       "</style>\n",
       "<table border=\"1\" class=\"dataframe\">\n",
       "  <thead>\n",
       "    <tr style=\"text-align: right;\">\n",
       "      <th></th>\n",
       "      <th>frequency</th>\n",
       "      <th>pidspread</th>\n",
       "      <th>pldspread</th>\n",
       "    </tr>\n",
       "  </thead>\n",
       "  <tbody>\n",
       "    <tr>\n",
       "      <td>0</td>\n",
       "      <td>2</td>\n",
       "      <td>1</td>\n",
       "      <td>1</td>\n",
       "    </tr>\n",
       "    <tr>\n",
       "      <td>1</td>\n",
       "      <td>1</td>\n",
       "      <td>1</td>\n",
       "      <td>1</td>\n",
       "    </tr>\n",
       "    <tr>\n",
       "      <td>2</td>\n",
       "      <td>1657</td>\n",
       "      <td>37</td>\n",
       "      <td>1039</td>\n",
       "    </tr>\n",
       "    <tr>\n",
       "      <td>3</td>\n",
       "      <td>1</td>\n",
       "      <td>1</td>\n",
       "      <td>1</td>\n",
       "    </tr>\n",
       "    <tr>\n",
       "      <td>4</td>\n",
       "      <td>13738</td>\n",
       "      <td>44</td>\n",
       "      <td>5915</td>\n",
       "    </tr>\n",
       "  </tbody>\n",
       "</table>\n",
       "</div>"
      ],
      "text/plain": [
       "   frequency  pidspread  pldspread\n",
       "0          2          1          1\n",
       "1          1          1          1\n",
       "2       1657         37       1039\n",
       "3          1          1          1\n",
       "4      13738         44       5915"
      ]
     },
     "execution_count": 9,
     "metadata": {},
     "output_type": "execute_result"
    }
   ],
   "source": [
    "# only take one hot encoded columns\n",
    "X_train_one_hot_frequency = X_train[['frequency', 'pidspread', 'pldspread']]\n",
    "X_train_one_hot_frequency.head()"
   ]
  },
  {
   "cell_type": "code",
   "execution_count": 10,
   "metadata": {},
   "outputs": [
    {
     "data": {
      "text/html": [
       "<div>\n",
       "<style scoped>\n",
       "    .dataframe tbody tr th:only-of-type {\n",
       "        vertical-align: middle;\n",
       "    }\n",
       "\n",
       "    .dataframe tbody tr th {\n",
       "        vertical-align: top;\n",
       "    }\n",
       "\n",
       "    .dataframe thead th {\n",
       "        text-align: right;\n",
       "    }\n",
       "</style>\n",
       "<table border=\"1\" class=\"dataframe\">\n",
       "  <thead>\n",
       "    <tr style=\"text-align: right;\">\n",
       "      <th></th>\n",
       "      <th>0</th>\n",
       "      <th>1</th>\n",
       "      <th>2</th>\n",
       "    </tr>\n",
       "  </thead>\n",
       "  <tbody>\n",
       "    <tr>\n",
       "      <td>0</td>\n",
       "      <td>0.000015</td>\n",
       "      <td>0.00</td>\n",
       "      <td>0.000000</td>\n",
       "    </tr>\n",
       "    <tr>\n",
       "      <td>1</td>\n",
       "      <td>0.000000</td>\n",
       "      <td>0.00</td>\n",
       "      <td>0.000000</td>\n",
       "    </tr>\n",
       "    <tr>\n",
       "      <td>2</td>\n",
       "      <td>0.025538</td>\n",
       "      <td>0.72</td>\n",
       "      <td>0.053340</td>\n",
       "    </tr>\n",
       "    <tr>\n",
       "      <td>3</td>\n",
       "      <td>0.000000</td>\n",
       "      <td>0.00</td>\n",
       "      <td>0.000000</td>\n",
       "    </tr>\n",
       "    <tr>\n",
       "      <td>4</td>\n",
       "      <td>0.211847</td>\n",
       "      <td>0.86</td>\n",
       "      <td>0.303905</td>\n",
       "    </tr>\n",
       "  </tbody>\n",
       "</table>\n",
       "</div>"
      ],
      "text/plain": [
       "          0     1         2\n",
       "0  0.000015  0.00  0.000000\n",
       "1  0.000000  0.00  0.000000\n",
       "2  0.025538  0.72  0.053340\n",
       "3  0.000000  0.00  0.000000\n",
       "4  0.211847  0.86  0.303905"
      ]
     },
     "execution_count": 10,
     "metadata": {},
     "output_type": "execute_result"
    }
   ],
   "source": [
    "# scale\n",
    "min_max_scaler = preprocessing.MinMaxScaler()\n",
    "X_train_one_hot_frequency_scaled = pd.DataFrame(min_max_scaler.fit_transform(X_train_one_hot_frequency))\n",
    "X_train_one_hot_frequency_scaled.head()"
   ]
  },
  {
   "cell_type": "markdown",
   "metadata": {},
   "source": [
    "## 0.2 Testing"
   ]
  },
  {
   "cell_type": "code",
   "execution_count": 11,
   "metadata": {},
   "outputs": [],
   "source": [
    "# read test data\n",
    "test = pd.read_csv('/path/to/9_FINAL/data/machine_learning/one_hot_encoded/test/test_data.csv', sep=\";\")\n",
    "del test['Unnamed: 0']"
   ]
  },
  {
   "cell_type": "code",
   "execution_count": 12,
   "metadata": {},
   "outputs": [],
   "source": [
    "# get label\n",
    "y_test = test['label']"
   ]
  },
  {
   "cell_type": "code",
   "execution_count": 13,
   "metadata": {},
   "outputs": [
    {
     "data": {
      "text/plain": [
       "(348121, 65)"
      ]
     },
     "execution_count": 13,
     "metadata": {},
     "output_type": "execute_result"
    }
   ],
   "source": [
    "# get variables\n",
    "X_test = test.copy()\n",
    "del X_test['label']\n",
    "X_test.shape"
   ]
  },
  {
   "cell_type": "code",
   "execution_count": 14,
   "metadata": {},
   "outputs": [
    {
     "data": {
      "text/html": [
       "<div>\n",
       "<style scoped>\n",
       "    .dataframe tbody tr th:only-of-type {\n",
       "        vertical-align: middle;\n",
       "    }\n",
       "\n",
       "    .dataframe tbody tr th {\n",
       "        vertical-align: top;\n",
       "    }\n",
       "\n",
       "    .dataframe thead th {\n",
       "        text-align: right;\n",
       "    }\n",
       "</style>\n",
       "<table border=\"1\" class=\"dataframe\">\n",
       "  <thead>\n",
       "    <tr style=\"text-align: right;\">\n",
       "      <th></th>\n",
       "      <th>p1</th>\n",
       "      <th>p10</th>\n",
       "      <th>p11</th>\n",
       "      <th>p12a</th>\n",
       "      <th>p12b</th>\n",
       "      <th>p12c</th>\n",
       "      <th>p13</th>\n",
       "      <th>p14</th>\n",
       "      <th>p15a</th>\n",
       "      <th>p15b</th>\n",
       "      <th>...</th>\n",
       "      <th>p4</th>\n",
       "      <th>p42</th>\n",
       "      <th>p43</th>\n",
       "      <th>p5</th>\n",
       "      <th>p6</th>\n",
       "      <th>p7</th>\n",
       "      <th>p8a</th>\n",
       "      <th>p8b</th>\n",
       "      <th>p8c</th>\n",
       "      <th>p8d</th>\n",
       "    </tr>\n",
       "  </thead>\n",
       "  <tbody>\n",
       "    <tr>\n",
       "      <td>0</td>\n",
       "      <td>0</td>\n",
       "      <td>0</td>\n",
       "      <td>0</td>\n",
       "      <td>0</td>\n",
       "      <td>0</td>\n",
       "      <td>0</td>\n",
       "      <td>0</td>\n",
       "      <td>0</td>\n",
       "      <td>0</td>\n",
       "      <td>0</td>\n",
       "      <td>...</td>\n",
       "      <td>0</td>\n",
       "      <td>0</td>\n",
       "      <td>0</td>\n",
       "      <td>0</td>\n",
       "      <td>0</td>\n",
       "      <td>0</td>\n",
       "      <td>0</td>\n",
       "      <td>0</td>\n",
       "      <td>0</td>\n",
       "      <td>0</td>\n",
       "    </tr>\n",
       "    <tr>\n",
       "      <td>1</td>\n",
       "      <td>0</td>\n",
       "      <td>0</td>\n",
       "      <td>0</td>\n",
       "      <td>0</td>\n",
       "      <td>0</td>\n",
       "      <td>0</td>\n",
       "      <td>0</td>\n",
       "      <td>0</td>\n",
       "      <td>0</td>\n",
       "      <td>0</td>\n",
       "      <td>...</td>\n",
       "      <td>0</td>\n",
       "      <td>0</td>\n",
       "      <td>0</td>\n",
       "      <td>0</td>\n",
       "      <td>0</td>\n",
       "      <td>0</td>\n",
       "      <td>0</td>\n",
       "      <td>0</td>\n",
       "      <td>0</td>\n",
       "      <td>0</td>\n",
       "    </tr>\n",
       "    <tr>\n",
       "      <td>2</td>\n",
       "      <td>0</td>\n",
       "      <td>0</td>\n",
       "      <td>0</td>\n",
       "      <td>0</td>\n",
       "      <td>0</td>\n",
       "      <td>0</td>\n",
       "      <td>0</td>\n",
       "      <td>0</td>\n",
       "      <td>0</td>\n",
       "      <td>0</td>\n",
       "      <td>...</td>\n",
       "      <td>0</td>\n",
       "      <td>0</td>\n",
       "      <td>0</td>\n",
       "      <td>0</td>\n",
       "      <td>0</td>\n",
       "      <td>0</td>\n",
       "      <td>1</td>\n",
       "      <td>0</td>\n",
       "      <td>1</td>\n",
       "      <td>0</td>\n",
       "    </tr>\n",
       "    <tr>\n",
       "      <td>3</td>\n",
       "      <td>1</td>\n",
       "      <td>1</td>\n",
       "      <td>0</td>\n",
       "      <td>0</td>\n",
       "      <td>0</td>\n",
       "      <td>0</td>\n",
       "      <td>0</td>\n",
       "      <td>0</td>\n",
       "      <td>0</td>\n",
       "      <td>0</td>\n",
       "      <td>...</td>\n",
       "      <td>0</td>\n",
       "      <td>0</td>\n",
       "      <td>1</td>\n",
       "      <td>1</td>\n",
       "      <td>0</td>\n",
       "      <td>0</td>\n",
       "      <td>1</td>\n",
       "      <td>0</td>\n",
       "      <td>0</td>\n",
       "      <td>0</td>\n",
       "    </tr>\n",
       "    <tr>\n",
       "      <td>4</td>\n",
       "      <td>0</td>\n",
       "      <td>0</td>\n",
       "      <td>0</td>\n",
       "      <td>0</td>\n",
       "      <td>0</td>\n",
       "      <td>0</td>\n",
       "      <td>0</td>\n",
       "      <td>0</td>\n",
       "      <td>0</td>\n",
       "      <td>0</td>\n",
       "      <td>...</td>\n",
       "      <td>0</td>\n",
       "      <td>0</td>\n",
       "      <td>0</td>\n",
       "      <td>1</td>\n",
       "      <td>0</td>\n",
       "      <td>0</td>\n",
       "      <td>1</td>\n",
       "      <td>0</td>\n",
       "      <td>0</td>\n",
       "      <td>0</td>\n",
       "    </tr>\n",
       "  </tbody>\n",
       "</table>\n",
       "<p>5 rows × 58 columns</p>\n",
       "</div>"
      ],
      "text/plain": [
       "   p1  p10  p11  p12a  p12b  p12c  p13  p14  p15a  p15b  ...  p4  p42  p43  \\\n",
       "0   0    0    0     0     0     0    0    0     0     0  ...   0    0    0   \n",
       "1   0    0    0     0     0     0    0    0     0     0  ...   0    0    0   \n",
       "2   0    0    0     0     0     0    0    0     0     0  ...   0    0    0   \n",
       "3   1    1    0     0     0     0    0    0     0     0  ...   0    0    1   \n",
       "4   0    0    0     0     0     0    0    0     0     0  ...   0    0    0   \n",
       "\n",
       "   p5  p6  p7  p8a  p8b  p8c  p8d  \n",
       "0   0   0   0    0    0    0    0  \n",
       "1   0   0   0    0    0    0    0  \n",
       "2   0   0   0    1    0    1    0  \n",
       "3   1   0   0    1    0    0    0  \n",
       "4   1   0   0    1    0    0    0  \n",
       "\n",
       "[5 rows x 58 columns]"
      ]
     },
     "execution_count": 14,
     "metadata": {},
     "output_type": "execute_result"
    }
   ],
   "source": [
    "# only take one hot encoded columns\n",
    "X_test_one_hot = X_test.drop(['instance', 'class', 'frequency', 'pidspread', 'pldspread', 'id', 'pids'], axis=1)\n",
    "X_test_one_hot.head()"
   ]
  },
  {
   "cell_type": "code",
   "execution_count": 15,
   "metadata": {},
   "outputs": [
    {
     "data": {
      "text/html": [
       "<div>\n",
       "<style scoped>\n",
       "    .dataframe tbody tr th:only-of-type {\n",
       "        vertical-align: middle;\n",
       "    }\n",
       "\n",
       "    .dataframe tbody tr th {\n",
       "        vertical-align: top;\n",
       "    }\n",
       "\n",
       "    .dataframe thead th {\n",
       "        text-align: right;\n",
       "    }\n",
       "</style>\n",
       "<table border=\"1\" class=\"dataframe\">\n",
       "  <thead>\n",
       "    <tr style=\"text-align: right;\">\n",
       "      <th></th>\n",
       "      <th>frequency</th>\n",
       "      <th>pidspread</th>\n",
       "      <th>pldspread</th>\n",
       "      <th>p1</th>\n",
       "      <th>p10</th>\n",
       "      <th>p11</th>\n",
       "      <th>p12a</th>\n",
       "      <th>p12b</th>\n",
       "      <th>p12c</th>\n",
       "      <th>p13</th>\n",
       "      <th>...</th>\n",
       "      <th>p4</th>\n",
       "      <th>p42</th>\n",
       "      <th>p43</th>\n",
       "      <th>p5</th>\n",
       "      <th>p6</th>\n",
       "      <th>p7</th>\n",
       "      <th>p8a</th>\n",
       "      <th>p8b</th>\n",
       "      <th>p8c</th>\n",
       "      <th>p8d</th>\n",
       "    </tr>\n",
       "  </thead>\n",
       "  <tbody>\n",
       "    <tr>\n",
       "      <td>0</td>\n",
       "      <td>3</td>\n",
       "      <td>2</td>\n",
       "      <td>2</td>\n",
       "      <td>0</td>\n",
       "      <td>0</td>\n",
       "      <td>0</td>\n",
       "      <td>0</td>\n",
       "      <td>0</td>\n",
       "      <td>0</td>\n",
       "      <td>0</td>\n",
       "      <td>...</td>\n",
       "      <td>0</td>\n",
       "      <td>0</td>\n",
       "      <td>0</td>\n",
       "      <td>0</td>\n",
       "      <td>0</td>\n",
       "      <td>0</td>\n",
       "      <td>0</td>\n",
       "      <td>0</td>\n",
       "      <td>0</td>\n",
       "      <td>0</td>\n",
       "    </tr>\n",
       "    <tr>\n",
       "      <td>1</td>\n",
       "      <td>1</td>\n",
       "      <td>1</td>\n",
       "      <td>1</td>\n",
       "      <td>0</td>\n",
       "      <td>0</td>\n",
       "      <td>0</td>\n",
       "      <td>0</td>\n",
       "      <td>0</td>\n",
       "      <td>0</td>\n",
       "      <td>0</td>\n",
       "      <td>...</td>\n",
       "      <td>0</td>\n",
       "      <td>0</td>\n",
       "      <td>0</td>\n",
       "      <td>0</td>\n",
       "      <td>0</td>\n",
       "      <td>0</td>\n",
       "      <td>0</td>\n",
       "      <td>0</td>\n",
       "      <td>0</td>\n",
       "      <td>0</td>\n",
       "    </tr>\n",
       "    <tr>\n",
       "      <td>2</td>\n",
       "      <td>2</td>\n",
       "      <td>2</td>\n",
       "      <td>2</td>\n",
       "      <td>0</td>\n",
       "      <td>0</td>\n",
       "      <td>0</td>\n",
       "      <td>0</td>\n",
       "      <td>0</td>\n",
       "      <td>0</td>\n",
       "      <td>0</td>\n",
       "      <td>...</td>\n",
       "      <td>0</td>\n",
       "      <td>0</td>\n",
       "      <td>0</td>\n",
       "      <td>0</td>\n",
       "      <td>0</td>\n",
       "      <td>0</td>\n",
       "      <td>1</td>\n",
       "      <td>0</td>\n",
       "      <td>1</td>\n",
       "      <td>0</td>\n",
       "    </tr>\n",
       "    <tr>\n",
       "      <td>3</td>\n",
       "      <td>134</td>\n",
       "      <td>10</td>\n",
       "      <td>93</td>\n",
       "      <td>1</td>\n",
       "      <td>1</td>\n",
       "      <td>0</td>\n",
       "      <td>0</td>\n",
       "      <td>0</td>\n",
       "      <td>0</td>\n",
       "      <td>0</td>\n",
       "      <td>...</td>\n",
       "      <td>0</td>\n",
       "      <td>0</td>\n",
       "      <td>1</td>\n",
       "      <td>1</td>\n",
       "      <td>0</td>\n",
       "      <td>0</td>\n",
       "      <td>1</td>\n",
       "      <td>0</td>\n",
       "      <td>0</td>\n",
       "      <td>0</td>\n",
       "    </tr>\n",
       "    <tr>\n",
       "      <td>4</td>\n",
       "      <td>3</td>\n",
       "      <td>2</td>\n",
       "      <td>3</td>\n",
       "      <td>0</td>\n",
       "      <td>0</td>\n",
       "      <td>0</td>\n",
       "      <td>0</td>\n",
       "      <td>0</td>\n",
       "      <td>0</td>\n",
       "      <td>0</td>\n",
       "      <td>...</td>\n",
       "      <td>0</td>\n",
       "      <td>0</td>\n",
       "      <td>0</td>\n",
       "      <td>1</td>\n",
       "      <td>0</td>\n",
       "      <td>0</td>\n",
       "      <td>1</td>\n",
       "      <td>0</td>\n",
       "      <td>0</td>\n",
       "      <td>0</td>\n",
       "    </tr>\n",
       "  </tbody>\n",
       "</table>\n",
       "<p>5 rows × 61 columns</p>\n",
       "</div>"
      ],
      "text/plain": [
       "   frequency  pidspread  pldspread  p1  p10  p11  p12a  p12b  p12c  p13  ...  \\\n",
       "0          3          2          2   0    0    0     0     0     0    0  ...   \n",
       "1          1          1          1   0    0    0     0     0     0    0  ...   \n",
       "2          2          2          2   0    0    0     0     0     0    0  ...   \n",
       "3        134         10         93   1    1    0     0     0     0    0  ...   \n",
       "4          3          2          3   0    0    0     0     0     0    0  ...   \n",
       "\n",
       "   p4  p42  p43  p5  p6  p7  p8a  p8b  p8c  p8d  \n",
       "0   0    0    0   0   0   0    0    0    0    0  \n",
       "1   0    0    0   0   0   0    0    0    0    0  \n",
       "2   0    0    0   0   0   0    1    0    1    0  \n",
       "3   0    0    1   1   0   0    1    0    0    0  \n",
       "4   0    0    0   1   0   0    1    0    0    0  \n",
       "\n",
       "[5 rows x 61 columns]"
      ]
     },
     "execution_count": 15,
     "metadata": {},
     "output_type": "execute_result"
    }
   ],
   "source": [
    "# only take one hot encoded columns\n",
    "X_test_one_hot_more = X_test.drop(['instance', 'class',  'id', 'pids'], axis=1)\n",
    "X_test_one_hot_more.head()"
   ]
  },
  {
   "cell_type": "code",
   "execution_count": 16,
   "metadata": {},
   "outputs": [
    {
     "data": {
      "text/html": [
       "<div>\n",
       "<style scoped>\n",
       "    .dataframe tbody tr th:only-of-type {\n",
       "        vertical-align: middle;\n",
       "    }\n",
       "\n",
       "    .dataframe tbody tr th {\n",
       "        vertical-align: top;\n",
       "    }\n",
       "\n",
       "    .dataframe thead th {\n",
       "        text-align: right;\n",
       "    }\n",
       "</style>\n",
       "<table border=\"1\" class=\"dataframe\">\n",
       "  <thead>\n",
       "    <tr style=\"text-align: right;\">\n",
       "      <th></th>\n",
       "      <th>0</th>\n",
       "      <th>1</th>\n",
       "      <th>2</th>\n",
       "      <th>3</th>\n",
       "      <th>4</th>\n",
       "      <th>5</th>\n",
       "      <th>6</th>\n",
       "      <th>7</th>\n",
       "      <th>8</th>\n",
       "      <th>9</th>\n",
       "      <th>...</th>\n",
       "      <th>51</th>\n",
       "      <th>52</th>\n",
       "      <th>53</th>\n",
       "      <th>54</th>\n",
       "      <th>55</th>\n",
       "      <th>56</th>\n",
       "      <th>57</th>\n",
       "      <th>58</th>\n",
       "      <th>59</th>\n",
       "      <th>60</th>\n",
       "    </tr>\n",
       "  </thead>\n",
       "  <tbody>\n",
       "    <tr>\n",
       "      <td>0</td>\n",
       "      <td>0.000031</td>\n",
       "      <td>0.020833</td>\n",
       "      <td>0.000132</td>\n",
       "      <td>0.0</td>\n",
       "      <td>0.0</td>\n",
       "      <td>0.0</td>\n",
       "      <td>0.0</td>\n",
       "      <td>0.0</td>\n",
       "      <td>0.0</td>\n",
       "      <td>0.0</td>\n",
       "      <td>...</td>\n",
       "      <td>0.0</td>\n",
       "      <td>0.0</td>\n",
       "      <td>0.0</td>\n",
       "      <td>0.0</td>\n",
       "      <td>0.0</td>\n",
       "      <td>0.0</td>\n",
       "      <td>0.0</td>\n",
       "      <td>0.0</td>\n",
       "      <td>0.0</td>\n",
       "      <td>0.0</td>\n",
       "    </tr>\n",
       "    <tr>\n",
       "      <td>1</td>\n",
       "      <td>0.000000</td>\n",
       "      <td>0.000000</td>\n",
       "      <td>0.000000</td>\n",
       "      <td>0.0</td>\n",
       "      <td>0.0</td>\n",
       "      <td>0.0</td>\n",
       "      <td>0.0</td>\n",
       "      <td>0.0</td>\n",
       "      <td>0.0</td>\n",
       "      <td>0.0</td>\n",
       "      <td>...</td>\n",
       "      <td>0.0</td>\n",
       "      <td>0.0</td>\n",
       "      <td>0.0</td>\n",
       "      <td>0.0</td>\n",
       "      <td>0.0</td>\n",
       "      <td>0.0</td>\n",
       "      <td>0.0</td>\n",
       "      <td>0.0</td>\n",
       "      <td>0.0</td>\n",
       "      <td>0.0</td>\n",
       "    </tr>\n",
       "    <tr>\n",
       "      <td>2</td>\n",
       "      <td>0.000015</td>\n",
       "      <td>0.020833</td>\n",
       "      <td>0.000132</td>\n",
       "      <td>0.0</td>\n",
       "      <td>0.0</td>\n",
       "      <td>0.0</td>\n",
       "      <td>0.0</td>\n",
       "      <td>0.0</td>\n",
       "      <td>0.0</td>\n",
       "      <td>0.0</td>\n",
       "      <td>...</td>\n",
       "      <td>0.0</td>\n",
       "      <td>0.0</td>\n",
       "      <td>0.0</td>\n",
       "      <td>0.0</td>\n",
       "      <td>0.0</td>\n",
       "      <td>0.0</td>\n",
       "      <td>1.0</td>\n",
       "      <td>0.0</td>\n",
       "      <td>1.0</td>\n",
       "      <td>0.0</td>\n",
       "    </tr>\n",
       "    <tr>\n",
       "      <td>3</td>\n",
       "      <td>0.002055</td>\n",
       "      <td>0.187500</td>\n",
       "      <td>0.012168</td>\n",
       "      <td>1.0</td>\n",
       "      <td>1.0</td>\n",
       "      <td>0.0</td>\n",
       "      <td>0.0</td>\n",
       "      <td>0.0</td>\n",
       "      <td>0.0</td>\n",
       "      <td>0.0</td>\n",
       "      <td>...</td>\n",
       "      <td>0.0</td>\n",
       "      <td>0.0</td>\n",
       "      <td>1.0</td>\n",
       "      <td>1.0</td>\n",
       "      <td>0.0</td>\n",
       "      <td>0.0</td>\n",
       "      <td>1.0</td>\n",
       "      <td>0.0</td>\n",
       "      <td>0.0</td>\n",
       "      <td>0.0</td>\n",
       "    </tr>\n",
       "    <tr>\n",
       "      <td>4</td>\n",
       "      <td>0.000031</td>\n",
       "      <td>0.020833</td>\n",
       "      <td>0.000265</td>\n",
       "      <td>0.0</td>\n",
       "      <td>0.0</td>\n",
       "      <td>0.0</td>\n",
       "      <td>0.0</td>\n",
       "      <td>0.0</td>\n",
       "      <td>0.0</td>\n",
       "      <td>0.0</td>\n",
       "      <td>...</td>\n",
       "      <td>0.0</td>\n",
       "      <td>0.0</td>\n",
       "      <td>0.0</td>\n",
       "      <td>1.0</td>\n",
       "      <td>0.0</td>\n",
       "      <td>0.0</td>\n",
       "      <td>1.0</td>\n",
       "      <td>0.0</td>\n",
       "      <td>0.0</td>\n",
       "      <td>0.0</td>\n",
       "    </tr>\n",
       "  </tbody>\n",
       "</table>\n",
       "<p>5 rows × 61 columns</p>\n",
       "</div>"
      ],
      "text/plain": [
       "         0         1         2    3    4    5    6    7    8    9   ...   51  \\\n",
       "0  0.000031  0.020833  0.000132  0.0  0.0  0.0  0.0  0.0  0.0  0.0  ...  0.0   \n",
       "1  0.000000  0.000000  0.000000  0.0  0.0  0.0  0.0  0.0  0.0  0.0  ...  0.0   \n",
       "2  0.000015  0.020833  0.000132  0.0  0.0  0.0  0.0  0.0  0.0  0.0  ...  0.0   \n",
       "3  0.002055  0.187500  0.012168  1.0  1.0  0.0  0.0  0.0  0.0  0.0  ...  0.0   \n",
       "4  0.000031  0.020833  0.000265  0.0  0.0  0.0  0.0  0.0  0.0  0.0  ...  0.0   \n",
       "\n",
       "    52   53   54   55   56   57   58   59   60  \n",
       "0  0.0  0.0  0.0  0.0  0.0  0.0  0.0  0.0  0.0  \n",
       "1  0.0  0.0  0.0  0.0  0.0  0.0  0.0  0.0  0.0  \n",
       "2  0.0  0.0  0.0  0.0  0.0  1.0  0.0  1.0  0.0  \n",
       "3  0.0  1.0  1.0  0.0  0.0  1.0  0.0  0.0  0.0  \n",
       "4  0.0  0.0  1.0  0.0  0.0  1.0  0.0  0.0  0.0  \n",
       "\n",
       "[5 rows x 61 columns]"
      ]
     },
     "execution_count": 16,
     "metadata": {},
     "output_type": "execute_result"
    }
   ],
   "source": [
    "# scale\n",
    "min_max_scaler = preprocessing.MinMaxScaler()\n",
    "X_test_one_hot_more_scaled = pd.DataFrame(min_max_scaler.fit_transform(X_test_one_hot_more))\n",
    "X_test_one_hot_more_scaled.head()"
   ]
  },
  {
   "cell_type": "code",
   "execution_count": 17,
   "metadata": {},
   "outputs": [
    {
     "data": {
      "text/html": [
       "<div>\n",
       "<style scoped>\n",
       "    .dataframe tbody tr th:only-of-type {\n",
       "        vertical-align: middle;\n",
       "    }\n",
       "\n",
       "    .dataframe tbody tr th {\n",
       "        vertical-align: top;\n",
       "    }\n",
       "\n",
       "    .dataframe thead th {\n",
       "        text-align: right;\n",
       "    }\n",
       "</style>\n",
       "<table border=\"1\" class=\"dataframe\">\n",
       "  <thead>\n",
       "    <tr style=\"text-align: right;\">\n",
       "      <th></th>\n",
       "      <th>frequency</th>\n",
       "      <th>pidspread</th>\n",
       "      <th>pldspread</th>\n",
       "    </tr>\n",
       "  </thead>\n",
       "  <tbody>\n",
       "    <tr>\n",
       "      <td>0</td>\n",
       "      <td>3</td>\n",
       "      <td>2</td>\n",
       "      <td>2</td>\n",
       "    </tr>\n",
       "    <tr>\n",
       "      <td>1</td>\n",
       "      <td>1</td>\n",
       "      <td>1</td>\n",
       "      <td>1</td>\n",
       "    </tr>\n",
       "    <tr>\n",
       "      <td>2</td>\n",
       "      <td>2</td>\n",
       "      <td>2</td>\n",
       "      <td>2</td>\n",
       "    </tr>\n",
       "    <tr>\n",
       "      <td>3</td>\n",
       "      <td>134</td>\n",
       "      <td>10</td>\n",
       "      <td>93</td>\n",
       "    </tr>\n",
       "    <tr>\n",
       "      <td>4</td>\n",
       "      <td>3</td>\n",
       "      <td>2</td>\n",
       "      <td>3</td>\n",
       "    </tr>\n",
       "  </tbody>\n",
       "</table>\n",
       "</div>"
      ],
      "text/plain": [
       "   frequency  pidspread  pldspread\n",
       "0          3          2          2\n",
       "1          1          1          1\n",
       "2          2          2          2\n",
       "3        134         10         93\n",
       "4          3          2          3"
      ]
     },
     "execution_count": 17,
     "metadata": {},
     "output_type": "execute_result"
    }
   ],
   "source": [
    "# only take one hot encoded columns\n",
    "X_test_one_hot_frequency = X_test[['frequency', 'pidspread', 'pldspread']]\n",
    "X_test_one_hot_frequency.head()"
   ]
  },
  {
   "cell_type": "code",
   "execution_count": 18,
   "metadata": {},
   "outputs": [
    {
     "data": {
      "text/html": [
       "<div>\n",
       "<style scoped>\n",
       "    .dataframe tbody tr th:only-of-type {\n",
       "        vertical-align: middle;\n",
       "    }\n",
       "\n",
       "    .dataframe tbody tr th {\n",
       "        vertical-align: top;\n",
       "    }\n",
       "\n",
       "    .dataframe thead th {\n",
       "        text-align: right;\n",
       "    }\n",
       "</style>\n",
       "<table border=\"1\" class=\"dataframe\">\n",
       "  <thead>\n",
       "    <tr style=\"text-align: right;\">\n",
       "      <th></th>\n",
       "      <th>0</th>\n",
       "      <th>1</th>\n",
       "      <th>2</th>\n",
       "    </tr>\n",
       "  </thead>\n",
       "  <tbody>\n",
       "    <tr>\n",
       "      <td>0</td>\n",
       "      <td>0.000031</td>\n",
       "      <td>0.020833</td>\n",
       "      <td>0.000132</td>\n",
       "    </tr>\n",
       "    <tr>\n",
       "      <td>1</td>\n",
       "      <td>0.000000</td>\n",
       "      <td>0.000000</td>\n",
       "      <td>0.000000</td>\n",
       "    </tr>\n",
       "    <tr>\n",
       "      <td>2</td>\n",
       "      <td>0.000015</td>\n",
       "      <td>0.020833</td>\n",
       "      <td>0.000132</td>\n",
       "    </tr>\n",
       "    <tr>\n",
       "      <td>3</td>\n",
       "      <td>0.002055</td>\n",
       "      <td>0.187500</td>\n",
       "      <td>0.012168</td>\n",
       "    </tr>\n",
       "    <tr>\n",
       "      <td>4</td>\n",
       "      <td>0.000031</td>\n",
       "      <td>0.020833</td>\n",
       "      <td>0.000265</td>\n",
       "    </tr>\n",
       "  </tbody>\n",
       "</table>\n",
       "</div>"
      ],
      "text/plain": [
       "          0         1         2\n",
       "0  0.000031  0.020833  0.000132\n",
       "1  0.000000  0.000000  0.000000\n",
       "2  0.000015  0.020833  0.000132\n",
       "3  0.002055  0.187500  0.012168\n",
       "4  0.000031  0.020833  0.000265"
      ]
     },
     "execution_count": 18,
     "metadata": {},
     "output_type": "execute_result"
    }
   ],
   "source": [
    "# scale\n",
    "min_max_scaler = preprocessing.MinMaxScaler()\n",
    "X_test_one_hot_frequency_scaled = pd.DataFrame(min_max_scaler.fit_transform(X_test_one_hot_frequency))\n",
    "X_test_one_hot_frequency_scaled.head()"
   ]
  },
  {
   "cell_type": "markdown",
   "metadata": {},
   "source": [
    "# 1. Naive Bayes"
   ]
  },
  {
   "cell_type": "markdown",
   "metadata": {},
   "source": [
    "## 1.1 Only one hot encoded columns"
   ]
  },
  {
   "cell_type": "code",
   "execution_count": 19,
   "metadata": {},
   "outputs": [
    {
     "name": "stdout",
     "output_type": "stream",
     "text": [
      "[[ 9787  7711  4627]\n",
      " [ 2500 15166  4459]\n",
      " [ 3511  9823  8791]]\n",
      "Macro: 0.5029768086561331 || Micro: 0.5083841807909605\n",
      "[[ 9863  7597  4665]\n",
      " [ 2536 15164  4425]\n",
      " [ 3664 10038  8423]]\n",
      "Macro: 0.49790903768790273 || Micro: 0.503954802259887\n",
      "[[ 9670  7779  4676]\n",
      " [ 2370 15045  4710]\n",
      " [ 3207 10041  8877]]\n",
      "Macro: 0.501425382107478 || Micro: 0.5060941619585687\n",
      "[[ 9864  7587  4674]\n",
      " [ 2471 15195  4459]\n",
      " [ 3375 10048  8702]]\n",
      "Macro: 0.5033184689014804 || Micro: 0.5086403013182674\n",
      "[[ 9752  7741  4632]\n",
      " [ 2545 15038  4542]\n",
      " [ 3643  9981  8501]]\n",
      "Macro: 0.49585159369360093 || Micro: 0.5015593220338983\n",
      "---------------------------\n",
      "Overall Macro: 0.5002962582093191 (+/- 0.002934208357232934) || Overall Micro: 0.5057265536723164 (+/- 0.002690463368783801)\n"
     ]
    }
   ],
   "source": [
    "# fit NB model\n",
    "nb = MultinomialNB()\n",
    "util_ml.get_cross_validated_confusion_matrix(nb, X_train_one_hot, y_train)"
   ]
  },
  {
   "cell_type": "markdown",
   "metadata": {},
   "source": [
    "## 1.2 Only one hot encoded columns with frequencies"
   ]
  },
  {
   "cell_type": "code",
   "execution_count": 20,
   "metadata": {},
   "outputs": [
    {
     "name": "stdout",
     "output_type": "stream",
     "text": [
      "[[ 3450  3536 15139]\n",
      " [  382  1298 20445]\n",
      " [  130   511 21484]]\n",
      "Macro: 0.300525286893329 || Micro: 0.39520903954802256\n",
      "[[ 3467  3631 15027]\n",
      " [  374  1346 20405]\n",
      " [  114   527 21484]]\n",
      "Macro: 0.302308230967024 || Micro: 0.39618832391713754\n",
      "[[ 3451  3569 15105]\n",
      " [  392  1243 20490]\n",
      " [  127   514 21484]]\n",
      "Macro: 0.2991847771783367 || Micro: 0.3943954802259887\n",
      "[[ 3557  3612 14956]\n",
      " [  399  1326 20400]\n",
      " [  122   534 21469]]\n",
      "Macro: 0.30381874557423366 || Micro: 0.3970169491525424\n",
      "[[ 3484  3510 15131]\n",
      " [  366  1189 20570]\n",
      " [  139   482 21504]]\n",
      "Macro: 0.29868585533354214 || Micro: 0.39438041431261767\n",
      "---------------------------\n",
      "Overall Macro: 0.3009045791892931 (+/- 0.001922858350632753) || Overall Micro: 0.39543804143126177 (+/- 0.001030904869742153)\n"
     ]
    }
   ],
   "source": [
    "# fit NB model\n",
    "nb = MultinomialNB()\n",
    "util_ml.get_cross_validated_confusion_matrix(nb, X_train_one_hot_more, y_train)"
   ]
  },
  {
   "cell_type": "markdown",
   "metadata": {},
   "source": [
    "## 1.3 Only with frequencies"
   ]
  },
  {
   "cell_type": "code",
   "execution_count": 21,
   "metadata": {},
   "outputs": [
    {
     "name": "stdout",
     "output_type": "stream",
     "text": [
      "[[ 3016  3465 15644]\n",
      " [  345  1022 20758]\n",
      " [  117   458 21550]]\n",
      "Macro: 0.2831124283496078 || Micro: 0.3855065913370998\n",
      "[[ 3029  3629 15467]\n",
      " [  341  1038 20746]\n",
      " [  110   475 21540]]\n",
      "Macro: 0.28401762349089976 || Micro: 0.3857928436911488\n",
      "[[ 3055  3427 15643]\n",
      " [  352   977 20796]\n",
      " [  111   467 21547]]\n",
      "Macro: 0.28286045687073263 || Micro: 0.38537099811676084\n",
      "[[ 3100  3602 15423]\n",
      " [  362  1034 20729]\n",
      " [  114   490 21521]]\n",
      "Macro: 0.28550327501465994 || Micro: 0.3865160075329566\n",
      "[[ 3090  3425 15610]\n",
      " [  320   931 20874]\n",
      " [  138   421 21566]]\n",
      "Macro: 0.2826357302870683 || Micro: 0.38549152542372883\n",
      "---------------------------\n",
      "Overall Macro: 0.2836259028025937 (+/- 0.0010495691134231415) || Overall Micro: 0.38573559322033896 (+/- 0.000414068752061486)\n"
     ]
    }
   ],
   "source": [
    "# fit NB model\n",
    "nb = MultinomialNB()\n",
    "util_ml.get_cross_validated_confusion_matrix(nb, X_train_one_hot_frequency, y_train)"
   ]
  },
  {
   "cell_type": "markdown",
   "metadata": {},
   "source": [
    "## 1.4 Scaled one hot encoded pids and frequencies"
   ]
  },
  {
   "cell_type": "code",
   "execution_count": 22,
   "metadata": {},
   "outputs": [
    {
     "name": "stdout",
     "output_type": "stream",
     "text": [
      "[[ 9792  7724  4609]\n",
      " [ 2491 15168  4466]\n",
      " [ 3496  9825  8804]]\n",
      "Macro: 0.5033274598589564 || Micro: 0.5086854990583805\n",
      "[[ 9809  7609  4707]\n",
      " [ 2476 15165  4484]\n",
      " [ 3423 10042  8660]]\n",
      "Macro: 0.5012829035363654 || Micro: 0.5067269303201507\n",
      "[[ 9661  7816  4648]\n",
      " [ 2367 15048  4710]\n",
      " [ 3206 10041  8878]]\n",
      "Macro: 0.5013431076120302 || Micro: 0.5060188323917137\n",
      "[[ 9806  7592  4727]\n",
      " [ 2358 15187  4580]\n",
      " [ 3147 10038  8940]]\n",
      "Macro: 0.5065331663511936 || Micro: 0.5112316384180791\n",
      "[[ 9670  7718  4737]\n",
      " [ 2380 15024  4721]\n",
      " [ 3177  9967  8981]]\n",
      "Macro: 0.5028548115930411 || Micro: 0.5073446327683616\n",
      "---------------------------\n",
      "Overall Macro: 0.5030682897903173 (+/- 0.0019121699334201812) || Overall Micro: 0.5080015065913371 (+/- 0.0018378586553561378)\n"
     ]
    }
   ],
   "source": [
    "# fit NB model\n",
    "nb = MultinomialNB()\n",
    "util_ml.get_cross_validated_confusion_matrix(nb, X_train_one_hot_more_scaled, y_train)"
   ]
  },
  {
   "cell_type": "markdown",
   "metadata": {},
   "source": [
    "## 1.5 Frequencies normalized"
   ]
  },
  {
   "cell_type": "code",
   "execution_count": 27,
   "metadata": {},
   "outputs": [
    {
     "name": "stdout",
     "output_type": "stream",
     "text": [
      "[[ 2433 14020  5858]\n",
      " [  185 19829  1976]\n",
      " [   46 19795  2233]]\n",
      "Macro: 0.28604199672593233 || Micro: 0.36903954802259886\n",
      "[[ 3079   999 18042]\n",
      " [  356   130 21779]\n",
      " [  108    53 21829]]\n",
      "Macro: 0.25767344252504176 || Micro: 0.37722033898305085\n",
      "[[ 6946 13185  1901]\n",
      " [12225  9410   455]\n",
      " [13467  7963   823]]\n",
      "Macro: 0.2254321791100435 || Micro: 0.25881732580037664\n",
      "[[ 2774  2026 17346]\n",
      " [  378   359 21428]\n",
      " [  139   105 21820]]\n",
      "Macro: 0.2583959798338964 || Micro: 0.375939736346516\n",
      "[[ 9055  9442  3519]\n",
      " [15697  5405  1013]\n",
      " [16881  3953  1410]]\n",
      "Macro: 0.21626172209230676 || Micro: 0.2390960451977401\n",
      "---------------------------\n",
      "Overall Macro: 0.24876106405744416 (+/- 0.025149847449467248) || Overall Micro: 0.3240225988700565 (+/- 0.06167035200585484)\n"
     ]
    }
   ],
   "source": [
    "# fit NB model\n",
    "nb = MultinomialNB()\n",
    "util_ml.get_cross_validated_confusion_matrix(nb, X_train_one_hot_frequency_scaled, y_train)"
   ]
  },
  {
   "cell_type": "markdown",
   "metadata": {},
   "source": [
    "# 2. Decision Trees"
   ]
  },
  {
   "cell_type": "markdown",
   "metadata": {},
   "source": [
    "## 2.1 Only one hot encoded columns"
   ]
  },
  {
   "cell_type": "code",
   "execution_count": 23,
   "metadata": {},
   "outputs": [
    {
     "name": "stdout",
     "output_type": "stream",
     "text": [
      "[[16158  4020  1947]\n",
      " [ 1318 15933  4874]\n",
      " [ 1065 10842 10218]]\n",
      "Macro: 0.6395429000127781 || Micro: 0.6374237288135594\n",
      "[[16409  3713  2003]\n",
      " [ 1441 15746  4938]\n",
      " [ 1151 11039  9935]]\n",
      "Macro: 0.6353021125894841 || Micro: 0.6341242937853108\n",
      "[[16357  3794  1974]\n",
      " [ 1429 15509  5187]\n",
      " [ 1161 10963 10001]]\n",
      "Macro: 0.6325590364281758 || Micro: 0.6307645951035782\n",
      "[[16359  3795  1971]\n",
      " [ 1364 15751  5010]\n",
      " [ 1183 11005  9937]]\n",
      "Macro: 0.6348196189881493 || Micro: 0.6334764595103578\n",
      "[[16399  3808  1918]\n",
      " [ 1517 15649  4959]\n",
      " [ 1154 10980  9991]]\n",
      "Macro: 0.6346882398788629 || Micro: 0.6333559322033898\n",
      "---------------------------\n",
      "Overall Macro: 0.63538238157949 (+/- 0.00228412648610791) || Overall Micro: 0.6338290018832391 (+/- 0.002132975807124874)\n"
     ]
    }
   ],
   "source": [
    "# fit DT model\n",
    "dt = DecisionTreeClassifier(random_state=88)\n",
    "util_ml.get_cross_validated_confusion_matrix(dt, X_train_one_hot, y_train)"
   ]
  },
  {
   "cell_type": "markdown",
   "metadata": {},
   "source": [
    "## 2.2 Only one hot encoded columns with frequencies"
   ]
  },
  {
   "cell_type": "code",
   "execution_count": 24,
   "metadata": {},
   "outputs": [
    {
     "name": "stdout",
     "output_type": "stream",
     "text": [
      "[[17599  2956  1570]\n",
      " [ 1076 15617  5432]\n",
      " [  853 10884 10388]]\n",
      "Macro: 0.6587751658643349 || Micro: 0.6569340866290019\n",
      "[[17640  2860  1625]\n",
      " [  996 15586  5543]\n",
      " [  764 11106 10255]]\n",
      "Macro: 0.6571424521349695 || Micro: 0.6550809792843691\n",
      "[[17618  2864  1643]\n",
      " [  978 15530  5617]\n",
      " [  762 11099 10264]]\n",
      "Macro: 0.6562931557363901 || Micro: 0.6540414312617703\n",
      "[[17636  2852  1637]\n",
      " [  973 15537  5615]\n",
      " [  852 11064 10209]]\n",
      "Macro: 0.6554748783402307 || Micro: 0.6535894538606403\n",
      "[[17727  2836  1562]\n",
      " [ 1042 15489  5594]\n",
      " [  784 11065 10276]]\n",
      "Macro: 0.6571860320519455 || Micro: 0.65524670433145\n",
      "---------------------------\n",
      "Overall Macro: 0.6569743368255742 (+/- 0.0010980388224918183) || Overall Micro: 0.6549785310734463 (+/- 0.0011588185037592499)\n"
     ]
    }
   ],
   "source": [
    "# fit DT model\n",
    "dt = DecisionTreeClassifier(random_state=88)\n",
    "util_ml.get_cross_validated_confusion_matrix(dt, X_train_one_hot_more, y_train)"
   ]
  },
  {
   "cell_type": "markdown",
   "metadata": {},
   "source": [
    "## 2.3 Only with frequencies"
   ]
  },
  {
   "cell_type": "code",
   "execution_count": 25,
   "metadata": {},
   "outputs": [
    {
     "name": "stdout",
     "output_type": "stream",
     "text": [
      "[[14819  2582  4724]\n",
      " [ 1979  7652 12494]\n",
      " [ 1627  5444 15054]]\n",
      "Macro: 0.5630740412878196 || Micro: 0.5653483992467043\n",
      "[[14976  2627  4522]\n",
      " [ 1984  7505 12636]\n",
      " [ 1660  5481 14984]]\n",
      "Macro: 0.5616944703714081 || Micro: 0.5644444444444444\n",
      "[[14954  2485  4686]\n",
      " [ 2084  7532 12509]\n",
      " [ 1722  5446 14957]]\n",
      "Macro: 0.5611390892797372 || Micro: 0.5641129943502825\n",
      "[[14897  2544  4684]\n",
      " [ 1928  7504 12693]\n",
      " [ 1665  5394 15066]]\n",
      "Macro: 0.5617542207204406 || Micro: 0.5644745762711865\n",
      "[[14881  2588  4656]\n",
      " [ 1958  7441 12726]\n",
      " [ 1611  5442 15072]]\n",
      "Macro: 0.5605487238762286 || Micro: 0.5633747645951036\n",
      "---------------------------\n",
      "Overall Macro: 0.5616421091071268 (+/- 0.0008383627730086719) || Overall Micro: 0.5643510357815443 (+/- 0.0006369443405813906)\n"
     ]
    }
   ],
   "source": [
    "# fit DT model\n",
    "dt = DecisionTreeClassifier(random_state=88)\n",
    "util_ml.get_cross_validated_confusion_matrix(dt, X_train_one_hot_frequency, y_train)"
   ]
  },
  {
   "cell_type": "markdown",
   "metadata": {},
   "source": [
    "## 2.4 Scaled one hot encoded pids and frequencies"
   ]
  },
  {
   "cell_type": "code",
   "execution_count": 26,
   "metadata": {},
   "outputs": [
    {
     "name": "stdout",
     "output_type": "stream",
     "text": [
      "[[17599  2956  1570]\n",
      " [ 1077 15613  5435]\n",
      " [  850 10892 10383]]\n",
      "Macro: 0.6586458575120114 || Micro: 0.6567984934086629\n",
      "[[17640  2860  1625]\n",
      " [  997 15585  5543]\n",
      " [  765 11105 10255]]\n",
      "Macro: 0.6571236936107154 || Micro: 0.6550659133709981\n",
      "[[17618  2864  1643]\n",
      " [  980 15532  5613]\n",
      " [  762 11093 10270]]\n",
      "Macro: 0.656413057962379 || Micro: 0.6541619585687383\n",
      "[[17636  2852  1637]\n",
      " [  970 15542  5613]\n",
      " [  852 11066 10207]]\n",
      "Macro: 0.6555163315878625 || Micro: 0.6536346516007533\n",
      "[[17727  2836  1562]\n",
      " [ 1041 15491  5593]\n",
      " [  787 11056 10282]]\n",
      "Macro: 0.6573047720046635 || Micro: 0.655367231638418\n",
      "---------------------------\n",
      "Overall Macro: 0.6570007425355264 (+/- 0.0010356450347401057) || Overall Micro: 0.6550056497175142 (+/- 0.0010899644292390747)\n"
     ]
    }
   ],
   "source": [
    "# fit DT model\n",
    "dt = DecisionTreeClassifier(random_state=88)\n",
    "util_ml.get_cross_validated_confusion_matrix(dt, X_train_one_hot_more_scaled, y_train)"
   ]
  },
  {
   "cell_type": "markdown",
   "metadata": {},
   "source": [
    "## 2.5 Frequencies normalized"
   ]
  },
  {
   "cell_type": "code",
   "execution_count": 27,
   "metadata": {},
   "outputs": [
    {
     "name": "stdout",
     "output_type": "stream",
     "text": [
      "[[14819  2582  4724]\n",
      " [ 1973  7656 12496]\n",
      " [ 1625  5443 15057]]\n",
      "Macro: 0.5632017505210434 || Micro: 0.5654538606403013\n",
      "[[14976  2627  4522]\n",
      " [ 1987  7509 12629]\n",
      " [ 1664  5478 14983]]\n",
      "Macro: 0.5617343818157754 || Micro: 0.5644896421845574\n",
      "[[14954  2485  4686]\n",
      " [ 2083  7527 12515]\n",
      " [ 1726  5447 14952]]\n",
      "Macro: 0.5609819290833067 || Micro: 0.5639623352165725\n",
      "[[14897  2544  4684]\n",
      " [ 1926  7510 12689]\n",
      " [ 1665  5393 15067]]\n",
      "Macro: 0.5618773408530301 || Micro: 0.5645800376647834\n",
      "[[14881  2588  4656]\n",
      " [ 1956  7445 12724]\n",
      " [ 1608  5439 15078]]\n",
      "Macro: 0.5607060668671727 || Micro: 0.5635254237288135\n",
      "---------------------------\n",
      "Overall Macro: 0.5617002938280657 (+/- 0.0008707944645117427) || Overall Micro: 0.5644022598870057 (+/- 0.0006492272502749616)\n"
     ]
    }
   ],
   "source": [
    "# fit DT model\n",
    "dt = DecisionTreeClassifier(random_state=88)\n",
    "util_ml.get_cross_validated_confusion_matrix(dt, X_train_one_hot_frequency_scaled, y_train)"
   ]
  },
  {
   "cell_type": "markdown",
   "metadata": {},
   "source": [
    "# 3. Random Forest"
   ]
  },
  {
   "cell_type": "markdown",
   "metadata": {},
   "source": [
    "## 3.1 Only one hot encoded columns"
   ]
  },
  {
   "cell_type": "code",
   "execution_count": 28,
   "metadata": {},
   "outputs": [
    {
     "name": "stdout",
     "output_type": "stream",
     "text": [
      "[[16158  4020  1947]\n",
      " [ 1123 16225  4777]\n",
      " [  916 10607 10602]]\n",
      "Macro: 0.6504850589105517 || Micro: 0.647608286252354\n",
      "[[16387  3725  2013]\n",
      " [ 1226 16038  4861]\n",
      " [  992 10776 10357]]\n",
      "Macro: 0.6466858310661608 || Micro: 0.6445499058380414\n",
      "[[16346  3794  1985]\n",
      " [ 1212 15858  5055]\n",
      " [  964 10695 10466]]\n",
      "Macro: 0.6456332139271375 || Micro: 0.6428625235404897\n",
      "[[16352  3795  1978]\n",
      " [ 1180 16064  4881]\n",
      " [ 1011 10764 10350]]\n",
      "Macro: 0.6465057754816393 || Micro: 0.6443088512241054\n",
      "[[16395  3812  1918]\n",
      " [ 1282 15970  4873]\n",
      " [  960 10726 10439]]\n",
      "Macro: 0.6472578963317758 || Micro: 0.6448813559322034\n",
      "---------------------------\n",
      "Overall Macro: 0.647313555143453 (+/- 0.0016692289328033912) || Overall Micro: 0.6448421845574388 (+/- 0.0015454308149832432)\n"
     ]
    }
   ],
   "source": [
    "# fit random forest model\n",
    "rf = RandomForestClassifier(random_state=88)\n",
    "util_ml.get_cross_validated_confusion_matrix(rf, X_train_one_hot, y_train)"
   ]
  },
  {
   "cell_type": "markdown",
   "metadata": {},
   "source": [
    "## 3.2 Only one hot encoded columns with frequencies"
   ]
  },
  {
   "cell_type": "code",
   "execution_count": 29,
   "metadata": {},
   "outputs": [
    {
     "name": "stdout",
     "output_type": "stream",
     "text": [
      "[[17596  2979  1550]\n",
      " [  813 16171  5141]\n",
      " [  687 10578 10860]]\n",
      "Macro: 0.6749661920958349 || Micro: 0.6723465160075329\n",
      "[[17635  2860  1630]\n",
      " [  759 16104  5262]\n",
      " [  626 10718 10781]]\n",
      "Macro: 0.6735634555685045 || Micro: 0.6707344632768362\n",
      "[[17609  2848  1668]\n",
      " [  722 15984  5419]\n",
      " [  618 10792 10715]]\n",
      "Macro: 0.6706362185754889 || Micro: 0.6675404896421846\n",
      "[[17631  2855  1639]\n",
      " [  732 16060  5333]\n",
      " [  671 10665 10789]]\n",
      "Macro: 0.6729782324599514 || Micro: 0.6701318267419962\n",
      "[[17677  2857  1591]\n",
      " [  800 16041  5284]\n",
      " [  574 10749 10802]]\n",
      "Macro: 0.6736907802951767 || Micro: 0.6707344632768362\n",
      "---------------------------\n",
      "Overall Macro: 0.6731669757989913 (+/- 0.0014219073678004525) || Overall Micro: 0.6702975517890772 (+/- 0.0015626192202735393)\n"
     ]
    }
   ],
   "source": [
    "# fit random forest model\n",
    "rf = RandomForestClassifier(random_state=88)\n",
    "util_ml.get_cross_validated_confusion_matrix(rf, X_train_one_hot_more, y_train)"
   ]
  },
  {
   "cell_type": "markdown",
   "metadata": {},
   "source": [
    "## 3.3 Only with frequencies"
   ]
  },
  {
   "cell_type": "code",
   "execution_count": 30,
   "metadata": {},
   "outputs": [
    {
     "name": "stdout",
     "output_type": "stream",
     "text": [
      "[[14805  2577  4743]\n",
      " [ 1992  7673 12460]\n",
      " [ 1615  5361 15149]]\n",
      "Macro: 0.5644241604021085 || Micro: 0.5668851224105461\n",
      "[[14835  2641  4649]\n",
      " [ 1939  7598 12588]\n",
      " [ 1537  5435 15153]]\n",
      "Macro: 0.5638979028211896 || Micro: 0.5662674199623352\n",
      "[[14893  2515  4717]\n",
      " [ 2076  7554 12495]\n",
      " [ 1698  5374 15053]]\n",
      "Macro: 0.5619546096548045 || Micro: 0.5649717514124294\n",
      "[[14854  2587  4684]\n",
      " [ 1913  7512 12700]\n",
      " [ 1636  5327 15162]]\n",
      "Macro: 0.5625944338632674 || Micro: 0.5653935969868173\n",
      "[[14851  2530  4744]\n",
      " [ 1943  7430 12752]\n",
      " [ 1558  5319 15248]]\n",
      "Macro: 0.5622932293972855 || Micro: 0.5654086629001883\n",
      "---------------------------\n",
      "Overall Macro: 0.563032867227731 (+/- 0.0009576962570558639) || Overall Micro: 0.5657853107344633 (+/- 0.0006927044177821421)\n"
     ]
    }
   ],
   "source": [
    "# fit random forest model\n",
    "rf = RandomForestClassifier(random_state=88)\n",
    "util_ml.get_cross_validated_confusion_matrix(rf, X_train_one_hot_frequency, y_train)"
   ]
  },
  {
   "cell_type": "markdown",
   "metadata": {},
   "source": [
    "## 3.4 Scaled one hot encoded pids and frequencies"
   ]
  },
  {
   "cell_type": "code",
   "execution_count": 31,
   "metadata": {},
   "outputs": [
    {
     "name": "stdout",
     "output_type": "stream",
     "text": [
      "[[17596  2979  1550]\n",
      " [  811 16169  5145]\n",
      " [  688 10572 10865]]\n",
      "Macro: 0.6750220711826125 || Micro: 0.672391713747646\n",
      "[[17635  2860  1630]\n",
      " [  761 16107  5257]\n",
      " [  624 10718 10783]]\n",
      "Macro: 0.6736371781654694 || Micro: 0.6708097928436911\n",
      "[[17609  2848  1668]\n",
      " [  722 15973  5430]\n",
      " [  614 10789 10722]]\n",
      "Macro: 0.6706142370724711 || Micro: 0.6674802259887006\n",
      "[[17631  2855  1639]\n",
      " [  735 16069  5321]\n",
      " [  670 10672 10783]]\n",
      "Macro: 0.6729973916241647 || Micro: 0.6701770244821093\n",
      "[[17677  2857  1591]\n",
      " [  802 16038  5285]\n",
      " [  577 10742 10806]]\n",
      "Macro: 0.6737015623517734 || Micro: 0.6707495291902071\n",
      "---------------------------\n",
      "Overall Macro: 0.6731944880792982 (+/- 0.0014484268086844146) || Overall Micro: 0.6703216572504708 (+/- 0.0016000709302232971)\n"
     ]
    }
   ],
   "source": [
    "# fit random forest model\n",
    "rf = RandomForestClassifier(random_state=88)\n",
    "util_ml.get_cross_validated_confusion_matrix(rf, X_train_one_hot_more_scaled, y_train)"
   ]
  },
  {
   "cell_type": "markdown",
   "metadata": {},
   "source": [
    "## 3.5 Frequencies normalized"
   ]
  },
  {
   "cell_type": "code",
   "execution_count": 32,
   "metadata": {},
   "outputs": [
    {
     "name": "stdout",
     "output_type": "stream",
     "text": [
      "[[14805  2577  4743]\n",
      " [ 1986  7679 12460]\n",
      " [ 1615  5369 15141]]\n",
      "Macro: 0.5644452052817351 || Micro: 0.5668549905838042\n",
      "[[14835  2641  4649]\n",
      " [ 1937  7605 12583]\n",
      " [ 1539  5433 15153]]\n",
      "Macro: 0.5640206201254973 || Micro: 0.5663728813559322\n",
      "[[14893  2515  4717]\n",
      " [ 2071  7561 12493]\n",
      " [ 1697  5376 15052]]\n",
      "Macro: 0.5620804185984477 || Micro: 0.5650621468926553\n",
      "[[14854  2587  4684]\n",
      " [ 1910  7513 12702]\n",
      " [ 1634  5323 15168]]\n",
      "Macro: 0.5626990965588666 || Micro: 0.5654990583804144\n",
      "[[14851  2530  4744]\n",
      " [ 1944  7423 12758]\n",
      " [ 1560  5313 15252]]\n",
      "Macro: 0.5622111697350447 || Micro: 0.5653634651600753\n",
      "---------------------------\n",
      "Overall Macro: 0.5630913020599182 (+/- 0.0009640569939661027) || Overall Micro: 0.5658305084745763 (+/- 0.0006726217477409517)\n"
     ]
    }
   ],
   "source": [
    "# fit random forest model\n",
    "rf = RandomForestClassifier(random_state=88)\n",
    "util_ml.get_cross_validated_confusion_matrix(rf, X_train_one_hot_frequency_scaled, y_train)"
   ]
  },
  {
   "cell_type": "markdown",
   "metadata": {},
   "source": [
    "# 4. Neural Network"
   ]
  },
  {
   "cell_type": "markdown",
   "metadata": {},
   "source": [
    "## 4.1 Only one hot encoded columns"
   ]
  },
  {
   "cell_type": "code",
   "execution_count": 33,
   "metadata": {},
   "outputs": [
    {
     "name": "stderr",
     "output_type": "stream",
     "text": [
      "/home/linda/anaconda3/lib/python3.7/site-packages/sklearn/neural_network/_multilayer_perceptron.py:571: ConvergenceWarning: Stochastic Optimizer: Maximum iterations (200) reached and the optimization hasn't converged yet.\n",
      "  % self.max_iter, ConvergenceWarning)\n"
     ]
    },
    {
     "name": "stdout",
     "output_type": "stream",
     "text": [
      "[[15705  4475  1945]\n",
      " [ 1143 16422  4560]\n",
      " [ 1020 10612 10493]]\n",
      "Macro: 0.6447236661247663 || Micro: 0.6421092278719397\n"
     ]
    },
    {
     "name": "stderr",
     "output_type": "stream",
     "text": [
      "/home/linda/anaconda3/lib/python3.7/site-packages/sklearn/neural_network/_multilayer_perceptron.py:571: ConvergenceWarning: Stochastic Optimizer: Maximum iterations (200) reached and the optimization hasn't converged yet.\n",
      "  % self.max_iter, ConvergenceWarning)\n"
     ]
    },
    {
     "name": "stdout",
     "output_type": "stream",
     "text": [
      "[[16325  3917  1883]\n",
      " [ 1537 15919  4669]\n",
      " [ 1351 10539 10235]]\n",
      "Macro: 0.640775691681232 || Micro: 0.639984934086629\n"
     ]
    },
    {
     "name": "stderr",
     "output_type": "stream",
     "text": [
      "/home/linda/anaconda3/lib/python3.7/site-packages/sklearn/neural_network/_multilayer_perceptron.py:571: ConvergenceWarning: Stochastic Optimizer: Maximum iterations (200) reached and the optimization hasn't converged yet.\n",
      "  % self.max_iter, ConvergenceWarning)\n"
     ]
    },
    {
     "name": "stdout",
     "output_type": "stream",
     "text": [
      "[[15894  4105  2126]\n",
      " [ 1315 15958  4852]\n",
      " [  930 10658 10537]]\n",
      "Macro: 0.6416892055369937 || Micro: 0.6386290018832391\n"
     ]
    },
    {
     "name": "stderr",
     "output_type": "stream",
     "text": [
      "/home/linda/anaconda3/lib/python3.7/site-packages/sklearn/neural_network/_multilayer_perceptron.py:571: ConvergenceWarning: Stochastic Optimizer: Maximum iterations (200) reached and the optimization hasn't converged yet.\n",
      "  % self.max_iter, ConvergenceWarning)\n"
     ]
    },
    {
     "name": "stdout",
     "output_type": "stream",
     "text": [
      "[[16372  3875  1878]\n",
      " [ 1584 15975  4566]\n",
      " [ 1386 10625 10114]]\n",
      "Macro: 0.639990482331512 || Micro: 0.639713747645951\n"
     ]
    },
    {
     "name": "stderr",
     "output_type": "stream",
     "text": [
      "/home/linda/anaconda3/lib/python3.7/site-packages/sklearn/neural_network/_multilayer_perceptron.py:571: ConvergenceWarning: Stochastic Optimizer: Maximum iterations (200) reached and the optimization hasn't converged yet.\n",
      "  % self.max_iter, ConvergenceWarning)\n"
     ]
    },
    {
     "name": "stdout",
     "output_type": "stream",
     "text": [
      "[[15729  4147  2249]\n",
      " [ 1236 15671  5218]\n",
      " [  826 10300 10999]]\n",
      "Macro: 0.6433250262422159 || Micro: 0.6387796610169492\n",
      "---------------------------\n",
      "Overall Macro: 0.642100814383344 (+/- 0.0017179592148779397) || Overall Micro: 0.6398433145009416 (+/- 0.0012471664643784375)\n"
     ]
    }
   ],
   "source": [
    "# fit nnet\n",
    "nnet = MLPClassifier(random_state=88)\n",
    "util_ml.get_cross_validated_confusion_matrix(nnet, X_train_one_hot, y_train)"
   ]
  },
  {
   "cell_type": "markdown",
   "metadata": {},
   "source": [
    "## 4.2 Only one hot encoded columns with frequencies"
   ]
  },
  {
   "cell_type": "code",
   "execution_count": 34,
   "metadata": {},
   "outputs": [
    {
     "name": "stderr",
     "output_type": "stream",
     "text": [
      "/home/linda/anaconda3/lib/python3.7/site-packages/sklearn/neural_network/_multilayer_perceptron.py:571: ConvergenceWarning: Stochastic Optimizer: Maximum iterations (200) reached and the optimization hasn't converged yet.\n",
      "  % self.max_iter, ConvergenceWarning)\n"
     ]
    },
    {
     "name": "stdout",
     "output_type": "stream",
     "text": [
      "[[16523  3826  1776]\n",
      " [ 2110 15608  4407]\n",
      " [ 1415 10369 10341]]\n",
      "Macro: 0.6399485864067874 || Micro: 0.639879472693032\n",
      "[[16326  3915  1884]\n",
      " [ 2033 15468  4624]\n",
      " [ 1330 10440 10355]]\n",
      "Macro: 0.6358648212232884 || Micro: 0.6350131826741996\n"
     ]
    },
    {
     "name": "stderr",
     "output_type": "stream",
     "text": [
      "/home/linda/anaconda3/lib/python3.7/site-packages/sklearn/neural_network/_multilayer_perceptron.py:571: ConvergenceWarning: Stochastic Optimizer: Maximum iterations (200) reached and the optimization hasn't converged yet.\n",
      "  % self.max_iter, ConvergenceWarning)\n"
     ]
    },
    {
     "name": "stdout",
     "output_type": "stream",
     "text": [
      "[[16696  3628  1801]\n",
      " [ 2505 14761  4859]\n",
      " [ 1722 10078 10325]]\n",
      "Macro: 0.6290737326802597 || Micro: 0.6294839924670433\n",
      "[[16410  3843  1872]\n",
      " [ 2111 15324  4690]\n",
      " [ 1432 10223 10470]]\n",
      "Macro: 0.6365612784379812 || Micro: 0.6358418079096045\n",
      "[[15250  4306  2569]\n",
      " [ 3536 13959  4630]\n",
      " [ 2391  9690 10044]]\n",
      "Macro: 0.5906952166606901 || Micro: 0.5913822975517891\n",
      "---------------------------\n",
      "Overall Macro: 0.6264287270818013 (+/- 0.018211946010416237) || Overall Micro: 0.6263201506591336 (+/- 0.017780604326992)\n"
     ]
    }
   ],
   "source": [
    "# fit nnet\n",
    "nnet = MLPClassifier(random_state=88)\n",
    "util_ml.get_cross_validated_confusion_matrix(nnet, X_train_one_hot_more, y_train)"
   ]
  },
  {
   "cell_type": "markdown",
   "metadata": {},
   "source": [
    "## 4.3 Only with frequencies"
   ]
  },
  {
   "cell_type": "code",
   "execution_count": 35,
   "metadata": {},
   "outputs": [
    {
     "name": "stdout",
     "output_type": "stream",
     "text": [
      "[[13329  3576  5220]\n",
      " [ 3916  6493 11716]\n",
      " [ 2684  4994 14447]]\n",
      "Macro: 0.50769731939546 || Micro: 0.5162937853107344\n",
      "[[13967  3601  4557]\n",
      " [ 4395  6217 11513]\n",
      " [ 3103  4955 14067]]\n",
      "Macro: 0.5053814047598079 || Micro: 0.5160225988700565\n",
      "[[13916  3323  4886]\n",
      " [ 4373  6069 11683]\n",
      " [ 3232  4608 14285]]\n",
      "Macro: 0.5043153744953494 || Micro: 0.5163088512241054\n",
      "[[13373  3442  5310]\n",
      " [ 3847  6195 12083]\n",
      " [ 2735  4709 14681]]\n",
      "Macro: 0.5056883809407525 || Micro: 0.5159924670433145\n",
      "[[13361  3668  5096]\n",
      " [ 3828  6297 12000]\n",
      " [ 2711  4896 14518]]\n",
      "Macro: 0.505560684542201 || Micro: 0.5148926553672316\n",
      "---------------------------\n",
      "Overall Macro: 0.5057286328267142 (+/- 0.001097580984545039) || Overall Micro: 0.5159020715630885 (+/- 0.0005216375338758338)\n"
     ]
    }
   ],
   "source": [
    "# fit nnet\n",
    "nnet = MLPClassifier(random_state=88)\n",
    "util_ml.get_cross_validated_confusion_matrix(nnet, X_train_one_hot_frequency, y_train)"
   ]
  },
  {
   "cell_type": "markdown",
   "metadata": {},
   "source": [
    "## 4.4 Scaled one hot encoded pids and frequencies"
   ]
  },
  {
   "cell_type": "code",
   "execution_count": 36,
   "metadata": {},
   "outputs": [
    {
     "name": "stderr",
     "output_type": "stream",
     "text": [
      "/home/linda/anaconda3/lib/python3.7/site-packages/sklearn/neural_network/_multilayer_perceptron.py:571: ConvergenceWarning: Stochastic Optimizer: Maximum iterations (200) reached and the optimization hasn't converged yet.\n",
      "  % self.max_iter, ConvergenceWarning)\n"
     ]
    },
    {
     "name": "stdout",
     "output_type": "stream",
     "text": [
      "[[16066  4083  1976]\n",
      " [ 1434 16089  4602]\n",
      " [ 1156 10405 10564]]\n",
      "Macro: 0.6455136512496349 || Micro: 0.6436007532956686\n"
     ]
    },
    {
     "name": "stderr",
     "output_type": "stream",
     "text": [
      "/home/linda/anaconda3/lib/python3.7/site-packages/sklearn/neural_network/_multilayer_perceptron.py:571: ConvergenceWarning: Stochastic Optimizer: Maximum iterations (200) reached and the optimization hasn't converged yet.\n",
      "  % self.max_iter, ConvergenceWarning)\n"
     ]
    },
    {
     "name": "stdout",
     "output_type": "stream",
     "text": [
      "[[16454  3600  2071]\n",
      " [ 1857 15192  5076]\n",
      " [ 1399 10109 10617]]\n",
      "Macro: 0.6381341415272982 || Micro: 0.6367306967984934\n"
     ]
    },
    {
     "name": "stderr",
     "output_type": "stream",
     "text": [
      "/home/linda/anaconda3/lib/python3.7/site-packages/sklearn/neural_network/_multilayer_perceptron.py:571: ConvergenceWarning: Stochastic Optimizer: Maximum iterations (200) reached and the optimization hasn't converged yet.\n",
      "  % self.max_iter, ConvergenceWarning)\n"
     ]
    },
    {
     "name": "stdout",
     "output_type": "stream",
     "text": [
      "[[16081  3975  2069]\n",
      " [ 1360 15793  4972]\n",
      " [ 1096 10509 10520]]\n",
      "Macro: 0.6412948805071546 || Micro: 0.6387043314500942\n"
     ]
    },
    {
     "name": "stderr",
     "output_type": "stream",
     "text": [
      "/home/linda/anaconda3/lib/python3.7/site-packages/sklearn/neural_network/_multilayer_perceptron.py:571: ConvergenceWarning: Stochastic Optimizer: Maximum iterations (200) reached and the optimization hasn't converged yet.\n",
      "  % self.max_iter, ConvergenceWarning)\n"
     ]
    },
    {
     "name": "stdout",
     "output_type": "stream",
     "text": [
      "[[15561  4400  2164]\n",
      " [ 1075 16149  4901]\n",
      " [  824 10659 10642]]\n",
      "Macro: 0.6420474757765838 || Micro: 0.6380715630885122\n",
      "[[17287  3181  1657]\n",
      " [ 2768 14736  4621]\n",
      " [ 2347  9675 10103]]\n",
      "Macro: 0.6313391042040658 || Micro: 0.6346666666666667\n",
      "---------------------------\n",
      "Overall Macro: 0.6396658506529475 (+/- 0.004779194232998117) || Overall Micro: 0.6383548022598869 (+/- 0.0029652136535680764)\n"
     ]
    },
    {
     "name": "stderr",
     "output_type": "stream",
     "text": [
      "/home/linda/anaconda3/lib/python3.7/site-packages/sklearn/neural_network/_multilayer_perceptron.py:571: ConvergenceWarning: Stochastic Optimizer: Maximum iterations (200) reached and the optimization hasn't converged yet.\n",
      "  % self.max_iter, ConvergenceWarning)\n"
     ]
    }
   ],
   "source": [
    "# fit nnet\n",
    "nnet = MLPClassifier(random_state=88)\n",
    "util_ml.get_cross_validated_confusion_matrix(nnet, X_train_one_hot_more_scaled, y_train)"
   ]
  },
  {
   "cell_type": "markdown",
   "metadata": {},
   "source": [
    "## 4.5 Frequencies normalized"
   ]
  },
  {
   "cell_type": "code",
   "execution_count": 37,
   "metadata": {},
   "outputs": [
    {
     "name": "stdout",
     "output_type": "stream",
     "text": [
      "[[13974  2114  6037]\n",
      " [ 4484  3274 14367]\n",
      " [ 3312  2305 16508]]\n",
      "Macro: 0.47184754258200007 || Micro: 0.5085649717514125\n",
      "[[14536  3037  4552]\n",
      " [ 4924  4476 12725]\n",
      " [ 3723  3721 14681]]\n",
      "Macro: 0.4843041099547077 || Micro: 0.5076158192090395\n",
      "[[14194  4213  3718]\n",
      " [ 4725  6584 10816]\n",
      " [ 3630  5853 12642]]\n",
      "Macro: 0.4959659357911403 || Micro: 0.5035028248587571\n",
      "[[13949  1354  6822]\n",
      " [ 4236  1979 15910]\n",
      " [ 3090  1311 17724]]\n",
      "Macro: 0.45236751934827035 || Micro: 0.5069981167608286\n",
      "[[14403  4858  2864]\n",
      " [ 4723  8326  9076]\n",
      " [ 3799  7326 11000]]\n",
      "Macro: 0.5060592416996376 || Micro: 0.5081581920903955\n",
      "---------------------------\n",
      "Overall Macro: 0.4821088698751512 (+/- 0.018763264291258446) || Overall Micro: 0.5069679849340866 (+/- 0.001810794935495775)\n"
     ]
    }
   ],
   "source": [
    "# fit nnet\n",
    "nnet = MLPClassifier(random_state=88)\n",
    "util_ml.get_cross_validated_confusion_matrix(nnet, X_train_one_hot_frequency_scaled, y_train)"
   ]
  },
  {
   "cell_type": "markdown",
   "metadata": {},
   "source": [
    "# 5. Logistic Regression"
   ]
  },
  {
   "cell_type": "markdown",
   "metadata": {},
   "source": [
    "## 5.1 Only one hot encoded columns"
   ]
  },
  {
   "cell_type": "code",
   "execution_count": 38,
   "metadata": {},
   "outputs": [
    {
     "name": "stderr",
     "output_type": "stream",
     "text": [
      "/home/linda/anaconda3/lib/python3.7/site-packages/sklearn/linear_model/_logistic.py:940: ConvergenceWarning: lbfgs failed to converge (status=1):\n",
      "STOP: TOTAL NO. of ITERATIONS REACHED LIMIT.\n",
      "\n",
      "Increase the number of iterations (max_iter) or scale the data as shown in:\n",
      "    https://scikit-learn.org/stable/modules/preprocessing.html\n",
      "Please also refer to the documentation for alternative solver options:\n",
      "    https://scikit-learn.org/stable/modules/linear_model.html#logistic-regression\n",
      "  extra_warning_msg=_LOGISTIC_SOLVER_CONVERGENCE_MSG)\n"
     ]
    },
    {
     "name": "stdout",
     "output_type": "stream",
     "text": [
      "[[13713  5005  3407]\n",
      " [ 3692 13660  4773]\n",
      " [ 2483  9225 10417]]\n",
      "Macro: 0.5702164719042462 || Micro: 0.5693408662900188\n"
     ]
    },
    {
     "name": "stderr",
     "output_type": "stream",
     "text": [
      "/home/linda/anaconda3/lib/python3.7/site-packages/sklearn/linear_model/_logistic.py:940: ConvergenceWarning: lbfgs failed to converge (status=1):\n",
      "STOP: TOTAL NO. of ITERATIONS REACHED LIMIT.\n",
      "\n",
      "Increase the number of iterations (max_iter) or scale the data as shown in:\n",
      "    https://scikit-learn.org/stable/modules/preprocessing.html\n",
      "Please also refer to the documentation for alternative solver options:\n",
      "    https://scikit-learn.org/stable/modules/linear_model.html#logistic-regression\n",
      "  extra_warning_msg=_LOGISTIC_SOLVER_CONVERGENCE_MSG)\n"
     ]
    },
    {
     "name": "stdout",
     "output_type": "stream",
     "text": [
      "[[13896  4878  3351]\n",
      " [ 3766 13591  4768]\n",
      " [ 2519  9340 10266]]\n",
      "Macro: 0.5693748221395779 || Micro: 0.5687834274952919\n"
     ]
    },
    {
     "name": "stderr",
     "output_type": "stream",
     "text": [
      "/home/linda/anaconda3/lib/python3.7/site-packages/sklearn/linear_model/_logistic.py:940: ConvergenceWarning: lbfgs failed to converge (status=1):\n",
      "STOP: TOTAL NO. of ITERATIONS REACHED LIMIT.\n",
      "\n",
      "Increase the number of iterations (max_iter) or scale the data as shown in:\n",
      "    https://scikit-learn.org/stable/modules/preprocessing.html\n",
      "Please also refer to the documentation for alternative solver options:\n",
      "    https://scikit-learn.org/stable/modules/linear_model.html#logistic-regression\n",
      "  extra_warning_msg=_LOGISTIC_SOLVER_CONVERGENCE_MSG)\n"
     ]
    },
    {
     "name": "stdout",
     "output_type": "stream",
     "text": [
      "[[13692  4972  3461]\n",
      " [ 3777 13445  4903]\n",
      " [ 2635  9214 10276]]\n",
      "Macro: 0.5643532127708527 || Micro: 0.5636610169491525\n"
     ]
    },
    {
     "name": "stderr",
     "output_type": "stream",
     "text": [
      "/home/linda/anaconda3/lib/python3.7/site-packages/sklearn/linear_model/_logistic.py:940: ConvergenceWarning: lbfgs failed to converge (status=1):\n",
      "STOP: TOTAL NO. of ITERATIONS REACHED LIMIT.\n",
      "\n",
      "Increase the number of iterations (max_iter) or scale the data as shown in:\n",
      "    https://scikit-learn.org/stable/modules/preprocessing.html\n",
      "Please also refer to the documentation for alternative solver options:\n",
      "    https://scikit-learn.org/stable/modules/linear_model.html#logistic-regression\n",
      "  extra_warning_msg=_LOGISTIC_SOLVER_CONVERGENCE_MSG)\n"
     ]
    },
    {
     "name": "stdout",
     "output_type": "stream",
     "text": [
      "[[13705  4962  3458]\n",
      " [ 3678 13601  4846]\n",
      " [ 2494  9308 10323]]\n",
      "Macro: 0.5677656467931936 || Micro: 0.5669152542372882\n",
      "[[13782  5008  3335]\n",
      " [ 3866 13400  4859]\n",
      " [ 2537  9227 10361]]\n",
      "Macro: 0.5664842549905044 || Micro: 0.5656195856873822\n",
      "---------------------------\n",
      "Overall Macro: 0.5676388817196749 (+/- 0.002088172071927255) || Overall Micro: 0.5668640301318266 (+/- 0.002079873213735806)\n"
     ]
    },
    {
     "name": "stderr",
     "output_type": "stream",
     "text": [
      "/home/linda/anaconda3/lib/python3.7/site-packages/sklearn/linear_model/_logistic.py:940: ConvergenceWarning: lbfgs failed to converge (status=1):\n",
      "STOP: TOTAL NO. of ITERATIONS REACHED LIMIT.\n",
      "\n",
      "Increase the number of iterations (max_iter) or scale the data as shown in:\n",
      "    https://scikit-learn.org/stable/modules/preprocessing.html\n",
      "Please also refer to the documentation for alternative solver options:\n",
      "    https://scikit-learn.org/stable/modules/linear_model.html#logistic-regression\n",
      "  extra_warning_msg=_LOGISTIC_SOLVER_CONVERGENCE_MSG)\n"
     ]
    }
   ],
   "source": [
    "# fit LogReg\n",
    "log_reg = LogisticRegression(random_state=88)\n",
    "util_ml.get_cross_validated_confusion_matrix(log_reg, X_train_one_hot, y_train)"
   ]
  },
  {
   "cell_type": "markdown",
   "metadata": {},
   "source": [
    "## 5.2 Only one hot encoded columns with frequencies"
   ]
  },
  {
   "cell_type": "code",
   "execution_count": 39,
   "metadata": {},
   "outputs": [
    {
     "name": "stderr",
     "output_type": "stream",
     "text": [
      "/home/linda/anaconda3/lib/python3.7/site-packages/sklearn/linear_model/_logistic.py:940: ConvergenceWarning: lbfgs failed to converge (status=1):\n",
      "STOP: TOTAL NO. of ITERATIONS REACHED LIMIT.\n",
      "\n",
      "Increase the number of iterations (max_iter) or scale the data as shown in:\n",
      "    https://scikit-learn.org/stable/modules/preprocessing.html\n",
      "Please also refer to the documentation for alternative solver options:\n",
      "    https://scikit-learn.org/stable/modules/linear_model.html#logistic-regression\n",
      "  extra_warning_msg=_LOGISTIC_SOLVER_CONVERGENCE_MSG)\n"
     ]
    },
    {
     "name": "stdout",
     "output_type": "stream",
     "text": [
      "[[11827  6326  3972]\n",
      " [ 2406 14733  4986]\n",
      " [ 1706 10218 10201]]\n",
      "Macro: 0.5557969223408928 || Micro: 0.5538380414312618\n"
     ]
    },
    {
     "name": "stderr",
     "output_type": "stream",
     "text": [
      "/home/linda/anaconda3/lib/python3.7/site-packages/sklearn/linear_model/_logistic.py:940: ConvergenceWarning: lbfgs failed to converge (status=1):\n",
      "STOP: TOTAL NO. of ITERATIONS REACHED LIMIT.\n",
      "\n",
      "Increase the number of iterations (max_iter) or scale the data as shown in:\n",
      "    https://scikit-learn.org/stable/modules/preprocessing.html\n",
      "Please also refer to the documentation for alternative solver options:\n",
      "    https://scikit-learn.org/stable/modules/linear_model.html#logistic-regression\n",
      "  extra_warning_msg=_LOGISTIC_SOLVER_CONVERGENCE_MSG)\n"
     ]
    },
    {
     "name": "stdout",
     "output_type": "stream",
     "text": [
      "[[12155  7732  2238]\n",
      " [ 2520 16145  3460]\n",
      " [ 1981 12588  7556]]\n",
      "Macro: 0.5350391137765506 || Micro: 0.5402033898305085\n"
     ]
    },
    {
     "name": "stderr",
     "output_type": "stream",
     "text": [
      "/home/linda/anaconda3/lib/python3.7/site-packages/sklearn/linear_model/_logistic.py:940: ConvergenceWarning: lbfgs failed to converge (status=1):\n",
      "STOP: TOTAL NO. of ITERATIONS REACHED LIMIT.\n",
      "\n",
      "Increase the number of iterations (max_iter) or scale the data as shown in:\n",
      "    https://scikit-learn.org/stable/modules/preprocessing.html\n",
      "Please also refer to the documentation for alternative solver options:\n",
      "    https://scikit-learn.org/stable/modules/linear_model.html#logistic-regression\n",
      "  extra_warning_msg=_LOGISTIC_SOLVER_CONVERGENCE_MSG)\n"
     ]
    },
    {
     "name": "stdout",
     "output_type": "stream",
     "text": [
      "[[11430  7787  2908]\n",
      " [ 2251 15965  3909]\n",
      " [ 1658 12148  8319]]\n",
      "Macro: 0.5356638960616394 || Micro: 0.5380640301318267\n"
     ]
    },
    {
     "name": "stderr",
     "output_type": "stream",
     "text": [
      "/home/linda/anaconda3/lib/python3.7/site-packages/sklearn/linear_model/_logistic.py:940: ConvergenceWarning: lbfgs failed to converge (status=1):\n",
      "STOP: TOTAL NO. of ITERATIONS REACHED LIMIT.\n",
      "\n",
      "Increase the number of iterations (max_iter) or scale the data as shown in:\n",
      "    https://scikit-learn.org/stable/modules/preprocessing.html\n",
      "Please also refer to the documentation for alternative solver options:\n",
      "    https://scikit-learn.org/stable/modules/linear_model.html#logistic-regression\n",
      "  extra_warning_msg=_LOGISTIC_SOLVER_CONVERGENCE_MSG)\n"
     ]
    },
    {
     "name": "stdout",
     "output_type": "stream",
     "text": [
      "[[11626  7944  2555]\n",
      " [ 2221 16271  3633]\n",
      " [ 1751 12500  7874]]\n",
      "Macro: 0.5348769764451782 || Micro: 0.5389227871939737\n",
      "[[11828  7831  2466]\n",
      " [ 2340 16114  3671]\n",
      " [ 1877 12312  7936]]\n",
      "Macro: 0.5367501517625918 || Micro: 0.5405348399246704\n",
      "---------------------------\n",
      "Overall Macro: 0.5396254120773706 (+/- 0.008112462613547394) || Overall Micro: 0.5423126177024482 (+/- 0.005830714799971811)\n"
     ]
    },
    {
     "name": "stderr",
     "output_type": "stream",
     "text": [
      "/home/linda/anaconda3/lib/python3.7/site-packages/sklearn/linear_model/_logistic.py:940: ConvergenceWarning: lbfgs failed to converge (status=1):\n",
      "STOP: TOTAL NO. of ITERATIONS REACHED LIMIT.\n",
      "\n",
      "Increase the number of iterations (max_iter) or scale the data as shown in:\n",
      "    https://scikit-learn.org/stable/modules/preprocessing.html\n",
      "Please also refer to the documentation for alternative solver options:\n",
      "    https://scikit-learn.org/stable/modules/linear_model.html#logistic-regression\n",
      "  extra_warning_msg=_LOGISTIC_SOLVER_CONVERGENCE_MSG)\n"
     ]
    }
   ],
   "source": [
    "# fit LogReg\n",
    "log_reg = LogisticRegression(random_state=88)\n",
    "util_ml.get_cross_validated_confusion_matrix(log_reg, X_train_one_hot_more, y_train)"
   ]
  },
  {
   "cell_type": "markdown",
   "metadata": {},
   "source": [
    "## 5.3 Only with frequencies"
   ]
  },
  {
   "cell_type": "code",
   "execution_count": 40,
   "metadata": {},
   "outputs": [
    {
     "name": "stderr",
     "output_type": "stream",
     "text": [
      "/home/linda/anaconda3/lib/python3.7/site-packages/sklearn/linear_model/_logistic.py:940: ConvergenceWarning: lbfgs failed to converge (status=1):\n",
      "STOP: TOTAL NO. of ITERATIONS REACHED LIMIT.\n",
      "\n",
      "Increase the number of iterations (max_iter) or scale the data as shown in:\n",
      "    https://scikit-learn.org/stable/modules/preprocessing.html\n",
      "Please also refer to the documentation for alternative solver options:\n",
      "    https://scikit-learn.org/stable/modules/linear_model.html#logistic-regression\n",
      "  extra_warning_msg=_LOGISTIC_SOLVER_CONVERGENCE_MSG)\n"
     ]
    },
    {
     "name": "stdout",
     "output_type": "stream",
     "text": [
      "[[12197  5974  3954]\n",
      " [ 2935  7623 11567]\n",
      " [ 2262  6701 13162]]\n",
      "Macro: 0.49825353788267734 || Micro: 0.4969039548022599\n",
      "[[12415  5871  3839]\n",
      " [ 3023  7598 11504]\n",
      " [ 2178  6729 13218]]\n",
      "Macro: 0.5018026542728498 || Micro: 0.5006553672316384\n"
     ]
    },
    {
     "name": "stderr",
     "output_type": "stream",
     "text": [
      "/home/linda/anaconda3/lib/python3.7/site-packages/sklearn/linear_model/_logistic.py:940: ConvergenceWarning: lbfgs failed to converge (status=1):\n",
      "STOP: TOTAL NO. of ITERATIONS REACHED LIMIT.\n",
      "\n",
      "Increase the number of iterations (max_iter) or scale the data as shown in:\n",
      "    https://scikit-learn.org/stable/modules/preprocessing.html\n",
      "Please also refer to the documentation for alternative solver options:\n",
      "    https://scikit-learn.org/stable/modules/linear_model.html#logistic-regression\n",
      "  extra_warning_msg=_LOGISTIC_SOLVER_CONVERGENCE_MSG)\n"
     ]
    },
    {
     "name": "stdout",
     "output_type": "stream",
     "text": [
      "[[12247  6198  3680]\n",
      " [ 2909  8074 11142]\n",
      " [ 2240  7100 12785]]\n",
      "Macro: 0.501723878746676 || Micro: 0.49877212806026366\n"
     ]
    },
    {
     "name": "stderr",
     "output_type": "stream",
     "text": [
      "/home/linda/anaconda3/lib/python3.7/site-packages/sklearn/linear_model/_logistic.py:940: ConvergenceWarning: lbfgs failed to converge (status=1):\n",
      "STOP: TOTAL NO. of ITERATIONS REACHED LIMIT.\n",
      "\n",
      "Increase the number of iterations (max_iter) or scale the data as shown in:\n",
      "    https://scikit-learn.org/stable/modules/preprocessing.html\n",
      "Please also refer to the documentation for alternative solver options:\n",
      "    https://scikit-learn.org/stable/modules/linear_model.html#logistic-regression\n",
      "  extra_warning_msg=_LOGISTIC_SOLVER_CONVERGENCE_MSG)\n"
     ]
    },
    {
     "name": "stdout",
     "output_type": "stream",
     "text": [
      "[[12296  6036  3793]\n",
      " [ 2885  7583 11657]\n",
      " [ 2192  6865 13068]]\n",
      "Macro: 0.49821038865520845 || Micro: 0.49637664783427493\n",
      "[[12309  9816     0]\n",
      " [ 2901 19221     3]\n",
      " [ 2268 19849     8]]\n",
      "Macro: 0.38789837564061375 || Micro: 0.47514877589453863\n",
      "---------------------------\n",
      "Overall Macro: 0.47757776703960503 (+/- 0.0448675064794449) || Overall Micro: 0.4935713747645951 (+/- 0.009333794297556083)\n"
     ]
    },
    {
     "name": "stderr",
     "output_type": "stream",
     "text": [
      "/home/linda/anaconda3/lib/python3.7/site-packages/sklearn/linear_model/_logistic.py:940: ConvergenceWarning: lbfgs failed to converge (status=1):\n",
      "STOP: TOTAL NO. of ITERATIONS REACHED LIMIT.\n",
      "\n",
      "Increase the number of iterations (max_iter) or scale the data as shown in:\n",
      "    https://scikit-learn.org/stable/modules/preprocessing.html\n",
      "Please also refer to the documentation for alternative solver options:\n",
      "    https://scikit-learn.org/stable/modules/linear_model.html#logistic-regression\n",
      "  extra_warning_msg=_LOGISTIC_SOLVER_CONVERGENCE_MSG)\n"
     ]
    }
   ],
   "source": [
    "# fit LogReg\n",
    "log_reg = LogisticRegression(random_state=88)\n",
    "util_ml.get_cross_validated_confusion_matrix(log_reg, X_train_one_hot_frequency, y_train)"
   ]
  },
  {
   "cell_type": "markdown",
   "metadata": {},
   "source": [
    "## 5.4 Scaled one hot encoded pids and frequencies"
   ]
  },
  {
   "cell_type": "code",
   "execution_count": 41,
   "metadata": {},
   "outputs": [
    {
     "name": "stderr",
     "output_type": "stream",
     "text": [
      "/home/linda/anaconda3/lib/python3.7/site-packages/sklearn/linear_model/_logistic.py:940: ConvergenceWarning: lbfgs failed to converge (status=1):\n",
      "STOP: TOTAL NO. of ITERATIONS REACHED LIMIT.\n",
      "\n",
      "Increase the number of iterations (max_iter) or scale the data as shown in:\n",
      "    https://scikit-learn.org/stable/modules/preprocessing.html\n",
      "Please also refer to the documentation for alternative solver options:\n",
      "    https://scikit-learn.org/stable/modules/linear_model.html#logistic-regression\n",
      "  extra_warning_msg=_LOGISTIC_SOLVER_CONVERGENCE_MSG)\n"
     ]
    },
    {
     "name": "stdout",
     "output_type": "stream",
     "text": [
      "[[13720  5005  3400]\n",
      " [ 3691 13661  4773]\n",
      " [ 2484  9224 10417]]\n",
      "Macro: 0.5703339303051748 || Micro: 0.5694613935969868\n"
     ]
    },
    {
     "name": "stderr",
     "output_type": "stream",
     "text": [
      "/home/linda/anaconda3/lib/python3.7/site-packages/sklearn/linear_model/_logistic.py:940: ConvergenceWarning: lbfgs failed to converge (status=1):\n",
      "STOP: TOTAL NO. of ITERATIONS REACHED LIMIT.\n",
      "\n",
      "Increase the number of iterations (max_iter) or scale the data as shown in:\n",
      "    https://scikit-learn.org/stable/modules/preprocessing.html\n",
      "Please also refer to the documentation for alternative solver options:\n",
      "    https://scikit-learn.org/stable/modules/linear_model.html#logistic-regression\n",
      "  extra_warning_msg=_LOGISTIC_SOLVER_CONVERGENCE_MSG)\n"
     ]
    },
    {
     "name": "stdout",
     "output_type": "stream",
     "text": [
      "[[13879  4896  3350]\n",
      " [ 3765 13591  4769]\n",
      " [ 2520  9338 10267]]\n",
      "Macro: 0.5691490154170724 || Micro: 0.5685423728813559\n"
     ]
    },
    {
     "name": "stderr",
     "output_type": "stream",
     "text": [
      "/home/linda/anaconda3/lib/python3.7/site-packages/sklearn/linear_model/_logistic.py:940: ConvergenceWarning: lbfgs failed to converge (status=1):\n",
      "STOP: TOTAL NO. of ITERATIONS REACHED LIMIT.\n",
      "\n",
      "Increase the number of iterations (max_iter) or scale the data as shown in:\n",
      "    https://scikit-learn.org/stable/modules/preprocessing.html\n",
      "Please also refer to the documentation for alternative solver options:\n",
      "    https://scikit-learn.org/stable/modules/linear_model.html#logistic-regression\n",
      "  extra_warning_msg=_LOGISTIC_SOLVER_CONVERGENCE_MSG)\n"
     ]
    },
    {
     "name": "stdout",
     "output_type": "stream",
     "text": [
      "[[13684  4972  3469]\n",
      " [ 3772 13450  4903]\n",
      " [ 2633  9215 10277]]\n",
      "Macro: 0.5643282000069204 || Micro: 0.5636308851224106\n"
     ]
    },
    {
     "name": "stderr",
     "output_type": "stream",
     "text": [
      "/home/linda/anaconda3/lib/python3.7/site-packages/sklearn/linear_model/_logistic.py:940: ConvergenceWarning: lbfgs failed to converge (status=1):\n",
      "STOP: TOTAL NO. of ITERATIONS REACHED LIMIT.\n",
      "\n",
      "Increase the number of iterations (max_iter) or scale the data as shown in:\n",
      "    https://scikit-learn.org/stable/modules/preprocessing.html\n",
      "Please also refer to the documentation for alternative solver options:\n",
      "    https://scikit-learn.org/stable/modules/linear_model.html#logistic-regression\n",
      "  extra_warning_msg=_LOGISTIC_SOLVER_CONVERGENCE_MSG)\n"
     ]
    },
    {
     "name": "stdout",
     "output_type": "stream",
     "text": [
      "[[13711  4971  3443]\n",
      " [ 3676 13606  4843]\n",
      " [ 2490  9317 10318]]\n",
      "Macro: 0.567857650657729 || Micro: 0.5670056497175141\n",
      "[[13795  4988  3342]\n",
      " [ 3865 13401  4859]\n",
      " [ 2535  9229 10361]]\n",
      "Macro: 0.5666832748549141 || Micro: 0.5658305084745763\n",
      "---------------------------\n",
      "Overall Macro: 0.5676704142483622 (+/- 0.0020717372850723864) || Overall Micro: 0.5668941619585687 (+/- 0.0020542658783662834)\n"
     ]
    },
    {
     "name": "stderr",
     "output_type": "stream",
     "text": [
      "/home/linda/anaconda3/lib/python3.7/site-packages/sklearn/linear_model/_logistic.py:940: ConvergenceWarning: lbfgs failed to converge (status=1):\n",
      "STOP: TOTAL NO. of ITERATIONS REACHED LIMIT.\n",
      "\n",
      "Increase the number of iterations (max_iter) or scale the data as shown in:\n",
      "    https://scikit-learn.org/stable/modules/preprocessing.html\n",
      "Please also refer to the documentation for alternative solver options:\n",
      "    https://scikit-learn.org/stable/modules/linear_model.html#logistic-regression\n",
      "  extra_warning_msg=_LOGISTIC_SOLVER_CONVERGENCE_MSG)\n"
     ]
    }
   ],
   "source": [
    "# fit LogReg\n",
    "log_reg = LogisticRegression(random_state=88)\n",
    "util_ml.get_cross_validated_confusion_matrix(log_reg, X_train_one_hot_more_scaled, y_train)"
   ]
  },
  {
   "cell_type": "markdown",
   "metadata": {},
   "source": [
    "## 5.5 Frequencies normalized"
   ]
  },
  {
   "cell_type": "code",
   "execution_count": 42,
   "metadata": {},
   "outputs": [
    {
     "name": "stdout",
     "output_type": "stream",
     "text": [
      "[[12197  3887  6041]\n",
      " [ 2935  3857 15333]\n",
      " [ 2263  3171 16691]]\n",
      "Macro: 0.46844735389672226 || Micro: 0.4933333333333334\n",
      "[[12415  3724  5986]\n",
      " [ 3024  3782 15319]\n",
      " [ 2179  3183 16763]]\n",
      "Macro: 0.4707501800159725 || Micro: 0.49657250470809794\n",
      "[[12247  3873  6005]\n",
      " [ 2909  3963 15253]\n",
      " [ 2240  3242 16643]]\n",
      "Macro: 0.47100383602936685 || Micro: 0.49496045197740113\n",
      "[[12296  3810  6019]\n",
      " [ 2886  3775 15464]\n",
      " [ 2192  3213 16720]]\n",
      "Macro: 0.468741382994613 || Micro: 0.4940263653483992\n",
      "[[12309  3912  5904]\n",
      " [ 2903  3886 15336]\n",
      " [ 2271  3190 16664]]\n",
      "Macro: 0.47048362208498135 || Micro: 0.4950508474576271\n",
      "---------------------------\n",
      "Overall Macro: 0.46988527500433125 (+/- 0.0010708281576815313) || Overall Micro: 0.49478870056497176 (+/- 0.001093565317974913)\n"
     ]
    }
   ],
   "source": [
    "# fit LogReg\n",
    "log_reg = LogisticRegression(random_state=88)\n",
    "util_ml.get_cross_validated_confusion_matrix(log_reg, X_train_one_hot_frequency_scaled, y_train)"
   ]
  },
  {
   "cell_type": "markdown",
   "metadata": {},
   "source": [
    "# 6. XGBoost"
   ]
  },
  {
   "cell_type": "markdown",
   "metadata": {},
   "source": [
    "## 6.1 Only one hot encoded columns"
   ]
  },
  {
   "cell_type": "code",
   "execution_count": 20,
   "metadata": {},
   "outputs": [
    {
     "name": "stdout",
     "output_type": "stream",
     "text": [
      "[[14896  4674  2555]\n",
      " [ 2284 15267  4574]\n",
      " [ 1628  9986 10511]]\n",
      "Macro: 0.6143616905352153 || Micro: 0.6127909604519775\n",
      "[[15080  4436  2609]\n",
      " [ 2382 15129  4614]\n",
      " [ 1616 10154 10355]]\n",
      "Macro: 0.6124147027130493 || Micro: 0.6111337099811676\n",
      "[[14994  4521  2610]\n",
      " [ 2456 14949  4720]\n",
      " [ 1670 10134 10321]]\n",
      "Macro: 0.6079999242708163 || Micro: 0.6066139359698681\n",
      "[[15006  4488  2631]\n",
      " [ 2198 15287  4640]\n",
      " [ 1599 10200 10326]]\n",
      "Macro: 0.6133447121125338 || Micro: 0.6119623352165725\n",
      "[[15139  4508  2478]\n",
      " [ 2489 15026  4610]\n",
      " [ 1708 10128 10289]]\n",
      "Macro: 0.6105041232195602 || Micro: 0.6094764595103578\n",
      "---------------------------\n",
      "Overall Macro: 0.611725030570235 (+/- 0.002254685052723252) || Overall Micro: 0.6103954802259887 (+/- 0.00218554429297643)\n"
     ]
    }
   ],
   "source": [
    "# fit xgboost\n",
    "xg = xgb.XGBClassifier(random_state=88)\n",
    "util_ml.get_cross_validated_confusion_matrix(xg, X_train_one_hot, y_train)"
   ]
  },
  {
   "cell_type": "markdown",
   "metadata": {},
   "source": [
    "## 6.2 Only one hot encoded columns with frequencies"
   ]
  },
  {
   "cell_type": "code",
   "execution_count": 22,
   "metadata": {},
   "outputs": [
    {
     "name": "stdout",
     "output_type": "stream",
     "text": [
      "[[15801  4028  2296]\n",
      " [ 2224 15223  4678]\n",
      " [ 1562  9908 10655]]\n",
      "Macro: 0.6291149443018684 || Micro: 0.6279322033898305\n",
      "[[15978  3734  2413]\n",
      " [ 2352 15095  4678]\n",
      " [ 1567 10124 10434]]\n",
      "Macro: 0.6259402641993891 || Micro: 0.6253408662900188\n",
      "[[15760  3927  2438]\n",
      " [ 2419 14945  4761]\n",
      " [ 1648 10093 10384]]\n",
      "Macro: 0.6197996292589966 || Micro: 0.6190433145009416\n",
      "[[15867  3846  2412]\n",
      " [ 2253 15201  4671]\n",
      " [ 1541 10163 10421]]\n",
      "Macro: 0.6258654894003866 || Micro: 0.6250696798493409\n",
      "[[16063  3753  2309]\n",
      " [ 2469 14959  4697]\n",
      " [ 1597 10030 10498]]\n",
      "Macro: 0.6260940083177626 || Micro: 0.6255367231638418\n",
      "---------------------------\n",
      "Overall Macro: 0.6253628670956807 (+/- 0.003038034979123631) || Overall Micro: 0.6245845574387948 (+/- 0.0029538474269806578)\n"
     ]
    }
   ],
   "source": [
    "# fit xgboost\n",
    "xg = xgb.XGBClassifier(random_state=88)\n",
    "util_ml.get_cross_validated_confusion_matrix(xg, X_train_one_hot_more, y_train)"
   ]
  },
  {
   "cell_type": "markdown",
   "metadata": {},
   "source": [
    "## 6.3 Only with frequencies"
   ]
  },
  {
   "cell_type": "code",
   "execution_count": 23,
   "metadata": {},
   "outputs": [
    {
     "name": "stdout",
     "output_type": "stream",
     "text": [
      "[[14012  3456  4657]\n",
      " [ 3269  7183 11673]\n",
      " [ 2375  5263 14487]]\n",
      "Macro: 0.5319326203976592 || Micro: 0.5375819209039548\n",
      "[[14258  3397  4470]\n",
      " [ 3539  6860 11726]\n",
      " [ 2426  5289 14410]]\n",
      "Macro: 0.5280421546945703 || Micro: 0.5352617702448211\n",
      "[[14147  3416  4562]\n",
      " [ 3435  7063 11627]\n",
      " [ 2514  5257 14354]]\n",
      "Macro: 0.5294389560607274 || Micro: 0.5358041431261771\n",
      "[[14084  3375  4666]\n",
      " [ 3234  7048 11843]\n",
      " [ 2425  5220 14480]]\n",
      "Macro: 0.5304164806847768 || Micro: 0.5365273069679849\n",
      "[[14203  3227  4695]\n",
      " [ 3345  6644 12136]\n",
      " [ 2515  4914 14696]]\n",
      "Macro: 0.5270523332512148 || Micro: 0.535487758945386\n",
      "---------------------------\n",
      "Overall Macro: 0.5293765090177897 (+/- 0.0017205487811413102) || Overall Micro: 0.5361325800376647 (+/- 0.0008412339790338856)\n"
     ]
    }
   ],
   "source": [
    "# fit xgboost\n",
    "xg = xgb.XGBClassifier(random_state=88)\n",
    "util_ml.get_cross_validated_confusion_matrix(xg, X_train_one_hot_frequency, y_train)"
   ]
  },
  {
   "cell_type": "markdown",
   "metadata": {},
   "source": [
    "## 6.4 Scaled one hot encoded pids and frequencies"
   ]
  },
  {
   "cell_type": "code",
   "execution_count": 24,
   "metadata": {},
   "outputs": [
    {
     "name": "stdout",
     "output_type": "stream",
     "text": [
      "[[15801  4028  2296]\n",
      " [ 2224 15223  4678]\n",
      " [ 1562  9908 10655]]\n",
      "Macro: 0.6291149443018684 || Micro: 0.6279322033898305\n",
      "[[15978  3734  2413]\n",
      " [ 2352 15095  4678]\n",
      " [ 1567 10124 10434]]\n",
      "Macro: 0.6259402641993891 || Micro: 0.6253408662900188\n",
      "[[15760  3927  2438]\n",
      " [ 2419 14945  4761]\n",
      " [ 1648 10093 10384]]\n",
      "Macro: 0.6197996292589966 || Micro: 0.6190433145009416\n",
      "[[15867  3846  2412]\n",
      " [ 2253 15201  4671]\n",
      " [ 1541 10163 10421]]\n",
      "Macro: 0.6258654894003866 || Micro: 0.6250696798493409\n",
      "[[16063  3753  2309]\n",
      " [ 2469 14959  4697]\n",
      " [ 1597 10030 10498]]\n",
      "Macro: 0.6260940083177626 || Micro: 0.6255367231638418\n",
      "---------------------------\n",
      "Overall Macro: 0.6253628670956807 (+/- 0.003038034979123631) || Overall Micro: 0.6245845574387948 (+/- 0.0029538474269806578)\n"
     ]
    }
   ],
   "source": [
    "# fit xgboost\n",
    "xg = xgb.XGBClassifier(random_state=88)\n",
    "util_ml.get_cross_validated_confusion_matrix(xg, X_train_one_hot_more_scaled, y_train)"
   ]
  },
  {
   "cell_type": "markdown",
   "metadata": {},
   "source": [
    "## 6.5 Frequencies normalized"
   ]
  },
  {
   "cell_type": "code",
   "execution_count": 25,
   "metadata": {},
   "outputs": [
    {
     "name": "stdout",
     "output_type": "stream",
     "text": [
      "[[14012  3456  4657]\n",
      " [ 3269  7183 11673]\n",
      " [ 2375  5263 14487]]\n",
      "Macro: 0.5319326203976592 || Micro: 0.5375819209039548\n",
      "[[14258  3397  4470]\n",
      " [ 3537  6864 11724]\n",
      " [ 2426  5289 14410]]\n",
      "Macro: 0.5281175573756202 || Micro: 0.5353220338983051\n",
      "[[14147  3416  4562]\n",
      " [ 3436  7064 11625]\n",
      " [ 2516  5257 14352]]\n",
      "Macro: 0.529425890358636 || Micro: 0.535789077212806\n",
      "[[14084  3375  4666]\n",
      " [ 3234  7047 11844]\n",
      " [ 2423  5220 14482]]\n",
      "Macro: 0.5304276728350086 || Micro: 0.536542372881356\n",
      "[[14203  3227  4695]\n",
      " [ 3344  6645 12136]\n",
      " [ 2515  4914 14696]]\n",
      "Macro: 0.5270724636709253 || Micro: 0.5355028248587571\n",
      "---------------------------\n",
      "Overall Macro: 0.5293952409275698 (+/- 0.001704870613815671) || Overall Micro: 0.5361476459510358 (+/- 0.0008293316625799685)\n"
     ]
    }
   ],
   "source": [
    "# fit xgboost\n",
    "xg = xgb.XGBClassifier(random_state=88)\n",
    "util_ml.get_cross_validated_confusion_matrix(xg, X_train_one_hot_frequency_scaled, y_train)"
   ]
  }
 ],
 "metadata": {
  "kernelspec": {
   "display_name": "Python 3",
   "language": "python",
   "name": "python3"
  },
  "language_info": {
   "codemirror_mode": {
    "name": "ipython",
    "version": 3
   },
   "file_extension": ".py",
   "mimetype": "text/x-python",
   "name": "python",
   "nbconvert_exporter": "python",
   "pygments_lexer": "ipython3",
   "version": "3.7.4"
  }
 },
 "nbformat": 4,
 "nbformat_minor": 2
}
