{
 "cells": [
  {
   "cell_type": "code",
   "execution_count": 1,
   "metadata": {},
   "outputs": [],
   "source": [
    "import pandas as pd\n",
    "import matplotlib.pyplot as plt"
   ]
  },
  {
   "cell_type": "markdown",
   "metadata": {},
   "source": [
    "# 1. Subclasses"
   ]
  },
  {
   "cell_type": "code",
   "execution_count": 2,
   "metadata": {},
   "outputs": [
    {
     "data": {
      "text/html": [
       "<div>\n",
       "<style scoped>\n",
       "    .dataframe tbody tr th:only-of-type {\n",
       "        vertical-align: middle;\n",
       "    }\n",
       "\n",
       "    .dataframe tbody tr th {\n",
       "        vertical-align: top;\n",
       "    }\n",
       "\n",
       "    .dataframe thead th {\n",
       "        text-align: right;\n",
       "    }\n",
       "</style>\n",
       "<table border=\"1\" class=\"dataframe\">\n",
       "  <thead>\n",
       "    <tr style=\"text-align: right;\">\n",
       "      <th></th>\n",
       "      <th>subClass</th>\n",
       "      <th>class</th>\n",
       "      <th>frequency</th>\n",
       "      <th>pidspread</th>\n",
       "      <th>pldspread</th>\n",
       "      <th>id</th>\n",
       "      <th>pids</th>\n",
       "    </tr>\n",
       "  </thead>\n",
       "  <tbody>\n",
       "    <tr>\n",
       "      <td>0</td>\n",
       "      <td>10</td>\n",
       "      <td>decade</td>\n",
       "      <td>2</td>\n",
       "      <td>1</td>\n",
       "      <td>2</td>\n",
       "      <td>108191420</td>\n",
       "      <td>['p3a']</td>\n",
       "    </tr>\n",
       "    <tr>\n",
       "      <td>1</td>\n",
       "      <td>abbess</td>\n",
       "      <td>nun</td>\n",
       "      <td>12</td>\n",
       "      <td>7</td>\n",
       "      <td>11</td>\n",
       "      <td>403873869</td>\n",
       "      <td>['p4p8ap3a', 'p3a', 'p8b', 'p4', 'p8b', 'p27a'...</td>\n",
       "    </tr>\n",
       "    <tr>\n",
       "      <td>2</td>\n",
       "      <td>abbot</td>\n",
       "      <td>person</td>\n",
       "      <td>48</td>\n",
       "      <td>7</td>\n",
       "      <td>32</td>\n",
       "      <td>156276663</td>\n",
       "      <td>['p4p1', 'p1', 'p1', 'p1', 'p1', 'p8b', 'p3a',...</td>\n",
       "    </tr>\n",
       "    <tr>\n",
       "      <td>3</td>\n",
       "      <td>actuary</td>\n",
       "      <td>statistician</td>\n",
       "      <td>3</td>\n",
       "      <td>2</td>\n",
       "      <td>3</td>\n",
       "      <td>512259817</td>\n",
       "      <td>['p4p8a']</td>\n",
       "    </tr>\n",
       "    <tr>\n",
       "      <td>4</td>\n",
       "      <td>activist</td>\n",
       "      <td>person</td>\n",
       "      <td>172</td>\n",
       "      <td>16</td>\n",
       "      <td>101</td>\n",
       "      <td>485263422</td>\n",
       "      <td>['p4p23dp2p39p1p23ap23bp8ap3ap43', 'p6p8bp3ap4...</td>\n",
       "    </tr>\n",
       "  </tbody>\n",
       "</table>\n",
       "</div>"
      ],
      "text/plain": [
       "   subClass         class  frequency  pidspread  pldspread         id  \\\n",
       "0        10        decade          2          1          2  108191420   \n",
       "1    abbess           nun         12          7         11  403873869   \n",
       "2     abbot        person         48          7         32  156276663   \n",
       "3   actuary  statistician          3          2          3  512259817   \n",
       "4  activist        person        172         16        101  485263422   \n",
       "\n",
       "                                                pids  \n",
       "0                                            ['p3a']  \n",
       "1  ['p4p8ap3a', 'p3a', 'p8b', 'p4', 'p8b', 'p27a'...  \n",
       "2  ['p4p1', 'p1', 'p1', 'p1', 'p1', 'p8b', 'p3a',...  \n",
       "3                                          ['p4p8a']  \n",
       "4  ['p4p23dp2p39p1p23ap23bp8ap3ap43', 'p6p8bp3ap4...  "
      ]
     },
     "execution_count": 2,
     "metadata": {},
     "output_type": "execute_result"
    }
   ],
   "source": [
    "# read in data\n",
    "subclasses = pd.read_csv('/path/to/9_FINAL/data/matches_pids/subclass_with_pid.csv', sep=\";\")\n",
    "del subclasses['Unnamed: 0']\n",
    "subclasses.head()"
   ]
  },
  {
   "cell_type": "markdown",
   "metadata": {},
   "source": [
    "## 1.0 Number of Tokens"
   ]
  },
  {
   "cell_type": "code",
   "execution_count": 5,
   "metadata": {},
   "outputs": [
    {
     "data": {
      "text/plain": [
       "0"
      ]
     },
     "execution_count": 5,
     "metadata": {},
     "output_type": "execute_result"
    }
   ],
   "source": [
    "# count number of tokens for subclass\n",
    "more_than_one_token_subclass = []\n",
    "\n",
    "for subclass in subclasses['subClass']:\n",
    "    no_tokens = subclass.split(' ')\n",
    "    \n",
    "    if len(no_tokens) > 1:\n",
    "        more_than_one_token_subclass.append(subclass)\n",
    "\n",
    "len(more_than_one_token_subclass)"
   ]
  },
  {
   "cell_type": "code",
   "execution_count": 6,
   "metadata": {},
   "outputs": [
    {
     "data": {
      "text/plain": [
       "0"
      ]
     },
     "execution_count": 6,
     "metadata": {},
     "output_type": "execute_result"
    }
   ],
   "source": [
    "# count number of tokens for class\n",
    "more_than_one_token_class = []\n",
    "\n",
    "for subclass in subclasses['class']:\n",
    "    no_tokens = subclass.split(' ')\n",
    "    \n",
    "    if len(no_tokens) > 1:\n",
    "        more_than_one_token_class.append(subclass)\n",
    "\n",
    "len(more_than_one_token_class)"
   ]
  },
  {
   "cell_type": "markdown",
   "metadata": {},
   "source": [
    "## 1.1 pidspread"
   ]
  },
  {
   "cell_type": "markdown",
   "metadata": {},
   "source": [
    "denotes the number of pids"
   ]
  },
  {
   "cell_type": "code",
   "execution_count": 3,
   "metadata": {},
   "outputs": [
    {
     "data": {
      "text/plain": [
       "count    1692.000000\n",
       "mean       11.618203\n",
       "std        11.494564\n",
       "min         1.000000\n",
       "25%         2.000000\n",
       "50%         7.000000\n",
       "75%        18.000000\n",
       "max        50.000000\n",
       "Name: pidspread, dtype: float64"
      ]
     },
     "execution_count": 3,
     "metadata": {},
     "output_type": "execute_result"
    }
   ],
   "source": [
    "# show how many pids are the \"norm\"\n",
    "subclasses['pidspread'].describe() # mean are 11.62"
   ]
  },
  {
   "cell_type": "code",
   "execution_count": 4,
   "metadata": {},
   "outputs": [
    {
     "data": {
      "text/plain": [
       "1     277\n",
       "2     150\n",
       "3     130\n",
       "4      89\n",
       "6      72\n",
       "5      71\n",
       "7      62\n",
       "8      59\n",
       "9      59\n",
       "11     58\n",
       "10     55\n",
       "12     37\n",
       "15     32\n",
       "13     31\n",
       "14     31\n",
       "19     30\n",
       "20     28\n",
       "16     27\n",
       "21     26\n",
       "17     25\n",
       "32     21\n",
       "23     21\n",
       "30     20\n",
       "24     19\n",
       "18     19\n",
       "25     19\n",
       "26     19\n",
       "33     18\n",
       "22     17\n",
       "31     17\n",
       "29     16\n",
       "28     14\n",
       "27     11\n",
       "39     11\n",
       "38     10\n",
       "34     10\n",
       "40      9\n",
       "36      9\n",
       "37      9\n",
       "35      9\n",
       "42      8\n",
       "41      7\n",
       "43      7\n",
       "46      6\n",
       "44      6\n",
       "45      6\n",
       "50      2\n",
       "47      1\n",
       "48      1\n",
       "49      1\n",
       "Name: pidspread, dtype: int64"
      ]
     },
     "execution_count": 4,
     "metadata": {},
     "output_type": "execute_result"
    }
   ],
   "source": [
    "subclasses['pidspread'].value_counts()"
   ]
  },
  {
   "cell_type": "markdown",
   "metadata": {},
   "source": [
    "## 1.2 pid distribution"
   ]
  },
  {
   "cell_type": "code",
   "execution_count": 5,
   "metadata": {},
   "outputs": [
    {
     "data": {
      "text/html": [
       "<div>\n",
       "<style scoped>\n",
       "    .dataframe tbody tr th:only-of-type {\n",
       "        vertical-align: middle;\n",
       "    }\n",
       "\n",
       "    .dataframe tbody tr th {\n",
       "        vertical-align: top;\n",
       "    }\n",
       "\n",
       "    .dataframe thead th {\n",
       "        text-align: right;\n",
       "    }\n",
       "</style>\n",
       "<table border=\"1\" class=\"dataframe\">\n",
       "  <thead>\n",
       "    <tr style=\"text-align: right;\">\n",
       "      <th></th>\n",
       "      <th>subClass</th>\n",
       "      <th>class</th>\n",
       "      <th>frequency</th>\n",
       "      <th>pidspread</th>\n",
       "      <th>pldspread</th>\n",
       "      <th>id</th>\n",
       "      <th>pids</th>\n",
       "    </tr>\n",
       "  </thead>\n",
       "  <tbody>\n",
       "    <tr>\n",
       "      <td>0</td>\n",
       "      <td>10</td>\n",
       "      <td>decade</td>\n",
       "      <td>2</td>\n",
       "      <td>1</td>\n",
       "      <td>2</td>\n",
       "      <td>108191420</td>\n",
       "      <td>p3a</td>\n",
       "    </tr>\n",
       "    <tr>\n",
       "      <td>1</td>\n",
       "      <td>abbess</td>\n",
       "      <td>nun</td>\n",
       "      <td>12</td>\n",
       "      <td>7</td>\n",
       "      <td>11</td>\n",
       "      <td>403873869</td>\n",
       "      <td>p4p8ap3ap3ap8bp4p8bp27ap2p1</td>\n",
       "    </tr>\n",
       "    <tr>\n",
       "      <td>2</td>\n",
       "      <td>abbot</td>\n",
       "      <td>person</td>\n",
       "      <td>48</td>\n",
       "      <td>7</td>\n",
       "      <td>32</td>\n",
       "      <td>156276663</td>\n",
       "      <td>p4p1p1p1p1p1p8bp3ap5p1p8ap1p1p8ap1p8bp3ap8bp8a...</td>\n",
       "    </tr>\n",
       "    <tr>\n",
       "      <td>3</td>\n",
       "      <td>actuary</td>\n",
       "      <td>statistician</td>\n",
       "      <td>3</td>\n",
       "      <td>2</td>\n",
       "      <td>3</td>\n",
       "      <td>512259817</td>\n",
       "      <td>p4p8a</td>\n",
       "    </tr>\n",
       "    <tr>\n",
       "      <td>4</td>\n",
       "      <td>activist</td>\n",
       "      <td>person</td>\n",
       "      <td>172</td>\n",
       "      <td>16</td>\n",
       "      <td>101</td>\n",
       "      <td>485263422</td>\n",
       "      <td>p4p23dp2p39p1p23ap23bp8ap3ap43p6p8bp3ap43p1p3a...</td>\n",
       "    </tr>\n",
       "    <tr>\n",
       "      <td>...</td>\n",
       "      <td>...</td>\n",
       "      <td>...</td>\n",
       "      <td>...</td>\n",
       "      <td>...</td>\n",
       "      <td>...</td>\n",
       "      <td>...</td>\n",
       "      <td>...</td>\n",
       "    </tr>\n",
       "    <tr>\n",
       "      <td>1687</td>\n",
       "      <td>settler</td>\n",
       "      <td>person</td>\n",
       "      <td>51</td>\n",
       "      <td>11</td>\n",
       "      <td>29</td>\n",
       "      <td>268333824</td>\n",
       "      <td>p4p1p10p8ap3ap26p1p3ap8bp8ap25p1p4p1p2p3ap1p25...</td>\n",
       "    </tr>\n",
       "    <tr>\n",
       "      <td>1688</td>\n",
       "      <td>sexologist</td>\n",
       "      <td>person</td>\n",
       "      <td>3</td>\n",
       "      <td>1</td>\n",
       "      <td>3</td>\n",
       "      <td>256209884</td>\n",
       "      <td>p8ap8a</td>\n",
       "    </tr>\n",
       "    <tr>\n",
       "      <td>1689</td>\n",
       "      <td>senator</td>\n",
       "      <td>politician</td>\n",
       "      <td>318</td>\n",
       "      <td>19</td>\n",
       "      <td>218</td>\n",
       "      <td>244899548</td>\n",
       "      <td>p5p4p23dp2p1p38p20cp10p8ap8bp3ap4p1p8ap3ap1p3a...</td>\n",
       "    </tr>\n",
       "    <tr>\n",
       "      <td>1690</td>\n",
       "      <td>inquisitor</td>\n",
       "      <td>person</td>\n",
       "      <td>8</td>\n",
       "      <td>6</td>\n",
       "      <td>8</td>\n",
       "      <td>255923968</td>\n",
       "      <td>p8ap43p4p1p26p2</td>\n",
       "    </tr>\n",
       "    <tr>\n",
       "      <td>1691</td>\n",
       "      <td>instrument</td>\n",
       "      <td>device</td>\n",
       "      <td>2023</td>\n",
       "      <td>38</td>\n",
       "      <td>602</td>\n",
       "      <td>257295215</td>\n",
       "      <td>p5p4p1p10p8ap8cp8bp26p23dp13p24p27bp3ap26p16p5...</td>\n",
       "    </tr>\n",
       "  </tbody>\n",
       "</table>\n",
       "<p>1692 rows × 7 columns</p>\n",
       "</div>"
      ],
      "text/plain": [
       "        subClass         class  frequency  pidspread  pldspread         id  \\\n",
       "0             10        decade          2          1          2  108191420   \n",
       "1         abbess           nun         12          7         11  403873869   \n",
       "2          abbot        person         48          7         32  156276663   \n",
       "3        actuary  statistician          3          2          3  512259817   \n",
       "4       activist        person        172         16        101  485263422   \n",
       "...          ...           ...        ...        ...        ...        ...   \n",
       "1687     settler        person         51         11         29  268333824   \n",
       "1688  sexologist        person          3          1          3  256209884   \n",
       "1689     senator    politician        318         19        218  244899548   \n",
       "1690  inquisitor        person          8          6          8  255923968   \n",
       "1691  instrument        device       2023         38        602  257295215   \n",
       "\n",
       "                                                   pids  \n",
       "0                                                   p3a  \n",
       "1                           p4p8ap3ap3ap8bp4p8bp27ap2p1  \n",
       "2     p4p1p1p1p1p1p8bp3ap5p1p8ap1p1p8ap1p8bp3ap8bp8a...  \n",
       "3                                                 p4p8a  \n",
       "4     p4p23dp2p39p1p23ap23bp8ap3ap43p6p8bp3ap43p1p3a...  \n",
       "...                                                 ...  \n",
       "1687  p4p1p10p8ap3ap26p1p3ap8bp8ap25p1p4p1p2p3ap1p25...  \n",
       "1688                                             p8ap8a  \n",
       "1689  p5p4p23dp2p1p38p20cp10p8ap8bp3ap4p1p8ap3ap1p3a...  \n",
       "1690                                    p8ap43p4p1p26p2  \n",
       "1691  p5p4p1p10p8ap8cp8bp26p23dp13p24p27bp3ap26p16p5...  \n",
       "\n",
       "[1692 rows x 7 columns]"
      ]
     },
     "execution_count": 5,
     "metadata": {},
     "output_type": "execute_result"
    }
   ],
   "source": [
    "# replace unnecessary signs\n",
    "subclasses['pids'] = subclasses['pids'].replace('\\]|,\\s|\\'|\\[', '', regex=True)\n",
    "subclasses"
   ]
  },
  {
   "cell_type": "code",
   "execution_count": 6,
   "metadata": {},
   "outputs": [],
   "source": [
    "# get all different pids\n",
    "subclasses['pids_sanitized'] = subclasses['pids'].str.split('p')\n",
    "\n",
    "all_pids = []\n",
    "for index, row in subclasses.iterrows():\n",
    "    for element in row['pids_sanitized']:\n",
    "        if element not in all_pids:\n",
    "            all_pids.append(element)\n",
    "\n",
    "all_pids.remove('') # remove empty element"
   ]
  },
  {
   "cell_type": "code",
   "execution_count": 7,
   "metadata": {},
   "outputs": [
    {
     "data": {
      "text/plain": [
       "57"
      ]
     },
     "execution_count": 7,
     "metadata": {},
     "output_type": "execute_result"
    }
   ],
   "source": [
    "len(all_pids) # in total 57 different pids in subclasses"
   ]
  },
  {
   "cell_type": "code",
   "execution_count": 8,
   "metadata": {},
   "outputs": [
    {
     "name": "stdout",
     "output_type": "stream",
     "text": [
      "pid: 3a || total occurence: 1112\n",
      "pid: 4 || total occurence: 983\n",
      "pid: 8a || total occurence: 1357\n",
      "pid: 8b || total occurence: 862\n",
      "pid: 27a || total occurence: 284\n",
      "pid: 2 || total occurence: 1220\n",
      "pid: 1 || total occurence: 1253\n",
      "pid: 5 || total occurence: 1138\n",
      "pid: 39 || total occurence: 194\n",
      "pid: 23d || total occurence: 568\n",
      "pid: 23a || total occurence: 391\n",
      "pid: 23b || total occurence: 463\n",
      "pid: 43 || total occurence: 495\n",
      "pid: 6 || total occurence: 744\n",
      "pid: 12a || total occurence: 420\n",
      "pid: 21a || total occurence: 418\n",
      "pid: 25 || total occurence: 586\n",
      "pid: 36 || total occurence: 203\n",
      "pid: 26 || total occurence: 604\n",
      "pid: 23c || total occurence: 275\n",
      "pid: 28d || total occurence: 173\n",
      "pid: 27b || total occurence: 257\n",
      "pid: 28b || total occurence: 378\n",
      "pid: 15a || total occurence: 329\n",
      "pid: 21d || total occurence: 355\n",
      "pid: 11 || total occurence: 198\n",
      "pid: 20c || total occurence: 402\n",
      "pid: 20d || total occurence: 351\n",
      "pid: 8c || total occurence: 499\n",
      "pid: 10 || total occurence: 565\n",
      "pid: 34 || total occurence: 376\n",
      "pid: 12c || total occurence: 54\n",
      "pid: 20a || total occurence: 498\n",
      "pid: 20b || total occurence: 306\n",
      "pid: 21b || total occurence: 294\n",
      "pid: 8d || total occurence: 323\n",
      "pid: 21c || total occurence: 295\n",
      "pid: 16 || total occurence: 282\n",
      "pid: 24 || total occurence: 316\n",
      "pid: 7 || total occurence: 471\n",
      "pid: 15b || total occurence: 90\n",
      "pid: 14 || total occurence: 110\n",
      "pid: 28a || total occurence: 234\n",
      "pid: 38 || total occurence: 92\n",
      "pid: 13 || total occurence: 66\n",
      "pid: 23e || total occurence: 95\n",
      "pid: 22a || total occurence: 37\n",
      "pid: 29a || total occurence: 55\n",
      "pid: 28c || total occurence: 95\n",
      "pid: 37 || total occurence: 47\n",
      "pid: 30a || total occurence: 4\n",
      "pid: 12b || total occurence: 10\n",
      "pid: 42 || total occurence: 19\n",
      "pid: 30b || total occurence: 14\n",
      "pid: 22b || total occurence: 10\n",
      "pid: 31a || total occurence: 1\n",
      "pid: 29c || total occurence: 9\n"
     ]
    }
   ],
   "source": [
    "# append number of occurrences as new column to subclasses dataframe\n",
    "def pid_exists(row, pid):\n",
    "    if pid in row['pids']:\n",
    "        return 1\n",
    "    else:\n",
    "        return 0\n",
    "\n",
    "occurences = [] # no of occurences of pids\n",
    "\n",
    "for pid in all_pids:\n",
    "    \n",
    "    subclasses[pid] = subclasses.apply(lambda x: pid_exists(x, pid), axis=1) # create new column with one hot encoded occurence\n",
    "    print('pid: {} || total occurence: {}'.format(pid, subclasses[pid].sum())) # for debugging\n",
    "    occurences.append(subclasses[pid].sum())"
   ]
  },
  {
   "cell_type": "code",
   "execution_count": 9,
   "metadata": {},
   "outputs": [
    {
     "data": {
      "text/html": [
       "<div>\n",
       "<style scoped>\n",
       "    .dataframe tbody tr th:only-of-type {\n",
       "        vertical-align: middle;\n",
       "    }\n",
       "\n",
       "    .dataframe tbody tr th {\n",
       "        vertical-align: top;\n",
       "    }\n",
       "\n",
       "    .dataframe thead th {\n",
       "        text-align: right;\n",
       "    }\n",
       "</style>\n",
       "<table border=\"1\" class=\"dataframe\">\n",
       "  <thead>\n",
       "    <tr style=\"text-align: right;\">\n",
       "      <th></th>\n",
       "      <th>subClass</th>\n",
       "      <th>class</th>\n",
       "      <th>frequency</th>\n",
       "      <th>pidspread</th>\n",
       "      <th>pldspread</th>\n",
       "      <th>id</th>\n",
       "      <th>pids</th>\n",
       "      <th>pids_sanitized</th>\n",
       "      <th>3a</th>\n",
       "      <th>4</th>\n",
       "      <th>...</th>\n",
       "      <th>29a</th>\n",
       "      <th>28c</th>\n",
       "      <th>37</th>\n",
       "      <th>30a</th>\n",
       "      <th>12b</th>\n",
       "      <th>42</th>\n",
       "      <th>30b</th>\n",
       "      <th>22b</th>\n",
       "      <th>31a</th>\n",
       "      <th>29c</th>\n",
       "    </tr>\n",
       "  </thead>\n",
       "  <tbody>\n",
       "    <tr>\n",
       "      <td>0</td>\n",
       "      <td>10</td>\n",
       "      <td>decade</td>\n",
       "      <td>2</td>\n",
       "      <td>1</td>\n",
       "      <td>2</td>\n",
       "      <td>108191420</td>\n",
       "      <td>p3a</td>\n",
       "      <td>[, 3a]</td>\n",
       "      <td>1</td>\n",
       "      <td>0</td>\n",
       "      <td>...</td>\n",
       "      <td>0</td>\n",
       "      <td>0</td>\n",
       "      <td>0</td>\n",
       "      <td>0</td>\n",
       "      <td>0</td>\n",
       "      <td>0</td>\n",
       "      <td>0</td>\n",
       "      <td>0</td>\n",
       "      <td>0</td>\n",
       "      <td>0</td>\n",
       "    </tr>\n",
       "    <tr>\n",
       "      <td>1</td>\n",
       "      <td>abbess</td>\n",
       "      <td>nun</td>\n",
       "      <td>12</td>\n",
       "      <td>7</td>\n",
       "      <td>11</td>\n",
       "      <td>403873869</td>\n",
       "      <td>p4p8ap3ap3ap8bp4p8bp27ap2p1</td>\n",
       "      <td>[, 4, 8a, 3a, 3a, 8b, 4, 8b, 27a, 2, 1]</td>\n",
       "      <td>1</td>\n",
       "      <td>1</td>\n",
       "      <td>...</td>\n",
       "      <td>0</td>\n",
       "      <td>0</td>\n",
       "      <td>0</td>\n",
       "      <td>0</td>\n",
       "      <td>0</td>\n",
       "      <td>0</td>\n",
       "      <td>0</td>\n",
       "      <td>0</td>\n",
       "      <td>0</td>\n",
       "      <td>0</td>\n",
       "    </tr>\n",
       "    <tr>\n",
       "      <td>2</td>\n",
       "      <td>abbot</td>\n",
       "      <td>person</td>\n",
       "      <td>48</td>\n",
       "      <td>7</td>\n",
       "      <td>32</td>\n",
       "      <td>156276663</td>\n",
       "      <td>p4p1p1p1p1p1p8bp3ap5p1p8ap1p1p8ap1p8bp3ap8bp8a...</td>\n",
       "      <td>[, 4, 1, 1, 1, 1, 1, 8b, 3a, 5, 1, 8a, 1, 1, 8...</td>\n",
       "      <td>1</td>\n",
       "      <td>1</td>\n",
       "      <td>...</td>\n",
       "      <td>0</td>\n",
       "      <td>0</td>\n",
       "      <td>0</td>\n",
       "      <td>0</td>\n",
       "      <td>0</td>\n",
       "      <td>0</td>\n",
       "      <td>0</td>\n",
       "      <td>0</td>\n",
       "      <td>0</td>\n",
       "      <td>0</td>\n",
       "    </tr>\n",
       "    <tr>\n",
       "      <td>3</td>\n",
       "      <td>actuary</td>\n",
       "      <td>statistician</td>\n",
       "      <td>3</td>\n",
       "      <td>2</td>\n",
       "      <td>3</td>\n",
       "      <td>512259817</td>\n",
       "      <td>p4p8a</td>\n",
       "      <td>[, 4, 8a]</td>\n",
       "      <td>0</td>\n",
       "      <td>1</td>\n",
       "      <td>...</td>\n",
       "      <td>0</td>\n",
       "      <td>0</td>\n",
       "      <td>0</td>\n",
       "      <td>0</td>\n",
       "      <td>0</td>\n",
       "      <td>0</td>\n",
       "      <td>0</td>\n",
       "      <td>0</td>\n",
       "      <td>0</td>\n",
       "      <td>0</td>\n",
       "    </tr>\n",
       "    <tr>\n",
       "      <td>4</td>\n",
       "      <td>activist</td>\n",
       "      <td>person</td>\n",
       "      <td>172</td>\n",
       "      <td>16</td>\n",
       "      <td>101</td>\n",
       "      <td>485263422</td>\n",
       "      <td>p4p23dp2p39p1p23ap23bp8ap3ap43p6p8bp3ap43p1p3a...</td>\n",
       "      <td>[, 4, 23d, 2, 39, 1, 23a, 23b, 8a, 3a, 43, 6, ...</td>\n",
       "      <td>1</td>\n",
       "      <td>1</td>\n",
       "      <td>...</td>\n",
       "      <td>0</td>\n",
       "      <td>0</td>\n",
       "      <td>0</td>\n",
       "      <td>0</td>\n",
       "      <td>0</td>\n",
       "      <td>0</td>\n",
       "      <td>0</td>\n",
       "      <td>0</td>\n",
       "      <td>0</td>\n",
       "      <td>0</td>\n",
       "    </tr>\n",
       "    <tr>\n",
       "      <td>...</td>\n",
       "      <td>...</td>\n",
       "      <td>...</td>\n",
       "      <td>...</td>\n",
       "      <td>...</td>\n",
       "      <td>...</td>\n",
       "      <td>...</td>\n",
       "      <td>...</td>\n",
       "      <td>...</td>\n",
       "      <td>...</td>\n",
       "      <td>...</td>\n",
       "      <td>...</td>\n",
       "      <td>...</td>\n",
       "      <td>...</td>\n",
       "      <td>...</td>\n",
       "      <td>...</td>\n",
       "      <td>...</td>\n",
       "      <td>...</td>\n",
       "      <td>...</td>\n",
       "      <td>...</td>\n",
       "      <td>...</td>\n",
       "      <td>...</td>\n",
       "    </tr>\n",
       "    <tr>\n",
       "      <td>1687</td>\n",
       "      <td>settler</td>\n",
       "      <td>person</td>\n",
       "      <td>51</td>\n",
       "      <td>11</td>\n",
       "      <td>29</td>\n",
       "      <td>268333824</td>\n",
       "      <td>p4p1p10p8ap3ap26p1p3ap8bp8ap25p1p4p1p2p3ap1p25...</td>\n",
       "      <td>[, 4, 1, 10, 8a, 3a, 26, 1, 3a, 8b, 8a, 25, 1,...</td>\n",
       "      <td>1</td>\n",
       "      <td>1</td>\n",
       "      <td>...</td>\n",
       "      <td>0</td>\n",
       "      <td>0</td>\n",
       "      <td>0</td>\n",
       "      <td>0</td>\n",
       "      <td>0</td>\n",
       "      <td>0</td>\n",
       "      <td>0</td>\n",
       "      <td>0</td>\n",
       "      <td>0</td>\n",
       "      <td>0</td>\n",
       "    </tr>\n",
       "    <tr>\n",
       "      <td>1688</td>\n",
       "      <td>sexologist</td>\n",
       "      <td>person</td>\n",
       "      <td>3</td>\n",
       "      <td>1</td>\n",
       "      <td>3</td>\n",
       "      <td>256209884</td>\n",
       "      <td>p8ap8a</td>\n",
       "      <td>[, 8a, 8a]</td>\n",
       "      <td>0</td>\n",
       "      <td>0</td>\n",
       "      <td>...</td>\n",
       "      <td>0</td>\n",
       "      <td>0</td>\n",
       "      <td>0</td>\n",
       "      <td>0</td>\n",
       "      <td>0</td>\n",
       "      <td>0</td>\n",
       "      <td>0</td>\n",
       "      <td>0</td>\n",
       "      <td>0</td>\n",
       "      <td>0</td>\n",
       "    </tr>\n",
       "    <tr>\n",
       "      <td>1689</td>\n",
       "      <td>senator</td>\n",
       "      <td>politician</td>\n",
       "      <td>318</td>\n",
       "      <td>19</td>\n",
       "      <td>218</td>\n",
       "      <td>244899548</td>\n",
       "      <td>p5p4p23dp2p1p38p20cp10p8ap8bp3ap4p1p8ap3ap1p3a...</td>\n",
       "      <td>[, 5, 4, 23d, 2, 1, 38, 20c, 10, 8a, 8b, 3a, 4...</td>\n",
       "      <td>1</td>\n",
       "      <td>1</td>\n",
       "      <td>...</td>\n",
       "      <td>0</td>\n",
       "      <td>0</td>\n",
       "      <td>0</td>\n",
       "      <td>0</td>\n",
       "      <td>0</td>\n",
       "      <td>0</td>\n",
       "      <td>0</td>\n",
       "      <td>0</td>\n",
       "      <td>0</td>\n",
       "      <td>0</td>\n",
       "    </tr>\n",
       "    <tr>\n",
       "      <td>1690</td>\n",
       "      <td>inquisitor</td>\n",
       "      <td>person</td>\n",
       "      <td>8</td>\n",
       "      <td>6</td>\n",
       "      <td>8</td>\n",
       "      <td>255923968</td>\n",
       "      <td>p8ap43p4p1p26p2</td>\n",
       "      <td>[, 8a, 43, 4, 1, 26, 2]</td>\n",
       "      <td>0</td>\n",
       "      <td>1</td>\n",
       "      <td>...</td>\n",
       "      <td>0</td>\n",
       "      <td>0</td>\n",
       "      <td>0</td>\n",
       "      <td>0</td>\n",
       "      <td>0</td>\n",
       "      <td>0</td>\n",
       "      <td>0</td>\n",
       "      <td>0</td>\n",
       "      <td>0</td>\n",
       "      <td>0</td>\n",
       "    </tr>\n",
       "    <tr>\n",
       "      <td>1691</td>\n",
       "      <td>instrument</td>\n",
       "      <td>device</td>\n",
       "      <td>2023</td>\n",
       "      <td>38</td>\n",
       "      <td>602</td>\n",
       "      <td>257295215</td>\n",
       "      <td>p5p4p1p10p8ap8cp8bp26p23dp13p24p27bp3ap26p16p5...</td>\n",
       "      <td>[, 5, 4, 1, 10, 8a, 8c, 8b, 26, 23d, 13, 24, 2...</td>\n",
       "      <td>1</td>\n",
       "      <td>1</td>\n",
       "      <td>...</td>\n",
       "      <td>0</td>\n",
       "      <td>0</td>\n",
       "      <td>1</td>\n",
       "      <td>0</td>\n",
       "      <td>0</td>\n",
       "      <td>0</td>\n",
       "      <td>0</td>\n",
       "      <td>0</td>\n",
       "      <td>0</td>\n",
       "      <td>0</td>\n",
       "    </tr>\n",
       "  </tbody>\n",
       "</table>\n",
       "<p>1692 rows × 65 columns</p>\n",
       "</div>"
      ],
      "text/plain": [
       "        subClass         class  frequency  pidspread  pldspread         id  \\\n",
       "0             10        decade          2          1          2  108191420   \n",
       "1         abbess           nun         12          7         11  403873869   \n",
       "2          abbot        person         48          7         32  156276663   \n",
       "3        actuary  statistician          3          2          3  512259817   \n",
       "4       activist        person        172         16        101  485263422   \n",
       "...          ...           ...        ...        ...        ...        ...   \n",
       "1687     settler        person         51         11         29  268333824   \n",
       "1688  sexologist        person          3          1          3  256209884   \n",
       "1689     senator    politician        318         19        218  244899548   \n",
       "1690  inquisitor        person          8          6          8  255923968   \n",
       "1691  instrument        device       2023         38        602  257295215   \n",
       "\n",
       "                                                   pids  \\\n",
       "0                                                   p3a   \n",
       "1                           p4p8ap3ap3ap8bp4p8bp27ap2p1   \n",
       "2     p4p1p1p1p1p1p8bp3ap5p1p8ap1p1p8ap1p8bp3ap8bp8a...   \n",
       "3                                                 p4p8a   \n",
       "4     p4p23dp2p39p1p23ap23bp8ap3ap43p6p8bp3ap43p1p3a...   \n",
       "...                                                 ...   \n",
       "1687  p4p1p10p8ap3ap26p1p3ap8bp8ap25p1p4p1p2p3ap1p25...   \n",
       "1688                                             p8ap8a   \n",
       "1689  p5p4p23dp2p1p38p20cp10p8ap8bp3ap4p1p8ap3ap1p3a...   \n",
       "1690                                    p8ap43p4p1p26p2   \n",
       "1691  p5p4p1p10p8ap8cp8bp26p23dp13p24p27bp3ap26p16p5...   \n",
       "\n",
       "                                         pids_sanitized  3a  4  ...  29a  28c  \\\n",
       "0                                                [, 3a]   1  0  ...    0    0   \n",
       "1               [, 4, 8a, 3a, 3a, 8b, 4, 8b, 27a, 2, 1]   1  1  ...    0    0   \n",
       "2     [, 4, 1, 1, 1, 1, 1, 8b, 3a, 5, 1, 8a, 1, 1, 8...   1  1  ...    0    0   \n",
       "3                                             [, 4, 8a]   0  1  ...    0    0   \n",
       "4     [, 4, 23d, 2, 39, 1, 23a, 23b, 8a, 3a, 43, 6, ...   1  1  ...    0    0   \n",
       "...                                                 ...  .. ..  ...  ...  ...   \n",
       "1687  [, 4, 1, 10, 8a, 3a, 26, 1, 3a, 8b, 8a, 25, 1,...   1  1  ...    0    0   \n",
       "1688                                         [, 8a, 8a]   0  0  ...    0    0   \n",
       "1689  [, 5, 4, 23d, 2, 1, 38, 20c, 10, 8a, 8b, 3a, 4...   1  1  ...    0    0   \n",
       "1690                            [, 8a, 43, 4, 1, 26, 2]   0  1  ...    0    0   \n",
       "1691  [, 5, 4, 1, 10, 8a, 8c, 8b, 26, 23d, 13, 24, 2...   1  1  ...    0    0   \n",
       "\n",
       "      37  30a  12b  42  30b  22b  31a  29c  \n",
       "0      0    0    0   0    0    0    0    0  \n",
       "1      0    0    0   0    0    0    0    0  \n",
       "2      0    0    0   0    0    0    0    0  \n",
       "3      0    0    0   0    0    0    0    0  \n",
       "4      0    0    0   0    0    0    0    0  \n",
       "...   ..  ...  ...  ..  ...  ...  ...  ...  \n",
       "1687   0    0    0   0    0    0    0    0  \n",
       "1688   0    0    0   0    0    0    0    0  \n",
       "1689   0    0    0   0    0    0    0    0  \n",
       "1690   0    0    0   0    0    0    0    0  \n",
       "1691   1    0    0   0    0    0    0    0  \n",
       "\n",
       "[1692 rows x 65 columns]"
      ]
     },
     "execution_count": 9,
     "metadata": {},
     "output_type": "execute_result"
    }
   ],
   "source": [
    "subclasses"
   ]
  },
  {
   "cell_type": "code",
   "execution_count": 10,
   "metadata": {},
   "outputs": [],
   "source": [
    "# analyse occurence\n",
    "pids_analysis = pd.DataFrame({'pid': all_pids,\n",
    "                             'occurences': occurences})\n",
    "pids_analysis = pids_analysis.sort_values(by='occurences', ascending=False)"
   ]
  },
  {
   "cell_type": "code",
   "execution_count": 11,
   "metadata": {},
   "outputs": [
    {
     "data": {
      "text/plain": [
       "<matplotlib.axes._subplots.AxesSubplot at 0x7f902b3c3510>"
      ]
     },
     "execution_count": 11,
     "metadata": {},
     "output_type": "execute_result"
    },
    {
     "data": {
      "image/png": "[encoded data removed]",
      "text/plain": [
       "<Figure size 1008x792 with 1 Axes>"
      ]
     },
     "metadata": {
      "needs_background": "light"
     },
     "output_type": "display_data"
    }
   ],
   "source": [
    "# plot results\n",
    "pids_analysis.plot(x='pid', y='occurences', kind='bar', figsize=(14,11)) \n",
    "#p8a, p1, p2, p5 and p3a most common patterns"
   ]
  },
  {
   "cell_type": "markdown",
   "metadata": {},
   "source": [
    "# 2. types"
   ]
  },
  {
   "cell_type": "code",
   "execution_count": 7,
   "metadata": {},
   "outputs": [
    {
     "data": {
      "text/html": [
       "<div>\n",
       "<style scoped>\n",
       "    .dataframe tbody tr th:only-of-type {\n",
       "        vertical-align: middle;\n",
       "    }\n",
       "\n",
       "    .dataframe tbody tr th {\n",
       "        vertical-align: top;\n",
       "    }\n",
       "\n",
       "    .dataframe thead th {\n",
       "        text-align: right;\n",
       "    }\n",
       "</style>\n",
       "<table border=\"1\" class=\"dataframe\">\n",
       "  <thead>\n",
       "    <tr style=\"text-align: right;\">\n",
       "      <th></th>\n",
       "      <th>instance</th>\n",
       "      <th>class</th>\n",
       "      <th>frequency</th>\n",
       "      <th>pidspread</th>\n",
       "      <th>pldspread</th>\n",
       "      <th>id</th>\n",
       "      <th>pids</th>\n",
       "    </tr>\n",
       "  </thead>\n",
       "  <tbody>\n",
       "    <tr>\n",
       "      <td>0</td>\n",
       "      <td>1988</td>\n",
       "      <td>album</td>\n",
       "      <td>4</td>\n",
       "      <td>2</td>\n",
       "      <td>4</td>\n",
       "      <td>89520215</td>\n",
       "      <td>['p3a', 'p5', 'p5', 'p3a']</td>\n",
       "    </tr>\n",
       "    <tr>\n",
       "      <td>1</td>\n",
       "      <td>196</td>\n",
       "      <td>year</td>\n",
       "      <td>1</td>\n",
       "      <td>1</td>\n",
       "      <td>1</td>\n",
       "      <td>250210719</td>\n",
       "      <td>['p8b']</td>\n",
       "    </tr>\n",
       "    <tr>\n",
       "      <td>2</td>\n",
       "      <td>53</td>\n",
       "      <td>year</td>\n",
       "      <td>2</td>\n",
       "      <td>1</td>\n",
       "      <td>1</td>\n",
       "      <td>333976287</td>\n",
       "      <td>['p8b']</td>\n",
       "    </tr>\n",
       "    <tr>\n",
       "      <td>3</td>\n",
       "      <td>2007</td>\n",
       "      <td>year</td>\n",
       "      <td>104</td>\n",
       "      <td>6</td>\n",
       "      <td>57</td>\n",
       "      <td>179643001</td>\n",
       "      <td>['p25p8ap8b', 'p8b', 'p8b', 'p25', 'p8b', 'p8b...</td>\n",
       "    </tr>\n",
       "    <tr>\n",
       "      <td>4</td>\n",
       "      <td>2</td>\n",
       "      <td>aircraft</td>\n",
       "      <td>21</td>\n",
       "      <td>4</td>\n",
       "      <td>16</td>\n",
       "      <td>472381603</td>\n",
       "      <td>['p8b', 'p8b', 'p8b', 'p3a', 'p8b', 'p5', 'p8b...</td>\n",
       "    </tr>\n",
       "  </tbody>\n",
       "</table>\n",
       "</div>"
      ],
      "text/plain": [
       "  instance     class  frequency  pidspread  pldspread         id  \\\n",
       "0     1988     album          4          2          4   89520215   \n",
       "1      196      year          1          1          1  250210719   \n",
       "2       53      year          2          1          1  333976287   \n",
       "3     2007      year        104          6         57  179643001   \n",
       "4        2  aircraft         21          4         16  472381603   \n",
       "\n",
       "                                                pids  \n",
       "0                         ['p3a', 'p5', 'p5', 'p3a']  \n",
       "1                                            ['p8b']  \n",
       "2                                            ['p8b']  \n",
       "3  ['p25p8ap8b', 'p8b', 'p8b', 'p25', 'p8b', 'p8b...  \n",
       "4  ['p8b', 'p8b', 'p8b', 'p3a', 'p8b', 'p5', 'p8b...  "
      ]
     },
     "execution_count": 7,
     "metadata": {},
     "output_type": "execute_result"
    }
   ],
   "source": [
    "# read in data\n",
    "types = pd.read_csv('path/to/9_FINAL/data/matches_pids/types_with_pid.csv', sep=\";\")\n",
    "del types['Unnamed: 0']\n",
    "types.head()"
   ]
  },
  {
   "cell_type": "markdown",
   "metadata": {},
   "source": [
    "## 2.0 No Tokens"
   ]
  },
  {
   "cell_type": "code",
   "execution_count": 9,
   "metadata": {},
   "outputs": [
    {
     "data": {
      "text/plain": [
       "0"
      ]
     },
     "execution_count": 9,
     "metadata": {},
     "output_type": "execute_result"
    }
   ],
   "source": [
    "# count number of tokens for instance\n",
    "more_than_one_token_types = []\n",
    "\n",
    "for subclass in types['instance']:\n",
    "    no_tokens = str(subclass).split(' ')\n",
    "    \n",
    "    if len(no_tokens) > 1:\n",
    "        more_than_one_token_types.append(subclass)\n",
    "\n",
    "len(more_than_one_token_types)"
   ]
  },
  {
   "cell_type": "code",
   "execution_count": 10,
   "metadata": {},
   "outputs": [
    {
     "data": {
      "text/plain": [
       "0"
      ]
     },
     "execution_count": 10,
     "metadata": {},
     "output_type": "execute_result"
    }
   ],
   "source": [
    "# count number of tokens for subclass\n",
    "more_than_one_token_class = []\n",
    "\n",
    "for subclass in types['class']:\n",
    "    no_tokens = str(subclass).split(' ')\n",
    "    \n",
    "    if len(no_tokens) > 1:\n",
    "        more_than_one_token_class.append(subclass)\n",
    "\n",
    "len(more_than_one_token_class)"
   ]
  },
  {
   "cell_type": "markdown",
   "metadata": {},
   "source": [
    "## 2.1 pidspread"
   ]
  },
  {
   "cell_type": "code",
   "execution_count": 13,
   "metadata": {},
   "outputs": [
    {
     "data": {
      "text/plain": [
       "count    20745.000000\n",
       "mean         4.730586\n",
       "std          8.027675\n",
       "min          1.000000\n",
       "25%          1.000000\n",
       "50%          2.000000\n",
       "75%          4.000000\n",
       "max         57.000000\n",
       "Name: pidspread, dtype: float64"
      ]
     },
     "execution_count": 13,
     "metadata": {},
     "output_type": "execute_result"
    }
   ],
   "source": [
    "# show how many pids are the \"norm\"\n",
    "types['pidspread'].describe() # mean are 4.73"
   ]
  },
  {
   "cell_type": "code",
   "execution_count": 14,
   "metadata": {},
   "outputs": [
    {
     "data": {
      "text/plain": [
       "1     9931\n",
       "2     3289\n",
       "3     1676\n",
       "4     1030\n",
       "5      703\n",
       "6      544\n",
       "7      399\n",
       "8      352\n",
       "9      268\n",
       "10     233\n",
       "11     183\n",
       "13     150\n",
       "12     148\n",
       "14     140\n",
       "16     111\n",
       "15      99\n",
       "17      96\n",
       "20      81\n",
       "22      74\n",
       "19      73\n",
       "18      71\n",
       "21      70\n",
       "24      64\n",
       "25      62\n",
       "23      59\n",
       "29      54\n",
       "26      50\n",
       "28      49\n",
       "30      44\n",
       "34      43\n",
       "35      40\n",
       "31      39\n",
       "27      35\n",
       "36      35\n",
       "32      34\n",
       "38      34\n",
       "40      33\n",
       "33      31\n",
       "39      30\n",
       "42      26\n",
       "41      26\n",
       "45      26\n",
       "37      24\n",
       "43      23\n",
       "44      21\n",
       "47      21\n",
       "51      20\n",
       "49      20\n",
       "48      19\n",
       "46      14\n",
       "53      13\n",
       "50      11\n",
       "52       8\n",
       "54       7\n",
       "55       6\n",
       "56       2\n",
       "57       1\n",
       "Name: pidspread, dtype: int64"
      ]
     },
     "execution_count": 14,
     "metadata": {},
     "output_type": "execute_result"
    }
   ],
   "source": [
    "types['pidspread'].value_counts()"
   ]
  },
  {
   "cell_type": "markdown",
   "metadata": {},
   "source": [
    "## 2.2 pid distribution"
   ]
  },
  {
   "cell_type": "code",
   "execution_count": 15,
   "metadata": {},
   "outputs": [
    {
     "data": {
      "text/html": [
       "<div>\n",
       "<style scoped>\n",
       "    .dataframe tbody tr th:only-of-type {\n",
       "        vertical-align: middle;\n",
       "    }\n",
       "\n",
       "    .dataframe tbody tr th {\n",
       "        vertical-align: top;\n",
       "    }\n",
       "\n",
       "    .dataframe thead th {\n",
       "        text-align: right;\n",
       "    }\n",
       "</style>\n",
       "<table border=\"1\" class=\"dataframe\">\n",
       "  <thead>\n",
       "    <tr style=\"text-align: right;\">\n",
       "      <th></th>\n",
       "      <th>instance</th>\n",
       "      <th>class</th>\n",
       "      <th>frequency</th>\n",
       "      <th>pidspread</th>\n",
       "      <th>pldspread</th>\n",
       "      <th>id</th>\n",
       "      <th>pids</th>\n",
       "    </tr>\n",
       "  </thead>\n",
       "  <tbody>\n",
       "    <tr>\n",
       "      <td>0</td>\n",
       "      <td>1988</td>\n",
       "      <td>album</td>\n",
       "      <td>4</td>\n",
       "      <td>2</td>\n",
       "      <td>4</td>\n",
       "      <td>89520215</td>\n",
       "      <td>p3ap5p5p3a</td>\n",
       "    </tr>\n",
       "    <tr>\n",
       "      <td>1</td>\n",
       "      <td>196</td>\n",
       "      <td>year</td>\n",
       "      <td>1</td>\n",
       "      <td>1</td>\n",
       "      <td>1</td>\n",
       "      <td>250210719</td>\n",
       "      <td>p8b</td>\n",
       "    </tr>\n",
       "    <tr>\n",
       "      <td>2</td>\n",
       "      <td>53</td>\n",
       "      <td>year</td>\n",
       "      <td>2</td>\n",
       "      <td>1</td>\n",
       "      <td>1</td>\n",
       "      <td>333976287</td>\n",
       "      <td>p8b</td>\n",
       "    </tr>\n",
       "    <tr>\n",
       "      <td>3</td>\n",
       "      <td>2007</td>\n",
       "      <td>year</td>\n",
       "      <td>104</td>\n",
       "      <td>6</td>\n",
       "      <td>57</td>\n",
       "      <td>179643001</td>\n",
       "      <td>p25p8ap8bp8bp8bp25p8bp8bp8ap8bp8bp1p8bp8bp8bp8...</td>\n",
       "    </tr>\n",
       "    <tr>\n",
       "      <td>4</td>\n",
       "      <td>2</td>\n",
       "      <td>aircraft</td>\n",
       "      <td>21</td>\n",
       "      <td>4</td>\n",
       "      <td>16</td>\n",
       "      <td>472381603</td>\n",
       "      <td>p8bp8bp8bp3ap8bp5p8bp8ap8ap8ap8bp8b</td>\n",
       "    </tr>\n",
       "    <tr>\n",
       "      <td>...</td>\n",
       "      <td>...</td>\n",
       "      <td>...</td>\n",
       "      <td>...</td>\n",
       "      <td>...</td>\n",
       "      <td>...</td>\n",
       "      <td>...</td>\n",
       "      <td>...</td>\n",
       "    </tr>\n",
       "    <tr>\n",
       "      <td>20740</td>\n",
       "      <td>internexin</td>\n",
       "      <td>protein</td>\n",
       "      <td>2</td>\n",
       "      <td>2</td>\n",
       "      <td>2</td>\n",
       "      <td>217185695</td>\n",
       "      <td>p5p3a</td>\n",
       "    </tr>\n",
       "    <tr>\n",
       "      <td>20741</td>\n",
       "      <td>interdata</td>\n",
       "      <td>minicomputer</td>\n",
       "      <td>1</td>\n",
       "      <td>1</td>\n",
       "      <td>1</td>\n",
       "      <td>252785646</td>\n",
       "      <td>p5</td>\n",
       "    </tr>\n",
       "    <tr>\n",
       "      <td>20742</td>\n",
       "      <td>inconel</td>\n",
       "      <td>superalloy</td>\n",
       "      <td>38</td>\n",
       "      <td>6</td>\n",
       "      <td>21</td>\n",
       "      <td>243847077</td>\n",
       "      <td>p5p1p15bp5p8ap8ap8ap8ap8ap5p3ap8ap5p5p5p1p5p5p...</td>\n",
       "    </tr>\n",
       "    <tr>\n",
       "      <td>20743</td>\n",
       "      <td>investedin</td>\n",
       "      <td>website</td>\n",
       "      <td>3</td>\n",
       "      <td>1</td>\n",
       "      <td>3</td>\n",
       "      <td>219973437</td>\n",
       "      <td>p8a</td>\n",
       "    </tr>\n",
       "    <tr>\n",
       "      <td>20744</td>\n",
       "      <td>intergovernmentalism</td>\n",
       "      <td>theory</td>\n",
       "      <td>1</td>\n",
       "      <td>1</td>\n",
       "      <td>1</td>\n",
       "      <td>274110850</td>\n",
       "      <td>p5</td>\n",
       "    </tr>\n",
       "  </tbody>\n",
       "</table>\n",
       "<p>20745 rows × 7 columns</p>\n",
       "</div>"
      ],
      "text/plain": [
       "                   instance         class  frequency  pidspread  pldspread  \\\n",
       "0                      1988         album          4          2          4   \n",
       "1                       196          year          1          1          1   \n",
       "2                        53          year          2          1          1   \n",
       "3                      2007          year        104          6         57   \n",
       "4                         2      aircraft         21          4         16   \n",
       "...                     ...           ...        ...        ...        ...   \n",
       "20740            internexin       protein          2          2          2   \n",
       "20741             interdata  minicomputer          1          1          1   \n",
       "20742               inconel    superalloy         38          6         21   \n",
       "20743            investedin       website          3          1          3   \n",
       "20744  intergovernmentalism        theory          1          1          1   \n",
       "\n",
       "              id                                               pids  \n",
       "0       89520215                                         p3ap5p5p3a  \n",
       "1      250210719                                                p8b  \n",
       "2      333976287                                                p8b  \n",
       "3      179643001  p25p8ap8bp8bp8bp25p8bp8bp8ap8bp8bp1p8bp8bp8bp8...  \n",
       "4      472381603                p8bp8bp8bp3ap8bp5p8bp8ap8ap8ap8bp8b  \n",
       "...          ...                                                ...  \n",
       "20740  217185695                                              p5p3a  \n",
       "20741  252785646                                                 p5  \n",
       "20742  243847077  p5p1p15bp5p8ap8ap8ap8ap8ap5p3ap8ap5p5p5p1p5p5p...  \n",
       "20743  219973437                                                p8a  \n",
       "20744  274110850                                                 p5  \n",
       "\n",
       "[20745 rows x 7 columns]"
      ]
     },
     "execution_count": 15,
     "metadata": {},
     "output_type": "execute_result"
    }
   ],
   "source": [
    "# replace unnecessary signs\n",
    "types['pids'] = types['pids'].replace('\\]|,\\s|\\'|\\[', '', regex=True)\n",
    "types"
   ]
  },
  {
   "cell_type": "code",
   "execution_count": 16,
   "metadata": {},
   "outputs": [],
   "source": [
    "# get all different pids\n",
    "types['pids_sanitized'] = types['pids'].str.split('p')\n",
    "\n",
    "all_pids = []\n",
    "for index, row in types.iterrows():\n",
    "    for element in row['pids_sanitized']:\n",
    "        if element not in all_pids:\n",
    "            all_pids.append(element)\n",
    "\n",
    "all_pids.remove('') # remove empty element"
   ]
  },
  {
   "cell_type": "code",
   "execution_count": 17,
   "metadata": {},
   "outputs": [
    {
     "data": {
      "text/plain": [
       "58"
      ]
     },
     "execution_count": 17,
     "metadata": {},
     "output_type": "execute_result"
    }
   ],
   "source": [
    "len(all_pids) # in total 58 different pids in types, one more than in subclasses"
   ]
  },
  {
   "cell_type": "code",
   "execution_count": 18,
   "metadata": {},
   "outputs": [
    {
     "name": "stdout",
     "output_type": "stream",
     "text": [
      "pid: 3a || total occurence: 6455\n",
      "pid: 5 || total occurence: 9647\n",
      "pid: 8b || total occurence: 4402\n",
      "pid: 25 || total occurence: 2194\n",
      "pid: 8a || total occurence: 14488\n",
      "pid: 1 || total occurence: 7119\n",
      "pid: 2 || total occurence: 7546\n",
      "pid: 26 || total occurence: 2027\n",
      "pid: 28a || total occurence: 1106\n",
      "pid: 23b || total occurence: 1756\n",
      "pid: 27b || total occurence: 1313\n",
      "pid: 20c || total occurence: 1850\n",
      "pid: 28b || total occurence: 1477\n",
      "pid: 20a || total occurence: 2300\n",
      "pid: 21c || total occurence: 1237\n",
      "pid: 20b || total occurence: 1126\n",
      "pid: 21d || total occurence: 1401\n",
      "pid: 7 || total occurence: 2235\n",
      "pid: 20d || total occurence: 1256\n",
      "pid: 28d || total occurence: 946\n",
      "pid: 8c || total occurence: 2533\n",
      "pid: 21a || total occurence: 1566\n",
      "pid: 23a || total occurence: 1522\n",
      "pid: 8d || total occurence: 1567\n",
      "pid: 21b || total occurence: 1129\n",
      "pid: 27a || total occurence: 1434\n",
      "pid: 23d || total occurence: 2496\n",
      "pid: 34 || total occurence: 1870\n",
      "pid: 37 || total occurence: 512\n",
      "pid: 23c || total occurence: 948\n",
      "pid: 12a || total occurence: 1818\n",
      "pid: 24 || total occurence: 1481\n",
      "pid: 43 || total occurence: 1581\n",
      "pid: 10 || total occurence: 1488\n",
      "pid: 16 || total occurence: 1530\n",
      "pid: 15a || total occurence: 1343\n",
      "pid: 36 || total occurence: 898\n",
      "pid: 6 || total occurence: 2886\n",
      "pid: 38 || total occurence: 581\n",
      "pid: 4 || total occurence: 4335\n",
      "pid: 11 || total occurence: 925\n",
      "pid: 15b || total occurence: 508\n",
      "pid: 14 || total occurence: 722\n",
      "pid: 39 || total occurence: 441\n",
      "pid: 28c || total occurence: 663\n",
      "pid: 13 || total occurence: 480\n",
      "pid: 23e || total occurence: 332\n",
      "pid: 12c || total occurence: 260\n",
      "pid: 30b || total occurence: 308\n",
      "pid: 22a || total occurence: 403\n",
      "pid: 30a || total occurence: 165\n",
      "pid: 22b || total occurence: 65\n",
      "pid: 12b || total occurence: 123\n",
      "pid: 42 || total occurence: 70\n",
      "pid: 29a || total occurence: 294\n",
      "pid: 29c || total occurence: 53\n",
      "pid: 31a || total occurence: 18\n",
      "pid: 31b || total occurence: 3\n"
     ]
    }
   ],
   "source": [
    "# append number of occurrences as new column to types dataframe\n",
    "occurences = [] # no of occurences of pids\n",
    "\n",
    "for pid in all_pids:\n",
    "    \n",
    "    types[pid] = types.apply(lambda x: pid_exists(x, pid), axis=1) # create new column with one hot encoded occurence\n",
    "    print('pid: {} || total occurence: {}'.format(pid, types[pid].sum())) # for debugging\n",
    "    occurences.append(types[pid].sum())"
   ]
  },
  {
   "cell_type": "code",
   "execution_count": 19,
   "metadata": {},
   "outputs": [],
   "source": [
    "# analyse occurence\n",
    "pids_analysis_types = pd.DataFrame({'pid': all_pids,\n",
    "                             'occurences': occurences})\n",
    "pids_analysis_types = pids_analysis_types.sort_values(by='occurences', ascending=False)"
   ]
  },
  {
   "cell_type": "code",
   "execution_count": 20,
   "metadata": {},
   "outputs": [
    {
     "data": {
      "text/plain": [
       "<matplotlib.axes._subplots.AxesSubplot at 0x7f9023096590>"
      ]
     },
     "execution_count": 20,
     "metadata": {},
     "output_type": "execute_result"
    },
    {
     "data": {
      "image/png": "[encoded data removed]",
      "text/plain": [
       "<Figure size 1008x792 with 1 Axes>"
      ]
     },
     "metadata": {
      "needs_background": "light"
     },
     "output_type": "display_data"
    }
   ],
   "source": [
    "# plot results\n",
    "pids_analysis_types.plot(x='pid', y='occurences', kind='bar', figsize=(14,11)) \n",
    "#p8a, p5, p2, p1 and p3a most common patterns"
   ]
  },
  {
   "cell_type": "markdown",
   "metadata": {},
   "source": [
    "# 3. transitive types"
   ]
  },
  {
   "cell_type": "code",
   "execution_count": 12,
   "metadata": {},
   "outputs": [
    {
     "data": {
      "text/html": [
       "<div>\n",
       "<style scoped>\n",
       "    .dataframe tbody tr th:only-of-type {\n",
       "        vertical-align: middle;\n",
       "    }\n",
       "\n",
       "    .dataframe tbody tr th {\n",
       "        vertical-align: top;\n",
       "    }\n",
       "\n",
       "    .dataframe thead th {\n",
       "        text-align: right;\n",
       "    }\n",
       "</style>\n",
       "<table border=\"1\" class=\"dataframe\">\n",
       "  <thead>\n",
       "    <tr style=\"text-align: right;\">\n",
       "      <th></th>\n",
       "      <th>instance</th>\n",
       "      <th>class</th>\n",
       "      <th>frequency</th>\n",
       "      <th>pidspread</th>\n",
       "      <th>pldspread</th>\n",
       "      <th>id</th>\n",
       "      <th>pids</th>\n",
       "    </tr>\n",
       "  </thead>\n",
       "  <tbody>\n",
       "    <tr>\n",
       "      <td>0</td>\n",
       "      <td>2002</td>\n",
       "      <td>season</td>\n",
       "      <td>2</td>\n",
       "      <td>2</td>\n",
       "      <td>2</td>\n",
       "      <td>303245024</td>\n",
       "      <td>['p8b', 'p3a']</td>\n",
       "    </tr>\n",
       "    <tr>\n",
       "      <td>1</td>\n",
       "      <td>44</td>\n",
       "      <td>weapon</td>\n",
       "      <td>2</td>\n",
       "      <td>2</td>\n",
       "      <td>2</td>\n",
       "      <td>107884750</td>\n",
       "      <td>['p8a', 'p8c']</td>\n",
       "    </tr>\n",
       "    <tr>\n",
       "      <td>2</td>\n",
       "      <td>55</td>\n",
       "      <td>company</td>\n",
       "      <td>1</td>\n",
       "      <td>1</td>\n",
       "      <td>1</td>\n",
       "      <td>30037411</td>\n",
       "      <td>['p8c']</td>\n",
       "    </tr>\n",
       "    <tr>\n",
       "      <td>3</td>\n",
       "      <td>44</td>\n",
       "      <td>device</td>\n",
       "      <td>1</td>\n",
       "      <td>1</td>\n",
       "      <td>1</td>\n",
       "      <td>107130687</td>\n",
       "      <td>['p21d']</td>\n",
       "    </tr>\n",
       "    <tr>\n",
       "      <td>4</td>\n",
       "      <td>2</td>\n",
       "      <td>work</td>\n",
       "      <td>126</td>\n",
       "      <td>16</td>\n",
       "      <td>72</td>\n",
       "      <td>215469565</td>\n",
       "      <td>['p4p15ap25p8ap8cp43', 'p8ap8c', 'p8a', 'p8a',...</td>\n",
       "    </tr>\n",
       "  </tbody>\n",
       "</table>\n",
       "</div>"
      ],
      "text/plain": [
       "  instance    class  frequency  pidspread  pldspread         id  \\\n",
       "0     2002   season          2          2          2  303245024   \n",
       "1       44   weapon          2          2          2  107884750   \n",
       "2       55  company          1          1          1   30037411   \n",
       "3       44   device          1          1          1  107130687   \n",
       "4        2     work        126         16         72  215469565   \n",
       "\n",
       "                                                pids  \n",
       "0                                     ['p8b', 'p3a']  \n",
       "1                                     ['p8a', 'p8c']  \n",
       "2                                            ['p8c']  \n",
       "3                                           ['p21d']  \n",
       "4  ['p4p15ap25p8ap8cp43', 'p8ap8c', 'p8a', 'p8a',...  "
      ]
     },
     "execution_count": 12,
     "metadata": {},
     "output_type": "execute_result"
    }
   ],
   "source": [
    "# read in data\n",
    "ttypes = pd.read_csv('path/to/9_FINAL/data/matches_pids/transitive-types_with_pid.csv', sep=\";\")\n",
    "del ttypes['Unnamed: 0']\n",
    "ttypes.head()"
   ]
  },
  {
   "cell_type": "markdown",
   "metadata": {},
   "source": [
    "## 3.0 No Tokens"
   ]
  },
  {
   "cell_type": "code",
   "execution_count": 13,
   "metadata": {},
   "outputs": [
    {
     "data": {
      "text/plain": [
       "0"
      ]
     },
     "execution_count": 13,
     "metadata": {},
     "output_type": "execute_result"
    }
   ],
   "source": [
    "# count number of tokens for instance\n",
    "more_than_one_token_ttypes = []\n",
    "\n",
    "for subclass in ttypes['instance']:\n",
    "    no_tokens = str(subclass).split(' ')\n",
    "    \n",
    "    if len(no_tokens) > 1:\n",
    "        more_than_one_token_ttypes.append(subclass)\n",
    "\n",
    "len(more_than_one_token_ttypes)"
   ]
  },
  {
   "cell_type": "code",
   "execution_count": 14,
   "metadata": {},
   "outputs": [
    {
     "data": {
      "text/plain": [
       "0"
      ]
     },
     "execution_count": 14,
     "metadata": {},
     "output_type": "execute_result"
    }
   ],
   "source": [
    "# count number of tokens for class\n",
    "more_than_one_token_class = []\n",
    "\n",
    "for subclass in ttypes['class']:\n",
    "    no_tokens = str(subclass).split(' ')\n",
    "    \n",
    "    if len(no_tokens) > 1:\n",
    "        more_than_one_token_ttypes.append(subclass)\n",
    "\n",
    "len(more_than_one_token_class)"
   ]
  },
  {
   "cell_type": "markdown",
   "metadata": {},
   "source": [
    "## 3.1 pidspread"
   ]
  },
  {
   "cell_type": "code",
   "execution_count": 22,
   "metadata": {},
   "outputs": [
    {
     "data": {
      "text/plain": [
       "count    99588.000000\n",
       "mean         3.286771\n",
       "std          5.031016\n",
       "min          1.000000\n",
       "25%          1.000000\n",
       "50%          1.000000\n",
       "75%          3.000000\n",
       "max         52.000000\n",
       "Name: pidspread, dtype: float64"
      ]
     },
     "execution_count": 22,
     "metadata": {},
     "output_type": "execute_result"
    }
   ],
   "source": [
    "# show how many pids are the \"norm\"\n",
    "ttypes['pidspread'].describe() # mean are 3.286"
   ]
  },
  {
   "cell_type": "code",
   "execution_count": 23,
   "metadata": {},
   "outputs": [
    {
     "data": {
      "text/plain": [
       "1     52081\n",
       "2     16151\n",
       "3      8613\n",
       "4      5231\n",
       "5      3588\n",
       "6      2531\n",
       "7      1879\n",
       "8      1410\n",
       "9      1079\n",
       "10      886\n",
       "11      740\n",
       "12      605\n",
       "13      509\n",
       "14      418\n",
       "15      402\n",
       "16      331\n",
       "17      269\n",
       "19      242\n",
       "18      239\n",
       "20      236\n",
       "21      193\n",
       "23      166\n",
       "22      164\n",
       "24      143\n",
       "26      134\n",
       "25      127\n",
       "27      122\n",
       "29      115\n",
       "28      108\n",
       "32       92\n",
       "31       88\n",
       "30       87\n",
       "33       78\n",
       "34       65\n",
       "36       65\n",
       "35       63\n",
       "37       52\n",
       "38       48\n",
       "39       44\n",
       "40       42\n",
       "42       31\n",
       "41       27\n",
       "46       25\n",
       "43       17\n",
       "44       17\n",
       "45       15\n",
       "47        8\n",
       "49        5\n",
       "48        3\n",
       "50        2\n",
       "51        1\n",
       "52        1\n",
       "Name: pidspread, dtype: int64"
      ]
     },
     "execution_count": 23,
     "metadata": {},
     "output_type": "execute_result"
    }
   ],
   "source": [
    "ttypes['pidspread'].value_counts()"
   ]
  },
  {
   "cell_type": "markdown",
   "metadata": {},
   "source": [
    "## 3.2 pid distribution"
   ]
  },
  {
   "cell_type": "code",
   "execution_count": 24,
   "metadata": {},
   "outputs": [
    {
     "data": {
      "text/html": [
       "<div>\n",
       "<style scoped>\n",
       "    .dataframe tbody tr th:only-of-type {\n",
       "        vertical-align: middle;\n",
       "    }\n",
       "\n",
       "    .dataframe tbody tr th {\n",
       "        vertical-align: top;\n",
       "    }\n",
       "\n",
       "    .dataframe thead th {\n",
       "        text-align: right;\n",
       "    }\n",
       "</style>\n",
       "<table border=\"1\" class=\"dataframe\">\n",
       "  <thead>\n",
       "    <tr style=\"text-align: right;\">\n",
       "      <th></th>\n",
       "      <th>instance</th>\n",
       "      <th>class</th>\n",
       "      <th>frequency</th>\n",
       "      <th>pidspread</th>\n",
       "      <th>pldspread</th>\n",
       "      <th>id</th>\n",
       "      <th>pids</th>\n",
       "    </tr>\n",
       "  </thead>\n",
       "  <tbody>\n",
       "    <tr>\n",
       "      <td>0</td>\n",
       "      <td>2002</td>\n",
       "      <td>season</td>\n",
       "      <td>2</td>\n",
       "      <td>2</td>\n",
       "      <td>2</td>\n",
       "      <td>303245024</td>\n",
       "      <td>p8bp3a</td>\n",
       "    </tr>\n",
       "    <tr>\n",
       "      <td>1</td>\n",
       "      <td>44</td>\n",
       "      <td>weapon</td>\n",
       "      <td>2</td>\n",
       "      <td>2</td>\n",
       "      <td>2</td>\n",
       "      <td>107884750</td>\n",
       "      <td>p8ap8c</td>\n",
       "    </tr>\n",
       "    <tr>\n",
       "      <td>2</td>\n",
       "      <td>55</td>\n",
       "      <td>company</td>\n",
       "      <td>1</td>\n",
       "      <td>1</td>\n",
       "      <td>1</td>\n",
       "      <td>30037411</td>\n",
       "      <td>p8c</td>\n",
       "    </tr>\n",
       "    <tr>\n",
       "      <td>3</td>\n",
       "      <td>44</td>\n",
       "      <td>device</td>\n",
       "      <td>1</td>\n",
       "      <td>1</td>\n",
       "      <td>1</td>\n",
       "      <td>107130687</td>\n",
       "      <td>p21d</td>\n",
       "    </tr>\n",
       "    <tr>\n",
       "      <td>4</td>\n",
       "      <td>2</td>\n",
       "      <td>work</td>\n",
       "      <td>126</td>\n",
       "      <td>16</td>\n",
       "      <td>72</td>\n",
       "      <td>215469565</td>\n",
       "      <td>p4p15ap25p8ap8cp43p8ap8cp8ap8ap8ap8ap8ap8ap8ap...</td>\n",
       "    </tr>\n",
       "    <tr>\n",
       "      <td>...</td>\n",
       "      <td>...</td>\n",
       "      <td>...</td>\n",
       "      <td>...</td>\n",
       "      <td>...</td>\n",
       "      <td>...</td>\n",
       "      <td>...</td>\n",
       "      <td>...</td>\n",
       "    </tr>\n",
       "    <tr>\n",
       "      <td>99583</td>\n",
       "      <td>india</td>\n",
       "      <td>city</td>\n",
       "      <td>251</td>\n",
       "      <td>29</td>\n",
       "      <td>206</td>\n",
       "      <td>205155758</td>\n",
       "      <td>p5p4p1p15bp23ap24p8ap3ap21bp21cp21dp12ap3ap21c...</td>\n",
       "    </tr>\n",
       "    <tr>\n",
       "      <td>99584</td>\n",
       "      <td>india</td>\n",
       "      <td>settlement</td>\n",
       "      <td>29</td>\n",
       "      <td>7</td>\n",
       "      <td>26</td>\n",
       "      <td>259383873</td>\n",
       "      <td>p1p2p25p8ap8bp21bp8ap8bp8ap3ap8ap3ap8a</td>\n",
       "    </tr>\n",
       "    <tr>\n",
       "      <td>99585</td>\n",
       "      <td>in-a-gadda-da-vida</td>\n",
       "      <td>song</td>\n",
       "      <td>8</td>\n",
       "      <td>3</td>\n",
       "      <td>7</td>\n",
       "      <td>203100816</td>\n",
       "      <td>p8ap8ap8ap8ap8bp8ap20a</td>\n",
       "    </tr>\n",
       "    <tr>\n",
       "      <td>99586</td>\n",
       "      <td>interfaithfamily</td>\n",
       "      <td>organization</td>\n",
       "      <td>2</td>\n",
       "      <td>2</td>\n",
       "      <td>1</td>\n",
       "      <td>241033740</td>\n",
       "      <td>p8ap5</td>\n",
       "    </tr>\n",
       "    <tr>\n",
       "      <td>99587</td>\n",
       "      <td>interhealth</td>\n",
       "      <td>organization</td>\n",
       "      <td>1</td>\n",
       "      <td>1</td>\n",
       "      <td>1</td>\n",
       "      <td>216476018</td>\n",
       "      <td>p8a</td>\n",
       "    </tr>\n",
       "  </tbody>\n",
       "</table>\n",
       "<p>99588 rows × 7 columns</p>\n",
       "</div>"
      ],
      "text/plain": [
       "                 instance         class  frequency  pidspread  pldspread  \\\n",
       "0                    2002        season          2          2          2   \n",
       "1                      44        weapon          2          2          2   \n",
       "2                      55       company          1          1          1   \n",
       "3                      44        device          1          1          1   \n",
       "4                       2          work        126         16         72   \n",
       "...                   ...           ...        ...        ...        ...   \n",
       "99583               india          city        251         29        206   \n",
       "99584               india    settlement         29          7         26   \n",
       "99585  in-a-gadda-da-vida          song          8          3          7   \n",
       "99586    interfaithfamily  organization          2          2          1   \n",
       "99587         interhealth  organization          1          1          1   \n",
       "\n",
       "              id                                               pids  \n",
       "0      303245024                                             p8bp3a  \n",
       "1      107884750                                             p8ap8c  \n",
       "2       30037411                                                p8c  \n",
       "3      107130687                                               p21d  \n",
       "4      215469565  p4p15ap25p8ap8cp43p8ap8cp8ap8ap8ap8ap8ap8ap8ap...  \n",
       "...          ...                                                ...  \n",
       "99583  205155758  p5p4p1p15bp23ap24p8ap3ap21bp21cp21dp12ap3ap21c...  \n",
       "99584  259383873             p1p2p25p8ap8bp21bp8ap8bp8ap3ap8ap3ap8a  \n",
       "99585  203100816                             p8ap8ap8ap8ap8bp8ap20a  \n",
       "99586  241033740                                              p8ap5  \n",
       "99587  216476018                                                p8a  \n",
       "\n",
       "[99588 rows x 7 columns]"
      ]
     },
     "execution_count": 24,
     "metadata": {},
     "output_type": "execute_result"
    }
   ],
   "source": [
    "# replace unnecessary signs\n",
    "ttypes['pids'] = ttypes['pids'].replace('\\]|,\\s|\\'|\\[', '', regex=True)\n",
    "ttypes"
   ]
  },
  {
   "cell_type": "code",
   "execution_count": 25,
   "metadata": {},
   "outputs": [],
   "source": [
    "# get all different pids\n",
    "ttypes['pids_sanitized'] = ttypes['pids'].str.split('p')\n",
    "\n",
    "all_pids = []\n",
    "for index, row in ttypes.iterrows():\n",
    "    for element in row['pids_sanitized']:\n",
    "        if element not in all_pids:\n",
    "            all_pids.append(element)\n",
    "\n",
    "all_pids.remove('') # remove empty element"
   ]
  },
  {
   "cell_type": "code",
   "execution_count": 26,
   "metadata": {},
   "outputs": [
    {
     "data": {
      "text/plain": [
       "58"
      ]
     },
     "execution_count": 26,
     "metadata": {},
     "output_type": "execute_result"
    }
   ],
   "source": [
    "len(all_pids) # in total 58 different pids in transitive types, one more than in subclasses"
   ]
  },
  {
   "cell_type": "code",
   "execution_count": 27,
   "metadata": {},
   "outputs": [
    {
     "name": "stdout",
     "output_type": "stream",
     "text": [
      "pid: 8b || total occurence: 19861\n",
      "pid: 3a || total occurence: 29480\n",
      "pid: 8a || total occurence: 64733\n",
      "pid: 8c || total occurence: 7298\n",
      "pid: 21d || total occurence: 3456\n",
      "pid: 4 || total occurence: 11646\n",
      "pid: 15a || total occurence: 3233\n",
      "pid: 25 || total occurence: 5879\n",
      "pid: 43 || total occurence: 4342\n",
      "pid: 1 || total occurence: 35141\n",
      "pid: 20a || total occurence: 9016\n",
      "pid: 5 || total occurence: 41217\n",
      "pid: 28b || total occurence: 3025\n",
      "pid: 2 || total occurence: 29525\n",
      "pid: 23d || total occurence: 5686\n",
      "pid: 28a || total occurence: 1438\n",
      "pid: 21a || total occurence: 5370\n",
      "pid: 13 || total occurence: 550\n",
      "pid: 28d || total occurence: 1516\n",
      "pid: 20c || total occurence: 5687\n",
      "pid: 38 || total occurence: 837\n",
      "pid: 15b || total occurence: 796\n",
      "pid: 27b || total occurence: 2299\n",
      "pid: 12a || total occurence: 6676\n",
      "pid: 23a || total occurence: 3601\n",
      "pid: 26 || total occurence: 5385\n",
      "pid: 16 || total occurence: 3025\n",
      "pid: 10 || total occurence: 12535\n",
      "pid: 21b || total occurence: 2897\n",
      "pid: 8d || total occurence: 3404\n",
      "pid: 24 || total occurence: 2374\n",
      "pid: 6 || total occurence: 8031\n",
      "pid: 27a || total occurence: 2876\n",
      "pid: 37 || total occurence: 288\n",
      "pid: 34 || total occurence: 3106\n",
      "pid: 23c || total occurence: 2917\n",
      "pid: 23e || total occurence: 760\n",
      "pid: 36 || total occurence: 1409\n",
      "pid: 23b || total occurence: 4068\n",
      "pid: 21c || total occurence: 3718\n",
      "pid: 28c || total occurence: 656\n",
      "pid: 20b || total occurence: 2660\n",
      "pid: 29c || total occurence: 47\n",
      "pid: 7 || total occurence: 5288\n",
      "pid: 11 || total occurence: 1324\n",
      "pid: 12c || total occurence: 332\n",
      "pid: 39 || total occurence: 1459\n",
      "pid: 20d || total occurence: 2641\n",
      "pid: 22a || total occurence: 397\n",
      "pid: 14 || total occurence: 1026\n",
      "pid: 30a || total occurence: 36\n",
      "pid: 31a || total occurence: 25\n",
      "pid: 29a || total occurence: 235\n",
      "pid: 30b || total occurence: 133\n",
      "pid: 42 || total occurence: 114\n",
      "pid: 22b || total occurence: 44\n",
      "pid: 12b || total occurence: 61\n",
      "pid: 31b || total occurence: 4\n"
     ]
    }
   ],
   "source": [
    "# append number of occurrences as new column to types dataframe\n",
    "occurences = [] # no of occurences of pids\n",
    "\n",
    "for pid in all_pids:\n",
    "    \n",
    "    ttypes[pid] = ttypes.apply(lambda x: pid_exists(x, pid), axis=1) # create new column with one hot encoded occurence\n",
    "    print('pid: {} || total occurence: {}'.format(pid, ttypes[pid].sum())) # for debugging\n",
    "    occurences.append(ttypes[pid].sum())"
   ]
  },
  {
   "cell_type": "code",
   "execution_count": 28,
   "metadata": {},
   "outputs": [],
   "source": [
    "# analyse occurence\n",
    "pids_analysis_ttypes = pd.DataFrame({'pid': all_pids,\n",
    "                             'occurences': occurences})\n",
    "pids_analysis_ttypes = pids_analysis_ttypes.sort_values(by='occurences', ascending=False)"
   ]
  },
  {
   "cell_type": "code",
   "execution_count": 30,
   "metadata": {},
   "outputs": [
    {
     "data": {
      "text/plain": [
       "<matplotlib.axes._subplots.AxesSubplot at 0x7f90169c6dd0>"
      ]
     },
     "execution_count": 30,
     "metadata": {},
     "output_type": "execute_result"
    },
    {
     "data": {
      "image/png": "[encoded data removed]",
      "text/plain": [
       "<Figure size 1008x792 with 1 Axes>"
      ]
     },
     "metadata": {
      "needs_background": "light"
     },
     "output_type": "display_data"
    }
   ],
   "source": [
    "# plot results\n",
    "pids_analysis_ttypes.plot(x='pid', y='occurences', kind='bar', figsize=(14,11)) \n",
    "#p8a, p5, p1, p2 and p3a most common patterns"
   ]
  },
  {
   "cell_type": "markdown",
   "metadata": {},
   "source": [
    "# 4. transitive subclasses"
   ]
  },
  {
   "cell_type": "code",
   "execution_count": 16,
   "metadata": {},
   "outputs": [
    {
     "data": {
      "text/html": [
       "<div>\n",
       "<style scoped>\n",
       "    .dataframe tbody tr th:only-of-type {\n",
       "        vertical-align: middle;\n",
       "    }\n",
       "\n",
       "    .dataframe tbody tr th {\n",
       "        vertical-align: top;\n",
       "    }\n",
       "\n",
       "    .dataframe thead th {\n",
       "        text-align: right;\n",
       "    }\n",
       "</style>\n",
       "<table border=\"1\" class=\"dataframe\">\n",
       "  <thead>\n",
       "    <tr style=\"text-align: right;\">\n",
       "      <th></th>\n",
       "      <th>_id</th>\n",
       "      <th>instance</th>\n",
       "      <th>class</th>\n",
       "      <th>frequency</th>\n",
       "      <th>pidspread</th>\n",
       "      <th>pldspread</th>\n",
       "      <th>modifications</th>\n",
       "    </tr>\n",
       "  </thead>\n",
       "  <tbody>\n",
       "    <tr>\n",
       "      <td>0</td>\n",
       "      <td>131086904</td>\n",
       "      <td>2</td>\n",
       "      <td>place</td>\n",
       "      <td>114</td>\n",
       "      <td>18</td>\n",
       "      <td>90</td>\n",
       "      <td>['p23dp25p10p12ap8ap20ap8c', 'p8ap8c', 'p8a', ...</td>\n",
       "    </tr>\n",
       "    <tr>\n",
       "      <td>1</td>\n",
       "      <td>131113752</td>\n",
       "      <td>9</td>\n",
       "      <td>place</td>\n",
       "      <td>28</td>\n",
       "      <td>8</td>\n",
       "      <td>25</td>\n",
       "      <td>['p8ap20a', 'p8ap20a', 'p2', 'p8c', 'p8a', 'p1...</td>\n",
       "    </tr>\n",
       "    <tr>\n",
       "      <td>2</td>\n",
       "      <td>131185728</td>\n",
       "      <td>3</td>\n",
       "      <td>place</td>\n",
       "      <td>83</td>\n",
       "      <td>14</td>\n",
       "      <td>59</td>\n",
       "      <td>['p4p15ap1p20cp8ap28bp3a', 'p20c', 'p8a', 'p8a...</td>\n",
       "    </tr>\n",
       "    <tr>\n",
       "      <td>3</td>\n",
       "      <td>131393096</td>\n",
       "      <td>6</td>\n",
       "      <td>place</td>\n",
       "      <td>55</td>\n",
       "      <td>11</td>\n",
       "      <td>37</td>\n",
       "      <td>['p2p1p8ap28b', 'p4', 'p8a', 'p8a', 'p8a', 'p8...</td>\n",
       "    </tr>\n",
       "    <tr>\n",
       "      <td>4</td>\n",
       "      <td>131588387</td>\n",
       "      <td>7</td>\n",
       "      <td>place</td>\n",
       "      <td>46</td>\n",
       "      <td>12</td>\n",
       "      <td>33</td>\n",
       "      <td>['p1p8ap20a', 'p8ap8c', 'p27b', 'p8a', 'p8a', ...</td>\n",
       "    </tr>\n",
       "  </tbody>\n",
       "</table>\n",
       "</div>"
      ],
      "text/plain": [
       "         _id instance  class  frequency  pidspread  pldspread  \\\n",
       "0  131086904        2  place        114         18         90   \n",
       "1  131113752        9  place         28          8         25   \n",
       "2  131185728        3  place         83         14         59   \n",
       "3  131393096        6  place         55         11         37   \n",
       "4  131588387        7  place         46         12         33   \n",
       "\n",
       "                                       modifications  \n",
       "0  ['p23dp25p10p12ap8ap20ap8c', 'p8ap8c', 'p8a', ...  \n",
       "1  ['p8ap20a', 'p8ap20a', 'p2', 'p8c', 'p8a', 'p1...  \n",
       "2  ['p4p15ap1p20cp8ap28bp3a', 'p20c', 'p8a', 'p8a...  \n",
       "3  ['p2p1p8ap28b', 'p4', 'p8a', 'p8a', 'p8a', 'p8...  \n",
       "4  ['p1p8ap20a', 'p8ap8c', 'p27b', 'p8a', 'p8a', ...  "
      ]
     },
     "execution_count": 16,
     "metadata": {},
     "output_type": "execute_result"
    }
   ],
   "source": [
    "# read in data\n",
    "transitive_subclasses = pd.read_csv('/path/to/9_FINAL/data/matches_pids/transitive-subclass_with_pid.csv', sep=\";\")\n",
    "del transitive_subclasses['Unnamed: 0']\n",
    "del transitive_subclasses['Unnamed: 0.1']\n",
    "transitive_subclasses.head()"
   ]
  },
  {
   "cell_type": "markdown",
   "metadata": {},
   "source": [
    "## 4.0 No Tokens"
   ]
  },
  {
   "cell_type": "code",
   "execution_count": 17,
   "metadata": {},
   "outputs": [
    {
     "data": {
      "text/plain": [
       "0"
      ]
     },
     "execution_count": 17,
     "metadata": {},
     "output_type": "execute_result"
    }
   ],
   "source": [
    "# count number of tokens for instance\n",
    "more_than_one_token_tsubclasses = []\n",
    "\n",
    "for subclass in transitive_subclasses['instance']:\n",
    "    no_tokens = str(subclass).split(' ')\n",
    "    \n",
    "    if len(no_tokens) > 1:\n",
    "        more_than_one_token_tsubclasses.append(subclass)\n",
    "\n",
    "len(more_than_one_token_tsubclasses)"
   ]
  },
  {
   "cell_type": "code",
   "execution_count": 18,
   "metadata": {},
   "outputs": [
    {
     "data": {
      "text/plain": [
       "0"
      ]
     },
     "execution_count": 18,
     "metadata": {},
     "output_type": "execute_result"
    }
   ],
   "source": [
    "# count number of tokens for classes\n",
    "more_than_one_token_tsubclasses = []\n",
    "\n",
    "for subclass in transitive_subclasses['class']:\n",
    "    no_tokens = str(subclass).split(' ')\n",
    "    \n",
    "    if len(no_tokens) > 1:\n",
    "        more_than_one_token_tsubclasses.append(subclass)\n",
    "\n",
    "len(more_than_one_token_tsubclasses)"
   ]
  },
  {
   "cell_type": "markdown",
   "metadata": {},
   "source": [
    "## 4.1 pidspread"
   ]
  },
  {
   "cell_type": "code",
   "execution_count": 32,
   "metadata": {},
   "outputs": [
    {
     "data": {
      "text/plain": [
       "count    2120.000000\n",
       "mean       10.976887\n",
       "std        11.473133\n",
       "min         1.000000\n",
       "25%         2.000000\n",
       "50%         6.000000\n",
       "75%        16.000000\n",
       "max        51.000000\n",
       "Name: pidspread, dtype: float64"
      ]
     },
     "execution_count": 32,
     "metadata": {},
     "output_type": "execute_result"
    }
   ],
   "source": [
    "# show how many pids are the \"norm\"\n",
    "transitive_subclasses['pidspread'].describe() # mean are 10.98"
   ]
  },
  {
   "cell_type": "code",
   "execution_count": 33,
   "metadata": {},
   "outputs": [
    {
     "data": {
      "text/plain": [
       "1     397\n",
       "2     208\n",
       "3     151\n",
       "4     120\n",
       "5      98\n",
       "6      96\n",
       "8      87\n",
       "7      64\n",
       "11     64\n",
       "10     61\n",
       "9      56\n",
       "12     52\n",
       "13     47\n",
       "16     39\n",
       "15     38\n",
       "19     37\n",
       "14     36\n",
       "23     31\n",
       "20     30\n",
       "18     24\n",
       "29     22\n",
       "17     21\n",
       "24     21\n",
       "22     20\n",
       "25     19\n",
       "27     19\n",
       "21     18\n",
       "31     18\n",
       "38     17\n",
       "34     17\n",
       "35     16\n",
       "36     16\n",
       "26     16\n",
       "30     16\n",
       "40     14\n",
       "28     12\n",
       "37     12\n",
       "32     12\n",
       "39     12\n",
       "41     11\n",
       "42     10\n",
       "33      9\n",
       "46      8\n",
       "44      8\n",
       "45      8\n",
       "43      4\n",
       "47      3\n",
       "48      3\n",
       "49      1\n",
       "51      1\n",
       "Name: pidspread, dtype: int64"
      ]
     },
     "execution_count": 33,
     "metadata": {},
     "output_type": "execute_result"
    }
   ],
   "source": [
    "transitive_subclasses['pidspread'].value_counts()"
   ]
  },
  {
   "cell_type": "markdown",
   "metadata": {},
   "source": [
    "## 4.2 pid distribution"
   ]
  },
  {
   "cell_type": "code",
   "execution_count": 34,
   "metadata": {},
   "outputs": [
    {
     "data": {
      "text/html": [
       "<div>\n",
       "<style scoped>\n",
       "    .dataframe tbody tr th:only-of-type {\n",
       "        vertical-align: middle;\n",
       "    }\n",
       "\n",
       "    .dataframe tbody tr th {\n",
       "        vertical-align: top;\n",
       "    }\n",
       "\n",
       "    .dataframe thead th {\n",
       "        text-align: right;\n",
       "    }\n",
       "</style>\n",
       "<table border=\"1\" class=\"dataframe\">\n",
       "  <thead>\n",
       "    <tr style=\"text-align: right;\">\n",
       "      <th></th>\n",
       "      <th>_id</th>\n",
       "      <th>instance</th>\n",
       "      <th>class</th>\n",
       "      <th>frequency</th>\n",
       "      <th>pidspread</th>\n",
       "      <th>pldspread</th>\n",
       "      <th>modifications</th>\n",
       "    </tr>\n",
       "  </thead>\n",
       "  <tbody>\n",
       "    <tr>\n",
       "      <td>0</td>\n",
       "      <td>131086904</td>\n",
       "      <td>2</td>\n",
       "      <td>place</td>\n",
       "      <td>114</td>\n",
       "      <td>18</td>\n",
       "      <td>90</td>\n",
       "      <td>p23dp25p10p12ap8ap20ap8cp8ap8cp8ap8dp8ap8ap8ap...</td>\n",
       "    </tr>\n",
       "    <tr>\n",
       "      <td>1</td>\n",
       "      <td>131113752</td>\n",
       "      <td>9</td>\n",
       "      <td>place</td>\n",
       "      <td>28</td>\n",
       "      <td>8</td>\n",
       "      <td>25</td>\n",
       "      <td>p8ap20ap8ap20ap2p8cp8ap1p8cp8ap27ap8cp8ap8ap21...</td>\n",
       "    </tr>\n",
       "    <tr>\n",
       "      <td>2</td>\n",
       "      <td>131185728</td>\n",
       "      <td>3</td>\n",
       "      <td>place</td>\n",
       "      <td>83</td>\n",
       "      <td>14</td>\n",
       "      <td>59</td>\n",
       "      <td>p4p15ap1p20cp8ap28bp3ap20cp8ap8ap8ap20cp8ap20a...</td>\n",
       "    </tr>\n",
       "    <tr>\n",
       "      <td>3</td>\n",
       "      <td>131393096</td>\n",
       "      <td>6</td>\n",
       "      <td>place</td>\n",
       "      <td>55</td>\n",
       "      <td>11</td>\n",
       "      <td>37</td>\n",
       "      <td>p2p1p8ap28bp4p8ap8ap8ap8ap8ap8ap8ap8ap5p8ap8ap...</td>\n",
       "    </tr>\n",
       "    <tr>\n",
       "      <td>4</td>\n",
       "      <td>131588387</td>\n",
       "      <td>7</td>\n",
       "      <td>place</td>\n",
       "      <td>46</td>\n",
       "      <td>12</td>\n",
       "      <td>33</td>\n",
       "      <td>p1p8ap20ap8ap8cp27bp8ap8ap2p8ap8ap8ap8ap8ap8ap...</td>\n",
       "    </tr>\n",
       "    <tr>\n",
       "      <td>...</td>\n",
       "      <td>...</td>\n",
       "      <td>...</td>\n",
       "      <td>...</td>\n",
       "      <td>...</td>\n",
       "      <td>...</td>\n",
       "      <td>...</td>\n",
       "      <td>...</td>\n",
       "    </tr>\n",
       "    <tr>\n",
       "      <td>2115</td>\n",
       "      <td>144540438</td>\n",
       "      <td>zimbabweans</td>\n",
       "      <td>person</td>\n",
       "      <td>1</td>\n",
       "      <td>1</td>\n",
       "      <td>1</td>\n",
       "      <td>p1</td>\n",
       "    </tr>\n",
       "    <tr>\n",
       "      <td>2116</td>\n",
       "      <td>170394103</td>\n",
       "      <td>zine</td>\n",
       "      <td>work</td>\n",
       "      <td>32</td>\n",
       "      <td>10</td>\n",
       "      <td>26</td>\n",
       "      <td>p5p1p20ap8ap8ap8ap3ap3ap36p1p26p1p8ap1p28bp5p8...</td>\n",
       "    </tr>\n",
       "    <tr>\n",
       "      <td>2117</td>\n",
       "      <td>189735779</td>\n",
       "      <td>zine</td>\n",
       "      <td>periodical</td>\n",
       "      <td>23</td>\n",
       "      <td>5</td>\n",
       "      <td>15</td>\n",
       "      <td>p4p1p1p3ap3ap12ap3ap1p8ap4p1p8ap1p12ap1</td>\n",
       "    </tr>\n",
       "    <tr>\n",
       "      <td>2118</td>\n",
       "      <td>418332088</td>\n",
       "      <td>zine</td>\n",
       "      <td>publication</td>\n",
       "      <td>124</td>\n",
       "      <td>12</td>\n",
       "      <td>96</td>\n",
       "      <td>p5p34p4p1p8ap28dp3ap1p8ap1p1p1p8ap1p8ap1p2p21d...</td>\n",
       "    </tr>\n",
       "    <tr>\n",
       "      <td>2119</td>\n",
       "      <td>470849535</td>\n",
       "      <td>zoo</td>\n",
       "      <td>place</td>\n",
       "      <td>2057</td>\n",
       "      <td>34</td>\n",
       "      <td>1281</td>\n",
       "      <td>p6p5p4p2p1p10p8dp8ap8cp8bp21bp26p25p23bp20bp20...</td>\n",
       "    </tr>\n",
       "  </tbody>\n",
       "</table>\n",
       "<p>2120 rows × 7 columns</p>\n",
       "</div>"
      ],
      "text/plain": [
       "            _id     instance        class  frequency  pidspread  pldspread  \\\n",
       "0     131086904            2        place        114         18         90   \n",
       "1     131113752            9        place         28          8         25   \n",
       "2     131185728            3        place         83         14         59   \n",
       "3     131393096            6        place         55         11         37   \n",
       "4     131588387            7        place         46         12         33   \n",
       "...         ...          ...          ...        ...        ...        ...   \n",
       "2115  144540438  zimbabweans       person          1          1          1   \n",
       "2116  170394103         zine         work         32         10         26   \n",
       "2117  189735779         zine   periodical         23          5         15   \n",
       "2118  418332088         zine  publication        124         12         96   \n",
       "2119  470849535          zoo        place       2057         34       1281   \n",
       "\n",
       "                                          modifications  \n",
       "0     p23dp25p10p12ap8ap20ap8cp8ap8cp8ap8dp8ap8ap8ap...  \n",
       "1     p8ap20ap8ap20ap2p8cp8ap1p8cp8ap27ap8cp8ap8ap21...  \n",
       "2     p4p15ap1p20cp8ap28bp3ap20cp8ap8ap8ap20cp8ap20a...  \n",
       "3     p2p1p8ap28bp4p8ap8ap8ap8ap8ap8ap8ap8ap5p8ap8ap...  \n",
       "4     p1p8ap20ap8ap8cp27bp8ap8ap2p8ap8ap8ap8ap8ap8ap...  \n",
       "...                                                 ...  \n",
       "2115                                                 p1  \n",
       "2116  p5p1p20ap8ap8ap8ap3ap3ap36p1p26p1p8ap1p28bp5p8...  \n",
       "2117            p4p1p1p3ap3ap12ap3ap1p8ap4p1p8ap1p12ap1  \n",
       "2118  p5p34p4p1p8ap28dp3ap1p8ap1p1p1p8ap1p8ap1p2p21d...  \n",
       "2119  p6p5p4p2p1p10p8dp8ap8cp8bp21bp26p25p23bp20bp20...  \n",
       "\n",
       "[2120 rows x 7 columns]"
      ]
     },
     "execution_count": 34,
     "metadata": {},
     "output_type": "execute_result"
    }
   ],
   "source": [
    "# replace unnecessary signs\n",
    "transitive_subclasses['modifications'] = transitive_subclasses['modifications'].replace('\\]|,\\s|\\'|\\[', '', regex=True)\n",
    "transitive_subclasses"
   ]
  },
  {
   "cell_type": "code",
   "execution_count": 35,
   "metadata": {},
   "outputs": [],
   "source": [
    "# get all different pids\n",
    "transitive_subclasses['pids_sanitized'] = transitive_subclasses['modifications'].str.split('p')\n",
    "\n",
    "all_pids = []\n",
    "for index, row in transitive_subclasses.iterrows():\n",
    "    for element in row['pids_sanitized']:\n",
    "        if element not in all_pids:\n",
    "            all_pids.append(element)\n",
    "\n",
    "all_pids.remove('') # remove empty element"
   ]
  },
  {
   "cell_type": "code",
   "execution_count": 36,
   "metadata": {},
   "outputs": [
    {
     "data": {
      "text/plain": [
       "57"
      ]
     },
     "execution_count": 36,
     "metadata": {},
     "output_type": "execute_result"
    }
   ],
   "source": [
    "len(all_pids) # in total 57 different pids in transitive subclasses"
   ]
  },
  {
   "cell_type": "code",
   "execution_count": 37,
   "metadata": {},
   "outputs": [
    {
     "name": "stdout",
     "output_type": "stream",
     "text": [
      "pid: 23d || total occurence: 629\n",
      "pid: 25 || total occurence: 605\n",
      "pid: 10 || total occurence: 681\n",
      "pid: 12a || total occurence: 559\n",
      "pid: 8a || total occurence: 1592\n",
      "pid: 20a || total occurence: 606\n",
      "pid: 8c || total occurence: 719\n",
      "pid: 8d || total occurence: 434\n",
      "pid: 8b || total occurence: 1049\n",
      "pid: 21a || total occurence: 473\n",
      "pid: 3a || total occurence: 1389\n",
      "pid: 20b || total occurence: 375\n",
      "pid: 4 || total occurence: 1115\n",
      "pid: 26 || total occurence: 592\n",
      "pid: 1 || total occurence: 1524\n",
      "pid: 22a || total occurence: 43\n",
      "pid: 20c || total occurence: 515\n",
      "pid: 23a || total occurence: 474\n",
      "pid: 2 || total occurence: 1421\n",
      "pid: 27a || total occurence: 358\n",
      "pid: 15a || total occurence: 382\n",
      "pid: 28b || total occurence: 404\n",
      "pid: 21b || total occurence: 361\n",
      "pid: 5 || total occurence: 1432\n",
      "pid: 27b || total occurence: 320\n",
      "pid: 16 || total occurence: 361\n",
      "pid: 6 || total occurence: 785\n",
      "pid: 43 || total occurence: 520\n",
      "pid: 7 || total occurence: 553\n",
      "pid: 15b || total occurence: 112\n",
      "pid: 34 || total occurence: 440\n",
      "pid: 23c || total occurence: 353\n",
      "pid: 38 || total occurence: 144\n",
      "pid: 23b || total occurence: 546\n",
      "pid: 20d || total occurence: 416\n",
      "pid: 21c || total occurence: 379\n",
      "pid: 28d || total occurence: 177\n",
      "pid: 21d || total occurence: 453\n",
      "pid: 36 || total occurence: 218\n",
      "pid: 28a || total occurence: 173\n",
      "pid: 24 || total occurence: 340\n",
      "pid: 11 || total occurence: 206\n",
      "pid: 14 || total occurence: 111\n",
      "pid: 12c || total occurence: 77\n",
      "pid: 39 || total occurence: 239\n",
      "pid: 42 || total occurence: 21\n",
      "pid: 37 || total occurence: 57\n",
      "pid: 13 || total occurence: 61\n",
      "pid: 23e || total occurence: 132\n",
      "pid: 29a || total occurence: 54\n",
      "pid: 28c || total occurence: 58\n",
      "pid: 30b || total occurence: 12\n",
      "pid: 30a || total occurence: 4\n",
      "pid: 29c || total occurence: 6\n",
      "pid: 12b || total occurence: 8\n",
      "pid: 22b || total occurence: 9\n",
      "pid: 31a || total occurence: 4\n"
     ]
    }
   ],
   "source": [
    "# append number of occurrences as new column to subclasses dataframe\n",
    "def pid_exists(row, pid):\n",
    "    if pid in row['modifications']:\n",
    "        return 1\n",
    "    else:\n",
    "        return 0\n",
    "\n",
    "occurences = [] # no of occurences of pids\n",
    "\n",
    "for pid in all_pids:\n",
    "    \n",
    "    transitive_subclasses[pid] = transitive_subclasses.apply(lambda x: pid_exists(x, pid), axis=1) # create new column with one hot encoded occurence\n",
    "    print('pid: {} || total occurence: {}'.format(pid, transitive_subclasses[pid].sum())) # for debugging\n",
    "    occurences.append(transitive_subclasses[pid].sum())"
   ]
  },
  {
   "cell_type": "code",
   "execution_count": 38,
   "metadata": {},
   "outputs": [],
   "source": [
    "# analyse occurence\n",
    "pids_transitive_subclasses = pd.DataFrame({'pid': all_pids,\n",
    "                             'occurences': occurences})\n",
    "pids_transitive_subclasses = pids_transitive_subclasses.sort_values(by='occurences', ascending=False)"
   ]
  },
  {
   "cell_type": "code",
   "execution_count": 39,
   "metadata": {},
   "outputs": [
    {
     "data": {
      "text/plain": [
       "<matplotlib.axes._subplots.AxesSubplot at 0x7f9016dba310>"
      ]
     },
     "execution_count": 39,
     "metadata": {},
     "output_type": "execute_result"
    },
    {
     "data": {
      "image/png": "[encoded data removed]",
      "text/plain": [
       "<Figure size 1008x792 with 1 Axes>"
      ]
     },
     "metadata": {
      "needs_background": "light"
     },
     "output_type": "display_data"
    }
   ],
   "source": [
    "# plot results\n",
    "pids_transitive_subclasses.plot(x='pid', y='occurences', kind='bar', figsize=(14,11)) \n",
    "#p8a, p1, p5, p2 and p3a most common patterns"
   ]
  },
  {
   "cell_type": "markdown",
   "metadata": {},
   "source": [
    "# 5. Compare subclass, type and transitive-types"
   ]
  },
  {
   "cell_type": "code",
   "execution_count": 40,
   "metadata": {},
   "outputs": [],
   "source": [
    "# calculate percentage distribution (note, can be more than 100 % in total because one pid can be used\n",
    "# more than once to extract the entity)\n",
    "no_subclasses = len(subclasses)\n",
    "pids_analysis['percentage'] = pids_analysis['occurences']/no_subclasses * 100\n",
    "pid_analysis_plot = pids_analysis.head(8) # only take top 8 for readability"
   ]
  },
  {
   "cell_type": "code",
   "execution_count": 41,
   "metadata": {},
   "outputs": [],
   "source": [
    "# types\n",
    "pids_analysis_types['percentage'] = pids_analysis_types['occurences']/len(types) * 100\n",
    "pids_analysis_types.head()\n",
    "pids_analysis_types = pids_analysis_types.head(8) # only take top 8 for readability"
   ]
  },
  {
   "cell_type": "code",
   "execution_count": 48,
   "metadata": {},
   "outputs": [],
   "source": [
    "# transitive types\n",
    "pids_analysis_ttypes['percentage'] = pids_analysis_ttypes['occurences']/len(ttypes) * 100\n",
    "pids_analysis_ttypes.head()\n",
    "pids_analysis_ttypes = pids_analysis_ttypes.head(8) # only take top 8 for readability"
   ]
  },
  {
   "cell_type": "code",
   "execution_count": 43,
   "metadata": {},
   "outputs": [],
   "source": [
    "# transitive subclasses\n",
    "pids_transitive_subclasses['percentage'] = pids_transitive_subclasses['occurences']/len(transitive_subclasses) * 100\n",
    "pids_transitive_subclasses.head()\n",
    "pids_transitive_subclasses = pids_transitive_subclasses.head(8) # only take top 8 for readability"
   ]
  },
  {
   "cell_type": "code",
   "execution_count": 44,
   "metadata": {},
   "outputs": [
    {
     "data": {
      "text/plain": [
       "<matplotlib.axes._subplots.AxesSubplot at 0x7f90169f1e90>"
      ]
     },
     "execution_count": 44,
     "metadata": {},
     "output_type": "execute_result"
    },
    {
     "data": {
      "image/png": "[encoded data removed]",
      "text/plain": [
       "<Figure size 432x288 with 1 Axes>"
      ]
     },
     "metadata": {
      "needs_background": "light"
     },
     "output_type": "display_data"
    }
   ],
   "source": [
    "# plot all values together in 4 different charts\n",
    "## subclasses\n",
    "pid_analysis_plot.plot(x='pid', y='percentage', kind='bar') # subclasses"
   ]
  },
  {
   "cell_type": "code",
   "execution_count": 45,
   "metadata": {},
   "outputs": [
    {
     "data": {
      "text/plain": [
       "<matplotlib.axes._subplots.AxesSubplot at 0x7f9016b61210>"
      ]
     },
     "execution_count": 45,
     "metadata": {},
     "output_type": "execute_result"
    },
    {
     "data": {
      "image/png": "[encoded data removed]",
      "text/plain": [
       "<Figure size 432x288 with 1 Axes>"
      ]
     },
     "metadata": {
      "needs_background": "light"
     },
     "output_type": "display_data"
    }
   ],
   "source": [
    "# transitive subclasses\n",
    "pids_transitive_subclasses.plot(x='pid', y='percentage', kind='bar') # transitive types"
   ]
  },
  {
   "cell_type": "code",
   "execution_count": 46,
   "metadata": {},
   "outputs": [
    {
     "data": {
      "text/plain": [
       "<matplotlib.axes._subplots.AxesSubplot at 0x7f9016aedd10>"
      ]
     },
     "execution_count": 46,
     "metadata": {},
     "output_type": "execute_result"
    },
    {
     "data": {
      "image/png": "[encoded data removed]",
      "text/plain": [
       "<Figure size 432x288 with 1 Axes>"
      ]
     },
     "metadata": {
      "needs_background": "light"
     },
     "output_type": "display_data"
    }
   ],
   "source": [
    "# types\n",
    "pids_analysis_types.plot(x='pid', y='percentage', kind='bar') # types"
   ]
  },
  {
   "cell_type": "code",
   "execution_count": 49,
   "metadata": {},
   "outputs": [
    {
     "data": {
      "text/plain": [
       "<matplotlib.axes._subplots.AxesSubplot at 0x7f90130e1150>"
      ]
     },
     "execution_count": 49,
     "metadata": {},
     "output_type": "execute_result"
    },
    {
     "data": {
      "image/png": "[encoded data removed]",
      "text/plain": [
       "<Figure size 432x288 with 1 Axes>"
      ]
     },
     "metadata": {
      "needs_background": "light"
     },
     "output_type": "display_data"
    }
   ],
   "source": [
    "# transitive types\n",
    "pids_analysis_ttypes.plot(x='pid', y='percentage', kind='bar') # transitive types"
   ]
  },
  {
   "cell_type": "markdown",
   "metadata": {},
   "source": []
  }
 ],
 "metadata": {
  "kernelspec": {
   "display_name": "Python 3",
   "language": "python",
   "name": "python3"
  },
  "language_info": {
   "codemirror_mode": {
    "name": "ipython",
    "version": 3
   },
   "file_extension": ".py",
   "mimetype": "text/x-python",
   "name": "python",
   "nbconvert_exporter": "python",
   "pygments_lexer": "ipython3",
   "version": "3.7.4"
  }
 },
 "nbformat": 4,
 "nbformat_minor": 2
}
