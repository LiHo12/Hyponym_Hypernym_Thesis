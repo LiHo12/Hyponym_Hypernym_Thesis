{
 "cells": [
  {
   "cell_type": "markdown",
   "metadata": {},
   "source": [
    "synthetically upsample the data with SMOTE"
   ]
  },
  {
   "cell_type": "code",
   "execution_count": 7,
   "metadata": {},
   "outputs": [],
   "source": [
    "import pandas as pd\n",
    "from sklearn import metrics\n",
    "from sklearn.model_selection import cross_val_score, KFold, StratifiedKFold\n",
    "import numpy as np\n",
    "from sklearn.metrics import confusion_matrix, plot_confusion_matrix, f1_score, precision_score, recall_score\n",
    "from sklearn import preprocessing\n",
    "from sklearn.preprocessing import StandardScaler\n",
    "from sklearn.decomposition import PCA\n",
    "from imblearn.under_sampling import RandomUnderSampler\n",
    "from imblearn.over_sampling import SMOTE, BorderlineSMOTE\n",
    "from sklearn.linear_model import LogisticRegression\n",
    "from sklearn.neural_network import MLPClassifier\n",
    "from sklearn.naive_bayes import GaussianNB\n",
    "from sklearn.ensemble import RandomForestClassifier\n",
    "from sklearn.tree import DecisionTreeClassifier\n",
    "\n",
    "import xgboost as xgb"
   ]
  },
  {
   "cell_type": "markdown",
   "metadata": {},
   "source": [
    "# 0. Model Training with SMOTE"
   ]
  },
  {
   "cell_type": "code",
   "execution_count": 2,
   "metadata": {},
   "outputs": [],
   "source": [
    "def get_cross_validation_two_class_normal_distribution(model, X_columns_drop, scale=False):\n",
    "    \"\"\"Get cross validated confusion matrix for two class problem\"\"\"\n",
    "    \n",
    "    # positive scores\n",
    "    overall_precision = []\n",
    "    overall_recall = []\n",
    "    overall_f1 = []\n",
    "    \n",
    "    # negative scores\n",
    "    overall_negative_precision = []\n",
    "    overall_negative_recall = []\n",
    "    overall_negative_f1 = []\n",
    "    \n",
    "    # loop through all folds\n",
    "    \n",
    "    for x in range(5):\n",
    "        \n",
    "        # load data\n",
    "        train = pd.read_csv('/path/to/9_FINAL/data/machine_learning/two_class/one-hot-ecoding/train/cross_validation/training_fraction_normal_distribution/training_'+str(x)+'.csv',sep=\";\")\n",
    "        \n",
    "        # debug\n",
    "        train_id = train['id']\n",
    "        del train['Unnamed: 0']\n",
    "        y_train = train['label']\n",
    "        del train['label']\n",
    "        X_train = train.drop(X_columns_drop, axis=1)\n",
    "        \n",
    "        # oversample train\n",
    "        oversample = SMOTE()\n",
    "        X_train, y_train = oversample.fit_resample(X_train, y_train)\n",
    "        \n",
    "        validation = pd.read_csv('/path/to/9_FINAL/data/machine_learning/two_class/one-hot-ecoding/train/cross_validation/validation/val_fold_'+str(x)+'.csv',sep=\";\")\n",
    "        # print(validation[validation.id.isin(train_id)])\n",
    "        del validation['Unnamed: 0']\n",
    "        y_validation = validation['label']\n",
    "        del validation['label']\n",
    "        X_validation = validation.drop(X_columns_drop, axis=1)\n",
    "        \n",
    "        # scale if necesary\n",
    "        if scale:\n",
    "            min_max_scaler = preprocessing.MinMaxScaler()\n",
    "            X_train = pd.DataFrame(min_max_scaler.fit_transform(X_train))\n",
    "            X_validation = pd.DataFrame(min_max_scaler.fit_transform(X_validation))\n",
    "        \n",
    "        # fit model\n",
    "        model.fit(X_train, y_train)\n",
    "        \n",
    "        # predicted score\n",
    "        y_predict = model.predict(X_validation)\n",
    "        f1 = f1_score(y_validation, y_predict)\n",
    "        precision = precision_score(y_validation, y_predict)\n",
    "        recall = recall_score(y_validation, y_predict)\n",
    "        conf_matrix = confusion_matrix(y_validation, y_predict)\n",
    "        print(conf_matrix)\n",
    "        print('Positive')\n",
    "        print('Precision: {} || Recall: {} || F1: {}'.format(precision, recall, f1))\n",
    "        \n",
    "        overall_precision.append(precision)\n",
    "        overall_recall.append(recall)\n",
    "        overall_f1.append(f1)\n",
    "        \n",
    "        # for negative class (noise), flip labels\n",
    "        \n",
    "        precision = conf_matrix[0,0] / (conf_matrix[0,0] + conf_matrix[1,0])\n",
    "        recall = conf_matrix[0,0] / (conf_matrix[0,0] + conf_matrix[0,1])\n",
    "        f1 = (2*precision*recall)/(precision+recall)\n",
    "        \n",
    "        print('Negative')\n",
    "        print('Precision: {} || Recall: {} || F1: {}'.format(precision, recall, f1))\n",
    "        \n",
    "        overall_negative_precision.append(precision)\n",
    "        overall_negative_recall.append(recall)\n",
    "        overall_negative_f1.append(f1)\n",
    "    \n",
    "    print('---------------------------')\n",
    "    print('Positive')\n",
    "    print('Overall Precision: {} (+/- {}) || Overall Recall: {} (+/- {}) || Overall F1: {} (+/- {})'.format(\n",
    "                                                                            np.mean(overall_precision), np.std(overall_precision, axis=0),\n",
    "                                                                           np.mean(overall_recall), np.std(overall_recall, axis=0),\n",
    "                                                                            np.mean(overall_f1), np.std(overall_f1, axis=0)))\n",
    "    \n",
    "    print('Negative')\n",
    "    print('Overall Precision: {} (+/- {}) || Overall Recall: {} (+/- {}) || Overall F1: {} (+/- {})'.format(\n",
    "                                                                            np.mean(overall_negative_precision), np.std(overall_negative_precision, axis=0),\n",
    "                                                                           np.mean(overall_negative_recall), np.std(overall_negative_recall, axis=0),\n",
    "                                                                            np.mean(overall_negative_f1), np.std(overall_negative_f1, axis=0)))"
   ]
  },
  {
   "cell_type": "markdown",
   "metadata": {},
   "source": [
    "# 1.0 Train Logistic Regression"
   ]
  },
  {
   "cell_type": "code",
   "execution_count": 4,
   "metadata": {},
   "outputs": [
    {
     "name": "stderr",
     "output_type": "stream",
     "text": [
      "/home/linda/anaconda3/lib/python3.7/site-packages/sklearn/linear_model/_logistic.py:940: ConvergenceWarning: lbfgs failed to converge (status=1):\n",
      "STOP: TOTAL NO. of ITERATIONS REACHED LIMIT.\n",
      "\n",
      "Increase the number of iterations (max_iter) or scale the data as shown in:\n",
      "    https://scikit-learn.org/stable/modules/preprocessing.html\n",
      "Please also refer to the documentation for alternative solver options:\n",
      "    https://scikit-learn.org/stable/modules/linear_model.html#logistic-regression\n",
      "  extra_warning_msg=_LOGISTIC_SOLVER_CONVERGENCE_MSG)\n"
     ]
    },
    {
     "name": "stdout",
     "output_type": "stream",
     "text": [
      "[[645505 654505]\n",
      " [  5392  17454]]\n",
      "Positive\n",
      "Precision: 0.025974799057680603 || Recall: 0.7639849426595465 || F1: 0.05024143464713121\n",
      "Negative\n",
      "Precision: 0.991716047239425 || Recall: 0.49653848816547563 || F1: 0.6617486123121195\n"
     ]
    },
    {
     "name": "stderr",
     "output_type": "stream",
     "text": [
      "/home/linda/anaconda3/lib/python3.7/site-packages/sklearn/linear_model/_logistic.py:940: ConvergenceWarning: lbfgs failed to converge (status=1):\n",
      "STOP: TOTAL NO. of ITERATIONS REACHED LIMIT.\n",
      "\n",
      "Increase the number of iterations (max_iter) or scale the data as shown in:\n",
      "    https://scikit-learn.org/stable/modules/preprocessing.html\n",
      "Please also refer to the documentation for alternative solver options:\n",
      "    https://scikit-learn.org/stable/modules/linear_model.html#logistic-regression\n",
      "  extra_warning_msg=_LOGISTIC_SOLVER_CONVERGENCE_MSG)\n"
     ]
    },
    {
     "name": "stdout",
     "output_type": "stream",
     "text": [
      "[[669339 630671]\n",
      " [  5896  16950]]\n",
      "Positive\n",
      "Precision: 0.026172715214608545 || Recall: 0.7419241880416703 || F1: 0.050561772615207015\n",
      "Negative\n",
      "Precision: 0.991268225136434 || Recall: 0.5148721932908208 || F1: 0.6777275730352436\n"
     ]
    },
    {
     "name": "stderr",
     "output_type": "stream",
     "text": [
      "/home/linda/anaconda3/lib/python3.7/site-packages/sklearn/linear_model/_logistic.py:940: ConvergenceWarning: lbfgs failed to converge (status=1):\n",
      "STOP: TOTAL NO. of ITERATIONS REACHED LIMIT.\n",
      "\n",
      "Increase the number of iterations (max_iter) or scale the data as shown in:\n",
      "    https://scikit-learn.org/stable/modules/preprocessing.html\n",
      "Please also refer to the documentation for alternative solver options:\n",
      "    https://scikit-learn.org/stable/modules/linear_model.html#logistic-regression\n",
      "  extra_warning_msg=_LOGISTIC_SOLVER_CONVERGENCE_MSG)\n"
     ]
    },
    {
     "name": "stdout",
     "output_type": "stream",
     "text": [
      "[[662948 637062]\n",
      " [  5704  17142]]\n",
      "Positive\n",
      "Precision: 0.026202835812682283 || Recall: 0.7503282850389565 || F1: 0.050637323683627514\n",
      "Negative\n",
      "Precision: 0.9914694041145469 || Recall: 0.5099560772609442 || F1: 0.6735010885565932\n"
     ]
    },
    {
     "name": "stderr",
     "output_type": "stream",
     "text": [
      "/home/linda/anaconda3/lib/python3.7/site-packages/sklearn/linear_model/_logistic.py:940: ConvergenceWarning: lbfgs failed to converge (status=1):\n",
      "STOP: TOTAL NO. of ITERATIONS REACHED LIMIT.\n",
      "\n",
      "Increase the number of iterations (max_iter) or scale the data as shown in:\n",
      "    https://scikit-learn.org/stable/modules/preprocessing.html\n",
      "Please also refer to the documentation for alternative solver options:\n",
      "    https://scikit-learn.org/stable/modules/linear_model.html#logistic-regression\n",
      "  extra_warning_msg=_LOGISTIC_SOLVER_CONVERGENCE_MSG)\n"
     ]
    },
    {
     "name": "stdout",
     "output_type": "stream",
     "text": [
      "[[666827 633183]\n",
      " [  5712  17134]]\n",
      "Positive\n",
      "Precision: 0.026347150697275327 || Recall: 0.7499781143307362 || F1: 0.05090594699946373\n",
      "Negative\n",
      "Precision: 0.9915068122443457 || Recall: 0.5129399004623041 || F1: 0.6761069053290945\n"
     ]
    },
    {
     "name": "stderr",
     "output_type": "stream",
     "text": [
      "/home/linda/anaconda3/lib/python3.7/site-packages/sklearn/linear_model/_logistic.py:940: ConvergenceWarning: lbfgs failed to converge (status=1):\n",
      "STOP: TOTAL NO. of ITERATIONS REACHED LIMIT.\n",
      "\n",
      "Increase the number of iterations (max_iter) or scale the data as shown in:\n",
      "    https://scikit-learn.org/stable/modules/preprocessing.html\n",
      "Please also refer to the documentation for alternative solver options:\n",
      "    https://scikit-learn.org/stable/modules/linear_model.html#logistic-regression\n",
      "  extra_warning_msg=_LOGISTIC_SOLVER_CONVERGENCE_MSG)\n"
     ]
    },
    {
     "name": "stdout",
     "output_type": "stream",
     "text": [
      "[[672871 627141]\n",
      " [  5955  16894]]\n",
      "Positive\n",
      "Precision: 0.02623149363000458 || Recall: 0.7393759026653245 || F1: 0.05066548305252488\n",
      "Negative\n",
      "Precision: 0.9912275015983477 || Recall: 0.5175882991849307 || F1: 0.6800667866697527\n",
      "---------------------------\n",
      "Positive\n",
      "Overall Precision: 0.02618579888245027 (+/- 0.00012091714808921444) || Overall Recall: 0.7491182865472469 (+/- 0.008601045996147878) || Overall F1: 0.050602392199590875 (+/- 0.00021414316993076287)\n",
      "Negative\n",
      "Overall Precision: 0.9914375980666199 (+/- 0.00017672797423103382) || Overall Recall: 0.510378991672895 (+/- 0.007354721250310183) || Overall F1: 0.6738301931805607 (+/- 0.006408447431673349)\n"
     ]
    }
   ],
   "source": [
    "# fit LogReg\n",
    "log_reg = LogisticRegression(random_state=88)\n",
    "get_cross_validation_two_class_normal_distribution(log_reg, ['instance', 'class', 'frequency', 'pidspread', 'pldspread', 'id', 'pids'])"
   ]
  },
  {
   "cell_type": "code",
   "execution_count": 2,
   "metadata": {},
   "outputs": [],
   "source": [
    "def get_cross_validation_two_class_normal_distribution_with_undersampling(model, X_columns_drop, scale=False,\n",
    "                                                                         sampling_strategy_oversample = 0.1,\n",
    "                                                                         sampling_strategy_undersample = 0.5,\n",
    "                                                                         k_neighbors=5):\n",
    "    \"\"\"Get cross validated confusion matrix for two class problem\"\"\"\n",
    "    \n",
    "    # positive scores\n",
    "    overall_precision = []\n",
    "    overall_recall = []\n",
    "    overall_f1 = []\n",
    "    \n",
    "    # negative scores\n",
    "    overall_negative_precision = []\n",
    "    overall_negative_recall = []\n",
    "    overall_negative_f1 = []\n",
    "    \n",
    "    # loop through all folds\n",
    "    \n",
    "    for x in range(5):\n",
    "        \n",
    "        # load data\n",
    "        train = pd.read_csv('/path/to/9_FINAL/data/machine_learning/two_class/one-hot-ecoding/train/cross_validation/training_fraction_normal_distribution/training_'+str(x)+'.csv',sep=\";\")\n",
    "        \n",
    "        # debug\n",
    "        train_id = train['id']\n",
    "        del train['Unnamed: 0']\n",
    "        y_train = train['label']\n",
    "        del train['label']\n",
    "        X_train = train.drop(X_columns_drop, axis=1)\n",
    "        \n",
    "        # oversample train\n",
    "        oversample = SMOTE(sampling_strategy=sampling_strategy_oversample,\n",
    "                          k_neighbors=k_neighbors)\n",
    "        X_train, y_train = oversample.fit_resample(X_train, y_train)\n",
    "        undersample = RandomUnderSampler(sampling_strategy=sampling_strategy_undersample)\n",
    "        X_train, y_train = undersample.fit_resample(X_train, y_train)\n",
    "        \n",
    "        validation = pd.read_csv('/path/to/9_FINAL/data/machine_learning/two_class/one-hot-ecoding/train/cross_validation/validation/val_fold_'+str(x)+'.csv',sep=\";\")\n",
    "        # print(validation[validation.id.isin(train_id)])\n",
    "        del validation['Unnamed: 0']\n",
    "        y_validation = validation['label']\n",
    "        del validation['label']\n",
    "        X_validation = validation.drop(X_columns_drop, axis=1)\n",
    "        \n",
    "        # scale if necesary\n",
    "        if scale:\n",
    "            min_max_scaler = preprocessing.MinMaxScaler()\n",
    "            X_train = pd.DataFrame(min_max_scaler.fit_transform(X_train))\n",
    "            X_validation = pd.DataFrame(min_max_scaler.fit_transform(X_validation))\n",
    "        \n",
    "        # fit model\n",
    "        model.fit(X_train, y_train)\n",
    "        \n",
    "        # predicted score\n",
    "        y_predict = model.predict(X_validation)\n",
    "        f1 = f1_score(y_validation, y_predict)\n",
    "        precision = precision_score(y_validation, y_predict)\n",
    "        recall = recall_score(y_validation, y_predict)\n",
    "        conf_matrix = confusion_matrix(y_validation, y_predict)\n",
    "        print(conf_matrix)\n",
    "        print('Positive')\n",
    "        print('Precision: {} || Recall: {} || F1: {}'.format(precision, recall, f1))\n",
    "        \n",
    "        overall_precision.append(precision)\n",
    "        overall_recall.append(recall)\n",
    "        overall_f1.append(f1)\n",
    "        \n",
    "        # for negative class (noise), flip labels\n",
    "        \n",
    "        precision = conf_matrix[0,0] / (conf_matrix[0,0] + conf_matrix[1,0])\n",
    "        recall = conf_matrix[0,0] / (conf_matrix[0,0] + conf_matrix[0,1])\n",
    "        f1 = (2*precision*recall)/(precision+recall)\n",
    "        \n",
    "        print('Negative')\n",
    "        print('Precision: {} || Recall: {} || F1: {}'.format(precision, recall, f1))\n",
    "        \n",
    "        overall_negative_precision.append(precision)\n",
    "        overall_negative_recall.append(recall)\n",
    "        overall_negative_f1.append(f1)\n",
    "    \n",
    "    print('---------------------------')\n",
    "    print('Positive')\n",
    "    print('Overall Precision: {} (+/- {}) || Overall Recall: {} (+/- {}) || Overall F1: {} (+/- {})'.format(\n",
    "                                                                            np.mean(overall_precision), np.std(overall_precision, axis=0),\n",
    "                                                                           np.mean(overall_recall), np.std(overall_recall, axis=0),\n",
    "                                                                            np.mean(overall_f1), np.std(overall_f1, axis=0)))\n",
    "    \n",
    "    print('Negative')\n",
    "    print('Overall Precision: {} (+/- {}) || Overall Recall: {} (+/- {}) || Overall F1: {} (+/- {})'.format(\n",
    "                                                                            np.mean(overall_negative_precision), np.std(overall_negative_precision, axis=0),\n",
    "                                                                           np.mean(overall_negative_recall), np.std(overall_negative_recall, axis=0),\n",
    "                                                                            np.mean(overall_negative_f1), np.std(overall_negative_f1, axis=0)))"
   ]
  },
  {
   "cell_type": "code",
   "execution_count": 5,
   "metadata": {},
   "outputs": [
    {
     "name": "stderr",
     "output_type": "stream",
     "text": [
      "/home/linda/anaconda3/lib/python3.7/site-packages/sklearn/linear_model/_logistic.py:940: ConvergenceWarning: lbfgs failed to converge (status=1):\n",
      "STOP: TOTAL NO. of ITERATIONS REACHED LIMIT.\n",
      "\n",
      "Increase the number of iterations (max_iter) or scale the data as shown in:\n",
      "    https://scikit-learn.org/stable/modules/preprocessing.html\n",
      "Please also refer to the documentation for alternative solver options:\n",
      "    https://scikit-learn.org/stable/modules/linear_model.html#logistic-regression\n",
      "  extra_warning_msg=_LOGISTIC_SOLVER_CONVERGENCE_MSG)\n"
     ]
    },
    {
     "name": "stdout",
     "output_type": "stream",
     "text": [
      "[[1206090   93920]\n",
      " [  17303    5543]]\n",
      "Positive\n",
      "Precision: 0.05572926615927531 || Recall: 0.24262452945811083 || F1: 0.09063928247308048\n",
      "Negative\n",
      "Precision: 0.9858565481411125 || Recall: 0.9277544018892162 || F1: 0.9559234097764011\n"
     ]
    },
    {
     "name": "stderr",
     "output_type": "stream",
     "text": [
      "/home/linda/anaconda3/lib/python3.7/site-packages/sklearn/linear_model/_logistic.py:940: ConvergenceWarning: lbfgs failed to converge (status=1):\n",
      "STOP: TOTAL NO. of ITERATIONS REACHED LIMIT.\n",
      "\n",
      "Increase the number of iterations (max_iter) or scale the data as shown in:\n",
      "    https://scikit-learn.org/stable/modules/preprocessing.html\n",
      "Please also refer to the documentation for alternative solver options:\n",
      "    https://scikit-learn.org/stable/modules/linear_model.html#logistic-regression\n",
      "  extra_warning_msg=_LOGISTIC_SOLVER_CONVERGENCE_MSG)\n"
     ]
    },
    {
     "name": "stdout",
     "output_type": "stream",
     "text": [
      "[[1206955   93055]\n",
      " [  17349    5497]]\n",
      "Positive\n",
      "Precision: 0.055777660524393216 || Recall: 0.24061104788584434 || F1: 0.0905616237499794\n",
      "Negative\n",
      "Precision: 0.9858294998627791 || Recall: 0.928419781386297 || F1: 0.9562637611644194\n"
     ]
    },
    {
     "name": "stderr",
     "output_type": "stream",
     "text": [
      "/home/linda/anaconda3/lib/python3.7/site-packages/sklearn/linear_model/_logistic.py:940: ConvergenceWarning: lbfgs failed to converge (status=1):\n",
      "STOP: TOTAL NO. of ITERATIONS REACHED LIMIT.\n",
      "\n",
      "Increase the number of iterations (max_iter) or scale the data as shown in:\n",
      "    https://scikit-learn.org/stable/modules/preprocessing.html\n",
      "Please also refer to the documentation for alternative solver options:\n",
      "    https://scikit-learn.org/stable/modules/linear_model.html#logistic-regression\n",
      "  extra_warning_msg=_LOGISTIC_SOLVER_CONVERGENCE_MSG)\n"
     ]
    },
    {
     "name": "stdout",
     "output_type": "stream",
     "text": [
      "[[1206475   93535]\n",
      " [  17319    5527]]\n",
      "Positive\n",
      "Precision: 0.055793341543679716 || Recall: 0.24192418804167032 || F1: 0.09067493519703383\n",
      "Negative\n",
      "Precision: 0.9858481084234765 || Recall: 0.928050553457281 || F1: 0.9560766208469438\n"
     ]
    },
    {
     "name": "stderr",
     "output_type": "stream",
     "text": [
      "/home/linda/anaconda3/lib/python3.7/site-packages/sklearn/linear_model/_logistic.py:940: ConvergenceWarning: lbfgs failed to converge (status=1):\n",
      "STOP: TOTAL NO. of ITERATIONS REACHED LIMIT.\n",
      "\n",
      "Increase the number of iterations (max_iter) or scale the data as shown in:\n",
      "    https://scikit-learn.org/stable/modules/preprocessing.html\n",
      "Please also refer to the documentation for alternative solver options:\n",
      "    https://scikit-learn.org/stable/modules/linear_model.html#logistic-regression\n",
      "  extra_warning_msg=_LOGISTIC_SOLVER_CONVERGENCE_MSG)\n"
     ]
    },
    {
     "name": "stdout",
     "output_type": "stream",
     "text": [
      "[[1207502   92508]\n",
      " [  17410    5436]]\n",
      "Positive\n",
      "Precision: 0.055501102670913995 || Recall: 0.2379409962356649 || F1: 0.09000745094792616\n",
      "Negative\n",
      "Precision: 0.9857867340674269 || Recall: 0.9288405473804048 || F1: 0.9564667740231184\n"
     ]
    },
    {
     "name": "stderr",
     "output_type": "stream",
     "text": [
      "/home/linda/anaconda3/lib/python3.7/site-packages/sklearn/linear_model/_logistic.py:940: ConvergenceWarning: lbfgs failed to converge (status=1):\n",
      "STOP: TOTAL NO. of ITERATIONS REACHED LIMIT.\n",
      "\n",
      "Increase the number of iterations (max_iter) or scale the data as shown in:\n",
      "    https://scikit-learn.org/stable/modules/preprocessing.html\n",
      "Please also refer to the documentation for alternative solver options:\n",
      "    https://scikit-learn.org/stable/modules/linear_model.html#logistic-regression\n",
      "  extra_warning_msg=_LOGISTIC_SOLVER_CONVERGENCE_MSG)\n"
     ]
    },
    {
     "name": "stdout",
     "output_type": "stream",
     "text": [
      "[[1206126   93886]\n",
      " [  17394    5455]]\n",
      "Positive\n",
      "Precision: 0.05491186921814759 || Recall: 0.23874130158869097 || F1: 0.0892871757099599\n",
      "Negative\n",
      "Precision: 0.9857836406433895 || Recall: 0.9277806666400003 || F1: 0.9559030755306451\n",
      "---------------------------\n",
      "Positive\n",
      "Overall Precision: 0.05554264802328196 (+/- 0.0003324191218446191) || Overall Recall: 0.24036841264199627 (+/- 0.001794949182191968) || Overall F1: 0.09023409361559596 (+/- 0.0005317547776759785)\n",
      "Negative\n",
      "Overall Precision: 0.985820906227637 (+/- 3.0465115533566255e-05) || Overall Recall: 0.9281691901506399 (+/- 0.00041245387196424583) || Overall F1: 0.9561267282683055 (+/- 0.0002136721038752652)\n"
     ]
    }
   ],
   "source": [
    "# fit LogReg\n",
    "log_reg = LogisticRegression(random_state=88)\n",
    "get_cross_validation_two_class_normal_distribution_with_undersampling(log_reg, ['instance', 'class', 'frequency', 'pidspread', 'pldspread', 'id', 'pids'])"
   ]
  },
  {
   "cell_type": "code",
   "execution_count": 6,
   "metadata": {},
   "outputs": [
    {
     "name": "stdout",
     "output_type": "stream",
     "text": [
      "[[1199526  100484]\n",
      " [  17274    5572]]\n",
      "Positive\n",
      "Precision: 0.052538281662517915 || Recall: 0.24389389827540925 || F1: 0.0864532745806892\n",
      "Negative\n",
      "Precision: 0.9858037475345167 || Recall: 0.9227052099599233 || F1: 0.953211406502676\n",
      "[[1203904   96106]\n",
      " [  17464    5382]]\n",
      "Positive\n",
      "Precision: 0.05303090020495034 || Recall: 0.23557734395517815 || F1: 0.08657326234175688\n",
      "Negative\n",
      "Precision: 0.9857012792213321 || Recall: 0.9260728763624895 || F1: 0.9549571702457941\n",
      "[[1196336  103674]\n",
      " [  17169    5677]]\n",
      "Positive\n",
      "Precision: 0.051915391720240324 || Recall: 0.24848988882080014 || F1: 0.08588697171645347\n",
      "Negative\n",
      "Precision: 0.9858517270221383 || Recall: 0.9202513826816717 || F1: 0.9519227058521632\n",
      "[[1202126   97884]\n",
      " [  17423    5423]]\n",
      "Positive\n",
      "Precision: 0.0524940226702934 || Recall: 0.23737196883480696 || F1: 0.08597496690526583\n",
      "Negative\n",
      "Precision: 0.9857135711644223 || Recall: 0.9247051945754263 || F1: 0.9542352451361529\n",
      "[[1197529  102483]\n",
      " [  17322    5527]]\n",
      "Positive\n",
      "Precision: 0.05117118785297658 || Recall: 0.24189242417611273 || F1: 0.08447260027969035\n",
      "Negative\n",
      "Precision: 0.9857414612985461 || Recall: 0.9211676507601468 || F1: 0.9523612220625935\n",
      "---------------------------\n",
      "Positive\n",
      "Overall Precision: 0.05222995682219571 (+/- 0.0006365922109512871) || Overall Recall: 0.24144510481246145 (+/- 0.004622698777384207) || Overall F1: 0.08587221516477114 (+/- 0.0007481703939235606)\n",
      "Negative\n",
      "Overall Precision: 0.9857623572481911 (+/- 5.700414080318053e-05) || Overall Recall: 0.9229804628679317 (+/- 0.002160909588515705) || Overall F1: 0.953337549959876 (+/- 0.0011313654302659297)\n"
     ]
    }
   ],
   "source": [
    "# fit xgboost\n",
    "xgb = xgb.XGBClassifier(random_state=88)\n",
    "get_cross_validation_two_class_normal_distribution_with_undersampling(xgb, ['instance', 'class', 'frequency', 'pidspread', 'pldspread', 'id', 'pids'])"
   ]
  },
  {
   "cell_type": "code",
   "execution_count": 8,
   "metadata": {},
   "outputs": [
    {
     "name": "stdout",
     "output_type": "stream",
     "text": [
      "[[1188653  111357]\n",
      " [  17124    5722]]\n",
      "Positive\n",
      "Precision: 0.048872983199378196 || Recall: 0.2504595990545391 || F1: 0.08178667143112381\n",
      "Negative\n",
      "Precision: 0.9857983690184835 || Recall: 0.9143414281428605 || F1: 0.9487262883876403\n"
     ]
    },
    {
     "name": "stderr",
     "output_type": "stream",
     "text": [
      "/home/linda/anaconda3/lib/python3.7/site-packages/sklearn/neural_network/_multilayer_perceptron.py:571: ConvergenceWarning: Stochastic Optimizer: Maximum iterations (200) reached and the optimization hasn't converged yet.\n",
      "  % self.max_iter, ConvergenceWarning)\n"
     ]
    },
    {
     "name": "stdout",
     "output_type": "stream",
     "text": [
      "[[1192685  107325]\n",
      " [  17476    5370]]\n",
      "Positive\n",
      "Precision: 0.047650738719552777 || Recall: 0.23505208789284776 || F1: 0.0792380165411204\n",
      "Negative\n",
      "Precision: 0.9855589462889649 || Recall: 0.9174429427465942 || F1: 0.9502818732269634\n",
      "[[1203809   96201]\n",
      " [  17773    5073]]\n",
      "Positive\n",
      "Precision: 0.05009183008472066 || Recall: 0.2220520003501707 || F1: 0.08174347405736383\n",
      "Negative\n",
      "Precision: 0.9854508334274735 || Recall: 0.9259998000015385 || F1: 0.9548007766522102\n",
      "[[1191579  108431]\n",
      " [  17417    5429]]\n",
      "Positive\n",
      "Precision: 0.047681363077463554 || Recall: 0.23763459686597216 || F1: 0.0794259213202054\n",
      "Negative\n",
      "Precision: 0.9855938315759523 || Recall: 0.9165921800601534 || F1: 0.9498414910127755\n",
      "[[1198206  101806]\n",
      " [  17537    5312]]\n",
      "Positive\n",
      "Precision: 0.04959017158647473 || Recall: 0.2324828220053394 || F1: 0.08174382727923242\n",
      "Negative\n",
      "Precision: 0.9855750763113585 || Recall: 0.9216884151838598 || F1: 0.9525617558148549\n",
      "---------------------------\n",
      "Positive\n",
      "Overall Precision: 0.04877741733351798 (+/- 0.0009867241582451165) || Overall Recall: 0.2355362212337738 (+/- 0.009148685486482861) || Overall F1: 0.08078758212580918 (+/- 0.0011900913636372782)\n",
      "Negative\n",
      "Overall Precision: 0.9855954113244465 (+/- 0.00011299584154933397) || Overall Recall: 0.9192129532270013 (+/- 0.0041454154623905585) || Overall F1: 0.9512424370188889 (+/- 0.0021734175611875396)\n"
     ]
    }
   ],
   "source": [
    "# fit mlpclassifier\n",
    "mlp = MLPClassifier(random_state=88)\n",
    "get_cross_validation_two_class_normal_distribution_with_undersampling(mlp, ['instance', 'class', 'frequency', 'pidspread', 'pldspread', 'id', 'pids'])"
   ]
  },
  {
   "cell_type": "code",
   "execution_count": 11,
   "metadata": {},
   "outputs": [
    {
     "name": "stdout",
     "output_type": "stream",
     "text": [
      "[[ 276849 1023161]\n",
      " [   2227   20619]]\n",
      "Positive\n",
      "Precision: 0.019754162754603462 || Recall: 0.9025212290991859 || F1: 0.03866209899252409\n",
      "Negative\n",
      "Precision: 0.9920200948845476 || Recall: 0.21295913108360706 || F1: 0.35064461340294323\n",
      "[[ 282412 1017598]\n",
      " [   2234   20612]]\n",
      "Positive\n",
      "Precision: 0.019853401527629284 || Recall: 0.9022148297294931 || F1: 0.03885186078774353\n",
      "Negative\n",
      "Precision: 0.9921516550381878 || Recall: 0.21723832893593126 || F1: 0.3564331943336598\n",
      "[[ 209068 1090942]\n",
      " [   1495   21351]]\n",
      "Positive\n",
      "Precision: 0.019195481766045457 || Recall: 0.9345618489013394 || F1: 0.03761830049007214\n",
      "Negative\n",
      "Precision: 0.9928999871772344 || Recall: 0.16082030138229705 || F1: 0.2768062185673913\n",
      "[[ 200247 1099763]\n",
      " [   1450   21396]]\n",
      "Positive\n",
      "Precision: 0.019083823079509687 || Recall: 0.9365315591350784 || F1: 0.03740543092031941\n",
      "Negative\n",
      "Precision: 0.9928109986762321 || Recall: 0.1540349689617772 || F1: 0.266692503930527\n",
      "[[ 268463 1031549]\n",
      " [   2061   20788]]\n",
      "Positive\n",
      "Precision: 0.019754128192774747 || Recall: 0.9097991159350519 || F1: 0.038668658260059184\n",
      "Negative\n",
      "Precision: 0.9923814522925877 || Recall: 0.2065080937714421 || F1: 0.3418743664583301\n",
      "---------------------------\n",
      "Positive\n",
      "Overall Precision: 0.01952819946411253 (+/- 0.0003212572237319235) || Overall Recall: 0.9171257165600297 (+/- 0.01529647092538784) || Overall F1: 0.038241269890143675 (+/- 0.0006032075684676906)\n",
      "Negative\n",
      "Overall Precision: 0.9924528376137578 (+/- 0.0003496555895105614) || Overall Recall: 0.1903121648270109 (+/- 0.027151487833660823) || Overall F1: 0.31849017933857027 (+/- 0.03857707087745215)\n"
     ]
    }
   ],
   "source": [
    "# fit naive bayes\n",
    "nb = GaussianNB()\n",
    "get_cross_validation_two_class_normal_distribution_with_undersampling(nb, ['instance', 'class', 'frequency', 'pidspread', 'pldspread', 'id', 'pids'])"
   ]
  },
  {
   "cell_type": "code",
   "execution_count": 16,
   "metadata": {},
   "outputs": [
    {
     "name": "stdout",
     "output_type": "stream",
     "text": [
      "[[1188433  111577]\n",
      " [  17526    5320]]\n",
      "Positive\n",
      "Precision: 0.04551014996107684 || Recall: 0.23286352096647114 || F1: 0.07613977086508804\n",
      "Negative\n",
      "Precision: 0.9854671676234432 || Recall: 0.9141721986753948 || F1: 0.9484818048427573\n",
      "[[1191397  108613]\n",
      " [  17758    5088]]\n",
      "Positive\n",
      "Precision: 0.0447489467990607 || Recall: 0.2227085704280837 || F1: 0.07452379034325178\n",
      "Negative\n",
      "Precision: 0.9853137108145771 || Recall: 0.9164521811370682 || F1: 0.9496362335677407\n",
      "[[1188265  111745]\n",
      " [  17599    5247]]\n",
      "Positive\n",
      "Precision: 0.0448492204595186 || Recall: 0.2296682132539613 || F1: 0.07504397946194882\n",
      "Negative\n",
      "Precision: 0.9854054851956772 || Recall: 0.9140429689002393 || F1: 0.9483836777108506\n",
      "[[1188947  111063]\n",
      " [  17611    5235]]\n",
      "Positive\n",
      "Precision: 0.04501367177423515 || Recall: 0.2291429571916309 || F1: 0.07524578853561778\n",
      "Negative\n",
      "Precision: 0.985403934166447 || Recall: 0.9145675802493827 || F1: 0.948665266611558\n",
      "[[1190985  109027]\n",
      " [  17728    5121]]\n",
      "Positive\n",
      "Precision: 0.04486280968567123 || Recall: 0.22412359403037332 || F1: 0.07476076118455148\n",
      "Negative\n",
      "Precision: 0.9853331601463705 || Recall: 0.916133851072144 || F1: 0.9494743345723425\n",
      "---------------------------\n",
      "Positive\n",
      "Overall Precision: 0.044996959735912515 (+/- 0.0002701766259483271) || Overall Recall: 0.2277013711741041 (+/- 0.003750279378167049) || Overall F1: 0.07514281807809159 (+/- 0.0005555987136534029)\n",
      "Negative\n",
      "Overall Precision: 0.985384691589303 (+/- 5.531492934114809e-05) || Overall Recall: 0.9150737560068458 (+/- 0.0010154209930448286) || Overall F1: 0.9489282634610499 (+/- 0.0005223947952586533)\n"
     ]
    }
   ],
   "source": [
    "# fit decision tree\n",
    "dt = DecisionTreeClassifier()\n",
    "get_cross_validation_two_class_normal_distribution_with_undersampling(dt, ['instance', 'class', 'frequency', 'pidspread', 'pldspread', 'id', 'pids'])"
   ]
  },
  {
   "cell_type": "code",
   "execution_count": 1,
   "metadata": {},
   "outputs": [],
   "source": [
    "undersampling_parameters = [0.1, 0.3, 0.5]\n",
    "oversampling_parameters = [0.1, 0.3, 0.5]"
   ]
  },
  {
   "cell_type": "code",
   "execution_count": 2,
   "metadata": {},
   "outputs": [
    {
     "data": {
      "text/plain": [
       "[[0.1, 0.1],\n",
       " [0.1, 0.3],\n",
       " [0.1, 0.5],\n",
       " [0.3, 0.1],\n",
       " [0.3, 0.3],\n",
       " [0.3, 0.5],\n",
       " [0.5, 0.1],\n",
       " [0.5, 0.3],\n",
       " [0.5, 0.5]]"
      ]
     },
     "execution_count": 2,
     "metadata": {},
     "output_type": "execute_result"
    }
   ],
   "source": [
    "sampling_parameters = []\n",
    "for undersampling in undersampling_parameters:\n",
    "    for oversampling in oversampling_parameters:\n",
    "        sampling_parameters.append([undersampling, oversampling])\n",
    "sampling_parameters"
   ]
  },
  {
   "cell_type": "code",
   "execution_count": 6,
   "metadata": {},
   "outputs": [
    {
     "name": "stdout",
     "output_type": "stream",
     "text": [
      "start with parameters [0.1, 0.1]\n"
     ]
    },
    {
     "name": "stderr",
     "output_type": "stream",
     "text": [
      "/home/linda/anaconda3/lib/python3.7/site-packages/sklearn/linear_model/_logistic.py:940: ConvergenceWarning: lbfgs failed to converge (status=1):\n",
      "STOP: TOTAL NO. of ITERATIONS REACHED LIMIT.\n",
      "\n",
      "Increase the number of iterations (max_iter) or scale the data as shown in:\n",
      "    https://scikit-learn.org/stable/modules/preprocessing.html\n",
      "Please also refer to the documentation for alternative solver options:\n",
      "    https://scikit-learn.org/stable/modules/linear_model.html#logistic-regression\n",
      "  extra_warning_msg=_LOGISTIC_SOLVER_CONVERGENCE_MSG)\n"
     ]
    },
    {
     "name": "stdout",
     "output_type": "stream",
     "text": [
      "[[1213093   86917]\n",
      " [  17528    5318]]\n",
      "Positive\n",
      "Precision: 0.05765707161055998 || Recall: 0.2327759782894161 || F1: 0.09242185938599769\n",
      "Negative\n",
      "Precision: 0.9857567845827432 || Recall: 0.9331412835285883 || F1: 0.9587276849133675\n"
     ]
    },
    {
     "name": "stderr",
     "output_type": "stream",
     "text": [
      "/home/linda/anaconda3/lib/python3.7/site-packages/sklearn/linear_model/_logistic.py:940: ConvergenceWarning: lbfgs failed to converge (status=1):\n",
      "STOP: TOTAL NO. of ITERATIONS REACHED LIMIT.\n",
      "\n",
      "Increase the number of iterations (max_iter) or scale the data as shown in:\n",
      "    https://scikit-learn.org/stable/modules/preprocessing.html\n",
      "Please also refer to the documentation for alternative solver options:\n",
      "    https://scikit-learn.org/stable/modules/linear_model.html#logistic-regression\n",
      "  extra_warning_msg=_LOGISTIC_SOLVER_CONVERGENCE_MSG)\n"
     ]
    },
    {
     "name": "stdout",
     "output_type": "stream",
     "text": [
      "[[1207381   92629]\n",
      " [  17368    5478]]\n",
      "Positive\n",
      "Precision: 0.0558369943021395 || Recall: 0.23977939245382124 || F1: 0.09058063876051027\n",
      "Negative\n",
      "Precision: 0.9858191351860667 || Recall: 0.9287474711732987 || F1: 0.956432673375954\n"
     ]
    },
    {
     "name": "stderr",
     "output_type": "stream",
     "text": [
      "/home/linda/anaconda3/lib/python3.7/site-packages/sklearn/linear_model/_logistic.py:940: ConvergenceWarning: lbfgs failed to converge (status=1):\n",
      "STOP: TOTAL NO. of ITERATIONS REACHED LIMIT.\n",
      "\n",
      "Increase the number of iterations (max_iter) or scale the data as shown in:\n",
      "    https://scikit-learn.org/stable/modules/preprocessing.html\n",
      "Please also refer to the documentation for alternative solver options:\n",
      "    https://scikit-learn.org/stable/modules/linear_model.html#logistic-regression\n",
      "  extra_warning_msg=_LOGISTIC_SOLVER_CONVERGENCE_MSG)\n"
     ]
    },
    {
     "name": "stdout",
     "output_type": "stream",
     "text": [
      "[[1198536  101474]\n",
      " [  17034    5812]]\n",
      "Positive\n",
      "Precision: 0.054172958261096506 || Recall: 0.254399019522017 || F1: 0.08932468570374695\n",
      "Negative\n",
      "Precision: 0.9859868209975567 || Recall: 0.921943677356328 || F1: 0.9528903871075458\n"
     ]
    },
    {
     "name": "stderr",
     "output_type": "stream",
     "text": [
      "/home/linda/anaconda3/lib/python3.7/site-packages/sklearn/linear_model/_logistic.py:940: ConvergenceWarning: lbfgs failed to converge (status=1):\n",
      "STOP: TOTAL NO. of ITERATIONS REACHED LIMIT.\n",
      "\n",
      "Increase the number of iterations (max_iter) or scale the data as shown in:\n",
      "    https://scikit-learn.org/stable/modules/preprocessing.html\n",
      "Please also refer to the documentation for alternative solver options:\n",
      "    https://scikit-learn.org/stable/modules/linear_model.html#logistic-regression\n",
      "  extra_warning_msg=_LOGISTIC_SOLVER_CONVERGENCE_MSG)\n"
     ]
    },
    {
     "name": "stdout",
     "output_type": "stream",
     "text": [
      "[[1206271   93739]\n",
      " [  17349    5497]]\n",
      "Positive\n",
      "Precision: 0.05539320407916482 || Recall: 0.24061104788584434 || F1: 0.09005422584820039\n",
      "Negative\n",
      "Precision: 0.9858215785946618 || Recall: 0.9278936315874493 || F1: 0.9559808688278393\n"
     ]
    },
    {
     "name": "stderr",
     "output_type": "stream",
     "text": [
      "/home/linda/anaconda3/lib/python3.7/site-packages/sklearn/linear_model/_logistic.py:940: ConvergenceWarning: lbfgs failed to converge (status=1):\n",
      "STOP: TOTAL NO. of ITERATIONS REACHED LIMIT.\n",
      "\n",
      "Increase the number of iterations (max_iter) or scale the data as shown in:\n",
      "    https://scikit-learn.org/stable/modules/preprocessing.html\n",
      "Please also refer to the documentation for alternative solver options:\n",
      "    https://scikit-learn.org/stable/modules/linear_model.html#logistic-regression\n",
      "  extra_warning_msg=_LOGISTIC_SOLVER_CONVERGENCE_MSG)\n"
     ]
    },
    {
     "name": "stdout",
     "output_type": "stream",
     "text": [
      "[[1206519   93493]\n",
      " [  17416    5433]]\n",
      "Positive\n",
      "Precision: 0.0549198390716293 || Recall: 0.23777845857586766 || F1: 0.08923013754875797\n",
      "Negative\n",
      "Precision: 0.9857704861777791 || Recall: 0.9280829715418012 || F1: 0.9560573181608013\n",
      "---------------------------\n",
      "Positive\n",
      "Overall Precision: 0.055596013464918013 (+/- 0.00116871399528178) || Overall Recall: 0.24106877934539325 (+/- 0.007199501370679493) || Overall F1: 0.09032230944944265 (+/- 0.0011605865228341277)\n",
      "Negative\n",
      "Overall Precision: 0.9858309611077616 (+/- 8.20726059573557e-05) || Overall Recall: 0.9279618070374932 (+/- 0.003568794150536345) || Overall F1: 0.9560177864771016 (+/- 0.001860066297595686)\n",
      "------------------------------------------\n",
      "------------------------------------------\n",
      "start with parameters [0.1, 0.3]\n"
     ]
    },
    {
     "name": "stderr",
     "output_type": "stream",
     "text": [
      "/home/linda/anaconda3/lib/python3.7/site-packages/sklearn/linear_model/_logistic.py:940: ConvergenceWarning: lbfgs failed to converge (status=1):\n",
      "STOP: TOTAL NO. of ITERATIONS REACHED LIMIT.\n",
      "\n",
      "Increase the number of iterations (max_iter) or scale the data as shown in:\n",
      "    https://scikit-learn.org/stable/modules/preprocessing.html\n",
      "Please also refer to the documentation for alternative solver options:\n",
      "    https://scikit-learn.org/stable/modules/linear_model.html#logistic-regression\n",
      "  extra_warning_msg=_LOGISTIC_SOLVER_CONVERGENCE_MSG)\n"
     ]
    },
    {
     "name": "stdout",
     "output_type": "stream",
     "text": [
      "[[1206904   93106]\n",
      " [  17355    5491]]\n",
      "Positive\n",
      "Precision: 0.05569134963538444 || Recall: 0.24034841985467917 || F1: 0.09042925487677346\n",
      "Negative\n",
      "Precision: 0.9858240780749825 || Recall: 0.9283805509188391 || F1: 0.9562404006862976\n"
     ]
    },
    {
     "name": "stderr",
     "output_type": "stream",
     "text": [
      "/home/linda/anaconda3/lib/python3.7/site-packages/sklearn/linear_model/_logistic.py:940: ConvergenceWarning: lbfgs failed to converge (status=1):\n",
      "STOP: TOTAL NO. of ITERATIONS REACHED LIMIT.\n",
      "\n",
      "Increase the number of iterations (max_iter) or scale the data as shown in:\n",
      "    https://scikit-learn.org/stable/modules/preprocessing.html\n",
      "Please also refer to the documentation for alternative solver options:\n",
      "    https://scikit-learn.org/stable/modules/linear_model.html#logistic-regression\n",
      "  extra_warning_msg=_LOGISTIC_SOLVER_CONVERGENCE_MSG)\n"
     ]
    },
    {
     "name": "stdout",
     "output_type": "stream",
     "text": [
      "[[1200281   99729]\n",
      " [  17107    5739]]\n",
      "Positive\n",
      "Precision: 0.0544146091705541 || Recall: 0.2512037118095071 || F1: 0.08945243699050764\n",
      "Negative\n",
      "Precision: 0.9859477832868403 || Recall: 0.9232859747232713 || F1: 0.9535885863101504\n"
     ]
    },
    {
     "name": "stderr",
     "output_type": "stream",
     "text": [
      "/home/linda/anaconda3/lib/python3.7/site-packages/sklearn/linear_model/_logistic.py:940: ConvergenceWarning: lbfgs failed to converge (status=1):\n",
      "STOP: TOTAL NO. of ITERATIONS REACHED LIMIT.\n",
      "\n",
      "Increase the number of iterations (max_iter) or scale the data as shown in:\n",
      "    https://scikit-learn.org/stable/modules/preprocessing.html\n",
      "Please also refer to the documentation for alternative solver options:\n",
      "    https://scikit-learn.org/stable/modules/linear_model.html#logistic-regression\n",
      "  extra_warning_msg=_LOGISTIC_SOLVER_CONVERGENCE_MSG)\n"
     ]
    },
    {
     "name": "stdout",
     "output_type": "stream",
     "text": [
      "[[1199536  100474]\n",
      " [  17076    5770]]\n",
      "Positive\n",
      "Precision: 0.054308949211249576 || Recall: 0.25256062330386064 || F1: 0.08939499573940661\n",
      "Negative\n",
      "Precision: 0.9859643008617374 || Recall: 0.9227129022084446 || F1: 0.9532905617132807\n"
     ]
    },
    {
     "name": "stderr",
     "output_type": "stream",
     "text": [
      "/home/linda/anaconda3/lib/python3.7/site-packages/sklearn/linear_model/_logistic.py:940: ConvergenceWarning: lbfgs failed to converge (status=1):\n",
      "STOP: TOTAL NO. of ITERATIONS REACHED LIMIT.\n",
      "\n",
      "Increase the number of iterations (max_iter) or scale the data as shown in:\n",
      "    https://scikit-learn.org/stable/modules/preprocessing.html\n",
      "Please also refer to the documentation for alternative solver options:\n",
      "    https://scikit-learn.org/stable/modules/linear_model.html#logistic-regression\n",
      "  extra_warning_msg=_LOGISTIC_SOLVER_CONVERGENCE_MSG)\n"
     ]
    },
    {
     "name": "stdout",
     "output_type": "stream",
     "text": [
      "[[1206841   93169]\n",
      " [  17399    5447]]\n",
      "Positive\n",
      "Precision: 0.05523444471485357 || Recall: 0.23842248095946775 || F1: 0.08969060282228186\n",
      "Negative\n",
      "Precision: 0.9857879174018166 || Recall: 0.9283320897531557 || F1: 0.9561976824799446\n"
     ]
    },
    {
     "name": "stderr",
     "output_type": "stream",
     "text": [
      "/home/linda/anaconda3/lib/python3.7/site-packages/sklearn/linear_model/_logistic.py:940: ConvergenceWarning: lbfgs failed to converge (status=1):\n",
      "STOP: TOTAL NO. of ITERATIONS REACHED LIMIT.\n",
      "\n",
      "Increase the number of iterations (max_iter) or scale the data as shown in:\n",
      "    https://scikit-learn.org/stable/modules/preprocessing.html\n",
      "Please also refer to the documentation for alternative solver options:\n",
      "    https://scikit-learn.org/stable/modules/linear_model.html#logistic-regression\n",
      "  extra_warning_msg=_LOGISTIC_SOLVER_CONVERGENCE_MSG)\n"
     ]
    },
    {
     "name": "stdout",
     "output_type": "stream",
     "text": [
      "[[1207526   92486]\n",
      " [  17470    5379]]\n",
      "Positive\n",
      "Precision: 0.05496347008634343 || Recall: 0.23541511663530132 || F1: 0.08911973756150902\n",
      "Negative\n",
      "Precision: 0.9857387289427884 || Recall: 0.9288575797761867 || F1: 0.956453207276967\n",
      "---------------------------\n",
      "Positive\n",
      "Overall Precision: 0.05492256456367702 (+/- 0.0005146873728973777) || Overall Recall: 0.24359007051256318 (+/- 0.006963914170240248) || Overall F1: 0.08961740559809572 (+/- 0.0004447046989384839)\n",
      "Negative\n",
      "Overall Precision: 0.985852561713633 (+/- 8.888294511583076e-05) || Overall Recall: 0.9263138194759796 (+/- 0.002718453944714932) || Overall F1: 0.9551540876933281 (+/- 0.0014057312224592825)\n",
      "------------------------------------------\n",
      "------------------------------------------\n",
      "start with parameters [0.1, 0.5]\n"
     ]
    },
    {
     "name": "stderr",
     "output_type": "stream",
     "text": [
      "/home/linda/anaconda3/lib/python3.7/site-packages/sklearn/linear_model/_logistic.py:940: ConvergenceWarning: lbfgs failed to converge (status=1):\n",
      "STOP: TOTAL NO. of ITERATIONS REACHED LIMIT.\n",
      "\n",
      "Increase the number of iterations (max_iter) or scale the data as shown in:\n",
      "    https://scikit-learn.org/stable/modules/preprocessing.html\n",
      "Please also refer to the documentation for alternative solver options:\n",
      "    https://scikit-learn.org/stable/modules/linear_model.html#logistic-regression\n",
      "  extra_warning_msg=_LOGISTIC_SOLVER_CONVERGENCE_MSG)\n"
     ]
    },
    {
     "name": "stdout",
     "output_type": "stream",
     "text": [
      "[[1206887   93123]\n",
      " [  17366    5480]]\n",
      "Positive\n",
      "Precision: 0.05557640234069957 || Recall: 0.2398669351308763 || F1: 0.09024364136386467\n",
      "Negative\n",
      "Precision: 0.9858150235286334 || Recall: 0.9283674740963531 || F1: 0.9562292043261738\n"
     ]
    },
    {
     "name": "stderr",
     "output_type": "stream",
     "text": [
      "/home/linda/anaconda3/lib/python3.7/site-packages/sklearn/linear_model/_logistic.py:940: ConvergenceWarning: lbfgs failed to converge (status=1):\n",
      "STOP: TOTAL NO. of ITERATIONS REACHED LIMIT.\n",
      "\n",
      "Increase the number of iterations (max_iter) or scale the data as shown in:\n",
      "    https://scikit-learn.org/stable/modules/preprocessing.html\n",
      "Please also refer to the documentation for alternative solver options:\n",
      "    https://scikit-learn.org/stable/modules/linear_model.html#logistic-regression\n",
      "  extra_warning_msg=_LOGISTIC_SOLVER_CONVERGENCE_MSG)\n"
     ]
    },
    {
     "name": "stdout",
     "output_type": "stream",
     "text": [
      "[[1200883   99127]\n",
      " [  17129    5717]]\n",
      "Positive\n",
      "Precision: 0.05452863301667239 || Recall: 0.2502407423619014 || F1: 0.08954499177695983\n",
      "Negative\n",
      "Precision: 0.9859369201617061 || Recall: 0.9237490480842455 || F1: 0.9538304272162833\n"
     ]
    },
    {
     "name": "stderr",
     "output_type": "stream",
     "text": [
      "/home/linda/anaconda3/lib/python3.7/site-packages/sklearn/linear_model/_logistic.py:940: ConvergenceWarning: lbfgs failed to converge (status=1):\n",
      "STOP: TOTAL NO. of ITERATIONS REACHED LIMIT.\n",
      "\n",
      "Increase the number of iterations (max_iter) or scale the data as shown in:\n",
      "    https://scikit-learn.org/stable/modules/preprocessing.html\n",
      "Please also refer to the documentation for alternative solver options:\n",
      "    https://scikit-learn.org/stable/modules/linear_model.html#logistic-regression\n",
      "  extra_warning_msg=_LOGISTIC_SOLVER_CONVERGENCE_MSG)\n"
     ]
    },
    {
     "name": "stdout",
     "output_type": "stream",
     "text": [
      "[[1199872  100138]\n",
      " [  17118    5728]]\n",
      "Positive\n",
      "Precision: 0.05410613416961064 || Recall: 0.2507222270857043 || F1: 0.08900491018708434\n",
      "Negative\n",
      "Precision: 0.9859341490069762 || Recall: 0.9229713617587557 || F1: 0.953414382201033\n"
     ]
    },
    {
     "name": "stderr",
     "output_type": "stream",
     "text": [
      "/home/linda/anaconda3/lib/python3.7/site-packages/sklearn/linear_model/_logistic.py:940: ConvergenceWarning: lbfgs failed to converge (status=1):\n",
      "STOP: TOTAL NO. of ITERATIONS REACHED LIMIT.\n",
      "\n",
      "Increase the number of iterations (max_iter) or scale the data as shown in:\n",
      "    https://scikit-learn.org/stable/modules/preprocessing.html\n",
      "Please also refer to the documentation for alternative solver options:\n",
      "    https://scikit-learn.org/stable/modules/linear_model.html#logistic-regression\n",
      "  extra_warning_msg=_LOGISTIC_SOLVER_CONVERGENCE_MSG)\n"
     ]
    },
    {
     "name": "stdout",
     "output_type": "stream",
     "text": [
      "[[1207162   92848]\n",
      " [  17401    5445]]\n",
      "Positive\n",
      "Precision: 0.05539560294222376 || Recall: 0.23833493828241267 || F1: 0.08989673020249465\n",
      "Negative\n",
      "Precision: 0.985790032852536 || Recall: 0.9285790109306852 || F1: 0.9563296446567399\n"
     ]
    },
    {
     "name": "stderr",
     "output_type": "stream",
     "text": [
      "/home/linda/anaconda3/lib/python3.7/site-packages/sklearn/linear_model/_logistic.py:940: ConvergenceWarning: lbfgs failed to converge (status=1):\n",
      "STOP: TOTAL NO. of ITERATIONS REACHED LIMIT.\n",
      "\n",
      "Increase the number of iterations (max_iter) or scale the data as shown in:\n",
      "    https://scikit-learn.org/stable/modules/preprocessing.html\n",
      "Please also refer to the documentation for alternative solver options:\n",
      "    https://scikit-learn.org/stable/modules/linear_model.html#logistic-regression\n",
      "  extra_warning_msg=_LOGISTIC_SOLVER_CONVERGENCE_MSG)\n"
     ]
    },
    {
     "name": "stdout",
     "output_type": "stream",
     "text": [
      "[[1207363   92649]\n",
      " [  17475    5374]]\n",
      "Positive\n",
      "Precision: 0.054823867867745325 || Recall: 0.23519628867784148 || F1: 0.08892051095373618\n",
      "Negative\n",
      "Precision: 0.9857328071140836 || Recall: 0.9287321963181878 || F1: 0.9563839436006099\n",
      "---------------------------\n",
      "Positive\n",
      "Overall Precision: 0.054886128067390336 (+/- 0.0005433438588592587) || Overall Recall: 0.24287222630774724 (+/- 0.006394627701986725) || Overall F1: 0.08952215689682794 (+/- 0.0005081118831169683)\n",
      "Negative\n",
      "Overall Precision: 0.9858417865327869 (+/- 8.105855846416355e-05) || Overall Recall: 0.9264798182376455 (+/- 0.0025616180088411213) || Overall F1: 0.955237520400168 (+/- 0.0013262128544605538)\n",
      "------------------------------------------\n",
      "------------------------------------------\n",
      "start with parameters [0.3, 0.1]\n"
     ]
    },
    {
     "name": "stderr",
     "output_type": "stream",
     "text": [
      "/home/linda/anaconda3/lib/python3.7/site-packages/sklearn/linear_model/_logistic.py:940: ConvergenceWarning: lbfgs failed to converge (status=1):\n",
      "STOP: TOTAL NO. of ITERATIONS REACHED LIMIT.\n",
      "\n",
      "Increase the number of iterations (max_iter) or scale the data as shown in:\n",
      "    https://scikit-learn.org/stable/modules/preprocessing.html\n",
      "Please also refer to the documentation for alternative solver options:\n",
      "    https://scikit-learn.org/stable/modules/linear_model.html#logistic-regression\n",
      "  extra_warning_msg=_LOGISTIC_SOLVER_CONVERGENCE_MSG)\n"
     ]
    },
    {
     "name": "stdout",
     "output_type": "stream",
     "text": [
      "[[1212736   87274]\n",
      " [  17536    5310]]\n",
      "Positive\n",
      "Precision: 0.05735332238831763 || Recall: 0.23242580758119583 || F1: 0.09200381183401196\n",
      "Negative\n",
      "Precision: 0.9857462414815585 || Recall: 0.9328666702563826 || F1: 0.9585777395563024\n"
     ]
    },
    {
     "name": "stderr",
     "output_type": "stream",
     "text": [
      "/home/linda/anaconda3/lib/python3.7/site-packages/sklearn/linear_model/_logistic.py:940: ConvergenceWarning: lbfgs failed to converge (status=1):\n",
      "STOP: TOTAL NO. of ITERATIONS REACHED LIMIT.\n",
      "\n",
      "Increase the number of iterations (max_iter) or scale the data as shown in:\n",
      "    https://scikit-learn.org/stable/modules/preprocessing.html\n",
      "Please also refer to the documentation for alternative solver options:\n",
      "    https://scikit-learn.org/stable/modules/linear_model.html#logistic-regression\n",
      "  extra_warning_msg=_LOGISTIC_SOLVER_CONVERGENCE_MSG)\n"
     ]
    },
    {
     "name": "stdout",
     "output_type": "stream",
     "text": [
      "[[1206469   93541]\n",
      " [  17326    5520]]\n",
      "Positive\n",
      "Precision: 0.05572324123519851 || Recall: 0.24161778867197758 || F1: 0.0905608373596266\n",
      "Negative\n",
      "Precision: 0.985842400075176 || Recall: 0.9280459381081684 || F1: 0.9560714872979489\n"
     ]
    },
    {
     "name": "stderr",
     "output_type": "stream",
     "text": [
      "/home/linda/anaconda3/lib/python3.7/site-packages/sklearn/linear_model/_logistic.py:940: ConvergenceWarning: lbfgs failed to converge (status=1):\n",
      "STOP: TOTAL NO. of ITERATIONS REACHED LIMIT.\n",
      "\n",
      "Increase the number of iterations (max_iter) or scale the data as shown in:\n",
      "    https://scikit-learn.org/stable/modules/preprocessing.html\n",
      "Please also refer to the documentation for alternative solver options:\n",
      "    https://scikit-learn.org/stable/modules/linear_model.html#logistic-regression\n",
      "  extra_warning_msg=_LOGISTIC_SOLVER_CONVERGENCE_MSG)\n"
     ]
    },
    {
     "name": "stdout",
     "output_type": "stream",
     "text": [
      "[[1206909   93101]\n",
      " [  17347    5499]]\n",
      "Positive\n",
      "Precision: 0.05577079107505071 || Recall: 0.2406985905628994 || F1: 0.0905587668593449\n",
      "Negative\n",
      "Precision: 0.9858305779183438 || Recall: 0.9283843970430997 || F1: 0.9562454986915008\n"
     ]
    },
    {
     "name": "stderr",
     "output_type": "stream",
     "text": [
      "/home/linda/anaconda3/lib/python3.7/site-packages/sklearn/linear_model/_logistic.py:940: ConvergenceWarning: lbfgs failed to converge (status=1):\n",
      "STOP: TOTAL NO. of ITERATIONS REACHED LIMIT.\n",
      "\n",
      "Increase the number of iterations (max_iter) or scale the data as shown in:\n",
      "    https://scikit-learn.org/stable/modules/preprocessing.html\n",
      "Please also refer to the documentation for alternative solver options:\n",
      "    https://scikit-learn.org/stable/modules/linear_model.html#logistic-regression\n",
      "  extra_warning_msg=_LOGISTIC_SOLVER_CONVERGENCE_MSG)\n"
     ]
    },
    {
     "name": "stdout",
     "output_type": "stream",
     "text": [
      "[[1206590   93420]\n",
      " [  17369    5477]]\n",
      "Positive\n",
      "Precision: 0.055380850784149165 || Recall: 0.2397356211152937 || F1: 0.08997642574932439\n",
      "Negative\n",
      "Precision: 0.9858091651762845 || Recall: 0.9281390143152745 || F1: 0.9561052453496853\n"
     ]
    },
    {
     "name": "stderr",
     "output_type": "stream",
     "text": [
      "/home/linda/anaconda3/lib/python3.7/site-packages/sklearn/linear_model/_logistic.py:940: ConvergenceWarning: lbfgs failed to converge (status=1):\n",
      "STOP: TOTAL NO. of ITERATIONS REACHED LIMIT.\n",
      "\n",
      "Increase the number of iterations (max_iter) or scale the data as shown in:\n",
      "    https://scikit-learn.org/stable/modules/preprocessing.html\n",
      "Please also refer to the documentation for alternative solver options:\n",
      "    https://scikit-learn.org/stable/modules/linear_model.html#logistic-regression\n",
      "  extra_warning_msg=_LOGISTIC_SOLVER_CONVERGENCE_MSG)\n"
     ]
    },
    {
     "name": "stdout",
     "output_type": "stream",
     "text": [
      "[[1205886   94126]\n",
      " [  17381    5468]]\n",
      "Positive\n",
      "Precision: 0.054902905797538 || Recall: 0.23931025427808658 || F1: 0.08931502821721127\n",
      "Negative\n",
      "Precision: 0.9857913276496464 || Recall: 0.9275960529595112 || F1: 0.9558086917855695\n",
      "---------------------------\n",
      "Positive\n",
      "Overall Precision: 0.05582622225605081 (+/- 0.000824206473038967) || Overall Recall: 0.2387576124418906 (+/- 0.003265016719457137) || Overall F1: 0.09048297400390383 (+/- 0.0008883066429402308)\n",
      "Negative\n",
      "Overall Precision: 0.9858039424602019 (+/- 3.37764679176429e-05) || Overall Recall: 0.9290064145364874 (+/- 0.0019469205364365213) || Overall F1: 0.9565617325362015 (+/- 0.0010178486593620572)\n",
      "------------------------------------------\n",
      "------------------------------------------\n",
      "start with parameters [0.3, 0.3]\n"
     ]
    },
    {
     "name": "stderr",
     "output_type": "stream",
     "text": [
      "/home/linda/anaconda3/lib/python3.7/site-packages/sklearn/linear_model/_logistic.py:940: ConvergenceWarning: lbfgs failed to converge (status=1):\n",
      "STOP: TOTAL NO. of ITERATIONS REACHED LIMIT.\n",
      "\n",
      "Increase the number of iterations (max_iter) or scale the data as shown in:\n",
      "    https://scikit-learn.org/stable/modules/preprocessing.html\n",
      "Please also refer to the documentation for alternative solver options:\n",
      "    https://scikit-learn.org/stable/modules/linear_model.html#logistic-regression\n",
      "  extra_warning_msg=_LOGISTIC_SOLVER_CONVERGENCE_MSG)\n"
     ]
    },
    {
     "name": "stdout",
     "output_type": "stream",
     "text": [
      "[[1206044   93966]\n",
      " [  17302    5544]]\n",
      "Positive\n",
      "Precision: 0.05571299366897799 || Recall: 0.24266830079663837 || F1: 0.09062081140279185\n",
      "Negative\n",
      "Precision: 0.9858568221909418 || Recall: 0.9277190175460189 || F1: 0.9559047554130293\n"
     ]
    },
    {
     "name": "stderr",
     "output_type": "stream",
     "text": [
      "/home/linda/anaconda3/lib/python3.7/site-packages/sklearn/linear_model/_logistic.py:940: ConvergenceWarning: lbfgs failed to converge (status=1):\n",
      "STOP: TOTAL NO. of ITERATIONS REACHED LIMIT.\n",
      "\n",
      "Increase the number of iterations (max_iter) or scale the data as shown in:\n",
      "    https://scikit-learn.org/stable/modules/preprocessing.html\n",
      "Please also refer to the documentation for alternative solver options:\n",
      "    https://scikit-learn.org/stable/modules/linear_model.html#logistic-regression\n",
      "  extra_warning_msg=_LOGISTIC_SOLVER_CONVERGENCE_MSG)\n"
     ]
    },
    {
     "name": "stdout",
     "output_type": "stream",
     "text": [
      "[[1200664   99346]\n",
      " [  17133    5713]]\n",
      "Positive\n",
      "Precision: 0.05437896800845239 || Recall: 0.2500656570077913 || F1: 0.08933192603885697\n",
      "Negative\n",
      "Precision: 0.9859311527290673 || Recall: 0.923580587841632 || F1: 0.9537379155749428\n"
     ]
    },
    {
     "name": "stderr",
     "output_type": "stream",
     "text": [
      "/home/linda/anaconda3/lib/python3.7/site-packages/sklearn/linear_model/_logistic.py:940: ConvergenceWarning: lbfgs failed to converge (status=1):\n",
      "STOP: TOTAL NO. of ITERATIONS REACHED LIMIT.\n",
      "\n",
      "Increase the number of iterations (max_iter) or scale the data as shown in:\n",
      "    https://scikit-learn.org/stable/modules/preprocessing.html\n",
      "Please also refer to the documentation for alternative solver options:\n",
      "    https://scikit-learn.org/stable/modules/linear_model.html#logistic-regression\n",
      "  extra_warning_msg=_LOGISTIC_SOLVER_CONVERGENCE_MSG)\n"
     ]
    },
    {
     "name": "stdout",
     "output_type": "stream",
     "text": [
      "[[1199815  100195]\n",
      " [  17093    5753]]\n",
      "Positive\n",
      "Precision: 0.0543002227507834 || Recall: 0.2518165105488926 || F1: 0.08933645977297079\n",
      "Negative\n",
      "Precision: 0.9859537450653624 || Recall: 0.922927515942185 || F1: 0.953400150501526\n"
     ]
    },
    {
     "name": "stderr",
     "output_type": "stream",
     "text": [
      "/home/linda/anaconda3/lib/python3.7/site-packages/sklearn/linear_model/_logistic.py:940: ConvergenceWarning: lbfgs failed to converge (status=1):\n",
      "STOP: TOTAL NO. of ITERATIONS REACHED LIMIT.\n",
      "\n",
      "Increase the number of iterations (max_iter) or scale the data as shown in:\n",
      "    https://scikit-learn.org/stable/modules/preprocessing.html\n",
      "Please also refer to the documentation for alternative solver options:\n",
      "    https://scikit-learn.org/stable/modules/linear_model.html#logistic-regression\n",
      "  extra_warning_msg=_LOGISTIC_SOLVER_CONVERGENCE_MSG)\n"
     ]
    },
    {
     "name": "stdout",
     "output_type": "stream",
     "text": [
      "[[1207206   92804]\n",
      " [  17397    5449]]\n",
      "Positive\n",
      "Precision: 0.05545886639593702 || Recall: 0.2385100236365228 || F1: 0.08999248548708082\n",
      "Negative\n",
      "Precision: 0.9857937633665768 || Recall: 0.9286128568241783 || F1: 0.9563493493854306\n"
     ]
    },
    {
     "name": "stderr",
     "output_type": "stream",
     "text": [
      "/home/linda/anaconda3/lib/python3.7/site-packages/sklearn/linear_model/_logistic.py:940: ConvergenceWarning: lbfgs failed to converge (status=1):\n",
      "STOP: TOTAL NO. of ITERATIONS REACHED LIMIT.\n",
      "\n",
      "Increase the number of iterations (max_iter) or scale the data as shown in:\n",
      "    https://scikit-learn.org/stable/modules/preprocessing.html\n",
      "Please also refer to the documentation for alternative solver options:\n",
      "    https://scikit-learn.org/stable/modules/linear_model.html#logistic-regression\n",
      "  extra_warning_msg=_LOGISTIC_SOLVER_CONVERGENCE_MSG)\n"
     ]
    },
    {
     "name": "stdout",
     "output_type": "stream",
     "text": [
      "[[1207235   92777]\n",
      " [  17471    5378]]\n",
      "Positive\n",
      "Precision: 0.05479089195659926 || Recall: 0.23537135104380935 || F1: 0.08888962348352121\n",
      "Negative\n",
      "Precision: 0.9857345354721868 || Recall: 0.9286337356885936 || F1: 0.9563325488232746\n",
      "---------------------------\n",
      "Positive\n",
      "Overall Precision: 0.054928388556150023 (+/- 0.0005678683744906307) || Overall Recall: 0.2436863686067309 (+/- 0.0063838085010726915) || Overall F1: 0.08963426123704432 (+/- 0.0006060005793545019)\n",
      "Negative\n",
      "Overall Precision: 0.985854003764827 (+/- 8.223115196725694e-05) || Overall Recall: 0.9262947427685215 (+/- 0.0025130838730195613) || Overall F1: 0.9551449439396407 (+/- 0.00130094921294605)\n",
      "------------------------------------------\n",
      "------------------------------------------\n",
      "start with parameters [0.3, 0.5]\n"
     ]
    },
    {
     "name": "stderr",
     "output_type": "stream",
     "text": [
      "/home/linda/anaconda3/lib/python3.7/site-packages/sklearn/linear_model/_logistic.py:940: ConvergenceWarning: lbfgs failed to converge (status=1):\n",
      "STOP: TOTAL NO. of ITERATIONS REACHED LIMIT.\n",
      "\n",
      "Increase the number of iterations (max_iter) or scale the data as shown in:\n",
      "    https://scikit-learn.org/stable/modules/preprocessing.html\n",
      "Please also refer to the documentation for alternative solver options:\n",
      "    https://scikit-learn.org/stable/modules/linear_model.html#logistic-regression\n",
      "  extra_warning_msg=_LOGISTIC_SOLVER_CONVERGENCE_MSG)\n"
     ]
    },
    {
     "name": "stdout",
     "output_type": "stream",
     "text": [
      "[[1206753   93257]\n",
      " [  17360    5486]]\n",
      "Positive\n",
      "Precision: 0.05555836869448973 || Recall: 0.24012956316204148 || F1: 0.09023842617342029\n",
      "Negative\n",
      "Precision: 0.9858183027220526 || Recall: 0.9282643979661694 || F1: 0.9561760659048707\n"
     ]
    },
    {
     "name": "stderr",
     "output_type": "stream",
     "text": [
      "/home/linda/anaconda3/lib/python3.7/site-packages/sklearn/linear_model/_logistic.py:940: ConvergenceWarning: lbfgs failed to converge (status=1):\n",
      "STOP: TOTAL NO. of ITERATIONS REACHED LIMIT.\n",
      "\n",
      "Increase the number of iterations (max_iter) or scale the data as shown in:\n",
      "    https://scikit-learn.org/stable/modules/preprocessing.html\n",
      "Please also refer to the documentation for alternative solver options:\n",
      "    https://scikit-learn.org/stable/modules/linear_model.html#logistic-regression\n",
      "  extra_warning_msg=_LOGISTIC_SOLVER_CONVERGENCE_MSG)\n"
     ]
    },
    {
     "name": "stdout",
     "output_type": "stream",
     "text": [
      "[[1200728   99282]\n",
      " [  17121    5725]]\n",
      "Positive\n",
      "Precision: 0.05452017484548649 || Recall: 0.25059091307012166 || F1: 0.08955597443939524\n",
      "Negative\n",
      "Precision: 0.9859416068822983 || Recall: 0.9236298182321675 || F1: 0.9537690553760159\n"
     ]
    },
    {
     "name": "stderr",
     "output_type": "stream",
     "text": [
      "/home/linda/anaconda3/lib/python3.7/site-packages/sklearn/linear_model/_logistic.py:940: ConvergenceWarning: lbfgs failed to converge (status=1):\n",
      "STOP: TOTAL NO. of ITERATIONS REACHED LIMIT.\n",
      "\n",
      "Increase the number of iterations (max_iter) or scale the data as shown in:\n",
      "    https://scikit-learn.org/stable/modules/preprocessing.html\n",
      "Please also refer to the documentation for alternative solver options:\n",
      "    https://scikit-learn.org/stable/modules/linear_model.html#logistic-regression\n",
      "  extra_warning_msg=_LOGISTIC_SOLVER_CONVERGENCE_MSG)\n"
     ]
    },
    {
     "name": "stdout",
     "output_type": "stream",
     "text": [
      "[[1199995  100015]\n",
      " [  17122    5724]]\n",
      "Positive\n",
      "Precision: 0.05413329046047343 || Recall: 0.25054714173159415 || F1: 0.0890306023253101\n",
      "Negative\n",
      "Precision: 0.9859323302525559 || Recall: 0.923065976415566 || F1: 0.9534640087687271\n"
     ]
    },
    {
     "name": "stderr",
     "output_type": "stream",
     "text": [
      "/home/linda/anaconda3/lib/python3.7/site-packages/sklearn/linear_model/_logistic.py:940: ConvergenceWarning: lbfgs failed to converge (status=1):\n",
      "STOP: TOTAL NO. of ITERATIONS REACHED LIMIT.\n",
      "\n",
      "Increase the number of iterations (max_iter) or scale the data as shown in:\n",
      "    https://scikit-learn.org/stable/modules/preprocessing.html\n",
      "Please also refer to the documentation for alternative solver options:\n",
      "    https://scikit-learn.org/stable/modules/linear_model.html#logistic-regression\n",
      "  extra_warning_msg=_LOGISTIC_SOLVER_CONVERGENCE_MSG)\n"
     ]
    },
    {
     "name": "stdout",
     "output_type": "stream",
     "text": [
      "[[1207298   92712]\n",
      " [  17413    5433]]\n",
      "Positive\n",
      "Precision: 0.05535686993733761 || Recall: 0.23780968222008228 || F1: 0.0898083328512038\n",
      "Negative\n",
      "Precision: 0.9857819518237364 || Recall: 0.928683625510573 || F1: 0.9563813189655411\n"
     ]
    },
    {
     "name": "stderr",
     "output_type": "stream",
     "text": [
      "/home/linda/anaconda3/lib/python3.7/site-packages/sklearn/linear_model/_logistic.py:940: ConvergenceWarning: lbfgs failed to converge (status=1):\n",
      "STOP: TOTAL NO. of ITERATIONS REACHED LIMIT.\n",
      "\n",
      "Increase the number of iterations (max_iter) or scale the data as shown in:\n",
      "    https://scikit-learn.org/stable/modules/preprocessing.html\n",
      "Please also refer to the documentation for alternative solver options:\n",
      "    https://scikit-learn.org/stable/modules/linear_model.html#logistic-regression\n",
      "  extra_warning_msg=_LOGISTIC_SOLVER_CONVERGENCE_MSG)\n"
     ]
    },
    {
     "name": "stdout",
     "output_type": "stream",
     "text": [
      "[[1207704   92308]\n",
      " [  17488    5361]]\n",
      "Positive\n",
      "Precision: 0.05488947363032282 || Recall: 0.23462733598844587 || F1: 0.088965963590501\n",
      "Negative\n",
      "Precision: 0.9857263188137043 || Recall: 0.9289945015892161 || F1: 0.9565199484873302\n",
      "---------------------------\n",
      "Positive\n",
      "Overall Precision: 0.054891635513622014 (+/- 0.0005242234494613893) || Overall Recall: 0.2427409272344571 (+/- 0.0066261002861909115) || Overall F1: 0.08951985987596608 (+/- 0.00047896398380194177)\n",
      "Negative\n",
      "Overall Precision: 0.9858401020988696 (+/- 8.439497224593475e-05) || Overall Recall: 0.9265276639427384 (+/- 0.0026126803716588877) || Overall F1: 0.9552620795004969 (+/- 0.001351479330826741)\n",
      "------------------------------------------\n",
      "------------------------------------------\n",
      "start with parameters [0.5, 0.1]\n"
     ]
    },
    {
     "name": "stderr",
     "output_type": "stream",
     "text": [
      "/home/linda/anaconda3/lib/python3.7/site-packages/sklearn/linear_model/_logistic.py:940: ConvergenceWarning: lbfgs failed to converge (status=1):\n",
      "STOP: TOTAL NO. of ITERATIONS REACHED LIMIT.\n",
      "\n",
      "Increase the number of iterations (max_iter) or scale the data as shown in:\n",
      "    https://scikit-learn.org/stable/modules/preprocessing.html\n",
      "Please also refer to the documentation for alternative solver options:\n",
      "    https://scikit-learn.org/stable/modules/linear_model.html#logistic-regression\n",
      "  extra_warning_msg=_LOGISTIC_SOLVER_CONVERGENCE_MSG)\n"
     ]
    },
    {
     "name": "stdout",
     "output_type": "stream",
     "text": [
      "[[1199825  100185]\n",
      " [  17039    5807]]\n",
      "Positive\n",
      "Precision: 0.05478715374745264 || Recall: 0.25418016282937933 || F1: 0.09014421211133361\n",
      "Negative\n",
      "Precision: 0.9859976135377495 || Recall: 0.9229352081907062 || F1: 0.9534247642114783\n"
     ]
    },
    {
     "name": "stderr",
     "output_type": "stream",
     "text": [
      "/home/linda/anaconda3/lib/python3.7/site-packages/sklearn/linear_model/_logistic.py:940: ConvergenceWarning: lbfgs failed to converge (status=1):\n",
      "STOP: TOTAL NO. of ITERATIONS REACHED LIMIT.\n",
      "\n",
      "Increase the number of iterations (max_iter) or scale the data as shown in:\n",
      "    https://scikit-learn.org/stable/modules/preprocessing.html\n",
      "Please also refer to the documentation for alternative solver options:\n",
      "    https://scikit-learn.org/stable/modules/linear_model.html#logistic-regression\n",
      "  extra_warning_msg=_LOGISTIC_SOLVER_CONVERGENCE_MSG)\n"
     ]
    },
    {
     "name": "stdout",
     "output_type": "stream",
     "text": [
      "[[1207110   92900]\n",
      " [  17340    5506]]\n",
      "Positive\n",
      "Precision: 0.055951872853281306 || Recall: 0.24100498993259215 || F1: 0.09081912050935241\n",
      "Negative\n",
      "Precision: 0.985838539752542 || Recall: 0.9285390112383751 || F1: 0.9563312550010695\n"
     ]
    },
    {
     "name": "stderr",
     "output_type": "stream",
     "text": [
      "/home/linda/anaconda3/lib/python3.7/site-packages/sklearn/linear_model/_logistic.py:940: ConvergenceWarning: lbfgs failed to converge (status=1):\n",
      "STOP: TOTAL NO. of ITERATIONS REACHED LIMIT.\n",
      "\n",
      "Increase the number of iterations (max_iter) or scale the data as shown in:\n",
      "    https://scikit-learn.org/stable/modules/preprocessing.html\n",
      "Please also refer to the documentation for alternative solver options:\n",
      "    https://scikit-learn.org/stable/modules/linear_model.html#logistic-regression\n",
      "  extra_warning_msg=_LOGISTIC_SOLVER_CONVERGENCE_MSG)\n"
     ]
    },
    {
     "name": "stdout",
     "output_type": "stream",
     "text": [
      "[[1206715   93295]\n",
      " [  17358    5488]]\n",
      "Positive\n",
      "Precision: 0.05555611795551866 || Recall: 0.24021710583909656 || F1: 0.09024163645183302\n",
      "Negative\n",
      "Precision: 0.9858194731850143 || Recall: 0.928235167421789 || F1: 0.9561611088066438\n"
     ]
    },
    {
     "name": "stderr",
     "output_type": "stream",
     "text": [
      "/home/linda/anaconda3/lib/python3.7/site-packages/sklearn/linear_model/_logistic.py:940: ConvergenceWarning: lbfgs failed to converge (status=1):\n",
      "STOP: TOTAL NO. of ITERATIONS REACHED LIMIT.\n",
      "\n",
      "Increase the number of iterations (max_iter) or scale the data as shown in:\n",
      "    https://scikit-learn.org/stable/modules/preprocessing.html\n",
      "Please also refer to the documentation for alternative solver options:\n",
      "    https://scikit-learn.org/stable/modules/linear_model.html#logistic-regression\n",
      "  extra_warning_msg=_LOGISTIC_SOLVER_CONVERGENCE_MSG)\n"
     ]
    },
    {
     "name": "stdout",
     "output_type": "stream",
     "text": [
      "[[1208975   91035]\n",
      " [  17441    5405]]\n",
      "Positive\n",
      "Precision: 0.05604520945665699 || Recall: 0.2365840847413114 || F1: 0.09062253743104806\n",
      "Negative\n",
      "Precision: 0.9857788874248216 || Recall: 0.9299736155875724 || F1: 0.9570634564400462\n"
     ]
    },
    {
     "name": "stderr",
     "output_type": "stream",
     "text": [
      "/home/linda/anaconda3/lib/python3.7/site-packages/sklearn/linear_model/_logistic.py:940: ConvergenceWarning: lbfgs failed to converge (status=1):\n",
      "STOP: TOTAL NO. of ITERATIONS REACHED LIMIT.\n",
      "\n",
      "Increase the number of iterations (max_iter) or scale the data as shown in:\n",
      "    https://scikit-learn.org/stable/modules/preprocessing.html\n",
      "Please also refer to the documentation for alternative solver options:\n",
      "    https://scikit-learn.org/stable/modules/linear_model.html#logistic-regression\n",
      "  extra_warning_msg=_LOGISTIC_SOLVER_CONVERGENCE_MSG)\n"
     ]
    },
    {
     "name": "stdout",
     "output_type": "stream",
     "text": [
      "[[1207167   92845]\n",
      " [  17432    5417]]\n",
      "Positive\n",
      "Precision: 0.05512812684455842 || Recall: 0.23707820911199615 || F1: 0.08945512794048435\n",
      "Negative\n",
      "Precision: 0.9857651361792718 || Recall: 0.9285814284791217 || F1: 0.9563192111576793\n",
      "---------------------------\n",
      "Positive\n",
      "Overall Precision: 0.0554936961714936 (+/- 0.00047975668506693945) || Overall Recall: 0.2418129104908751 (+/- 0.006417262257159688) || Overall F1: 0.09025652688881029 (+/- 0.000470223756872153)\n",
      "Negative\n",
      "Overall Precision: 0.9858399300158798 (+/- 8.319233588269808e-05) || Overall Recall: 0.9276528861835128 (+/- 0.0024342855403060963) || Overall F1: 0.9558599591233834 (+/- 0.0012571637456783372)\n",
      "------------------------------------------\n",
      "------------------------------------------\n",
      "start with parameters [0.5, 0.3]\n"
     ]
    },
    {
     "name": "stderr",
     "output_type": "stream",
     "text": [
      "/home/linda/anaconda3/lib/python3.7/site-packages/sklearn/linear_model/_logistic.py:940: ConvergenceWarning: lbfgs failed to converge (status=1):\n",
      "STOP: TOTAL NO. of ITERATIONS REACHED LIMIT.\n",
      "\n",
      "Increase the number of iterations (max_iter) or scale the data as shown in:\n",
      "    https://scikit-learn.org/stable/modules/preprocessing.html\n",
      "Please also refer to the documentation for alternative solver options:\n",
      "    https://scikit-learn.org/stable/modules/linear_model.html#logistic-regression\n",
      "  extra_warning_msg=_LOGISTIC_SOLVER_CONVERGENCE_MSG)\n"
     ]
    },
    {
     "name": "stdout",
     "output_type": "stream",
     "text": [
      "[[1206785   93225]\n",
      " [  17361    5485]]\n",
      "Positive\n",
      "Precision: 0.05556681187316381 || Recall: 0.24008579182351397 || F1: 0.09024647076244693\n",
      "Negative\n",
      "Precision: 0.9858178681301086 || Recall: 0.9282890131614372 || F1: 0.9561889201776752\n"
     ]
    },
    {
     "name": "stderr",
     "output_type": "stream",
     "text": [
      "/home/linda/anaconda3/lib/python3.7/site-packages/sklearn/linear_model/_logistic.py:940: ConvergenceWarning: lbfgs failed to converge (status=1):\n",
      "STOP: TOTAL NO. of ITERATIONS REACHED LIMIT.\n",
      "\n",
      "Increase the number of iterations (max_iter) or scale the data as shown in:\n",
      "    https://scikit-learn.org/stable/modules/preprocessing.html\n",
      "Please also refer to the documentation for alternative solver options:\n",
      "    https://scikit-learn.org/stable/modules/linear_model.html#logistic-regression\n",
      "  extra_warning_msg=_LOGISTIC_SOLVER_CONVERGENCE_MSG)\n"
     ]
    },
    {
     "name": "stdout",
     "output_type": "stream",
     "text": [
      "[[1207713   92297]\n",
      " [  17398    5448]]\n",
      "Positive\n",
      "Precision: 0.05573686633587396 || Recall: 0.23846625229799528 || F1: 0.09035500161703611\n",
      "Negative\n",
      "Precision: 0.9857988378195935 || Recall: 0.9290028538242013 || F1: 0.9565585173938199\n"
     ]
    },
    {
     "name": "stderr",
     "output_type": "stream",
     "text": [
      "/home/linda/anaconda3/lib/python3.7/site-packages/sklearn/linear_model/_logistic.py:940: ConvergenceWarning: lbfgs failed to converge (status=1):\n",
      "STOP: TOTAL NO. of ITERATIONS REACHED LIMIT.\n",
      "\n",
      "Increase the number of iterations (max_iter) or scale the data as shown in:\n",
      "    https://scikit-learn.org/stable/modules/preprocessing.html\n",
      "Please also refer to the documentation for alternative solver options:\n",
      "    https://scikit-learn.org/stable/modules/linear_model.html#logistic-regression\n",
      "  extra_warning_msg=_LOGISTIC_SOLVER_CONVERGENCE_MSG)\n"
     ]
    },
    {
     "name": "stdout",
     "output_type": "stream",
     "text": [
      "[[1200468   99542]\n",
      " [  17120    5726]]\n",
      "Positive\n",
      "Precision: 0.05439449785309876 || Recall: 0.2506346844086492 || F1: 0.08938913779914764\n",
      "Negative\n",
      "Precision: 0.9859394146460051 || Recall: 0.9234298197706171 || F1: 0.9536613867662749\n"
     ]
    },
    {
     "name": "stderr",
     "output_type": "stream",
     "text": [
      "/home/linda/anaconda3/lib/python3.7/site-packages/sklearn/linear_model/_logistic.py:940: ConvergenceWarning: lbfgs failed to converge (status=1):\n",
      "STOP: TOTAL NO. of ITERATIONS REACHED LIMIT.\n",
      "\n",
      "Increase the number of iterations (max_iter) or scale the data as shown in:\n",
      "    https://scikit-learn.org/stable/modules/preprocessing.html\n",
      "Please also refer to the documentation for alternative solver options:\n",
      "    https://scikit-learn.org/stable/modules/linear_model.html#logistic-regression\n",
      "  extra_warning_msg=_LOGISTIC_SOLVER_CONVERGENCE_MSG)\n"
     ]
    },
    {
     "name": "stdout",
     "output_type": "stream",
     "text": [
      "[[1207058   92952]\n",
      " [  17397    5449]]\n",
      "Positive\n",
      "Precision: 0.05537545350148881 || Recall: 0.2385100236365228 || F1: 0.0898826362714129\n",
      "Negative\n",
      "Precision: 0.9857920462573144 || Recall: 0.9284990115460651 || F1: 0.9562881640268334\n"
     ]
    },
    {
     "name": "stderr",
     "output_type": "stream",
     "text": [
      "/home/linda/anaconda3/lib/python3.7/site-packages/sklearn/linear_model/_logistic.py:940: ConvergenceWarning: lbfgs failed to converge (status=1):\n",
      "STOP: TOTAL NO. of ITERATIONS REACHED LIMIT.\n",
      "\n",
      "Increase the number of iterations (max_iter) or scale the data as shown in:\n",
      "    https://scikit-learn.org/stable/modules/preprocessing.html\n",
      "Please also refer to the documentation for alternative solver options:\n",
      "    https://scikit-learn.org/stable/modules/linear_model.html#logistic-regression\n",
      "  extra_warning_msg=_LOGISTIC_SOLVER_CONVERGENCE_MSG)\n"
     ]
    },
    {
     "name": "stdout",
     "output_type": "stream",
     "text": [
      "[[1206999   93013]\n",
      " [  17457    5392]]\n",
      "Positive\n",
      "Precision: 0.05479396372135562 || Recall: 0.23598406932469693 || F1: 0.08893727217246442\n",
      "Negative\n",
      "Precision: 0.9857430565083596 || Recall: 0.9284521989027794 || F1: 0.956240285081847\n",
      "---------------------------\n",
      "Positive\n",
      "Overall Precision: 0.0551735186569962 (+/- 0.0005027431162482115) || Overall Recall: 0.24073616429827563 (+/- 0.005120435413209234) || Overall F1: 0.0897621037245016 (+/- 0.0005329386651381045)\n",
      "Negative\n",
      "Overall Precision: 0.9858182446722763 (+/- 6.541948820981901e-05) || Overall Recall: 0.9275345794410199 (+/- 0.002066214249124054) || Overall F1: 0.95578745468929 (+/- 0.001070667292026953)\n",
      "------------------------------------------\n",
      "------------------------------------------\n",
      "start with parameters [0.5, 0.5]\n"
     ]
    },
    {
     "name": "stderr",
     "output_type": "stream",
     "text": [
      "/home/linda/anaconda3/lib/python3.7/site-packages/sklearn/linear_model/_logistic.py:940: ConvergenceWarning: lbfgs failed to converge (status=1):\n",
      "STOP: TOTAL NO. of ITERATIONS REACHED LIMIT.\n",
      "\n",
      "Increase the number of iterations (max_iter) or scale the data as shown in:\n",
      "    https://scikit-learn.org/stable/modules/preprocessing.html\n",
      "Please also refer to the documentation for alternative solver options:\n",
      "    https://scikit-learn.org/stable/modules/linear_model.html#logistic-regression\n",
      "  extra_warning_msg=_LOGISTIC_SOLVER_CONVERGENCE_MSG)\n"
     ]
    },
    {
     "name": "stdout",
     "output_type": "stream",
     "text": [
      "[[1206237   93773]\n",
      " [  17333    5513]]\n",
      "Positive\n",
      "Precision: 0.05552645891666499 || Recall: 0.24131138930228485 || F1: 0.0902793698621164\n",
      "Negative\n",
      "Precision: 0.9858340756965274 || Recall: 0.9278674779424774 || F1: 0.9559728639472496\n"
     ]
    },
    {
     "name": "stderr",
     "output_type": "stream",
     "text": [
      "/home/linda/anaconda3/lib/python3.7/site-packages/sklearn/linear_model/_logistic.py:940: ConvergenceWarning: lbfgs failed to converge (status=1):\n",
      "STOP: TOTAL NO. of ITERATIONS REACHED LIMIT.\n",
      "\n",
      "Increase the number of iterations (max_iter) or scale the data as shown in:\n",
      "    https://scikit-learn.org/stable/modules/preprocessing.html\n",
      "Please also refer to the documentation for alternative solver options:\n",
      "    https://scikit-learn.org/stable/modules/linear_model.html#logistic-regression\n",
      "  extra_warning_msg=_LOGISTIC_SOLVER_CONVERGENCE_MSG)\n"
     ]
    },
    {
     "name": "stdout",
     "output_type": "stream",
     "text": [
      "[[1200711   99299]\n",
      " [  17128    5718]]\n",
      "Positive\n",
      "Precision: 0.054448327413656836 || Recall: 0.250284513700429 || F1: 0.08943947819150184\n",
      "Negative\n",
      "Precision: 0.9859357435588777 || Recall: 0.9236167414096814 || F1: 0.9537593398174394\n"
     ]
    },
    {
     "name": "stderr",
     "output_type": "stream",
     "text": [
      "/home/linda/anaconda3/lib/python3.7/site-packages/sklearn/linear_model/_logistic.py:940: ConvergenceWarning: lbfgs failed to converge (status=1):\n",
      "STOP: TOTAL NO. of ITERATIONS REACHED LIMIT.\n",
      "\n",
      "Increase the number of iterations (max_iter) or scale the data as shown in:\n",
      "    https://scikit-learn.org/stable/modules/preprocessing.html\n",
      "Please also refer to the documentation for alternative solver options:\n",
      "    https://scikit-learn.org/stable/modules/linear_model.html#logistic-regression\n",
      "  extra_warning_msg=_LOGISTIC_SOLVER_CONVERGENCE_MSG)\n"
     ]
    },
    {
     "name": "stdout",
     "output_type": "stream",
     "text": [
      "[[1200214   99796]\n",
      " [  17130    5716]]\n",
      "Positive\n",
      "Precision: 0.054173932822806886 || Recall: 0.2501969710233739 || F1: 0.08906340080088501\n",
      "Negative\n",
      "Precision: 0.9859283817885495 || Recall: 0.9232344366581795 || F1: 0.9535520232752326\n"
     ]
    },
    {
     "name": "stderr",
     "output_type": "stream",
     "text": [
      "/home/linda/anaconda3/lib/python3.7/site-packages/sklearn/linear_model/_logistic.py:940: ConvergenceWarning: lbfgs failed to converge (status=1):\n",
      "STOP: TOTAL NO. of ITERATIONS REACHED LIMIT.\n",
      "\n",
      "Increase the number of iterations (max_iter) or scale the data as shown in:\n",
      "    https://scikit-learn.org/stable/modules/preprocessing.html\n",
      "Please also refer to the documentation for alternative solver options:\n",
      "    https://scikit-learn.org/stable/modules/linear_model.html#logistic-regression\n",
      "  extra_warning_msg=_LOGISTIC_SOLVER_CONVERGENCE_MSG)\n"
     ]
    },
    {
     "name": "stdout",
     "output_type": "stream",
     "text": [
      "[[1207172   92838]\n",
      " [  17411    5435]]\n",
      "Positive\n",
      "Precision: 0.05530511941224955 || Recall: 0.23789722489713735 || F1: 0.08974644770845201\n",
      "Negative\n",
      "Precision: 0.9857820988859065 || Recall: 0.9285867031792063 || F1: 0.9563299906163093\n"
     ]
    },
    {
     "name": "stderr",
     "output_type": "stream",
     "text": [
      "/home/linda/anaconda3/lib/python3.7/site-packages/sklearn/linear_model/_logistic.py:940: ConvergenceWarning: lbfgs failed to converge (status=1):\n",
      "STOP: TOTAL NO. of ITERATIONS REACHED LIMIT.\n",
      "\n",
      "Increase the number of iterations (max_iter) or scale the data as shown in:\n",
      "    https://scikit-learn.org/stable/modules/preprocessing.html\n",
      "Please also refer to the documentation for alternative solver options:\n",
      "    https://scikit-learn.org/stable/modules/linear_model.html#logistic-regression\n",
      "  extra_warning_msg=_LOGISTIC_SOLVER_CONVERGENCE_MSG)\n"
     ]
    },
    {
     "name": "stdout",
     "output_type": "stream",
     "text": [
      "[[1207337   92675]\n",
      " [  17477    5372]]\n",
      "Positive\n",
      "Precision: 0.0547900496700562 || Recall: 0.23510875749485755 || F1: 0.0888697723663314\n",
      "Negative\n",
      "Precision: 0.9857308946501264 || Recall: 0.9287121965028016 || F1: 0.9563724391304589\n",
      "---------------------------\n",
      "Positive\n",
      "Overall Precision: 0.054848777647086885 (+/- 0.0005072917526170839) || Overall Recall: 0.24295977128361654 (+/- 0.006261211833642298) || Overall F1: 0.08947969378585734 (+/- 0.0005015098729883225)\n",
      "Negative\n",
      "Overall Precision: 0.9858422389159974 (+/- 8.030531694164473e-05) || Overall Recall: 0.9264035111384693 (+/- 0.0024514760037320235) || Overall F1: 0.9551973313573379 (+/- 0.0012680776338425599)\n",
      "------------------------------------------\n",
      "------------------------------------------\n"
     ]
    }
   ],
   "source": [
    "# loop through all sampling parameters\n",
    "for parameter in sampling_parameters:\n",
    "    print(f'start with parameters {str(parameter)}')\n",
    "    \n",
    "    log_reg = LogisticRegression(random_state=88)\n",
    "    get_cross_validation_two_class_normal_distribution_with_undersampling(log_reg, ['instance', 'class', 'frequency', 'pidspread', 'pldspread', 'id', 'pids'],\n",
    "                                                                         parameter[0], parameter[1])\n",
    "    \n",
    "    print('------------------------------------------')\n",
    "    print('------------------------------------------')"
   ]
  },
  {
   "cell_type": "code",
   "execution_count": 4,
   "metadata": {},
   "outputs": [
    {
     "name": "stdout",
     "output_type": "stream",
     "text": [
      "start with k_neighbor = 2\n"
     ]
    },
    {
     "name": "stderr",
     "output_type": "stream",
     "text": [
      "/home/linda/anaconda3/lib/python3.7/site-packages/sklearn/linear_model/_logistic.py:940: ConvergenceWarning: lbfgs failed to converge (status=1):\n",
      "STOP: TOTAL NO. of ITERATIONS REACHED LIMIT.\n",
      "\n",
      "Increase the number of iterations (max_iter) or scale the data as shown in:\n",
      "    https://scikit-learn.org/stable/modules/preprocessing.html\n",
      "Please also refer to the documentation for alternative solver options:\n",
      "    https://scikit-learn.org/stable/modules/linear_model.html#logistic-regression\n",
      "  extra_warning_msg=_LOGISTIC_SOLVER_CONVERGENCE_MSG)\n"
     ]
    },
    {
     "name": "stdout",
     "output_type": "stream",
     "text": [
      "[[1214868   85142]\n",
      " [  17570    5276]]\n",
      "Positive\n",
      "Precision: 0.0583512132539981 || Recall: 0.23093758207125975 || F1: 0.09316287611244525\n",
      "Negative\n",
      "Precision: 0.9857437047543163 || Recall: 0.9345066576410951 || F1: 0.9594416153855875\n"
     ]
    },
    {
     "name": "stderr",
     "output_type": "stream",
     "text": [
      "/home/linda/anaconda3/lib/python3.7/site-packages/sklearn/linear_model/_logistic.py:940: ConvergenceWarning: lbfgs failed to converge (status=1):\n",
      "STOP: TOTAL NO. of ITERATIONS REACHED LIMIT.\n",
      "\n",
      "Increase the number of iterations (max_iter) or scale the data as shown in:\n",
      "    https://scikit-learn.org/stable/modules/preprocessing.html\n",
      "Please also refer to the documentation for alternative solver options:\n",
      "    https://scikit-learn.org/stable/modules/linear_model.html#logistic-regression\n",
      "  extra_warning_msg=_LOGISTIC_SOLVER_CONVERGENCE_MSG)\n"
     ]
    },
    {
     "name": "stdout",
     "output_type": "stream",
     "text": [
      "[[1205511   94499]\n",
      " [  17284    5562]]\n",
      "Positive\n",
      "Precision: 0.055586092483585016 || Recall: 0.24345618489013393 || F1: 0.09050745685762406\n",
      "Negative\n",
      "Precision: 0.9858651695500881 || Recall: 0.9273090206998408 || F1: 0.955690986818244\n"
     ]
    },
    {
     "name": "stderr",
     "output_type": "stream",
     "text": [
      "/home/linda/anaconda3/lib/python3.7/site-packages/sklearn/linear_model/_logistic.py:940: ConvergenceWarning: lbfgs failed to converge (status=1):\n",
      "STOP: TOTAL NO. of ITERATIONS REACHED LIMIT.\n",
      "\n",
      "Increase the number of iterations (max_iter) or scale the data as shown in:\n",
      "    https://scikit-learn.org/stable/modules/preprocessing.html\n",
      "Please also refer to the documentation for alternative solver options:\n",
      "    https://scikit-learn.org/stable/modules/linear_model.html#logistic-regression\n",
      "  extra_warning_msg=_LOGISTIC_SOLVER_CONVERGENCE_MSG)\n"
     ]
    },
    {
     "name": "stdout",
     "output_type": "stream",
     "text": [
      "[[1205812   94198]\n",
      " [  17283    5563]]\n",
      "Positive\n",
      "Precision: 0.0557632742253987 || Recall: 0.24349995622866147 || F1: 0.09074522661838232\n",
      "Negative\n",
      "Precision: 0.9858694541307094 || Recall: 0.9275405573803278 || F1: 0.955815948999348\n"
     ]
    },
    {
     "name": "stderr",
     "output_type": "stream",
     "text": [
      "/home/linda/anaconda3/lib/python3.7/site-packages/sklearn/linear_model/_logistic.py:940: ConvergenceWarning: lbfgs failed to converge (status=1):\n",
      "STOP: TOTAL NO. of ITERATIONS REACHED LIMIT.\n",
      "\n",
      "Increase the number of iterations (max_iter) or scale the data as shown in:\n",
      "    https://scikit-learn.org/stable/modules/preprocessing.html\n",
      "Please also refer to the documentation for alternative solver options:\n",
      "    https://scikit-learn.org/stable/modules/linear_model.html#logistic-regression\n",
      "  extra_warning_msg=_LOGISTIC_SOLVER_CONVERGENCE_MSG)\n"
     ]
    },
    {
     "name": "stdout",
     "output_type": "stream",
     "text": [
      "[[1207924   92086]\n",
      " [  17394    5452]]\n",
      "Positive\n",
      "Precision: 0.05589616354651521 || Recall: 0.2386413376521054 || F1: 0.09057682083997874\n",
      "Negative\n",
      "Precision: 0.9858045013620954 || Recall: 0.9291651602679979 || F1: 0.9566472157280163\n"
     ]
    },
    {
     "name": "stderr",
     "output_type": "stream",
     "text": [
      "/home/linda/anaconda3/lib/python3.7/site-packages/sklearn/linear_model/_logistic.py:940: ConvergenceWarning: lbfgs failed to converge (status=1):\n",
      "STOP: TOTAL NO. of ITERATIONS REACHED LIMIT.\n",
      "\n",
      "Increase the number of iterations (max_iter) or scale the data as shown in:\n",
      "    https://scikit-learn.org/stable/modules/preprocessing.html\n",
      "Please also refer to the documentation for alternative solver options:\n",
      "    https://scikit-learn.org/stable/modules/linear_model.html#logistic-regression\n",
      "  extra_warning_msg=_LOGISTIC_SOLVER_CONVERGENCE_MSG)\n"
     ]
    },
    {
     "name": "stdout",
     "output_type": "stream",
     "text": [
      "[[1206365   93647]\n",
      " [  17377    5472]]\n",
      "Positive\n",
      "Precision: 0.05520636810298732 || Recall: 0.23948531664405445 || F1: 0.08972845336481701\n",
      "Negative\n",
      "Precision: 0.9858001114614028 || Recall: 0.9279645110968207 || F1: 0.956008390675161\n",
      "---------------------------\n",
      "Positive\n",
      "Overall Precision: 0.05616062232249688 (+/- 0.0011195711888833638) || Overall Recall: 0.239204075497243 (+/- 0.0045883702896457245) || Overall F1: 0.09094416675864947 (+/- 0.0011632597296899541)\n",
      "Negative\n",
      "Overall Precision: 0.9858165882517224 (+/- 4.665731545256188e-05) || Overall Recall: 0.9292971814172164 (+/- 0.002682185427555384) || Overall F1: 0.9567208315212714 (+/- 0.0013996462818427991)\n",
      "------------------------------------------\n",
      "------------------------------------------\n",
      "start with k_neighbor = 3\n"
     ]
    },
    {
     "name": "stderr",
     "output_type": "stream",
     "text": [
      "/home/linda/anaconda3/lib/python3.7/site-packages/sklearn/linear_model/_logistic.py:940: ConvergenceWarning: lbfgs failed to converge (status=1):\n",
      "STOP: TOTAL NO. of ITERATIONS REACHED LIMIT.\n",
      "\n",
      "Increase the number of iterations (max_iter) or scale the data as shown in:\n",
      "    https://scikit-learn.org/stable/modules/preprocessing.html\n",
      "Please also refer to the documentation for alternative solver options:\n",
      "    https://scikit-learn.org/stable/modules/linear_model.html#logistic-regression\n",
      "  extra_warning_msg=_LOGISTIC_SOLVER_CONVERGENCE_MSG)\n"
     ]
    },
    {
     "name": "stdout",
     "output_type": "stream",
     "text": [
      "[[1213541   86469]\n",
      " [  17555    5291]]\n",
      "Positive\n",
      "Precision: 0.05766129032258065 || Recall: 0.23159415214917273 || F1: 0.09233373470847948\n",
      "Negative\n",
      "Precision: 0.9857403484374898 || Recall: 0.9334858962623365 || F1: 0.9589017607322649\n"
     ]
    },
    {
     "name": "stderr",
     "output_type": "stream",
     "text": [
      "/home/linda/anaconda3/lib/python3.7/site-packages/sklearn/linear_model/_logistic.py:940: ConvergenceWarning: lbfgs failed to converge (status=1):\n",
      "STOP: TOTAL NO. of ITERATIONS REACHED LIMIT.\n",
      "\n",
      "Increase the number of iterations (max_iter) or scale the data as shown in:\n",
      "    https://scikit-learn.org/stable/modules/preprocessing.html\n",
      "Please also refer to the documentation for alternative solver options:\n",
      "    https://scikit-learn.org/stable/modules/linear_model.html#logistic-regression\n",
      "  extra_warning_msg=_LOGISTIC_SOLVER_CONVERGENCE_MSG)\n"
     ]
    },
    {
     "name": "stdout",
     "output_type": "stream",
     "text": [
      "[[1215414   84596]\n",
      " [  17681    5165]]\n",
      "Positive\n",
      "Precision: 0.057541694054210626 || Recall: 0.22607896349470366 || F1: 0.09173497207100802\n",
      "Negative\n",
      "Precision: 0.9856612831939146 || Recall: 0.9349266544103507 || F1: 0.9596238608348253\n"
     ]
    },
    {
     "name": "stderr",
     "output_type": "stream",
     "text": [
      "/home/linda/anaconda3/lib/python3.7/site-packages/sklearn/linear_model/_logistic.py:940: ConvergenceWarning: lbfgs failed to converge (status=1):\n",
      "STOP: TOTAL NO. of ITERATIONS REACHED LIMIT.\n",
      "\n",
      "Increase the number of iterations (max_iter) or scale the data as shown in:\n",
      "    https://scikit-learn.org/stable/modules/preprocessing.html\n",
      "Please also refer to the documentation for alternative solver options:\n",
      "    https://scikit-learn.org/stable/modules/linear_model.html#logistic-regression\n",
      "  extra_warning_msg=_LOGISTIC_SOLVER_CONVERGENCE_MSG)\n"
     ]
    },
    {
     "name": "stdout",
     "output_type": "stream",
     "text": [
      "[[1205877   94133]\n",
      " [  17306    5540]]\n",
      "Positive\n",
      "Precision: 0.05558175233011949 || Recall: 0.24249321544252822 || F1: 0.09043495294607368\n",
      "Negative\n",
      "Precision: 0.985851667330236 || Recall: 0.9275905569957155 || F1: 0.9558341355576051\n"
     ]
    },
    {
     "name": "stderr",
     "output_type": "stream",
     "text": [
      "/home/linda/anaconda3/lib/python3.7/site-packages/sklearn/linear_model/_logistic.py:940: ConvergenceWarning: lbfgs failed to converge (status=1):\n",
      "STOP: TOTAL NO. of ITERATIONS REACHED LIMIT.\n",
      "\n",
      "Increase the number of iterations (max_iter) or scale the data as shown in:\n",
      "    https://scikit-learn.org/stable/modules/preprocessing.html\n",
      "Please also refer to the documentation for alternative solver options:\n",
      "    https://scikit-learn.org/stable/modules/linear_model.html#logistic-regression\n",
      "  extra_warning_msg=_LOGISTIC_SOLVER_CONVERGENCE_MSG)\n"
     ]
    },
    {
     "name": "stdout",
     "output_type": "stream",
     "text": [
      "[[1208280   91730]\n",
      " [  17407    5439]]\n",
      "Positive\n",
      "Precision: 0.05597464211837109 || Recall: 0.23807231025124748 || F1: 0.09063867016622922\n",
      "Negative\n",
      "Precision: 0.9857981687004921 || Recall: 0.9294390043153514 || F1: 0.9567893535922956\n"
     ]
    },
    {
     "name": "stderr",
     "output_type": "stream",
     "text": [
      "/home/linda/anaconda3/lib/python3.7/site-packages/sklearn/linear_model/_logistic.py:940: ConvergenceWarning: lbfgs failed to converge (status=1):\n",
      "STOP: TOTAL NO. of ITERATIONS REACHED LIMIT.\n",
      "\n",
      "Increase the number of iterations (max_iter) or scale the data as shown in:\n",
      "    https://scikit-learn.org/stable/modules/preprocessing.html\n",
      "Please also refer to the documentation for alternative solver options:\n",
      "    https://scikit-learn.org/stable/modules/linear_model.html#logistic-regression\n",
      "  extra_warning_msg=_LOGISTIC_SOLVER_CONVERGENCE_MSG)\n"
     ]
    },
    {
     "name": "stdout",
     "output_type": "stream",
     "text": [
      "[[1206777   93235]\n",
      " [  17421    5428]]\n",
      "Positive\n",
      "Precision: 0.05501555801060175 || Recall: 0.23755963061840782 || F1: 0.0893409704391336\n",
      "Negative\n",
      "Precision: 0.9857694588620468 || Recall: 0.928281431248327 || F1: 0.9561621259720863\n",
      "---------------------------\n",
      "Positive\n",
      "Overall Precision: 0.05635498736717672 (+/- 0.0010631393233649837) || Overall Recall: 0.23515965439121195 (+/- 0.005713078349531062) || Overall F1: 0.0908966600661848 (+/- 0.0010457392613756288)\n",
      "Negative\n",
      "Overall Precision: 0.9857641853048358 (+/- 6.323421072651839e-05) || Overall Recall: 0.9307447086464162 (+/- 0.0029231507622386266) || Overall F1: 0.9574622473378154 (+/- 0.0015191195641225516)\n",
      "------------------------------------------\n",
      "------------------------------------------\n",
      "start with k_neighbor = 4\n"
     ]
    },
    {
     "name": "stderr",
     "output_type": "stream",
     "text": [
      "/home/linda/anaconda3/lib/python3.7/site-packages/sklearn/linear_model/_logistic.py:940: ConvergenceWarning: lbfgs failed to converge (status=1):\n",
      "STOP: TOTAL NO. of ITERATIONS REACHED LIMIT.\n",
      "\n",
      "Increase the number of iterations (max_iter) or scale the data as shown in:\n",
      "    https://scikit-learn.org/stable/modules/preprocessing.html\n",
      "Please also refer to the documentation for alternative solver options:\n",
      "    https://scikit-learn.org/stable/modules/linear_model.html#logistic-regression\n",
      "  extra_warning_msg=_LOGISTIC_SOLVER_CONVERGENCE_MSG)\n"
     ]
    },
    {
     "name": "stdout",
     "output_type": "stream",
     "text": [
      "[[1205902   94108]\n",
      " [  17213    5633]]\n",
      "Positive\n",
      "Precision: 0.056476273548490594 || Recall: 0.24656394992558872 || F1: 0.09190207770807671\n",
      "Negative\n",
      "Precision: 0.9859269161117311 || Recall: 0.9276097876170183 || F1: 0.9558797126579143\n"
     ]
    },
    {
     "name": "stderr",
     "output_type": "stream",
     "text": [
      "/home/linda/anaconda3/lib/python3.7/site-packages/sklearn/linear_model/_logistic.py:940: ConvergenceWarning: lbfgs failed to converge (status=1):\n",
      "STOP: TOTAL NO. of ITERATIONS REACHED LIMIT.\n",
      "\n",
      "Increase the number of iterations (max_iter) or scale the data as shown in:\n",
      "    https://scikit-learn.org/stable/modules/preprocessing.html\n",
      "Please also refer to the documentation for alternative solver options:\n",
      "    https://scikit-learn.org/stable/modules/linear_model.html#logistic-regression\n",
      "  extra_warning_msg=_LOGISTIC_SOLVER_CONVERGENCE_MSG)\n"
     ]
    },
    {
     "name": "stdout",
     "output_type": "stream",
     "text": [
      "[[1205966   94044]\n",
      " [  17310    5536]]\n",
      "Positive\n",
      "Precision: 0.05559349266921069 || Recall: 0.2423181300884181 || F1: 0.09043830558868216\n",
      "Negative\n",
      "Precision: 0.985849473054323 || Recall: 0.9276590180075538 || F1: 0.9558694495986583\n"
     ]
    },
    {
     "name": "stderr",
     "output_type": "stream",
     "text": [
      "/home/linda/anaconda3/lib/python3.7/site-packages/sklearn/linear_model/_logistic.py:940: ConvergenceWarning: lbfgs failed to converge (status=1):\n",
      "STOP: TOTAL NO. of ITERATIONS REACHED LIMIT.\n",
      "\n",
      "Increase the number of iterations (max_iter) or scale the data as shown in:\n",
      "    https://scikit-learn.org/stable/modules/preprocessing.html\n",
      "Please also refer to the documentation for alternative solver options:\n",
      "    https://scikit-learn.org/stable/modules/linear_model.html#logistic-regression\n",
      "  extra_warning_msg=_LOGISTIC_SOLVER_CONVERGENCE_MSG)\n"
     ]
    },
    {
     "name": "stdout",
     "output_type": "stream",
     "text": [
      "[[1198757  101253]\n",
      " [  17050    5796]]\n",
      "Positive\n",
      "Precision: 0.05414342964436847 || Recall: 0.25369867810557645 || F1: 0.08924131028907964\n",
      "Negative\n",
      "Precision: 0.9859763926346863 || Recall: 0.9221136760486458 || F1: 0.9529763094851493\n"
     ]
    },
    {
     "name": "stderr",
     "output_type": "stream",
     "text": [
      "/home/linda/anaconda3/lib/python3.7/site-packages/sklearn/linear_model/_logistic.py:940: ConvergenceWarning: lbfgs failed to converge (status=1):\n",
      "STOP: TOTAL NO. of ITERATIONS REACHED LIMIT.\n",
      "\n",
      "Increase the number of iterations (max_iter) or scale the data as shown in:\n",
      "    https://scikit-learn.org/stable/modules/preprocessing.html\n",
      "Please also refer to the documentation for alternative solver options:\n",
      "    https://scikit-learn.org/stable/modules/linear_model.html#logistic-regression\n",
      "  extra_warning_msg=_LOGISTIC_SOLVER_CONVERGENCE_MSG)\n"
     ]
    },
    {
     "name": "stdout",
     "output_type": "stream",
     "text": [
      "[[1215035   84975]\n",
      " [  17715    5131]]\n",
      "Positive\n",
      "Precision: 0.05694404368188578 || Recall: 0.22459073798476759 || F1: 0.09085275161130392\n",
      "Negative\n",
      "Precision: 0.9856296897181099 || Recall: 0.9346351181913986 || F1: 0.9594552977779182\n"
     ]
    },
    {
     "name": "stderr",
     "output_type": "stream",
     "text": [
      "/home/linda/anaconda3/lib/python3.7/site-packages/sklearn/linear_model/_logistic.py:940: ConvergenceWarning: lbfgs failed to converge (status=1):\n",
      "STOP: TOTAL NO. of ITERATIONS REACHED LIMIT.\n",
      "\n",
      "Increase the number of iterations (max_iter) or scale the data as shown in:\n",
      "    https://scikit-learn.org/stable/modules/preprocessing.html\n",
      "Please also refer to the documentation for alternative solver options:\n",
      "    https://scikit-learn.org/stable/modules/linear_model.html#logistic-regression\n",
      "  extra_warning_msg=_LOGISTIC_SOLVER_CONVERGENCE_MSG)\n"
     ]
    },
    {
     "name": "stdout",
     "output_type": "stream",
     "text": [
      "[[1206135   93877]\n",
      " [  17407    5442]]\n",
      "Positive\n",
      "Precision: 0.05479314129219988 || Recall: 0.23817234889929537 || F1: 0.08909043284657193\n",
      "Negative\n",
      "Precision: 0.9857732713711503 || Recall: 0.9277875896530186 || F1: 0.9559018748954847\n",
      "---------------------------\n",
      "Positive\n",
      "Overall Precision: 0.055590076167231085 (+/- 0.0010340673922843418) || Overall Recall: 0.24106876900072924 (+/- 0.009707597808809938) || Overall F1: 0.09030497560874287 (+/- 0.0010464290307158923)\n",
      "Negative\n",
      "Overall Precision: 0.9858311485780001 (+/- 0.00012209708125345461) || Overall Recall: 0.927961037903527 (+/- 0.003974409778264336) || Overall F1: 0.956016528883025 (+/- 0.0020553132136930602)\n",
      "------------------------------------------\n",
      "------------------------------------------\n",
      "start with k_neighbor = 5\n"
     ]
    },
    {
     "name": "stderr",
     "output_type": "stream",
     "text": [
      "/home/linda/anaconda3/lib/python3.7/site-packages/sklearn/linear_model/_logistic.py:940: ConvergenceWarning: lbfgs failed to converge (status=1):\n",
      "STOP: TOTAL NO. of ITERATIONS REACHED LIMIT.\n",
      "\n",
      "Increase the number of iterations (max_iter) or scale the data as shown in:\n",
      "    https://scikit-learn.org/stable/modules/preprocessing.html\n",
      "Please also refer to the documentation for alternative solver options:\n",
      "    https://scikit-learn.org/stable/modules/linear_model.html#logistic-regression\n",
      "  extra_warning_msg=_LOGISTIC_SOLVER_CONVERGENCE_MSG)\n"
     ]
    },
    {
     "name": "stdout",
     "output_type": "stream",
     "text": [
      "[[1206140   93870]\n",
      " [  17249    5597]]\n",
      "Positive\n",
      "Precision: 0.056269918666492405 || Recall: 0.24498818173859757 || F1: 0.09151929884803742\n",
      "Negative\n",
      "Precision: 0.9859006415784349 || Recall: 0.9277928631318221 || F1: 0.9559645541588945\n"
     ]
    },
    {
     "name": "stderr",
     "output_type": "stream",
     "text": [
      "/home/linda/anaconda3/lib/python3.7/site-packages/sklearn/linear_model/_logistic.py:940: ConvergenceWarning: lbfgs failed to converge (status=1):\n",
      "STOP: TOTAL NO. of ITERATIONS REACHED LIMIT.\n",
      "\n",
      "Increase the number of iterations (max_iter) or scale the data as shown in:\n",
      "    https://scikit-learn.org/stable/modules/preprocessing.html\n",
      "Please also refer to the documentation for alternative solver options:\n",
      "    https://scikit-learn.org/stable/modules/linear_model.html#logistic-regression\n",
      "  extra_warning_msg=_LOGISTIC_SOLVER_CONVERGENCE_MSG)\n"
     ]
    },
    {
     "name": "stdout",
     "output_type": "stream",
     "text": [
      "[[1207056   92954]\n",
      " [  17356    5490]]\n",
      "Positive\n",
      "Precision: 0.05576774612977937 || Recall: 0.24030464851615163 || F1: 0.0905268365075439\n",
      "Negative\n",
      "Precision: 0.9858250327504141 || Recall: 0.9284974730963608 || F1: 0.9563028685378275\n"
     ]
    },
    {
     "name": "stderr",
     "output_type": "stream",
     "text": [
      "/home/linda/anaconda3/lib/python3.7/site-packages/sklearn/linear_model/_logistic.py:940: ConvergenceWarning: lbfgs failed to converge (status=1):\n",
      "STOP: TOTAL NO. of ITERATIONS REACHED LIMIT.\n",
      "\n",
      "Increase the number of iterations (max_iter) or scale the data as shown in:\n",
      "    https://scikit-learn.org/stable/modules/preprocessing.html\n",
      "Please also refer to the documentation for alternative solver options:\n",
      "    https://scikit-learn.org/stable/modules/linear_model.html#logistic-regression\n",
      "  extra_warning_msg=_LOGISTIC_SOLVER_CONVERGENCE_MSG)\n"
     ]
    },
    {
     "name": "stdout",
     "output_type": "stream",
     "text": [
      "[[1204752   95258]\n",
      " [  17278    5568]]\n",
      "Positive\n",
      "Precision: 0.05522385099081586 || Recall: 0.24371881292129913 || F1: 0.09004463419367358\n",
      "Negative\n",
      "Precision: 0.9858612309026783 || Recall: 0.9267251790370843 || F1: 0.9553789789218251\n"
     ]
    },
    {
     "name": "stderr",
     "output_type": "stream",
     "text": [
      "/home/linda/anaconda3/lib/python3.7/site-packages/sklearn/linear_model/_logistic.py:940: ConvergenceWarning: lbfgs failed to converge (status=1):\n",
      "STOP: TOTAL NO. of ITERATIONS REACHED LIMIT.\n",
      "\n",
      "Increase the number of iterations (max_iter) or scale the data as shown in:\n",
      "    https://scikit-learn.org/stable/modules/preprocessing.html\n",
      "Please also refer to the documentation for alternative solver options:\n",
      "    https://scikit-learn.org/stable/modules/linear_model.html#logistic-regression\n",
      "  extra_warning_msg=_LOGISTIC_SOLVER_CONVERGENCE_MSG)\n"
     ]
    },
    {
     "name": "stdout",
     "output_type": "stream",
     "text": [
      "[[1214845   85165]\n",
      " [  17710    5136]]\n",
      "Positive\n",
      "Precision: 0.0568764465509795 || Recall: 0.22480959467740524 || F1: 0.0907845546059551\n",
      "Negative\n",
      "Precision: 0.9856314728348836 || Recall: 0.9344889654694963 || F1: 0.9593791274853755\n"
     ]
    },
    {
     "name": "stderr",
     "output_type": "stream",
     "text": [
      "/home/linda/anaconda3/lib/python3.7/site-packages/sklearn/linear_model/_logistic.py:940: ConvergenceWarning: lbfgs failed to converge (status=1):\n",
      "STOP: TOTAL NO. of ITERATIONS REACHED LIMIT.\n",
      "\n",
      "Increase the number of iterations (max_iter) or scale the data as shown in:\n",
      "    https://scikit-learn.org/stable/modules/preprocessing.html\n",
      "Please also refer to the documentation for alternative solver options:\n",
      "    https://scikit-learn.org/stable/modules/linear_model.html#logistic-regression\n",
      "  extra_warning_msg=_LOGISTIC_SOLVER_CONVERGENCE_MSG)\n"
     ]
    },
    {
     "name": "stdout",
     "output_type": "stream",
     "text": [
      "[[1205751   94261]\n",
      " [  17382    5467]]\n",
      "Positive\n",
      "Precision: 0.054819107973688434 || Recall: 0.2392664886865946 || F1: 0.08920107361087318\n",
      "Negative\n",
      "Precision: 0.9857889534498702 || Recall: 0.927492207764236 || F1: 0.955752443874609\n",
      "---------------------------\n",
      "Positive\n",
      "Overall Precision: 0.05579141406235112 (+/- 0.0007313452397899095) || Overall Recall: 0.23861754530800963 (+/- 0.007218516262416688) || Overall F1: 0.09041527955321663 (+/- 0.0007719250837928914)\n",
      "Negative\n",
      "Overall Precision: 0.9858014663032563 (+/- 9.275480663740211e-05) || Overall Recall: 0.9289993376997998 (+/- 0.00280309472829806) || Overall F1: 0.9565555945957062 (+/- 0.0014432610825587404)\n",
      "------------------------------------------\n",
      "------------------------------------------\n",
      "start with k_neighbor = 6\n"
     ]
    },
    {
     "name": "stderr",
     "output_type": "stream",
     "text": [
      "/home/linda/anaconda3/lib/python3.7/site-packages/sklearn/linear_model/_logistic.py:940: ConvergenceWarning: lbfgs failed to converge (status=1):\n",
      "STOP: TOTAL NO. of ITERATIONS REACHED LIMIT.\n",
      "\n",
      "Increase the number of iterations (max_iter) or scale the data as shown in:\n",
      "    https://scikit-learn.org/stable/modules/preprocessing.html\n",
      "Please also refer to the documentation for alternative solver options:\n",
      "    https://scikit-learn.org/stable/modules/linear_model.html#logistic-regression\n",
      "  extra_warning_msg=_LOGISTIC_SOLVER_CONVERGENCE_MSG)\n"
     ]
    },
    {
     "name": "stdout",
     "output_type": "stream",
     "text": [
      "[[1207612   92398]\n",
      " [  17278    5568]]\n",
      "Positive\n",
      "Precision: 0.05683604515852438 || Recall: 0.24371881292129913 || F1: 0.09217627388007812\n",
      "Negative\n",
      "Precision: 0.9858942435647282 || Recall: 0.9289251621141376 || F1: 0.9565622400887164\n"
     ]
    },
    {
     "name": "stderr",
     "output_type": "stream",
     "text": [
      "/home/linda/anaconda3/lib/python3.7/site-packages/sklearn/linear_model/_logistic.py:940: ConvergenceWarning: lbfgs failed to converge (status=1):\n",
      "STOP: TOTAL NO. of ITERATIONS REACHED LIMIT.\n",
      "\n",
      "Increase the number of iterations (max_iter) or scale the data as shown in:\n",
      "    https://scikit-learn.org/stable/modules/preprocessing.html\n",
      "Please also refer to the documentation for alternative solver options:\n",
      "    https://scikit-learn.org/stable/modules/linear_model.html#logistic-regression\n",
      "  extra_warning_msg=_LOGISTIC_SOLVER_CONVERGENCE_MSG)\n"
     ]
    },
    {
     "name": "stdout",
     "output_type": "stream",
     "text": [
      "[[1207388   92622]\n",
      " [  17359    5487]]\n",
      "Positive\n",
      "Precision: 0.05592759074091062 || Recall: 0.24017333450056902 || F1: 0.09072795667810343\n",
      "Negative\n",
      "Precision: 0.9858264604853084 || Recall: 0.9287528557472635 || F1: 0.9564389761074037\n"
     ]
    },
    {
     "name": "stderr",
     "output_type": "stream",
     "text": [
      "/home/linda/anaconda3/lib/python3.7/site-packages/sklearn/linear_model/_logistic.py:940: ConvergenceWarning: lbfgs failed to converge (status=1):\n",
      "STOP: TOTAL NO. of ITERATIONS REACHED LIMIT.\n",
      "\n",
      "Increase the number of iterations (max_iter) or scale the data as shown in:\n",
      "    https://scikit-learn.org/stable/modules/preprocessing.html\n",
      "Please also refer to the documentation for alternative solver options:\n",
      "    https://scikit-learn.org/stable/modules/linear_model.html#logistic-regression\n",
      "  extra_warning_msg=_LOGISTIC_SOLVER_CONVERGENCE_MSG)\n"
     ]
    },
    {
     "name": "stdout",
     "output_type": "stream",
     "text": [
      "[[1199359  100651]\n",
      " [  17056    5790]]\n",
      "Positive\n",
      "Precision: 0.05439633224039609 || Recall: 0.2534360500744113 || F1: 0.08956817004029795\n",
      "Negative\n",
      "Precision: 0.9859784695190374 || Recall: 0.92257674940962 || F1: 0.9532245149368649\n"
     ]
    },
    {
     "name": "stderr",
     "output_type": "stream",
     "text": [
      "/home/linda/anaconda3/lib/python3.7/site-packages/sklearn/linear_model/_logistic.py:940: ConvergenceWarning: lbfgs failed to converge (status=1):\n",
      "STOP: TOTAL NO. of ITERATIONS REACHED LIMIT.\n",
      "\n",
      "Increase the number of iterations (max_iter) or scale the data as shown in:\n",
      "    https://scikit-learn.org/stable/modules/preprocessing.html\n",
      "Please also refer to the documentation for alternative solver options:\n",
      "    https://scikit-learn.org/stable/modules/linear_model.html#logistic-regression\n",
      "  extra_warning_msg=_LOGISTIC_SOLVER_CONVERGENCE_MSG)\n"
     ]
    },
    {
     "name": "stdout",
     "output_type": "stream",
     "text": [
      "[[1207050   92960]\n",
      " [  17404    5442]]\n",
      "Positive\n",
      "Precision: 0.055303753988740066 || Recall: 0.2382036242668301 || F1: 0.08976642913697545\n",
      "Negative\n",
      "Precision: 0.9857863178200242 || Recall: 0.9284928577472481 || F1: 0.9562822048561596\n"
     ]
    },
    {
     "name": "stderr",
     "output_type": "stream",
     "text": [
      "/home/linda/anaconda3/lib/python3.7/site-packages/sklearn/linear_model/_logistic.py:940: ConvergenceWarning: lbfgs failed to converge (status=1):\n",
      "STOP: TOTAL NO. of ITERATIONS REACHED LIMIT.\n",
      "\n",
      "Increase the number of iterations (max_iter) or scale the data as shown in:\n",
      "    https://scikit-learn.org/stable/modules/preprocessing.html\n",
      "Please also refer to the documentation for alternative solver options:\n",
      "    https://scikit-learn.org/stable/modules/linear_model.html#logistic-regression\n",
      "  extra_warning_msg=_LOGISTIC_SOLVER_CONVERGENCE_MSG)\n"
     ]
    },
    {
     "name": "stdout",
     "output_type": "stream",
     "text": [
      "[[1206154   93858]\n",
      " [  17399    5450]]\n",
      "Positive\n",
      "Precision: 0.05487976799452209 || Recall: 0.23852247363123114 || F1: 0.0892294342526421\n",
      "Negative\n",
      "Precision: 0.9857799376079336 || Recall: 0.927802204902724 || F1: 0.9559127662651844\n",
      "---------------------------\n",
      "Positive\n",
      "Overall Precision: 0.055468698024618644 (+/- 0.0008490269960559269) || Overall Recall: 0.2428108590788681 (+/- 0.005662021938029705) || Overall F1: 0.0902936527976194 (+/- 0.001064869300121728)\n",
      "Negative\n",
      "Overall Precision: 0.9858530857994063 (+/- 7.474298245606577e-05) || Overall Recall: 0.9273099659841988 (+/- 0.002397317693773378) || Overall F1: 0.9556841404508658 (+/- 0.0012490431783850212)\n",
      "------------------------------------------\n",
      "------------------------------------------\n",
      "start with k_neighbor = 7\n"
     ]
    },
    {
     "name": "stderr",
     "output_type": "stream",
     "text": [
      "/home/linda/anaconda3/lib/python3.7/site-packages/sklearn/linear_model/_logistic.py:940: ConvergenceWarning: lbfgs failed to converge (status=1):\n",
      "STOP: TOTAL NO. of ITERATIONS REACHED LIMIT.\n",
      "\n",
      "Increase the number of iterations (max_iter) or scale the data as shown in:\n",
      "    https://scikit-learn.org/stable/modules/preprocessing.html\n",
      "Please also refer to the documentation for alternative solver options:\n",
      "    https://scikit-learn.org/stable/modules/linear_model.html#logistic-regression\n",
      "  extra_warning_msg=_LOGISTIC_SOLVER_CONVERGENCE_MSG)\n"
     ]
    },
    {
     "name": "stdout",
     "output_type": "stream",
     "text": [
      "[[1213257   86753]\n",
      " [  17551    5295]]\n",
      "Positive\n",
      "Precision: 0.05752433512949765 || Recall: 0.23176923750328285 || F1: 0.09217191498250561\n",
      "Negative\n",
      "Precision: 0.985740261681757 || Recall: 0.9332674364043354 || F1: 0.9587864477018893\n"
     ]
    },
    {
     "name": "stderr",
     "output_type": "stream",
     "text": [
      "/home/linda/anaconda3/lib/python3.7/site-packages/sklearn/linear_model/_logistic.py:940: ConvergenceWarning: lbfgs failed to converge (status=1):\n",
      "STOP: TOTAL NO. of ITERATIONS REACHED LIMIT.\n",
      "\n",
      "Increase the number of iterations (max_iter) or scale the data as shown in:\n",
      "    https://scikit-learn.org/stable/modules/preprocessing.html\n",
      "Please also refer to the documentation for alternative solver options:\n",
      "    https://scikit-learn.org/stable/modules/linear_model.html#logistic-regression\n",
      "  extra_warning_msg=_LOGISTIC_SOLVER_CONVERGENCE_MSG)\n"
     ]
    },
    {
     "name": "stdout",
     "output_type": "stream",
     "text": [
      "[[1207596   92414]\n",
      " [  17366    5480]]\n",
      "Positive\n",
      "Precision: 0.05597891597033526 || Recall: 0.2398669351308763 || F1: 0.09077356302799404\n",
      "Negative\n",
      "Precision: 0.9858232337003107 || Recall: 0.9289128545165037 || F1: 0.956522290148168\n"
     ]
    },
    {
     "name": "stderr",
     "output_type": "stream",
     "text": [
      "/home/linda/anaconda3/lib/python3.7/site-packages/sklearn/linear_model/_logistic.py:940: ConvergenceWarning: lbfgs failed to converge (status=1):\n",
      "STOP: TOTAL NO. of ITERATIONS REACHED LIMIT.\n",
      "\n",
      "Increase the number of iterations (max_iter) or scale the data as shown in:\n",
      "    https://scikit-learn.org/stable/modules/preprocessing.html\n",
      "Please also refer to the documentation for alternative solver options:\n",
      "    https://scikit-learn.org/stable/modules/linear_model.html#logistic-regression\n",
      "  extra_warning_msg=_LOGISTIC_SOLVER_CONVERGENCE_MSG)\n"
     ]
    },
    {
     "name": "stdout",
     "output_type": "stream",
     "text": [
      "[[1199064  100946]\n",
      " [  17046    5800]]\n",
      "Positive\n",
      "Precision: 0.05433458864969179 || Recall: 0.2538737634596866 || F1: 0.08951169825297858\n",
      "Negative\n",
      "Precision: 0.9859831758640255 || Recall: 0.9223498280782455 || F1: 0.953105575250783\n"
     ]
    },
    {
     "name": "stderr",
     "output_type": "stream",
     "text": [
      "/home/linda/anaconda3/lib/python3.7/site-packages/sklearn/linear_model/_logistic.py:940: ConvergenceWarning: lbfgs failed to converge (status=1):\n",
      "STOP: TOTAL NO. of ITERATIONS REACHED LIMIT.\n",
      "\n",
      "Increase the number of iterations (max_iter) or scale the data as shown in:\n",
      "    https://scikit-learn.org/stable/modules/preprocessing.html\n",
      "Please also refer to the documentation for alternative solver options:\n",
      "    https://scikit-learn.org/stable/modules/linear_model.html#logistic-regression\n",
      "  extra_warning_msg=_LOGISTIC_SOLVER_CONVERGENCE_MSG)\n"
     ]
    },
    {
     "name": "stdout",
     "output_type": "stream",
     "text": [
      "[[1207846   92164]\n",
      " [  17415    5431]]\n",
      "Positive\n",
      "Precision: 0.055648342640504125 || Recall: 0.23772213954302723 || F1: 0.09018523592464361\n",
      "Negative\n",
      "Precision: 0.9857867017721123 || Recall: 0.9291051607295329 || F1: 0.9566070334629432\n"
     ]
    },
    {
     "name": "stderr",
     "output_type": "stream",
     "text": [
      "/home/linda/anaconda3/lib/python3.7/site-packages/sklearn/linear_model/_logistic.py:940: ConvergenceWarning: lbfgs failed to converge (status=1):\n",
      "STOP: TOTAL NO. of ITERATIONS REACHED LIMIT.\n",
      "\n",
      "Increase the number of iterations (max_iter) or scale the data as shown in:\n",
      "    https://scikit-learn.org/stable/modules/preprocessing.html\n",
      "Please also refer to the documentation for alternative solver options:\n",
      "    https://scikit-learn.org/stable/modules/linear_model.html#logistic-regression\n",
      "  extra_warning_msg=_LOGISTIC_SOLVER_CONVERGENCE_MSG)\n"
     ]
    },
    {
     "name": "stdout",
     "output_type": "stream",
     "text": [
      "[[1205923   94089]\n",
      " [  17385    5464]]\n",
      "Positive\n",
      "Precision: 0.05488533745843922 || Recall: 0.23913519191211868 || F1: 0.08927958693485401\n",
      "Negative\n",
      "Precision: 0.9857885340404869 || Recall: 0.9276245142352532 || F1: 0.9558224878334892\n",
      "---------------------------\n",
      "Positive\n",
      "Overall Precision: 0.055674303969693605 (+/- 0.001089346872976884) || Overall Recall: 0.24047345350979832 (+/- 0.007280937030804466) || Overall F1: 0.09038439982459516 (+/- 0.0010361992329782391)\n",
      "Negative\n",
      "Overall Precision: 0.9858243814117384 (+/- 8.366350884205774e-05) || Overall Recall: 0.9282519587927741 (+/- 0.003508520657449524) || Overall F1: 0.9561687668794546 (+/- 0.0018260537406935913)\n",
      "------------------------------------------\n",
      "------------------------------------------\n",
      "start with k_neighbor = 8\n"
     ]
    },
    {
     "name": "stderr",
     "output_type": "stream",
     "text": [
      "/home/linda/anaconda3/lib/python3.7/site-packages/sklearn/linear_model/_logistic.py:940: ConvergenceWarning: lbfgs failed to converge (status=1):\n",
      "STOP: TOTAL NO. of ITERATIONS REACHED LIMIT.\n",
      "\n",
      "Increase the number of iterations (max_iter) or scale the data as shown in:\n",
      "    https://scikit-learn.org/stable/modules/preprocessing.html\n",
      "Please also refer to the documentation for alternative solver options:\n",
      "    https://scikit-learn.org/stable/modules/linear_model.html#logistic-regression\n",
      "  extra_warning_msg=_LOGISTIC_SOLVER_CONVERGENCE_MSG)\n"
     ]
    },
    {
     "name": "stdout",
     "output_type": "stream",
     "text": [
      "[[1206797   93213]\n",
      " [  17341    5505]]\n",
      "Positive\n",
      "Precision: 0.05576490609615268 || Recall: 0.2409612185940646 || F1: 0.09056957651936427\n",
      "Negative\n",
      "Precision: 0.9858341134741344 || Recall: 0.9282982438596626 || F1: 0.9562014588684974\n"
     ]
    },
    {
     "name": "stderr",
     "output_type": "stream",
     "text": [
      "/home/linda/anaconda3/lib/python3.7/site-packages/sklearn/linear_model/_logistic.py:940: ConvergenceWarning: lbfgs failed to converge (status=1):\n",
      "STOP: TOTAL NO. of ITERATIONS REACHED LIMIT.\n",
      "\n",
      "Increase the number of iterations (max_iter) or scale the data as shown in:\n",
      "    https://scikit-learn.org/stable/modules/preprocessing.html\n",
      "Please also refer to the documentation for alternative solver options:\n",
      "    https://scikit-learn.org/stable/modules/linear_model.html#logistic-regression\n",
      "  extra_warning_msg=_LOGISTIC_SOLVER_CONVERGENCE_MSG)\n"
     ]
    },
    {
     "name": "stdout",
     "output_type": "stream",
     "text": [
      "[[1207451   92559]\n",
      " [  17375    5471]]\n",
      "Positive\n",
      "Precision: 0.055809446087932264 || Recall: 0.2394729930841285 || F1: 0.09052251894503457\n",
      "Negative\n",
      "Precision: 0.9858143115838495 || Recall: 0.9288013169129469 || F1: 0.9564589541657359\n"
     ]
    },
    {
     "name": "stderr",
     "output_type": "stream",
     "text": [
      "/home/linda/anaconda3/lib/python3.7/site-packages/sklearn/linear_model/_logistic.py:940: ConvergenceWarning: lbfgs failed to converge (status=1):\n",
      "STOP: TOTAL NO. of ITERATIONS REACHED LIMIT.\n",
      "\n",
      "Increase the number of iterations (max_iter) or scale the data as shown in:\n",
      "    https://scikit-learn.org/stable/modules/preprocessing.html\n",
      "Please also refer to the documentation for alternative solver options:\n",
      "    https://scikit-learn.org/stable/modules/linear_model.html#logistic-regression\n",
      "  extra_warning_msg=_LOGISTIC_SOLVER_CONVERGENCE_MSG)\n"
     ]
    },
    {
     "name": "stdout",
     "output_type": "stream",
     "text": [
      "[[1207248   92762]\n",
      " [  17356    5490]]\n",
      "Positive\n",
      "Precision: 0.05587672515572202 || Recall: 0.24030464851615163 || F1: 0.09067036614972998\n",
      "Negative\n",
      "Precision: 0.9858272551780004 || Recall: 0.9286451642679672 || F1: 0.9563822429884331\n"
     ]
    },
    {
     "name": "stderr",
     "output_type": "stream",
     "text": [
      "/home/linda/anaconda3/lib/python3.7/site-packages/sklearn/linear_model/_logistic.py:940: ConvergenceWarning: lbfgs failed to converge (status=1):\n",
      "STOP: TOTAL NO. of ITERATIONS REACHED LIMIT.\n",
      "\n",
      "Increase the number of iterations (max_iter) or scale the data as shown in:\n",
      "    https://scikit-learn.org/stable/modules/preprocessing.html\n",
      "Please also refer to the documentation for alternative solver options:\n",
      "    https://scikit-learn.org/stable/modules/linear_model.html#logistic-regression\n",
      "  extra_warning_msg=_LOGISTIC_SOLVER_CONVERGENCE_MSG)\n"
     ]
    },
    {
     "name": "stdout",
     "output_type": "stream",
     "text": [
      "[[1206824   93186]\n",
      " [  17368    5478]]\n",
      "Positive\n",
      "Precision: 0.055521770858671854 || Recall: 0.23977939245382124 || F1: 0.09016541848407537\n",
      "Negative\n",
      "Precision: 0.9858126829778335 || Recall: 0.9283190129306698 || F1: 0.9562023958462912\n"
     ]
    },
    {
     "name": "stderr",
     "output_type": "stream",
     "text": [
      "/home/linda/anaconda3/lib/python3.7/site-packages/sklearn/linear_model/_logistic.py:940: ConvergenceWarning: lbfgs failed to converge (status=1):\n",
      "STOP: TOTAL NO. of ITERATIONS REACHED LIMIT.\n",
      "\n",
      "Increase the number of iterations (max_iter) or scale the data as shown in:\n",
      "    https://scikit-learn.org/stable/modules/preprocessing.html\n",
      "Please also refer to the documentation for alternative solver options:\n",
      "    https://scikit-learn.org/stable/modules/linear_model.html#logistic-regression\n",
      "  extra_warning_msg=_LOGISTIC_SOLVER_CONVERGENCE_MSG)\n"
     ]
    },
    {
     "name": "stdout",
     "output_type": "stream",
     "text": [
      "[[1206475   93537]\n",
      " [  17412    5437]]\n",
      "Positive\n",
      "Precision: 0.0549336189302241 || Recall: 0.23795352094183553 || F1: 0.0892606486459864\n",
      "Negative\n",
      "Precision: 0.9857731963816921 || Recall: 0.9280491257003781 || F1: 0.9560406339556377\n",
      "---------------------------\n",
      "Positive\n",
      "Overall Precision: 0.055581293425740586 (+/- 0.0003452744836253662) || Overall Recall: 0.2396943547180003 (+/- 0.001006393285573657) || Overall F1: 0.09023770574883813 (+/- 0.0005173621204605226)\n",
      "Negative\n",
      "Overall Precision: 0.985812311919102 (+/- 2.1131826229091588e-05) || Overall Recall: 0.9284225727343248 (+/- 0.0002678205118585107) || Overall F1: 0.956257137164919 (+/- 0.00014788637069217537)\n",
      "------------------------------------------\n",
      "------------------------------------------\n",
      "start with k_neighbor = 9\n"
     ]
    },
    {
     "name": "stderr",
     "output_type": "stream",
     "text": [
      "/home/linda/anaconda3/lib/python3.7/site-packages/sklearn/linear_model/_logistic.py:940: ConvergenceWarning: lbfgs failed to converge (status=1):\n",
      "STOP: TOTAL NO. of ITERATIONS REACHED LIMIT.\n",
      "\n",
      "Increase the number of iterations (max_iter) or scale the data as shown in:\n",
      "    https://scikit-learn.org/stable/modules/preprocessing.html\n",
      "Please also refer to the documentation for alternative solver options:\n",
      "    https://scikit-learn.org/stable/modules/linear_model.html#logistic-regression\n",
      "  extra_warning_msg=_LOGISTIC_SOLVER_CONVERGENCE_MSG)\n"
     ]
    },
    {
     "name": "stdout",
     "output_type": "stream",
     "text": [
      "[[1201052   98958]\n",
      " [  17093    5753]]\n",
      "Positive\n",
      "Precision: 0.05494169666988186 || Recall: 0.2518165105488926 || F1: 0.09020281129220663\n",
      "Negative\n",
      "Precision: 0.9859680087345923 || Recall: 0.9238790470842532 || F1: 0.9539142745383027\n"
     ]
    },
    {
     "name": "stderr",
     "output_type": "stream",
     "text": [
      "/home/linda/anaconda3/lib/python3.7/site-packages/sklearn/linear_model/_logistic.py:940: ConvergenceWarning: lbfgs failed to converge (status=1):\n",
      "STOP: TOTAL NO. of ITERATIONS REACHED LIMIT.\n",
      "\n",
      "Increase the number of iterations (max_iter) or scale the data as shown in:\n",
      "    https://scikit-learn.org/stable/modules/preprocessing.html\n",
      "Please also refer to the documentation for alternative solver options:\n",
      "    https://scikit-learn.org/stable/modules/linear_model.html#logistic-regression\n",
      "  extra_warning_msg=_LOGISTIC_SOLVER_CONVERGENCE_MSG)\n"
     ]
    },
    {
     "name": "stdout",
     "output_type": "stream",
     "text": [
      "[[1207687   92323]\n",
      " [  17396    5450]]\n",
      "Positive\n",
      "Precision: 0.055741360089186176 || Recall: 0.23855379497505033 || F1: 0.09036718924879164\n",
      "Negative\n",
      "Precision: 0.9858001457860406 || Recall: 0.9289828539780464 || F1: 0.9565485310838057\n"
     ]
    },
    {
     "name": "stderr",
     "output_type": "stream",
     "text": [
      "/home/linda/anaconda3/lib/python3.7/site-packages/sklearn/linear_model/_logistic.py:940: ConvergenceWarning: lbfgs failed to converge (status=1):\n",
      "STOP: TOTAL NO. of ITERATIONS REACHED LIMIT.\n",
      "\n",
      "Increase the number of iterations (max_iter) or scale the data as shown in:\n",
      "    https://scikit-learn.org/stable/modules/preprocessing.html\n",
      "Please also refer to the documentation for alternative solver options:\n",
      "    https://scikit-learn.org/stable/modules/linear_model.html#logistic-regression\n",
      "  extra_warning_msg=_LOGISTIC_SOLVER_CONVERGENCE_MSG)\n"
     ]
    },
    {
     "name": "stdout",
     "output_type": "stream",
     "text": [
      "[[1200529   99481]\n",
      " [  17114    5732]]\n",
      "Positive\n",
      "Precision: 0.05447995970079743 || Recall: 0.2508973124398144 || F1: 0.0895212363051406\n",
      "Negative\n",
      "Precision: 0.9859449773045137 || Recall: 0.9234767424865963 || F1: 0.9536890111544364\n"
     ]
    },
    {
     "name": "stderr",
     "output_type": "stream",
     "text": [
      "/home/linda/anaconda3/lib/python3.7/site-packages/sklearn/linear_model/_logistic.py:940: ConvergenceWarning: lbfgs failed to converge (status=1):\n",
      "STOP: TOTAL NO. of ITERATIONS REACHED LIMIT.\n",
      "\n",
      "Increase the number of iterations (max_iter) or scale the data as shown in:\n",
      "    https://scikit-learn.org/stable/modules/preprocessing.html\n",
      "Please also refer to the documentation for alternative solver options:\n",
      "    https://scikit-learn.org/stable/modules/linear_model.html#logistic-regression\n",
      "  extra_warning_msg=_LOGISTIC_SOLVER_CONVERGENCE_MSG)\n"
     ]
    },
    {
     "name": "stdout",
     "output_type": "stream",
     "text": [
      "[[1207795   92215]\n",
      " [  17425    5421]]\n",
      "Positive\n",
      "Precision: 0.05552255315662256 || Recall: 0.23728442615775192 || F1: 0.08998854600687238\n",
      "Negative\n",
      "Precision: 0.9857780643476274 || Recall: 0.929065930262075 || F1: 0.9565821727129806\n"
     ]
    },
    {
     "name": "stderr",
     "output_type": "stream",
     "text": [
      "/home/linda/anaconda3/lib/python3.7/site-packages/sklearn/linear_model/_logistic.py:940: ConvergenceWarning: lbfgs failed to converge (status=1):\n",
      "STOP: TOTAL NO. of ITERATIONS REACHED LIMIT.\n",
      "\n",
      "Increase the number of iterations (max_iter) or scale the data as shown in:\n",
      "    https://scikit-learn.org/stable/modules/preprocessing.html\n",
      "Please also refer to the documentation for alternative solver options:\n",
      "    https://scikit-learn.org/stable/modules/linear_model.html#logistic-regression\n",
      "  extra_warning_msg=_LOGISTIC_SOLVER_CONVERGENCE_MSG)\n"
     ]
    },
    {
     "name": "stdout",
     "output_type": "stream",
     "text": [
      "[[1200103   99909]\n",
      " [  17197    5652]]\n",
      "Positive\n",
      "Precision: 0.053542501492028306 || Recall: 0.24736312311260886 || F1: 0.08803052721750643\n",
      "Negative\n",
      "Precision: 0.9858728333196418 || Recall: 0.9231476324833925 || F1: 0.9534797434724023\n",
      "---------------------------\n",
      "Positive\n",
      "Overall Precision: 0.05484561422170327 (+/- 0.0007876096536318192) || Overall Recall: 0.2451830334468236 (+/- 0.006127700933415212) || Overall F1: 0.08962206201410353 (+/- 0.0008449785404629255)\n",
      "Negative\n",
      "Overall Precision: 0.985872805898483 (+/- 7.553508589033463e-05) || Overall Recall: 0.9257104412588728 (+/- 0.002715856958788469) || Overall F1: 0.9548427465923857 (+/- 0.0014132407637239006)\n",
      "------------------------------------------\n",
      "------------------------------------------\n"
     ]
    }
   ],
   "source": [
    "# loop through different neighbors\n",
    "for k_neighbor in range(2,10):\n",
    "    print(f'start with k_neighbor = {str(k_neighbor)}')\n",
    "    \n",
    "    log_reg = LogisticRegression(random_state=88)\n",
    "    get_cross_validation_two_class_normal_distribution_with_undersampling(log_reg, \n",
    "                                                                          ['instance', 'class', 'frequency', 'pidspread', 'pldspread', 'id', 'pids'],\n",
    "                                                                         k_neighbors=k_neighbor)\n",
    "    \n",
    "    print('------------------------------------------')\n",
    "    print('------------------------------------------')"
   ]
  },
  {
   "cell_type": "code",
   "execution_count": 5,
   "metadata": {},
   "outputs": [],
   "source": [
    "def get_cross_validation_two_class_normal_distribution_BORDERLINE(model, X_columns_drop, scale=False):\n",
    "    \"\"\"Get cross validated confusion matrix for two class problem\"\"\"\n",
    "    \n",
    "    # positive scores\n",
    "    overall_precision = []\n",
    "    overall_recall = []\n",
    "    overall_f1 = []\n",
    "    \n",
    "    # negative scores\n",
    "    overall_negative_precision = []\n",
    "    overall_negative_recall = []\n",
    "    overall_negative_f1 = []\n",
    "    \n",
    "    # loop through all folds\n",
    "    \n",
    "    for x in range(5):\n",
    "        \n",
    "        # load data\n",
    "        train = pd.read_csv('/path/to/9_FINAL/data/machine_learning/two_class/one-hot-ecoding/train/cross_validation/training_fraction_normal_distribution/training_'+str(x)+'.csv',sep=\";\")\n",
    "        \n",
    "        # debug\n",
    "        train_id = train['id']\n",
    "        del train['Unnamed: 0']\n",
    "        y_train = train['label']\n",
    "        del train['label']\n",
    "        X_train = train.drop(X_columns_drop, axis=1)\n",
    "        \n",
    "        # oversample train\n",
    "        oversample = BorderlineSMOTE()\n",
    "        X_train, y_train = oversample.fit_resample(X_train, y_train)\n",
    "        \n",
    "        validation = pd.read_csv('/path/to/9_FINAL/data/machine_learning/two_class/one-hot-ecoding/train/cross_validation/validation/val_fold_'+str(x)+'.csv',sep=\";\")\n",
    "        # print(validation[validation.id.isin(train_id)])\n",
    "        del validation['Unnamed: 0']\n",
    "        y_validation = validation['label']\n",
    "        del validation['label']\n",
    "        X_validation = validation.drop(X_columns_drop, axis=1)\n",
    "        \n",
    "        # scale if necesary\n",
    "        if scale:\n",
    "            min_max_scaler = preprocessing.MinMaxScaler()\n",
    "            X_train = pd.DataFrame(min_max_scaler.fit_transform(X_train))\n",
    "            X_validation = pd.DataFrame(min_max_scaler.fit_transform(X_validation))\n",
    "        \n",
    "        # fit model\n",
    "        model.fit(X_train, y_train)\n",
    "        \n",
    "        # predicted score\n",
    "        y_predict = model.predict(X_validation)\n",
    "        f1 = f1_score(y_validation, y_predict)\n",
    "        precision = precision_score(y_validation, y_predict)\n",
    "        recall = recall_score(y_validation, y_predict)\n",
    "        conf_matrix = confusion_matrix(y_validation, y_predict)\n",
    "        print(conf_matrix)\n",
    "        print('Positive')\n",
    "        print('Precision: {} || Recall: {} || F1: {}'.format(precision, recall, f1))\n",
    "        \n",
    "        overall_precision.append(precision)\n",
    "        overall_recall.append(recall)\n",
    "        overall_f1.append(f1)\n",
    "        \n",
    "        # for negative class (noise), flip labels\n",
    "        \n",
    "        precision = conf_matrix[0,0] / (conf_matrix[0,0] + conf_matrix[1,0])\n",
    "        recall = conf_matrix[0,0] / (conf_matrix[0,0] + conf_matrix[0,1])\n",
    "        f1 = (2*precision*recall)/(precision+recall)\n",
    "        \n",
    "        print('Negative')\n",
    "        print('Precision: {} || Recall: {} || F1: {}'.format(precision, recall, f1))\n",
    "        \n",
    "        overall_negative_precision.append(precision)\n",
    "        overall_negative_recall.append(recall)\n",
    "        overall_negative_f1.append(f1)\n",
    "    \n",
    "    print('---------------------------')\n",
    "    print('Positive')\n",
    "    print('Overall Precision: {} (+/- {}) || Overall Recall: {} (+/- {}) || Overall F1: {} (+/- {})'.format(\n",
    "                                                                            np.mean(overall_precision), np.std(overall_precision, axis=0),\n",
    "                                                                           np.mean(overall_recall), np.std(overall_recall, axis=0),\n",
    "                                                                            np.mean(overall_f1), np.std(overall_f1, axis=0)))\n",
    "    \n",
    "    print('Negative')\n",
    "    print('Overall Precision: {} (+/- {}) || Overall Recall: {} (+/- {}) || Overall F1: {} (+/- {})'.format(\n",
    "                                                                            np.mean(overall_negative_precision), np.std(overall_negative_precision, axis=0),\n",
    "                                                                           np.mean(overall_negative_recall), np.std(overall_negative_recall, axis=0),\n",
    "                                                                            np.mean(overall_negative_f1), np.std(overall_negative_f1, axis=0)))"
   ]
  },
  {
   "cell_type": "code",
   "execution_count": 6,
   "metadata": {},
   "outputs": [
    {
     "name": "stderr",
     "output_type": "stream",
     "text": [
      "/home/linda/anaconda3/lib/python3.7/site-packages/sklearn/linear_model/_logistic.py:940: ConvergenceWarning: lbfgs failed to converge (status=1):\n",
      "STOP: TOTAL NO. of ITERATIONS REACHED LIMIT.\n",
      "\n",
      "Increase the number of iterations (max_iter) or scale the data as shown in:\n",
      "    https://scikit-learn.org/stable/modules/preprocessing.html\n",
      "Please also refer to the documentation for alternative solver options:\n",
      "    https://scikit-learn.org/stable/modules/linear_model.html#logistic-regression\n",
      "  extra_warning_msg=_LOGISTIC_SOLVER_CONVERGENCE_MSG)\n"
     ]
    },
    {
     "name": "stdout",
     "output_type": "stream",
     "text": [
      "[[1041151  258859]\n",
      " [  13368    9478]]\n",
      "Positive\n",
      "Precision: 0.03532125647972512 || Recall: 0.41486474656394995 || F1: 0.06509995432425657\n",
      "Negative\n",
      "Precision: 0.987323130261285 || Recall: 0.8008792240059692 || F1: 0.8843815472223957\n"
     ]
    },
    {
     "name": "stderr",
     "output_type": "stream",
     "text": [
      "/home/linda/anaconda3/lib/python3.7/site-packages/sklearn/linear_model/_logistic.py:940: ConvergenceWarning: lbfgs failed to converge (status=1):\n",
      "STOP: TOTAL NO. of ITERATIONS REACHED LIMIT.\n",
      "\n",
      "Increase the number of iterations (max_iter) or scale the data as shown in:\n",
      "    https://scikit-learn.org/stable/modules/preprocessing.html\n",
      "Please also refer to the documentation for alternative solver options:\n",
      "    https://scikit-learn.org/stable/modules/linear_model.html#logistic-regression\n",
      "  extra_warning_msg=_LOGISTIC_SOLVER_CONVERGENCE_MSG)\n"
     ]
    },
    {
     "name": "stdout",
     "output_type": "stream",
     "text": [
      "[[1126512  173498]\n",
      " [  15904    6942]]\n",
      "Positive\n",
      "Precision: 0.03847262247838617 || Recall: 0.30386063205812835 || F1: 0.06829786606062395\n",
      "Negative\n",
      "Precision: 0.9860786263497711 || Recall: 0.8665410266074877 || F1: 0.922453331237057\n"
     ]
    },
    {
     "name": "stderr",
     "output_type": "stream",
     "text": [
      "/home/linda/anaconda3/lib/python3.7/site-packages/sklearn/linear_model/_logistic.py:940: ConvergenceWarning: lbfgs failed to converge (status=1):\n",
      "STOP: TOTAL NO. of ITERATIONS REACHED LIMIT.\n",
      "\n",
      "Increase the number of iterations (max_iter) or scale the data as shown in:\n",
      "    https://scikit-learn.org/stable/modules/preprocessing.html\n",
      "Please also refer to the documentation for alternative solver options:\n",
      "    https://scikit-learn.org/stable/modules/linear_model.html#logistic-regression\n",
      "  extra_warning_msg=_LOGISTIC_SOLVER_CONVERGENCE_MSG)\n"
     ]
    },
    {
     "name": "stdout",
     "output_type": "stream",
     "text": [
      "[[1001607  298403]\n",
      " [  12683   10163]]\n",
      "Positive\n",
      "Precision: 0.03293622758178153 || Recall: 0.44484811345530945 || F1: 0.061331514851604645\n",
      "Negative\n",
      "Precision: 0.9874956866379437 || Recall: 0.7704609964538734 || F1: 0.8655809532039925\n"
     ]
    },
    {
     "name": "stderr",
     "output_type": "stream",
     "text": [
      "/home/linda/anaconda3/lib/python3.7/site-packages/sklearn/linear_model/_logistic.py:940: ConvergenceWarning: lbfgs failed to converge (status=1):\n",
      "STOP: TOTAL NO. of ITERATIONS REACHED LIMIT.\n",
      "\n",
      "Increase the number of iterations (max_iter) or scale the data as shown in:\n",
      "    https://scikit-learn.org/stable/modules/preprocessing.html\n",
      "Please also refer to the documentation for alternative solver options:\n",
      "    https://scikit-learn.org/stable/modules/linear_model.html#logistic-regression\n",
      "  extra_warning_msg=_LOGISTIC_SOLVER_CONVERGENCE_MSG)\n"
     ]
    },
    {
     "name": "stdout",
     "output_type": "stream",
     "text": [
      "[[1020358  279652]\n",
      " [  13187    9659]]\n",
      "Positive\n",
      "Precision: 0.0333862175997456 || Recall: 0.42278735883743324 || F1: 0.06188552555284681\n",
      "Negative\n",
      "Precision: 0.9872410006337412 || Recall: 0.7848847316559103 || F1: 0.8745094930267339\n"
     ]
    },
    {
     "name": "stderr",
     "output_type": "stream",
     "text": [
      "/home/linda/anaconda3/lib/python3.7/site-packages/sklearn/linear_model/_logistic.py:940: ConvergenceWarning: lbfgs failed to converge (status=1):\n",
      "STOP: TOTAL NO. of ITERATIONS REACHED LIMIT.\n",
      "\n",
      "Increase the number of iterations (max_iter) or scale the data as shown in:\n",
      "    https://scikit-learn.org/stable/modules/preprocessing.html\n",
      "Please also refer to the documentation for alternative solver options:\n",
      "    https://scikit-learn.org/stable/modules/linear_model.html#logistic-regression\n",
      "  extra_warning_msg=_LOGISTIC_SOLVER_CONVERGENCE_MSG)\n"
     ]
    },
    {
     "name": "stdout",
     "output_type": "stream",
     "text": [
      "[[1131802  168210]\n",
      " [  15286    7563]]\n",
      "Positive\n",
      "Precision: 0.04302708607123961 || Recall: 0.33099916845376165 || F1: 0.07615470592381508\n",
      "Negative\n",
      "Precision: 0.9866740825464132 || Recall: 0.8706088866871998 || F1: 0.9250149156144007\n",
      "---------------------------\n",
      "Positive\n",
      "Overall Precision: 0.036628682042175606 (+/- 0.003746914668238146) || Overall Recall: 0.3834720038737165 (+/- 0.05547900005638069) || Overall F1: 0.06655391334262942 (+/- 0.0054110604626359)\n",
      "Negative\n",
      "Overall Precision: 0.9869625052858308 (+/- 0.0005208304976080688) || Overall Recall: 0.8186749730820881 (+/- 0.041883999583528835) || Overall F1: 0.894388048060916 (+/- 0.024701420442030372)\n"
     ]
    }
   ],
   "source": [
    "# test borderline smote\n",
    "log_reg = LogisticRegression(random_state=88)\n",
    "get_cross_validation_two_class_normal_distribution_BORDERLINE(log_reg, \n",
    "                                                            ['instance', 'class', 'frequency', 'pidspread', 'pldspread', 'id', 'pids'])"
   ]
  },
  {
   "cell_type": "code",
   "execution_count": 10,
   "metadata": {},
   "outputs": [],
   "source": [
    "def get_cross_validation_two_class_normal_distribution_with_undersampling(model, X_columns_drop, scale=False,\n",
    "                                                                         sampling_strategy_oversample = 0.1,\n",
    "                                                                         sampling_strategy_undersample = 0.5,\n",
    "                                                                         k_neighbors=5):\n",
    "    \"\"\"Get cross validated confusion matrix for two class problem\"\"\"\n",
    "    \n",
    "    # positive scores\n",
    "    overall_precision = []\n",
    "    overall_recall = []\n",
    "    overall_f1 = []\n",
    "    \n",
    "    # negative scores\n",
    "    overall_negative_precision = []\n",
    "    overall_negative_recall = []\n",
    "    overall_negative_f1 = []\n",
    "    \n",
    "    # loop through all folds\n",
    "    \n",
    "    for x in range(5):\n",
    "        \n",
    "        # load data\n",
    "        train = pd.read_csv('/path/to/9_FINAL/data/machine_learning/count_based/cross_validation/training_fraction_normal_distribution/training_'+str(x)+'.csv',sep=\";\", index_col=0)      \n",
    "        # debug\n",
    "        train_id = train['id']\n",
    "        y_train = train['label']\n",
    "        del train['label']\n",
    "        X_train = train.drop(X_columns_drop, axis=1)\n",
    "        \n",
    "        # oversample train\n",
    "        oversample = SMOTE(sampling_strategy=sampling_strategy_oversample,\n",
    "                          k_neighbors=k_neighbors)\n",
    "        X_train, y_train = oversample.fit_resample(X_train, y_train)\n",
    "        undersample = RandomUnderSampler(sampling_strategy=sampling_strategy_undersample)\n",
    "        X_train, y_train = undersample.fit_resample(X_train, y_train)\n",
    "        \n",
    "        validation = pd.read_csv('/path/to/9_FINAL/data/machine_learning/count_based/cross_validation/validation/validation_'+str(x)+'.csv',sep=\";\", index_col=0)\n",
    "        # print(validation[validation.id.isin(train_id)])\n",
    "        y_validation = validation['label']\n",
    "        del validation['label']\n",
    "        X_validation = validation.drop(X_columns_drop, axis=1)\n",
    "        \n",
    "        # scale if necesary\n",
    "        if scale:\n",
    "            min_max_scaler = preprocessing.MinMaxScaler()\n",
    "            X_train = pd.DataFrame(min_max_scaler.fit_transform(X_train))\n",
    "            X_validation = pd.DataFrame(min_max_scaler.fit_transform(X_validation))\n",
    "        \n",
    "        # fit model\n",
    "        model.fit(X_train, y_train)\n",
    "        \n",
    "        # predicted score\n",
    "        y_predict = model.predict(X_validation)\n",
    "        f1 = f1_score(y_validation, y_predict)\n",
    "        precision = precision_score(y_validation, y_predict)\n",
    "        recall = recall_score(y_validation, y_predict)\n",
    "        conf_matrix = confusion_matrix(y_validation, y_predict)\n",
    "        print(conf_matrix)\n",
    "        print('Positive')\n",
    "        print('Precision: {} || Recall: {} || F1: {}'.format(precision, recall, f1))\n",
    "        \n",
    "        overall_precision.append(precision)\n",
    "        overall_recall.append(recall)\n",
    "        overall_f1.append(f1)\n",
    "        \n",
    "        # for negative class (noise), flip labels\n",
    "        \n",
    "        precision = conf_matrix[0,0] / (conf_matrix[0,0] + conf_matrix[1,0])\n",
    "        recall = conf_matrix[0,0] / (conf_matrix[0,0] + conf_matrix[0,1])\n",
    "        f1 = (2*precision*recall)/(precision+recall)\n",
    "        \n",
    "        print('Negative')\n",
    "        print('Precision: {} || Recall: {} || F1: {}'.format(precision, recall, f1))\n",
    "        \n",
    "        overall_negative_precision.append(precision)\n",
    "        overall_negative_recall.append(recall)\n",
    "        overall_negative_f1.append(f1)\n",
    "    \n",
    "    print('---------------------------')\n",
    "    print('Positive')\n",
    "    print('Overall Precision: {} (+/- {}) || Overall Recall: {} (+/- {}) || Overall F1: {} (+/- {})'.format(\n",
    "                                                                            np.mean(overall_precision), np.std(overall_precision, axis=0),\n",
    "                                                                           np.mean(overall_recall), np.std(overall_recall, axis=0),\n",
    "                                                                            np.mean(overall_f1), np.std(overall_f1, axis=0)))\n",
    "    \n",
    "    print('Negative')\n",
    "    print('Overall Precision: {} (+/- {}) || Overall Recall: {} (+/- {}) || Overall F1: {} (+/- {})'.format(\n",
    "                                                                            np.mean(overall_negative_precision), np.std(overall_negative_precision, axis=0),\n",
    "                                                                           np.mean(overall_negative_recall), np.std(overall_negative_recall, axis=0),\n",
    "                                                                            np.mean(overall_negative_f1), np.std(overall_negative_f1, axis=0)))"
   ]
  },
  {
   "cell_type": "code",
   "execution_count": 11,
   "metadata": {},
   "outputs": [
    {
     "name": "stderr",
     "output_type": "stream",
     "text": [
      "/home/linda/anaconda3/lib/python3.7/site-packages/numpy/lib/arraysetops.py:568: FutureWarning: elementwise comparison failed; returning scalar instead, but in the future will perform elementwise comparison\n",
      "  mask |= (ar1 == a)\n",
      "/home/linda/anaconda3/lib/python3.7/site-packages/numpy/lib/arraysetops.py:568: FutureWarning: elementwise comparison failed; returning scalar instead, but in the future will perform elementwise comparison\n",
      "  mask |= (ar1 == a)\n",
      "/home/linda/anaconda3/lib/python3.7/site-packages/sklearn/linear_model/_logistic.py:940: ConvergenceWarning: lbfgs failed to converge (status=1):\n",
      "STOP: TOTAL NO. of ITERATIONS REACHED LIMIT.\n",
      "\n",
      "Increase the number of iterations (max_iter) or scale the data as shown in:\n",
      "    https://scikit-learn.org/stable/modules/preprocessing.html\n",
      "Please also refer to the documentation for alternative solver options:\n",
      "    https://scikit-learn.org/stable/modules/linear_model.html#logistic-regression\n",
      "  extra_warning_msg=_LOGISTIC_SOLVER_CONVERGENCE_MSG)\n"
     ]
    },
    {
     "name": "stdout",
     "output_type": "stream",
     "text": [
      "[[1287061   12949]\n",
      " [  21465    1381]]\n",
      "Positive\n",
      "Precision: 0.09637124912770412 || Recall: 0.06044821850652193 || F1: 0.07429524424359801\n",
      "Negative\n",
      "Precision: 0.9835960462382864 || Recall: 0.9900393073899432 || F1: 0.9868071592648137\n"
     ]
    },
    {
     "name": "stderr",
     "output_type": "stream",
     "text": [
      "/home/linda/anaconda3/lib/python3.7/site-packages/numpy/lib/arraysetops.py:568: FutureWarning: elementwise comparison failed; returning scalar instead, but in the future will perform elementwise comparison\n",
      "  mask |= (ar1 == a)\n",
      "/home/linda/anaconda3/lib/python3.7/site-packages/numpy/lib/arraysetops.py:568: FutureWarning: elementwise comparison failed; returning scalar instead, but in the future will perform elementwise comparison\n",
      "  mask |= (ar1 == a)\n",
      "/home/linda/anaconda3/lib/python3.7/site-packages/sklearn/linear_model/_logistic.py:940: ConvergenceWarning: lbfgs failed to converge (status=1):\n",
      "STOP: TOTAL NO. of ITERATIONS REACHED LIMIT.\n",
      "\n",
      "Increase the number of iterations (max_iter) or scale the data as shown in:\n",
      "    https://scikit-learn.org/stable/modules/preprocessing.html\n",
      "Please also refer to the documentation for alternative solver options:\n",
      "    https://scikit-learn.org/stable/modules/linear_model.html#logistic-regression\n",
      "  extra_warning_msg=_LOGISTIC_SOLVER_CONVERGENCE_MSG)\n"
     ]
    },
    {
     "name": "stdout",
     "output_type": "stream",
     "text": [
      "[[1288445   11565]\n",
      " [  21606    1240]]\n",
      "Positive\n",
      "Precision: 0.09683717297930496 || Recall: 0.05427645977413989 || F1: 0.06956326610754256\n",
      "Negative\n",
      "Precision: 0.9835075123029562 || Recall: 0.9911039145852725 || F1: 0.9872911016255942\n"
     ]
    },
    {
     "name": "stderr",
     "output_type": "stream",
     "text": [
      "/home/linda/anaconda3/lib/python3.7/site-packages/numpy/lib/arraysetops.py:568: FutureWarning: elementwise comparison failed; returning scalar instead, but in the future will perform elementwise comparison\n",
      "  mask |= (ar1 == a)\n",
      "/home/linda/anaconda3/lib/python3.7/site-packages/numpy/lib/arraysetops.py:568: FutureWarning: elementwise comparison failed; returning scalar instead, but in the future will perform elementwise comparison\n",
      "  mask |= (ar1 == a)\n",
      "/home/linda/anaconda3/lib/python3.7/site-packages/sklearn/linear_model/_logistic.py:940: ConvergenceWarning: lbfgs failed to converge (status=1):\n",
      "STOP: TOTAL NO. of ITERATIONS REACHED LIMIT.\n",
      "\n",
      "Increase the number of iterations (max_iter) or scale the data as shown in:\n",
      "    https://scikit-learn.org/stable/modules/preprocessing.html\n",
      "Please also refer to the documentation for alternative solver options:\n",
      "    https://scikit-learn.org/stable/modules/linear_model.html#logistic-regression\n",
      "  extra_warning_msg=_LOGISTIC_SOLVER_CONVERGENCE_MSG)\n"
     ]
    },
    {
     "name": "stdout",
     "output_type": "stream",
     "text": [
      "[[1286491   13519]\n",
      " [  21547    1299]]\n",
      "Positive\n",
      "Precision: 0.08766365231475233 || Recall: 0.05685896874726429 || F1: 0.06897833474936278\n",
      "Negative\n",
      "Precision: 0.9835272369762958 || Recall: 0.9896008492242367 || F1: 0.9865546953123563\n"
     ]
    },
    {
     "name": "stderr",
     "output_type": "stream",
     "text": [
      "/home/linda/anaconda3/lib/python3.7/site-packages/numpy/lib/arraysetops.py:568: FutureWarning: elementwise comparison failed; returning scalar instead, but in the future will perform elementwise comparison\n",
      "  mask |= (ar1 == a)\n",
      "/home/linda/anaconda3/lib/python3.7/site-packages/numpy/lib/arraysetops.py:568: FutureWarning: elementwise comparison failed; returning scalar instead, but in the future will perform elementwise comparison\n",
      "  mask |= (ar1 == a)\n",
      "/home/linda/anaconda3/lib/python3.7/site-packages/sklearn/linear_model/_logistic.py:940: ConvergenceWarning: lbfgs failed to converge (status=1):\n",
      "STOP: TOTAL NO. of ITERATIONS REACHED LIMIT.\n",
      "\n",
      "Increase the number of iterations (max_iter) or scale the data as shown in:\n",
      "    https://scikit-learn.org/stable/modules/preprocessing.html\n",
      "Please also refer to the documentation for alternative solver options:\n",
      "    https://scikit-learn.org/stable/modules/linear_model.html#logistic-regression\n",
      "  extra_warning_msg=_LOGISTIC_SOLVER_CONVERGENCE_MSG)\n"
     ]
    },
    {
     "name": "stdout",
     "output_type": "stream",
     "text": [
      "[[1288352   11658]\n",
      " [  21714    1132]]\n",
      "Positive\n",
      "Precision: 0.08850664581704457 || Recall: 0.04954915521316642 || F1: 0.06353126052306657\n",
      "Negative\n",
      "Precision: 0.9834252625440245 || Recall: 0.9910323766740256 || F1: 0.9872141654112754\n"
     ]
    },
    {
     "name": "stderr",
     "output_type": "stream",
     "text": [
      "/home/linda/anaconda3/lib/python3.7/site-packages/numpy/lib/arraysetops.py:568: FutureWarning: elementwise comparison failed; returning scalar instead, but in the future will perform elementwise comparison\n",
      "  mask |= (ar1 == a)\n",
      "/home/linda/anaconda3/lib/python3.7/site-packages/numpy/lib/arraysetops.py:568: FutureWarning: elementwise comparison failed; returning scalar instead, but in the future will perform elementwise comparison\n",
      "  mask |= (ar1 == a)\n",
      "/home/linda/anaconda3/lib/python3.7/site-packages/sklearn/linear_model/_logistic.py:940: ConvergenceWarning: lbfgs failed to converge (status=1):\n",
      "STOP: TOTAL NO. of ITERATIONS REACHED LIMIT.\n",
      "\n",
      "Increase the number of iterations (max_iter) or scale the data as shown in:\n",
      "    https://scikit-learn.org/stable/modules/preprocessing.html\n",
      "Please also refer to the documentation for alternative solver options:\n",
      "    https://scikit-learn.org/stable/modules/linear_model.html#logistic-regression\n",
      "  extra_warning_msg=_LOGISTIC_SOLVER_CONVERGENCE_MSG)\n"
     ]
    },
    {
     "name": "stdout",
     "output_type": "stream",
     "text": [
      "[[1288845   11167]\n",
      " [  21786    1063]]\n",
      "Positive\n",
      "Precision: 0.08691741618969746 || Recall: 0.04652282375596306 || F1: 0.06060606060606061\n",
      "Negative\n",
      "Precision: 0.9833774723778088 || Recall: 0.9914100792915758 || F1: 0.9873774391979294\n",
      "---------------------------\n",
      "Positive\n",
      "Overall Precision: 0.09125922728570067 (+/- 0.004395507551593891) || Overall Recall: 0.053531125199411125 (+/- 0.004988960216721335) || Overall F1: 0.0673948332459261 (+/- 0.004813312334850635)\n",
      "Negative\n",
      "Overall Precision: 0.9834867060878743 (+/- 7.712098610613848e-05) || Overall Recall: 0.9906373054330107 (+/- 0.0006932283830241917) || Overall F1: 0.9870489121623937 (+/- 0.0003151473127851246)\n"
     ]
    }
   ],
   "source": [
    "# fit LogReg\n",
    "log_reg = LogisticRegression(random_state=88)\n",
    "get_cross_validation_two_class_normal_distribution_with_undersampling(log_reg, ['instance', 'class', 'frequency', 'pidspread', 'pldspread', 'id', 'pids'])"
   ]
  },
  {
   "cell_type": "code",
   "execution_count": null,
   "metadata": {},
   "outputs": [],
   "source": []
  }
 ],
 "metadata": {
  "kernelspec": {
   "display_name": "Python 3",
   "language": "python",
   "name": "python3"
  },
  "language_info": {
   "codemirror_mode": {
    "name": "ipython",
    "version": 3
   },
   "file_extension": ".py",
   "mimetype": "text/x-python",
   "name": "python",
   "nbconvert_exporter": "python",
   "pygments_lexer": "ipython3",
   "version": "3.7.4"
  }
 },
 "nbformat": 4,
 "nbformat_minor": 2
}
