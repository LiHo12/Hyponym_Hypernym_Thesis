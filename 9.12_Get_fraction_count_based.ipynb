{
 "cells": [
  {
   "cell_type": "code",
   "execution_count": 1,
   "metadata": {},
   "outputs": [],
   "source": [
    "import pandas as pd"
   ]
  },
  {
   "cell_type": "code",
   "execution_count": 2,
   "metadata": {},
   "outputs": [],
   "source": [
    "out_folder = '/path/to/9_FINAL/data/machine_learning/count_based/cross_validation/training_fraction_normal_distribution/training_'"
   ]
  },
  {
   "cell_type": "code",
   "execution_count": 3,
   "metadata": {},
   "outputs": [],
   "source": [
    "validation_folder = '/path/to/9_FINAL/data/machine_learning/count_based/cross_validation/validation/validation_'"
   ]
  },
  {
   "cell_type": "code",
   "execution_count": null,
   "metadata": {},
   "outputs": [],
   "source": [
    "# get ids in one hot encoded to get the same ids\n",
    "training_file = '/path/to/9_FINAL/data/machine_learning/two_class/one-hot-ecoding/train/cross_validation/training_fraction_normal_distribution/training_'\n",
    "for i in range(0,5):\n",
    "    # read training file\n",
    "    training = training_file + str(i) + '.csv'\n",
    "    \n",
    "    # get id of training data\n",
    "    training_data = pd.read_csv(training,  sep=\";\")\n",
    "    training_data = training_data.id.to_list()\n",
    "    \n",
    "    # debug\n",
    "    print(f'Length file one hot encoded {len(training_data)}')\n",
    "    \n",
    "    # get the training fraction\n",
    "    training_fraction = pd.DataFrame()\n",
    "    # loop through all validation files to get the right ids\n",
    "    \n",
    "    # get indices of validation sets to check\n",
    "    sets_to_check = [0,1,2,3,4]\n",
    "    sets_to_check.remove(i) # since validation set cannot be included, excluded these observations\n",
    "    \n",
    "    for j in sets_to_check:\n",
    "        validation_file_name = validation_folder + str(j) + '.csv'\n",
    "        print(validation_file_name)\n",
    "        validation_file = pd.read_csv(validation_file_name, sep=\";\", index_col=0)\n",
    "        \n",
    "        # only get the ids of the fraction\n",
    "        validation_file = validation_file[validation_file.id.isin(training_data)]\n",
    "        \n",
    "        if len(validation_file) > 0 :\n",
    "            training_fraction = pd.concat([training_fraction, validation_file], ignore_index=True)\n",
    "    \n",
    "    # debug\n",
    "    print(f'Length of found matches {len(training_fraction)}')\n",
    "    \n",
    "    # export file\n",
    "    training_fraction.to_csv(out_folder+str(i)+'.csv', sep=\";\")"
   ]
  }
 ],
 "metadata": {
  "kernelspec": {
   "display_name": "Python 3",
   "language": "python",
   "name": "python3"
  },
  "language_info": {
   "codemirror_mode": {
    "name": "ipython",
    "version": 3
   },
   "file_extension": ".py",
   "mimetype": "text/x-python",
   "name": "python",
   "nbconvert_exporter": "python",
   "pygments_lexer": "ipython3",
   "version": "3.7.4"
  }
 },
 "nbformat": 4,
 "nbformat_minor": 2
}
