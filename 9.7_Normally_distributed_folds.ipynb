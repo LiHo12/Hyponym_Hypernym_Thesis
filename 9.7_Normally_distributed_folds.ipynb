{
 "cells": [
  {
   "cell_type": "code",
   "execution_count": 1,
   "metadata": {},
   "outputs": [],
   "source": [
    "import pandas as pd\n",
    "import os"
   ]
  },
  {
   "cell_type": "markdown",
   "metadata": {},
   "source": [
    "# 1. Stack datafolds with original class distribution for one hot encoded variables"
   ]
  },
  {
   "cell_type": "code",
   "execution_count": 2,
   "metadata": {},
   "outputs": [],
   "source": [
    "# get files\n",
    "negative = '/path/to/9_FINAL/data/machine_learning/two_class/one-hot-ecoding/train/cross_validation/negative/'\n",
    "positive = '/path/to/9_FINAL/data/machine_learning/two_class/one-hot-ecoding/train/cross_validation/positive/'\n",
    "\n",
    "negative_files = os.listdir(negative)\n",
    "positive_files = os.listdir(positive)"
   ]
  },
  {
   "cell_type": "code",
   "execution_count": 3,
   "metadata": {},
   "outputs": [
    {
     "name": "stdout",
     "output_type": "stream",
     "text": [
      "91384\n"
     ]
    }
   ],
   "source": [
    "# get length of positives\n",
    "file = 'fold_positives_0.csv'\n",
    "data = pd.read_csv(positive + file, sep=\";\")\n",
    "print(len(data)*4)"
   ]
  },
  {
   "cell_type": "code",
   "execution_count": 4,
   "metadata": {},
   "outputs": [
    {
     "name": "stdout",
     "output_type": "stream",
     "text": [
      "5200040\n"
     ]
    }
   ],
   "source": [
    "# get length of negatives in training \n",
    "file = 'fold_negatives_0.csv'\n",
    "data = pd.read_csv(negative + file, sep=\";\")\n",
    "print(len(data)*4)"
   ]
  },
  {
   "cell_type": "code",
   "execution_count": 5,
   "metadata": {},
   "outputs": [
    {
     "data": {
      "text/plain": [
       "5291424"
      ]
     },
     "execution_count": 5,
     "metadata": {},
     "output_type": "execute_result"
    }
   ],
   "source": [
    "# complete theoretic length of data \n",
    "len(data)*4 + 91384 # -> too big!"
   ]
  },
  {
   "cell_type": "code",
   "execution_count": 8,
   "metadata": {},
   "outputs": [
    {
     "name": "stdout",
     "output_type": "stream",
     "text": [
      "Training 2645714\n",
      "Training 2645714\n",
      "Training 2645714\n",
      "Training 2645714\n",
      "Training 2645712\n"
     ]
    }
   ],
   "source": [
    "# loop through all folds\n",
    "for x in range(5):\n",
    "    \n",
    "    all_positives=pd.DataFrame()\n",
    "    do_not_take_positive = str(x).join(['fold_positives_', '.csv'])\n",
    "    \n",
    "    # loop through all positives\n",
    "    for file in positive_files:\n",
    "        if file != do_not_take_positive:\n",
    "            data = pd.read_csv(positive + file, sep=\";\")\n",
    "            del data['Unnamed: 0']\n",
    "            \n",
    "            # only get 50% since size is too big\n",
    "            sample = int(0.5 * len(data))\n",
    "            data = data.sample(sample)\n",
    "            \n",
    "            # concat data to data from before\n",
    "            all_positives = pd.concat([all_positives, data])\n",
    "            del data\n",
    "    \n",
    "    all_negatives = pd.DataFrame()\n",
    "    do_not_take_negative = str(x).join(['fold_negatives_', '.csv'])\n",
    "    \n",
    "    # loop through all negatives\n",
    "    for negative_file in negative_files:\n",
    "        if negative_file != do_not_take_negative:\n",
    "            data = pd.read_csv(negative + negative_file, sep=\";\")\n",
    "            del data['Unnamed: 0']\n",
    "            \n",
    "            # only get 50% since size is too big\n",
    "            sample = int(0.5 * len(data))\n",
    "            data = data.sample(sample)\n",
    "            \n",
    "            # concat data to before\n",
    "            all_negatives = pd.concat([all_negatives, data])\n",
    "            del data\n",
    "            \n",
    "    # stack data\n",
    "    training_fold = pd.concat([all_positives, all_negatives])\n",
    "    training_fold = training_fold.sample(frac=1).reset_index(drop=True)\n",
    "    \n",
    "    # sanity check\n",
    "    print('Training {}'.format(len(training_fold)))\n",
    "    \n",
    "    # export\n",
    "    file_out = 'training_' + str(x) + '.csv'\n",
    "    training_fold.to_csv('/path/to/9_FINAL/data/machine_learning/two_class/one-hot-ecoding/train/cross_validation/training_normal_distribution/'+file_out,sep=\";\")"
   ]
  },
  {
   "cell_type": "code",
   "execution_count": 9,
   "metadata": {},
   "outputs": [
    {
     "name": "stdout",
     "output_type": "stream",
     "text": [
      "Training 1058284\n",
      "Training 1058284\n",
      "Training 1058284\n",
      "Training 1058284\n",
      "Training 1058284\n"
     ]
    }
   ],
   "source": [
    "# loop through all folds\n",
    "for x in range(5):\n",
    "    \n",
    "    all_positives=pd.DataFrame()\n",
    "    do_not_take_positive = str(x).join(['fold_positives_', '.csv'])\n",
    "    \n",
    "    # loop through all positives\n",
    "    for file in positive_files:\n",
    "        if file != do_not_take_positive:\n",
    "            data = pd.read_csv(positive + file, sep=\";\")\n",
    "            del data['Unnamed: 0']\n",
    "            \n",
    "            # only get 20% since size is too big\n",
    "            sample = int(0.2 * len(data))\n",
    "            data = data.sample(sample)\n",
    "            \n",
    "            # concat data to data from before\n",
    "            all_positives = pd.concat([all_positives, data])\n",
    "            del data\n",
    "    \n",
    "    all_negatives = pd.DataFrame()\n",
    "    do_not_take_negative = str(x).join(['fold_negatives_', '.csv'])\n",
    "    \n",
    "    # loop through all negatives\n",
    "    for negative_file in negative_files:\n",
    "        if negative_file != do_not_take_negative:\n",
    "            data = pd.read_csv(negative + negative_file, sep=\";\")\n",
    "            del data['Unnamed: 0']\n",
    "            \n",
    "            # only get 20% since size is too big\n",
    "            sample = int(0.2 * len(data))\n",
    "            data = data.sample(sample)\n",
    "            \n",
    "            # concat data to before\n",
    "            all_negatives = pd.concat([all_negatives, data])\n",
    "            del data\n",
    "            \n",
    "    # stack data\n",
    "    training_fold = pd.concat([all_positives, all_negatives])\n",
    "    training_fold = training_fold.sample(frac=1).reset_index(drop=True)\n",
    "    \n",
    "    # sanity check\n",
    "    print('Training {}'.format(len(training_fold)))\n",
    "    \n",
    "    # export\n",
    "    file_out = 'training_' + str(x) + '.csv'\n",
    "    training_fold.to_csv('/path/to/9_FINAL/data/machine_learning/two_class/one-hot-ecoding/train/cross_validation/training_fraction_normal_distribution/'+file_out,sep=\";\")"
   ]
  },
  {
   "cell_type": "code",
   "execution_count": null,
   "metadata": {},
   "outputs": [],
   "source": []
  }
 ],
 "metadata": {
  "kernelspec": {
   "display_name": "Python 3",
   "language": "python",
   "name": "python3"
  },
  "language_info": {
   "codemirror_mode": {
    "name": "ipython",
    "version": 3
   },
   "file_extension": ".py",
   "mimetype": "text/x-python",
   "name": "python",
   "nbconvert_exporter": "python",
   "pygments_lexer": "ipython3",
   "version": "3.7.4"
  }
 },
 "nbformat": 4,
 "nbformat_minor": 2
}
