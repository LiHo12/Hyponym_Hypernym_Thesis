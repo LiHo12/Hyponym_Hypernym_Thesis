{
 "cells": [
  {
   "cell_type": "code",
   "execution_count": 1,
   "metadata": {},
   "outputs": [],
   "source": [
    "import pandas as pd\n",
    "from helper import util_pids"
   ]
  },
  {
   "cell_type": "code",
   "execution_count": 3,
   "metadata": {},
   "outputs": [],
   "source": [
    "# get all pids as list\n",
    "train = pd.read_csv('/path/to/9_FINAL/data/machine_learning/two_class/one-hot-ecoding/train/cross_validation/training/training_0.csv',sep=\";\")\n",
    "train = train.drop(['Unnamed: 0', 'Unnamed: 0.1', 'instance', 'class', 'frequency', 'pidspread', 'pldspread', 'id', 'pids', 'label'], axis=1)"
   ]
  },
  {
   "cell_type": "code",
   "execution_count": 4,
   "metadata": {},
   "outputs": [
    {
     "data": {
      "text/plain": [
       "['p1', 'p10', 'p11', 'p12a', 'p12b']"
      ]
     },
     "execution_count": 4,
     "metadata": {},
     "output_type": "execute_result"
    }
   ],
   "source": [
    "# different pids\n",
    "pids = train.columns.to_list()\n",
    "pids[:5]"
   ]
  },
  {
   "cell_type": "code",
   "execution_count": 5,
   "metadata": {},
   "outputs": [
    {
     "data": {
      "text/plain": [
       "['p7', 'p8a', 'p8b', 'p8c', 'p8d']"
      ]
     },
     "execution_count": 5,
     "metadata": {},
     "output_type": "execute_result"
    }
   ],
   "source": [
    "# sanity check\n",
    "pids[-5:]"
   ]
  },
  {
   "cell_type": "code",
   "execution_count": 22,
   "metadata": {},
   "outputs": [
    {
     "name": "stdout",
     "output_type": "stream",
     "text": [
      "  instance      class  frequency  pidspread  pldspread         id  \\\n",
      "0  burslem      place          4          2          3   40086970   \n",
      "1    benny   producer          1          1          1  292471189   \n",
      "2   jasper    meeting          1          1          1  442206854   \n",
      "3    flema       band          2          2          2  195079388   \n",
      "4  eriksen  invention          1          1          1  316927756   \n",
      "\n",
      "                  pids  p1  p10  p11  ...  p42  p43  p5  p6  p7  p8a  p8b  \\\n",
      "0  [p8b, p8b, p1, p8b]   1    0    0  ...    0    0   0   0   0    0    3   \n",
      "1                [p8a]   0    0    0  ...    0    0   0   0   0    1    0   \n",
      "2                [p3a]   0    0    0  ...    0    0   0   0   0    0    0   \n",
      "3           [p8b, p8a]   0    0    0  ...    0    0   0   0   0    1    1   \n",
      "4                [p8a]   0    0    0  ...    0    0   0   0   0    1    0   \n",
      "\n",
      "   p8c  p8d  label  \n",
      "0    0    0      1  \n",
      "1    0    0      0  \n",
      "2    0    0      0  \n",
      "3    0    0      1  \n",
      "4    0    0      0  \n",
      "\n",
      "[5 rows x 66 columns]\n",
      "     instance        class  frequency  pidspread  pldspread         id  \\\n",
      "0  stimulator        group          1          1          1  474928851   \n",
      "1       jigar         film         18          2         15  201664495   \n",
      "2        rick  electrician          4          2          4  419130840   \n",
      "3    taxiride         band          2          1          2  380032734   \n",
      "4           5      vehicle          9          5          9  299393309   \n",
      "\n",
      "                                     pids  p1  p10  p11  ...  p42  p43  p5  \\\n",
      "0                                   [p3a]   0    0    0  ...    0    0   0   \n",
      "1                   [p5, p5, p5, p8a, p5]   0    0    0  ...    0    0   4   \n",
      "2                    [p8a, p8b, p8a, p8b]   0    0    0  ...    0    0   0   \n",
      "3                              [p8a, p8a]   0    0    0  ...    0    0   0   \n",
      "4  [p1, p8a, p8a, p21a, p3a, p4, p1, p8a]   2    0    0  ...    0    0   0   \n",
      "\n",
      "   p6  p7  p8a  p8b  p8c  p8d  label  \n",
      "0   0   0    0    0    0    0      1  \n",
      "1   0   0    1    0    0    0      1  \n",
      "2   0   0    2    2    0    0      0  \n",
      "3   0   0    2    0    0    0      1  \n",
      "4   0   0    3    0    0    0      1  \n",
      "\n",
      "[5 rows x 66 columns]\n",
      "    instance     class  frequency  pidspread  pldspread         id  \\\n",
      "0      creil   commune          1          1          1  229829191   \n",
      "1      uggie     actor          2          2          2  375098426   \n",
      "2    exmouth     beach          5          3          4   39130418   \n",
      "3   jaltocan      town          1          1          1  378868069   \n",
      "4  benedicto  advocate          1          1          1  409791367   \n",
      "\n",
      "                 pids  p1  p10  p11  ...  p42  p43  p5  p6  p7  p8a  p8b  p8c  \\\n",
      "0               [p8a]   0    0    0  ...    0    0   0   0   0    1    0    0   \n",
      "1          [p3a, p8a]   0    0    0  ...    0    0   0   0   0    1    0    0   \n",
      "2  [p5p1p20a, p5, p5]   1    0    0  ...    0    0   3   0   0    0    0    0   \n",
      "3               [p8a]   0    0    0  ...    0    0   0   0   0    1    0    0   \n",
      "4                [p5]   0    0    0  ...    0    0   1   0   0    0    0    0   \n",
      "\n",
      "   p8d  label  \n",
      "0    0      1  \n",
      "1    0      1  \n",
      "2    0      1  \n",
      "3    0      1  \n",
      "4    0      0  \n",
      "\n",
      "[5 rows x 66 columns]\n",
      "      instance          class  frequency  pidspread  pldspread         id  \\\n",
      "0  optometrist            gym          1          1          1  502006085   \n",
      "1         cart       buddhist          1          1          1  456072210   \n",
      "2     petersen      historian          1          1          1  183862043   \n",
      "3     delaware  correspondent          1          1          1  152629328   \n",
      "4       brogan        company          1          1          1  448630019   \n",
      "\n",
      "    pids  p1  p10  p11  ...  p42  p43  p5  p6  p7  p8a  p8b  p8c  p8d  label  \n",
      "0   [p1]   1    0    0  ...    0    0   0   0   0    0    0    0    0      0  \n",
      "1  [p8a]   0    0    0  ...    0    0   0   0   0    1    0    0    0      0  \n",
      "2  [p8a]   0    0    0  ...    0    0   0   0   0    1    0    0    0      0  \n",
      "3  [p8b]   0    0    0  ...    0    0   0   0   0    0    1    0    0      0  \n",
      "4   [p5]   0    0    0  ...    0    0   1   0   0    0    0    0    0      1  \n",
      "\n",
      "[5 rows x 66 columns]\n",
      "   instance    class  frequency  pidspread  pldspread         id  \\\n",
      "0    kaguya     name          1          1          1  499217518   \n",
      "1    jungle     wall         10          4         10  493636867   \n",
      "2       bbc    macaw          1          1          1  469883322   \n",
      "3     river  regatta          1          1          1  221966464   \n",
      "4  qassatat     food          2          1          1  376895190   \n",
      "\n",
      "                                  pids  p1  p10  p11  ...  p42  p43  p5  p6  \\\n",
      "0                                [p8a]   0    0    0  ...    0    0   0   0   \n",
      "1  [p8b, p8b, p5, p8b, p8a, p8a, p23b]   0    0    0  ...    0    0   1   0   \n",
      "2                                [p8a]   0    0    0  ...    0    0   0   0   \n",
      "3                                 [p5]   0    0    0  ...    0    0   1   0   \n",
      "4                                [p3a]   0    0    0  ...    0    0   0   0   \n",
      "\n",
      "   p7  p8a  p8b  p8c  p8d  label  \n",
      "0   0    1    0    0    0      1  \n",
      "1   0    2    3    0    0      0  \n",
      "2   0    1    0    0    0      0  \n",
      "3   0    0    0    0    0      0  \n",
      "4   0    0    0    0    0      1  \n",
      "\n",
      "[5 rows x 66 columns]\n"
     ]
    }
   ],
   "source": [
    "# calculate the counts of the data and save the files\n",
    "for x in range(5):\n",
    "    # load data\n",
    "    train = pd.read_csv('/path/to/9_FINAL/data/machine_learning/two_class/one-hot-ecoding/train/cross_validation/training/training_'+str(x)+'.csv',sep=\";\")\n",
    "    \n",
    "    # debug\n",
    "    del train['Unnamed: 0']\n",
    "    del train['Unnamed: 0.1']\n",
    "    \n",
    "    # reserve labels\n",
    "    labels = train['label']\n",
    "    \n",
    "    # only keep instance, class, frequency, pidspread, pldspread & pids from train\n",
    "    train = train[['instance', 'class', 'frequency', 'pidspread', 'pldspread', 'id', 'pids']]\n",
    "    \n",
    "    # calculate count based features\n",
    "    count_train = util_pids.append_count_pids_to_data(train, pids, 'pids')\n",
    "    \n",
    "    # append label to train\n",
    "    count_train['label'] = labels\n",
    "    print(count_train.head())\n",
    "    \n",
    "    # export data for future uses\n",
    "    count_train.to_csv('/path/to/9_FINAL/data/machine_learning/count_based/cross_validation/training/training_'+str(x)+'.csv', sep=\";\")"
   ]
  },
  {
   "cell_type": "code",
   "execution_count": 23,
   "metadata": {},
   "outputs": [
    {
     "data": {
      "text/plain": [
       "(182768, 66)"
      ]
     },
     "execution_count": 23,
     "metadata": {},
     "output_type": "execute_result"
    }
   ],
   "source": [
    "# sanity check\n",
    "count_train.shape"
   ]
  },
  {
   "cell_type": "code",
   "execution_count": 26,
   "metadata": {},
   "outputs": [
    {
     "name": "stdout",
     "output_type": "stream",
     "text": [
      "(1322856, 66)\n",
      "        instance        class  frequency  pidspread  pldspread         id  \\\n",
      "0       cuxhaven      channel          1          1          1  343190981   \n",
      "1         opioid  vasodilator          1          1          1  453050043   \n",
      "2       industry      estuary          2          1          2  344166346   \n",
      "3  screenwriting          art         17          3         16  240868865   \n",
      "4          stick     monument          3          3          3  297345077   \n",
      "\n",
      "                                                pids  p1  p10  p11  ...  p42  \\\n",
      "0                                             [p23b]   0    0    0  ...    0   \n",
      "1                                               [p5]   0    0    0  ...    0   \n",
      "2                                              [p3a]   0    0    0  ...    0   \n",
      "3  [p8ap3a, p8a, p3a, p8a, p20c, p8a, p8a, p8a, p...   0    0    0  ...    0   \n",
      "4                                   [p21a, p8b, p8a]   0    0    0  ...    0   \n",
      "\n",
      "   p43  p5  p6  p7  p8a  p8b  p8c  p8d  label  \n",
      "0    0   0   0   0    0    0    0    0      0  \n",
      "1    0   1   0   0    0    0    0    0      0  \n",
      "2    0   0   0   0    0    0    0    0      0  \n",
      "3    0   0   0   0    6    0    0    0      1  \n",
      "4    0   0   0   0    1    1    0    0      0  \n",
      "\n",
      "[5 rows x 66 columns]\n",
      "(1322856, 66)\n",
      "        instance        class  frequency  pidspread  pldspread         id  \\\n",
      "0         robbie      pianist          6          1          2  448986358   \n",
      "1  retrospective     resource          4          1          2   64023907   \n",
      "2        promise    canadians          2          2          2  318843790   \n",
      "3   underwriting     conflict          1          1          1  426591166   \n",
      "4      wikipedia  composition          4          1          4     325395   \n",
      "\n",
      "                   pids  p1  p10  p11  ...  p42  p43  p5  p6  p7  p8a  p8b  \\\n",
      "0            [p8a, p8a]   0    0    0  ...    0    0   0   0   0    2    0   \n",
      "1            [p8a, p8a]   0    0    0  ...    0    0   0   0   0    2    0   \n",
      "2           [p23d, p8a]   0    0    0  ...    0    0   0   0   0    1    0   \n",
      "3                 [p8a]   0    0    0  ...    0    0   0   0   0    1    0   \n",
      "4  [p8a, p8a, p8a, p8a]   0    0    0  ...    0    0   0   0   0    4    0   \n",
      "\n",
      "   p8c  p8d  label  \n",
      "0    0    0      0  \n",
      "1    0    0      0  \n",
      "2    0    0      0  \n",
      "3    0    0      0  \n",
      "4    0    0      0  \n",
      "\n",
      "[5 rows x 66 columns]\n",
      "(1322856, 66)\n",
      "   instance    class  frequency  pidspread  pldspread         id  \\\n",
      "0     scope     saga          3          1          3  203807714   \n",
      "1     crate  psychic          1          1          1  226787560   \n",
      "2     pilot  village          2          1          2  224145506   \n",
      "3      list    drink         85         15         62   88453005   \n",
      "4  maryland  license          7          3          6  344752612   \n",
      "\n",
      "                                                pids  p1  p10  p11  ...  p42  \\\n",
      "0                                    [p8a, p8a, p8a]   0    0    0  ...    0   \n",
      "1                                              [p8a]   0    0    0  ...    0   \n",
      "2                                         [p3a, p3a]   0    0    0  ...    0   \n",
      "3  [p5p4p8ap28dp8bp3ap43, p8a, p1p3a, p3a, p1p28b...  22    0    0  ...    0   \n",
      "4                          [p34, p26, p3a, p3a, p3a]   0    0    0  ...    0   \n",
      "\n",
      "   p43  p5  p6  p7  p8a  p8b  p8c  p8d  label  \n",
      "0    0   0   0   0    3    0    0    0      0  \n",
      "1    0   0   0   0    1    0    0    0      0  \n",
      "2    0   0   0   0    0    0    0    0      0  \n",
      "3    1   6   0   0   11    3    0    0      0  \n",
      "4    0   0   0   0    0    0    0    0      0  \n",
      "\n",
      "[5 rows x 66 columns]\n",
      "(1322856, 66)\n",
      "   instance     class  frequency  pidspread  pldspread         id  \\\n",
      "0    puzzle     robot          3          2          3  116126578   \n",
      "1     fabel      work          2          1          2  205370039   \n",
      "2   jainism      year          1          1          1   78385965   \n",
      "3  massacre  pacifist          1          1          1   57252180   \n",
      "4     right   proverb          7          4          7  226456869   \n",
      "\n",
      "                      pids  p1  p10  p11  ...  p42  p43  p5  p6  p7  p8a  p8b  \\\n",
      "0           [p8a, p8a, p5]   0    0    0  ...    0    0   1   0   0    2    0   \n",
      "1                    [p16]   0    0    0  ...    0    0   0   0   0    0    0   \n",
      "2                     [p5]   0    0    0  ...    0    0   1   0   0    0    0   \n",
      "3                    [p8b]   0    0    0  ...    0    0   0   0   0    0    1   \n",
      "4  [p8ap27a, p8a, p5, p8c]   0    0    0  ...    0    0   1   0   0    2    0   \n",
      "\n",
      "   p8c  p8d  label  \n",
      "0    0    0      0  \n",
      "1    0    0      0  \n",
      "2    0    0      0  \n",
      "3    0    0      0  \n",
      "4    1    0      0  \n",
      "\n",
      "[5 rows x 66 columns]\n",
      "(1322861, 66)\n",
      "    instance         class  frequency  pidspread  pldspread         id   pids  \\\n",
      "0     tuscon       archive          1          1          1  448551725  [p8a]   \n",
      "1     lopata  screenwriter          1          1          1   69467141  [p8a]   \n",
      "2     earwig           pet          1          1          1  402423651  [p8b]   \n",
      "3  filmmaker       machine          1          1          1   25234330   [p2]   \n",
      "4   duncombe          pond          1          1          1  379417812   [p5]   \n",
      "\n",
      "   p1  p10  p11  ...  p42  p43  p5  p6  p7  p8a  p8b  p8c  p8d  label  \n",
      "0   0    0    0  ...    0    0   0   0   0    1    0    0    0      0  \n",
      "1   0    0    0  ...    0    0   0   0   0    1    0    0    0      0  \n",
      "2   0    0    0  ...    0    0   0   0   0    0    1    0    0      0  \n",
      "3   0    0    0  ...    0    0   0   0   0    0    0    0    0      0  \n",
      "4   0    0    0  ...    0    0   1   0   0    0    0    0    0      0  \n",
      "\n",
      "[5 rows x 66 columns]\n"
     ]
    }
   ],
   "source": [
    "# calculate the counts of the data and save the files for validation splits\n",
    "for x in range(5):\n",
    "    # load data\n",
    "    validation = pd.read_csv('/path/to/9_FINAL/data/machine_learning/two_class/one-hot-ecoding/train/cross_validation/validation/val_fold_'+str(x)+'.csv',sep=\";\")\n",
    "\n",
    "    # debug\n",
    "    del validation['Unnamed: 0']\n",
    "    \n",
    "    # reserve labels\n",
    "    labels = validation['label']\n",
    "    \n",
    "    # only keep instance, class, frequency, pidspread, pldspread & pids from train\n",
    "    validation = validation[['instance', 'class', 'frequency', 'pidspread', 'pldspread', 'id', 'pids']]\n",
    "    \n",
    "    # calculate count based features\n",
    "    count_validation = util_pids.append_count_pids_to_data(validation, pids, 'pids')\n",
    "    \n",
    "    # append label to train\n",
    "    count_validation['label'] = labels\n",
    "    print(count_validation.shape)\n",
    "    print(count_validation.head())\n",
    "    \n",
    "    # export data for future uses\n",
    "    count_validation.to_csv('/path/to/9_FINAL/data/machine_learning/count_based/cross_validation/validation/validation_'+str(x)+'.csv', sep=\";\")"
   ]
  },
  {
   "cell_type": "code",
   "execution_count": 27,
   "metadata": {},
   "outputs": [
    {
     "data": {
      "text/plain": [
       "(1322861, 66)"
      ]
     },
     "execution_count": 27,
     "metadata": {},
     "output_type": "execute_result"
    }
   ],
   "source": [
    "count_validation.shape"
   ]
  },
  {
   "cell_type": "code",
   "execution_count": 6,
   "metadata": {},
   "outputs": [
    {
     "data": {
      "text/plain": [
       "Index(['Unnamed: 0', '_id', 'instance', 'class', 'frequency', 'pidspread',\n",
       "       'pldspread', 'modifications', 'p1', 'p10', 'p11', 'p12a', 'p12b',\n",
       "       'p12c', 'p13', 'p14', 'p15a', 'p15b', 'p16', 'p2', 'p20a', 'p20b',\n",
       "       'p20c', 'p20d', 'p21a', 'p21b', 'p21c', 'p21d', 'p22a', 'p22b', 'p23a',\n",
       "       'p23b', 'p23c', 'p23d', 'p23e', 'p24', 'p25', 'p26', 'p27a', 'p27b',\n",
       "       'p28a', 'p28b', 'p28c', 'p28d', 'p29a', 'p29c', 'p30a', 'p30b', 'p31a',\n",
       "       'p31b', 'p34', 'p36', 'p37', 'p38', 'p39', 'p3a', 'p4', 'p42', 'p43',\n",
       "       'p5', 'p6', 'p7', 'p8a', 'p8b', 'p8c', 'p8d'],\n",
       "      dtype='object')"
      ]
     },
     "execution_count": 6,
     "metadata": {},
     "output_type": "execute_result"
    }
   ],
   "source": [
    "# get goldstandard\n",
    "goldstandard = pd.read_csv('/path/to/9_FINAL/data/goldstandard/goldstandard_count.csv',sep=\";\")\n",
    "goldstandard.columns"
   ]
  },
  {
   "cell_type": "code",
   "execution_count": 8,
   "metadata": {},
   "outputs": [
    {
     "data": {
      "text/plain": [
       "Index(['Unnamed: 0', 'instance', 'class', 'frequency', 'pidspread',\n",
       "       'pldspread', 'id', 'pids', 'p1', 'p10', 'p11', 'p12a', 'p12b', 'p12c',\n",
       "       'p13', 'p14', 'p15a', 'p15b', 'p16', 'p2', 'p20a', 'p20b', 'p20c',\n",
       "       'p20d', 'p21a', 'p21b', 'p21c', 'p21d', 'p22a', 'p22b', 'p23a', 'p23b',\n",
       "       'p23c', 'p23d', 'p23e', 'p24', 'p25', 'p26', 'p27a', 'p27b', 'p28a',\n",
       "       'p28b', 'p28c', 'p28d', 'p29a', 'p29c', 'p30a', 'p30b', 'p31a', 'p31b',\n",
       "       'p34', 'p36', 'p37', 'p38', 'p39', 'p3a', 'p4', 'p42', 'p43', 'p5',\n",
       "       'p6', 'p7', 'p8a', 'p8b', 'p8c', 'p8d', 'label'],\n",
       "      dtype='object')"
      ]
     },
     "execution_count": 8,
     "metadata": {},
     "output_type": "execute_result"
    }
   ],
   "source": [
    "count_validation = pd.read_csv('/path/to/9_FINAL/data/machine_learning/count_based/cross_validation/validation/validation_0.csv', sep=\";\")\n",
    "count_validation.columns"
   ]
  }
 ],
 "metadata": {
  "kernelspec": {
   "display_name": "Python 3",
   "language": "python",
   "name": "python3"
  },
  "language_info": {
   "codemirror_mode": {
    "name": "ipython",
    "version": 3
   },
   "file_extension": ".py",
   "mimetype": "text/x-python",
   "name": "python",
   "nbconvert_exporter": "python",
   "pygments_lexer": "ipython3",
   "version": "3.7.4"
  }
 },
 "nbformat": 4,
 "nbformat_minor": 2
}
