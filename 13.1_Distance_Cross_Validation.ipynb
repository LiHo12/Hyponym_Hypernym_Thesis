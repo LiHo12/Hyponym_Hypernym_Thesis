{
 "cells": [
  {
   "cell_type": "code",
   "execution_count": 1,
   "metadata": {},
   "outputs": [],
   "source": [
    "import pandas as pd\n",
    "import numpy as np"
   ]
  },
  {
   "cell_type": "markdown",
   "metadata": {},
   "source": [
    "# 0. Get all data from the downsampled fold"
   ]
  },
  {
   "cell_type": "code",
   "execution_count": 10,
   "metadata": {},
   "outputs": [
    {
     "name": "stdout",
     "output_type": "stream",
     "text": [
      "Length of training file 182774\n",
      "Length of training file 182774\n",
      "Length of training file 182774\n",
      "Length of training file 182774\n",
      "Length of training file 182768\n"
     ]
    }
   ],
   "source": [
    "for i in range(0,5):\n",
    "    # loop through all folds\n",
    "    \n",
    "    # initialize empty training data frame\n",
    "    training_data = pd.DataFrame()\n",
    "    \n",
    "    # get string for training data\n",
    "    training_data_name = '/path/to/9_FINAL/data/machine_learning/two_class/one-hot-ecoding/train/cross_validation/training_downsampled/training_'\n",
    "    training_data_name += str(i) + '.csv'\n",
    "    \n",
    "    # get id in one_hot_encoded scheme\n",
    "    one_hot = pd.read_csv(training_data_name, sep=\";\", index_col=0)\n",
    "    \n",
    "    # debug\n",
    "    ids = one_hot.id.to_list()\n",
    "    \n",
    "    # loop through distance files\n",
    "    for j in range(0,5):\n",
    "        \n",
    "        distance = '/path/to/9_FINAL/data/machine_learning/two_class/distance_prepared/validation/cross_validation/means/val_fold_'\n",
    "        distance += str(j) + '.csv'\n",
    "        \n",
    "        # get distance data\n",
    "        distance = pd.read_csv(distance, sep=\";\")\n",
    "        # print(distance.head())\n",
    "        \n",
    "        # check for overlaps\n",
    "        distance = distance[distance.id.isin(ids)]\n",
    "        \n",
    "        if len(distance) > 0:\n",
    "            training_data = pd.concat([training_data,\n",
    "                                      distance], ignore_index=True)\n",
    "        \n",
    "    \n",
    "    # debug\n",
    "    print(f'Length of training file {len(training_data)}')\n",
    "    # file name for training data\n",
    "    file_name = 'training_' + str(i) + '.csv'\n",
    "    \n",
    "    # export data\n",
    "    training_data.to_csv('/path/to/9_FINAL/data/machine_learning/two_class/distance_prepared/' + file_name,\n",
    "                        sep = \";\", index=True)\n",
    "        "
   ]
  },
  {
   "cell_type": "code",
   "execution_count": 11,
   "metadata": {},
   "outputs": [
    {
     "name": "stdout",
     "output_type": "stream",
     "text": [
      "1    91387\n",
      "0    91387\n",
      "Name: label, dtype: int64\n",
      "Length of training file 182774\n",
      "1    91387\n",
      "0    91387\n",
      "Name: label, dtype: int64\n",
      "Length of training file 182774\n",
      "1    91387\n",
      "0    91387\n",
      "Name: label, dtype: int64\n",
      "Length of training file 182774\n",
      "1    91387\n",
      "0    91387\n",
      "Name: label, dtype: int64\n",
      "Length of training file 182774\n",
      "1    91384\n",
      "0    91384\n",
      "Name: label, dtype: int64\n",
      "Length of training file 182768\n"
     ]
    }
   ],
   "source": [
    "for i in range(0,5):\n",
    "    # loop through all folds\n",
    "    \n",
    "    # initialize empty training data frame\n",
    "    training_data = pd.DataFrame()\n",
    "    \n",
    "    # get string for training data\n",
    "    training_data_name = '/path/to/9_FINAL/data/machine_learning/two_class/one-hot-ecoding/train/cross_validation/training_downsampled/training_'\n",
    "    training_data_name += str(i) + '.csv'\n",
    "    \n",
    "    # get id in one_hot_encoded scheme\n",
    "    one_hot = pd.read_csv(training_data_name, sep=\";\", index_col=0)\n",
    "    \n",
    "    # debug\n",
    "    ids = one_hot.id.to_list()\n",
    "    \n",
    "    # loop through distance files\n",
    "    for j in range(0,5):\n",
    "        \n",
    "        distance = '/path/to/9_FINAL/data/machine_learning/two_class/distance_prepared/validation/cross_validation/sum/val_fold_'\n",
    "        distance += str(j) + '.csv'\n",
    "        \n",
    "        # get distance data\n",
    "        distance = pd.read_csv(distance, sep=\";\")\n",
    "        # print(distance.head())\n",
    "        \n",
    "        # check for overlaps\n",
    "        distance = distance[distance.id.isin(ids)]\n",
    "        \n",
    "        if len(distance) > 0:\n",
    "            training_data = pd.concat([training_data,\n",
    "                                      distance], ignore_index=True)\n",
    "        \n",
    "    # debug\n",
    "    print(training_data.label.value_counts())\n",
    "    \n",
    "    # debug\n",
    "    print(f'Length of training file {len(training_data)}')\n",
    "    # file name for training data\n",
    "    file_name = 'training_' + str(i) + '.csv'\n",
    "    \n",
    "    # export data\n",
    "    training_data.to_csv('/path/to/9_FINAL/data/machine_learning/two_class/distance_prepared/training_downsampled_sum/' + file_name,\n",
    "                        sep = \";\", index=True)\n",
    "        "
   ]
  }
 ],
 "metadata": {
  "kernelspec": {
   "display_name": "Python 3",
   "language": "python",
   "name": "python3"
  },
  "language_info": {
   "codemirror_mode": {
    "name": "ipython",
    "version": 3
   },
   "file_extension": ".py",
   "mimetype": "text/x-python",
   "name": "python",
   "nbconvert_exporter": "python",
   "pygments_lexer": "ipython3",
   "version": "3.7.4"
  }
 },
 "nbformat": 4,
 "nbformat_minor": 2
}
