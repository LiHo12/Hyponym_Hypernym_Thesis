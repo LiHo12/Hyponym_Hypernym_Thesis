{
 "cells": [
  {
   "cell_type": "code",
   "execution_count": 3,
   "metadata": {},
   "outputs": [],
   "source": [
    "import pandas as pd\n",
    "import os\n",
    "from collections import Counter, OrderedDict\n",
    "import numpy as np\n",
    "import matplotlib.pyplot as plt"
   ]
  },
  {
   "cell_type": "markdown",
   "metadata": {},
   "source": [
    "# WebIsALOD"
   ]
  },
  {
   "cell_type": "markdown",
   "metadata": {},
   "source": [
    "Generate some exploratory data analysis of the WebIsALOD database to scrutinize which features could be useful.\n",
    "Knowledge graphs are structured into **subject** **predicate** **object** triples.\n",
    "Here, the predicate is denoted with **isA**\n",
    "Thus, structure the further analysis into **subject** and **predicate**."
   ]
  },
  {
   "cell_type": "markdown",
   "metadata": {},
   "source": [
    "# 1. Read in Data"
   ]
  },
  {
   "cell_type": "code",
   "execution_count": 2,
   "metadata": {},
   "outputs": [],
   "source": [
    "# read in web_is_alod\n",
    "subjects = []\n",
    "objects = []\n",
    "\n",
    "webisalod = '/path/to/tuplesdb_files/' \n",
    "# download files from http://data.dws.informatik.uni-mannheim.de/webisadb/repo/tuplesdb.1.tar.gz\n",
    "\n",
    "webisalod_files = os.listdir(webisalod)"
   ]
  },
  {
   "cell_type": "code",
   "execution_count": 3,
   "metadata": {},
   "outputs": [
    {
     "name": "stdout",
     "output_type": "stream",
     "text": [
      "tuplesdb.i00.csv\n",
      "tuplesdb.i0a.csv\n",
      "tuplesdb.i0b.csv\n",
      "tuplesdb.i0c.csv\n",
      "tuplesdb.i0d.csv\n",
      "tuplesdb.i0e.csv\n",
      "tuplesdb.i0f.csv\n",
      "tuplesdb.i0g.csv\n",
      "tuplesdb.i0h.csv\n",
      "tuplesdb.i0i.csv\n",
      "tuplesdb.i0j.csv\n",
      "tuplesdb.i0k.csv\n",
      "tuplesdb.i0l.csv\n",
      "tuplesdb.i0m.csv\n",
      "tuplesdb.i0n.csv\n",
      "tuplesdb.i0o.csv\n",
      "tuplesdb.i0p.csv\n",
      "tuplesdb.i0q.csv\n",
      "tuplesdb.i0r.csv\n",
      "tuplesdb.i0s.csv\n",
      "tuplesdb.i0t.csv\n",
      "tuplesdb.i0u.csv\n",
      "tuplesdb.i0v.csv\n",
      "tuplesdb.i0w.csv\n",
      "tuplesdb.i0x.csv\n",
      "tuplesdb.i0y.csv\n",
      "tuplesdb.i0z.csv\n",
      "tuplesdb.iaa.csv\n",
      "tuplesdb.iab.csv\n",
      "tuplesdb.iac.csv\n",
      "tuplesdb.iad.csv\n",
      "tuplesdb.iae.csv\n",
      "tuplesdb.iaf.csv\n",
      "tuplesdb.iag.csv\n",
      "tuplesdb.iah.csv\n",
      "tuplesdb.iai.csv\n",
      "tuplesdb.iaj.csv\n",
      "tuplesdb.iak.csv\n",
      "tuplesdb.ial.csv\n",
      "tuplesdb.iam.csv\n",
      "tuplesdb.ian.csv\n",
      "tuplesdb.iao.csv\n",
      "tuplesdb.iap.csv\n",
      "tuplesdb.iaq.csv\n",
      "tuplesdb.iar.csv\n",
      "tuplesdb.ias.csv\n",
      "tuplesdb.iat.csv\n",
      "tuplesdb.iau.csv\n",
      "tuplesdb.iav.csv\n",
      "tuplesdb.iaw.csv\n",
      "tuplesdb.iax.csv\n",
      "tuplesdb.iay.csv\n",
      "tuplesdb.iaz.csv\n",
      "tuplesdb.iba.csv\n",
      "tuplesdb.ibb.csv\n",
      "tuplesdb.ibc.csv\n",
      "tuplesdb.ibd.csv\n",
      "tuplesdb.ibe.csv\n",
      "tuplesdb.ibf.csv\n",
      "tuplesdb.ibg.csv\n",
      "tuplesdb.ibh.csv\n",
      "tuplesdb.ibi.csv\n",
      "tuplesdb.ibj.csv\n",
      "tuplesdb.ibk.csv\n",
      "tuplesdb.ibl.csv\n",
      "tuplesdb.ibm.csv\n",
      "tuplesdb.ibn.csv\n",
      "tuplesdb.ibo.csv\n",
      "tuplesdb.ibp.csv\n",
      "tuplesdb.ibq.csv\n",
      "tuplesdb.ibr.csv\n",
      "tuplesdb.ibs.csv\n",
      "tuplesdb.ibt.csv\n",
      "tuplesdb.ibu.csv\n",
      "tuplesdb.ibv.csv\n",
      "tuplesdb.ibw.csv\n",
      "tuplesdb.ibx.csv\n",
      "tuplesdb.iby.csv\n",
      "tuplesdb.ibz.csv\n",
      "tuplesdb.ica.csv\n",
      "tuplesdb.icb.csv\n",
      "tuplesdb.icc.csv\n",
      "tuplesdb.icd.csv\n",
      "tuplesdb.ice.csv\n",
      "tuplesdb.icf.csv\n",
      "tuplesdb.icg.csv\n",
      "tuplesdb.ich.csv\n",
      "tuplesdb.ici.csv\n",
      "tuplesdb.icj.csv\n",
      "tuplesdb.ick.csv\n",
      "tuplesdb.icl.csv\n",
      "tuplesdb.icm.csv\n",
      "tuplesdb.icn.csv\n",
      "tuplesdb.icp.csv\n",
      "tuplesdb.icq.csv\n",
      "tuplesdb.icr.csv\n",
      "tuplesdb.ics.csv\n",
      "tuplesdb.ict.csv\n",
      "tuplesdb.icu.csv\n",
      "tuplesdb.icv.csv\n",
      "tuplesdb.icw.csv\n",
      "tuplesdb.icx.csv\n",
      "tuplesdb.icy.csv\n",
      "tuplesdb.icz.csv\n",
      "tuplesdb.idz.csv\n",
      "tuplesdb.idy.csv\n",
      "tuplesdb.idx.csv\n",
      "tuplesdb.idw.csv\n",
      "tuplesdb.idv.csv\n",
      "tuplesdb.idu.csv\n",
      "tuplesdb.idt.csv\n",
      "tuplesdb.ids.csv\n",
      "tuplesdb.idr.csv\n",
      "tuplesdb.idq.csv\n",
      "tuplesdb.idp.csv\n",
      "tuplesdb.ido.csv\n",
      "tuplesdb.idn.csv\n",
      "tuplesdb.idm.csv\n",
      "tuplesdb.idl.csv\n",
      "tuplesdb.idk.csv\n",
      "tuplesdb.idj.csv\n",
      "tuplesdb.idi.csv\n",
      "tuplesdb.idh.csv\n",
      "tuplesdb.idg.csv\n",
      "tuplesdb.idf.csv\n",
      "tuplesdb.ide.csv\n",
      "tuplesdb.idd.csv\n",
      "tuplesdb.idc.csv\n",
      "tuplesdb.idb.csv\n",
      "tuplesdb.ida.csv\n",
      "tuplesdb.iea.csv\n",
      "tuplesdb.ieb.csv\n",
      "tuplesdb.iec.csv\n",
      "tuplesdb.ied.csv\n",
      "tuplesdb.iee.csv\n",
      "tuplesdb.ief.csv\n",
      "tuplesdb.ieg.csv\n",
      "tuplesdb.ieh.csv\n",
      "tuplesdb.iei.csv\n",
      "tuplesdb.iej.csv\n",
      "tuplesdb.iek.csv\n",
      "tuplesdb.iel.csv\n",
      "tuplesdb.iem.csv\n",
      "tuplesdb.ien.csv\n",
      "tuplesdb.ieo.csv\n",
      "tuplesdb.iep.csv\n",
      "tuplesdb.ieq.csv\n",
      "tuplesdb.ier.csv\n",
      "tuplesdb.ies.csv\n",
      "tuplesdb.iet.csv\n",
      "tuplesdb.ieu.csv\n",
      "tuplesdb.iev.csv\n",
      "tuplesdb.iew.csv\n",
      "tuplesdb.iex.csv\n",
      "tuplesdb.iey.csv\n",
      "tuplesdb.iez.csv\n",
      "tuplesdb.ifa.csv\n",
      "tuplesdb.ifb.csv\n",
      "tuplesdb.ifc.csv\n",
      "tuplesdb.ifd.csv\n",
      "tuplesdb.ife.csv\n",
      "tuplesdb.iff.csv\n",
      "tuplesdb.ifg.csv\n",
      "tuplesdb.ifh.csv\n",
      "tuplesdb.ifi.csv\n",
      "tuplesdb.ifj.csv\n",
      "tuplesdb.ifk.csv\n",
      "tuplesdb.ifl.csv\n",
      "tuplesdb.ifm.csv\n",
      "tuplesdb.ifn.csv\n",
      "tuplesdb.ifo.csv\n",
      "tuplesdb.ifp.csv\n",
      "tuplesdb.ifq.csv\n",
      "tuplesdb.ifr.csv\n",
      "tuplesdb.ifs.csv\n",
      "tuplesdb.ift.csv\n",
      "tuplesdb.ifu.csv\n",
      "tuplesdb.ifv.csv\n",
      "tuplesdb.ifw.csv\n",
      "tuplesdb.ifx.csv\n",
      "tuplesdb.ify.csv\n",
      "tuplesdb.ifz.csv\n",
      "tuplesdb.iga.csv\n",
      "tuplesdb.igb.csv\n",
      "tuplesdb.igc.csv\n",
      "tuplesdb.igd.csv\n",
      "tuplesdb.ige.csv\n",
      "tuplesdb.igf.csv\n",
      "tuplesdb.igg.csv\n",
      "tuplesdb.igh.csv\n",
      "tuplesdb.igi.csv\n",
      "tuplesdb.igj.csv\n",
      "tuplesdb.igk.csv\n",
      "tuplesdb.igl.csv\n",
      "tuplesdb.igm.csv\n",
      "tuplesdb.ign.csv\n",
      "tuplesdb.igo.csv\n",
      "tuplesdb.igp.csv\n",
      "tuplesdb.igq.csv\n",
      "tuplesdb.igr.csv\n",
      "tuplesdb.igs.csv\n",
      "tuplesdb.igt.csv\n",
      "tuplesdb.igu.csv\n",
      "tuplesdb.igv.csv\n",
      "tuplesdb.igw.csv\n",
      "tuplesdb.igx.csv\n",
      "tuplesdb.igy.csv\n",
      "tuplesdb.igz.csv\n",
      "tuplesdb.iha.csv\n",
      "tuplesdb.ihb.csv\n",
      "tuplesdb.ihc.csv\n",
      "tuplesdb.ihd.csv\n",
      "tuplesdb.ihe.csv\n",
      "tuplesdb.ihf.csv\n",
      "tuplesdb.ihg.csv\n",
      "tuplesdb.ihh.csv\n",
      "tuplesdb.ihi.csv\n",
      "tuplesdb.ihj.csv\n",
      "tuplesdb.ihk.csv\n",
      "tuplesdb.ihl.csv\n",
      "tuplesdb.ihm.csv\n",
      "tuplesdb.ihn.csv\n",
      "tuplesdb.iho.csv\n",
      "tuplesdb.ihp.csv\n",
      "tuplesdb.ihq.csv\n",
      "tuplesdb.ihr.csv\n",
      "tuplesdb.ihs.csv\n",
      "tuplesdb.iht.csv\n",
      "tuplesdb.ihu.csv\n",
      "tuplesdb.ihv.csv\n",
      "tuplesdb.ihw.csv\n",
      "tuplesdb.ihx.csv\n",
      "tuplesdb.ihy.csv\n",
      "tuplesdb.ihz.csv\n",
      "tuplesdb.iia.csv\n",
      "tuplesdb.iib.csv\n",
      "tuplesdb.iic.csv\n",
      "tuplesdb.iid.csv\n",
      "tuplesdb.iie.csv\n",
      "tuplesdb.iif.csv\n",
      "tuplesdb.iig.csv\n",
      "tuplesdb.iih.csv\n",
      "tuplesdb.iii.csv\n",
      "tuplesdb.iij.csv\n",
      "tuplesdb.iik.csv\n",
      "tuplesdb.iil.csv\n",
      "tuplesdb.iim.csv\n",
      "tuplesdb.iin.csv\n",
      "tuplesdb.iio.csv\n",
      "tuplesdb.iip.csv\n",
      "tuplesdb.iiq.csv\n",
      "tuplesdb.iir.csv\n",
      "tuplesdb.iis.csv\n",
      "tuplesdb.iit.csv\n",
      "tuplesdb.iiu.csv\n",
      "tuplesdb.iiv.csv\n",
      "tuplesdb.iiw.csv\n",
      "tuplesdb.iix.csv\n",
      "tuplesdb.iiy.csv\n",
      "tuplesdb.iiz.csv\n",
      "tuplesdb.ija.csv\n",
      "tuplesdb.ijb.csv\n",
      "tuplesdb.ijc.csv\n",
      "tuplesdb.ijd.csv\n",
      "tuplesdb.ije.csv\n",
      "tuplesdb.ijf.csv\n",
      "tuplesdb.ijg.csv\n",
      "tuplesdb.ijh.csv\n",
      "tuplesdb.iji.csv\n",
      "tuplesdb.ijj.csv\n",
      "tuplesdb.ijk.csv\n",
      "tuplesdb.ijl.csv\n",
      "tuplesdb.ijm.csv\n",
      "tuplesdb.ijn.csv\n",
      "tuplesdb.ijo.csv\n",
      "tuplesdb.ijp.csv\n",
      "tuplesdb.ijq.csv\n",
      "tuplesdb.ijr.csv\n",
      "tuplesdb.ijs.csv\n",
      "tuplesdb.ijt.csv\n",
      "tuplesdb.iju.csv\n",
      "tuplesdb.ijv.csv\n",
      "tuplesdb.ijw.csv\n",
      "tuplesdb.ijx.csv\n",
      "tuplesdb.ijy.csv\n",
      "tuplesdb.ijz.csv\n",
      "tuplesdb.ika.csv\n",
      "tuplesdb.ikb.csv\n",
      "tuplesdb.ikc.csv\n",
      "tuplesdb.ikd.csv\n",
      "tuplesdb.ike.csv\n",
      "tuplesdb.ikf.csv\n",
      "tuplesdb.ikg.csv\n",
      "tuplesdb.ikh.csv\n",
      "tuplesdb.iki.csv\n",
      "tuplesdb.ikj.csv\n",
      "tuplesdb.ikk.csv\n",
      "tuplesdb.ikl.csv\n",
      "tuplesdb.ikm.csv\n",
      "tuplesdb.ikn.csv\n",
      "tuplesdb.iko.csv\n",
      "tuplesdb.ikp.csv\n",
      "tuplesdb.ikq.csv\n",
      "tuplesdb.ikr.csv\n",
      "tuplesdb.iks.csv\n",
      "tuplesdb.ikt.csv\n",
      "tuplesdb.iku.csv\n",
      "tuplesdb.ikv.csv\n",
      "tuplesdb.ikw.csv\n",
      "tuplesdb.ikx.csv\n",
      "tuplesdb.iky.csv\n",
      "tuplesdb.ikz.csv\n",
      "tuplesdb.ila.csv\n",
      "tuplesdb.ilb.csv\n",
      "tuplesdb.ilc.csv\n",
      "tuplesdb.ild.csv\n",
      "tuplesdb.ile.csv\n",
      "tuplesdb.ilf.csv\n",
      "tuplesdb.ilg.csv\n",
      "tuplesdb.ilh.csv\n",
      "tuplesdb.ili.csv\n",
      "tuplesdb.ilj.csv\n",
      "tuplesdb.ilk.csv\n",
      "tuplesdb.ill.csv\n",
      "tuplesdb.ilm.csv\n",
      "tuplesdb.iln.csv\n",
      "tuplesdb.ilo.csv\n",
      "tuplesdb.ilp.csv\n",
      "tuplesdb.ilq.csv\n",
      "tuplesdb.ilr.csv\n",
      "tuplesdb.ils.csv\n",
      "tuplesdb.ilt.csv\n",
      "tuplesdb.ilu.csv\n",
      "tuplesdb.ilv.csv\n",
      "tuplesdb.ilw.csv\n",
      "tuplesdb.ilx.csv\n",
      "tuplesdb.ily.csv\n",
      "tuplesdb.ilz.csv\n",
      "tuplesdb.ima.csv\n",
      "tuplesdb.imb.csv\n",
      "tuplesdb.imc.csv\n",
      "tuplesdb.imd.csv\n",
      "tuplesdb.ime.csv\n",
      "tuplesdb.imf.csv\n",
      "tuplesdb.img.csv\n",
      "tuplesdb.imh.csv\n",
      "tuplesdb.imi.csv\n",
      "tuplesdb.imj.csv\n",
      "tuplesdb.imk.csv\n",
      "tuplesdb.iml.csv\n",
      "tuplesdb.imm.csv\n",
      "tuplesdb.imn.csv\n",
      "tuplesdb.imo.csv\n",
      "tuplesdb.imp.csv\n",
      "tuplesdb.imq.csv\n",
      "tuplesdb.imr.csv\n",
      "tuplesdb.ims.csv\n",
      "tuplesdb.imt.csv\n",
      "tuplesdb.imu.csv\n",
      "tuplesdb.imv.csv\n",
      "tuplesdb.imw.csv\n",
      "tuplesdb.imx.csv\n",
      "tuplesdb.imy.csv\n",
      "tuplesdb.imz.csv\n",
      "tuplesdb.ina.csv\n",
      "tuplesdb.inb.csv\n",
      "tuplesdb.inc.csv\n",
      "tuplesdb.ind.csv\n",
      "tuplesdb.ine.csv\n",
      "tuplesdb.inf.csv\n",
      "tuplesdb.ing.csv\n",
      "tuplesdb.inh.csv\n",
      "tuplesdb.ini.csv\n",
      "tuplesdb.inj.csv\n",
      "tuplesdb.ink.csv\n",
      "tuplesdb.inl.csv\n",
      "tuplesdb.inm.csv\n",
      "tuplesdb.inn.csv\n",
      "tuplesdb.ino.csv\n",
      "tuplesdb.inp.csv\n",
      "tuplesdb.inq.csv\n",
      "tuplesdb.inr.csv\n",
      "tuplesdb.ins.csv\n",
      "tuplesdb.int.csv\n",
      "tuplesdb.inu.csv\n",
      "tuplesdb.inv.csv\n",
      "tuplesdb.inw.csv\n",
      "tuplesdb.inx.csv\n",
      "tuplesdb.iny.csv\n",
      "tuplesdb.inz.csv\n",
      "tuplesdb.ioa.csv\n",
      "tuplesdb.iob.csv\n",
      "tuplesdb.ioc.csv\n",
      "tuplesdb.iod.csv\n",
      "tuplesdb.ioe.csv\n",
      "tuplesdb.iof.csv\n",
      "tuplesdb.iog.csv\n",
      "tuplesdb.ioh.csv\n",
      "tuplesdb.ioi.csv\n",
      "tuplesdb.ioj.csv\n",
      "tuplesdb.iok.csv\n",
      "tuplesdb.iol.csv\n",
      "tuplesdb.iom.csv\n",
      "tuplesdb.ion.csv\n",
      "tuplesdb.ioo.csv\n",
      "tuplesdb.iop.csv\n",
      "tuplesdb.ioq.csv\n",
      "tuplesdb.ior.csv\n",
      "tuplesdb.ios.csv\n",
      "tuplesdb.iot.csv\n",
      "tuplesdb.iou.csv\n",
      "tuplesdb.iov.csv\n",
      "tuplesdb.iow.csv\n",
      "tuplesdb.iox.csv\n",
      "tuplesdb.ioy.csv\n",
      "tuplesdb.ioz.csv\n",
      "tuplesdb.ipa.csv\n",
      "tuplesdb.ipb.csv\n",
      "tuplesdb.ipc.csv\n",
      "tuplesdb.ipd.csv\n",
      "tuplesdb.ipe.csv\n",
      "tuplesdb.ipf.csv\n",
      "tuplesdb.ipg.csv\n",
      "tuplesdb.iph.csv\n",
      "tuplesdb.ipi.csv\n",
      "tuplesdb.ipj.csv\n",
      "tuplesdb.ipk.csv\n",
      "tuplesdb.ipl.csv\n",
      "tuplesdb.ipm.csv\n",
      "tuplesdb.ipn.csv\n",
      "tuplesdb.ipo.csv\n",
      "tuplesdb.ipp.csv\n",
      "tuplesdb.ipq.csv\n",
      "tuplesdb.ipr.csv\n",
      "tuplesdb.ips.csv\n",
      "tuplesdb.ipt.csv\n",
      "tuplesdb.ipu.csv\n",
      "tuplesdb.ipv.csv\n",
      "tuplesdb.ipw.csv\n",
      "tuplesdb.ipx.csv\n",
      "tuplesdb.ipy.csv\n",
      "tuplesdb.ipz.csv\n",
      "tuplesdb.iqa.csv\n",
      "tuplesdb.iqb.csv\n",
      "tuplesdb.iqc.csv\n",
      "tuplesdb.iqd.csv\n",
      "tuplesdb.iqe.csv\n",
      "tuplesdb.iqf.csv\n",
      "tuplesdb.iqg.csv\n",
      "tuplesdb.iqh.csv\n",
      "tuplesdb.iqi.csv\n",
      "tuplesdb.iqj.csv\n",
      "tuplesdb.iqk.csv\n",
      "tuplesdb.iql.csv\n",
      "tuplesdb.iqm.csv\n",
      "tuplesdb.iqn.csv\n",
      "tuplesdb.iqo.csv\n",
      "tuplesdb.iqp.csv\n",
      "tuplesdb.iqq.csv\n",
      "tuplesdb.iqr.csv\n",
      "tuplesdb.iqs.csv\n",
      "tuplesdb.iqt.csv\n",
      "tuplesdb.iqu.csv\n",
      "tuplesdb.iqv.csv\n",
      "tuplesdb.iqw.csv\n",
      "tuplesdb.iqx.csv\n",
      "tuplesdb.iqy.csv\n",
      "tuplesdb.iqz.csv\n",
      "tuplesdb.ira.csv\n",
      "tuplesdb.irb.csv\n",
      "tuplesdb.irc.csv\n",
      "tuplesdb.ird.csv\n",
      "tuplesdb.ire.csv\n",
      "tuplesdb.irf.csv\n",
      "tuplesdb.irg.csv\n",
      "tuplesdb.irh.csv\n",
      "tuplesdb.iri.csv\n",
      "tuplesdb.irj.csv\n",
      "tuplesdb.irk.csv\n",
      "tuplesdb.irl.csv\n",
      "tuplesdb.irm.csv\n",
      "tuplesdb.irn.csv\n"
     ]
    },
    {
     "name": "stdout",
     "output_type": "stream",
     "text": [
      "tuplesdb.iro.csv\n",
      "tuplesdb.irp.csv\n",
      "tuplesdb.irq.csv\n",
      "tuplesdb.irr.csv\n",
      "tuplesdb.irs.csv\n",
      "tuplesdb.irt.csv\n",
      "tuplesdb.iru.csv\n",
      "tuplesdb.irv.csv\n",
      "tuplesdb.irw.csv\n",
      "tuplesdb.irx.csv\n",
      "tuplesdb.iry.csv\n",
      "tuplesdb.irz.csv\n",
      "tuplesdb.isa.csv\n",
      "tuplesdb.isb.csv\n",
      "tuplesdb.isc.csv\n",
      "tuplesdb.isd.csv\n",
      "tuplesdb.ise.csv\n",
      "tuplesdb.isf.csv\n",
      "tuplesdb.isg.csv\n",
      "tuplesdb.ish.csv\n",
      "tuplesdb.isi.csv\n",
      "tuplesdb.isj.csv\n",
      "tuplesdb.isk.csv\n",
      "tuplesdb.isl.csv\n",
      "tuplesdb.ism.csv\n",
      "tuplesdb.isn.csv\n",
      "tuplesdb.iso.csv\n",
      "tuplesdb.isp.csv\n",
      "tuplesdb.isq.csv\n",
      "tuplesdb.isr.csv\n",
      "tuplesdb.iss.csv\n",
      "tuplesdb.ist.csv\n",
      "tuplesdb.isu.csv\n",
      "tuplesdb.isv.csv\n",
      "tuplesdb.isw.csv\n",
      "tuplesdb.isx.csv\n",
      "tuplesdb.isy.csv\n",
      "tuplesdb.isz.csv\n",
      "tuplesdb.ita.csv\n",
      "tuplesdb.itb.csv\n",
      "tuplesdb.itc.csv\n",
      "tuplesdb.itd.csv\n",
      "tuplesdb.ite.csv\n",
      "tuplesdb.itf.csv\n",
      "tuplesdb.itg.csv\n",
      "tuplesdb.ith.csv\n",
      "tuplesdb.iti.csv\n",
      "tuplesdb.itj.csv\n",
      "tuplesdb.itk.csv\n",
      "tuplesdb.itl.csv\n",
      "tuplesdb.itm.csv\n",
      "tuplesdb.itn.csv\n",
      "tuplesdb.ito.csv\n",
      "tuplesdb.itp.csv\n",
      "tuplesdb.itq.csv\n",
      "tuplesdb.itr.csv\n",
      "tuplesdb.its.csv\n",
      "tuplesdb.itt.csv\n",
      "tuplesdb.itu.csv\n",
      "tuplesdb.itv.csv\n",
      "tuplesdb.itw.csv\n",
      "tuplesdb.itx.csv\n",
      "tuplesdb.ity.csv\n",
      "tuplesdb.itz.csv\n",
      "tuplesdb.iua.csv\n",
      "tuplesdb.iub.csv\n",
      "tuplesdb.iuc.csv\n",
      "tuplesdb.iud.csv\n",
      "tuplesdb.iue.csv\n",
      "tuplesdb.iuf.csv\n",
      "tuplesdb.iug.csv\n",
      "tuplesdb.iuh.csv\n",
      "tuplesdb.iui.csv\n",
      "tuplesdb.iuj.csv\n",
      "tuplesdb.iuk.csv\n",
      "tuplesdb.iul.csv\n",
      "tuplesdb.ium.csv\n",
      "tuplesdb.iun.csv\n",
      "tuplesdb.iuo.csv\n",
      "tuplesdb.iup.csv\n",
      "tuplesdb.iuq.csv\n",
      "tuplesdb.iur.csv\n",
      "tuplesdb.ius.csv\n",
      "tuplesdb.iut.csv\n",
      "tuplesdb.iuu.csv\n",
      "tuplesdb.iuv.csv\n",
      "tuplesdb.iuw.csv\n",
      "tuplesdb.iux.csv\n",
      "tuplesdb.iuy.csv\n",
      "tuplesdb.iuz.csv\n",
      "tuplesdb.iva.csv\n",
      "tuplesdb.ivb.csv\n",
      "tuplesdb.ivc.csv\n",
      "tuplesdb.ivd.csv\n",
      "tuplesdb.ive.csv\n",
      "tuplesdb.ivf.csv\n",
      "tuplesdb.ivg.csv\n",
      "tuplesdb.ivh.csv\n",
      "tuplesdb.ivi.csv\n",
      "tuplesdb.ivj.csv\n",
      "tuplesdb.ivk.csv\n",
      "tuplesdb.ivl.csv\n",
      "tuplesdb.ivm.csv\n",
      "tuplesdb.ivn.csv\n",
      "tuplesdb.ivo.csv\n",
      "tuplesdb.ivp.csv\n",
      "tuplesdb.ivq.csv\n",
      "tuplesdb.ivr.csv\n",
      "tuplesdb.ivs.csv\n",
      "tuplesdb.ivt.csv\n",
      "tuplesdb.ivu.csv\n",
      "tuplesdb.ivv.csv\n",
      "tuplesdb.ivw.csv\n",
      "tuplesdb.ivx.csv\n",
      "tuplesdb.ivy.csv\n",
      "tuplesdb.ivz.csv\n",
      "tuplesdb.iwa.csv\n",
      "tuplesdb.iwb.csv\n",
      "tuplesdb.iwc.csv\n",
      "tuplesdb.iwd.csv\n",
      "tuplesdb.iwe.csv\n",
      "tuplesdb.iwf.csv\n",
      "tuplesdb.iwg.csv\n",
      "tuplesdb.iwh.csv\n",
      "tuplesdb.iwi.csv\n",
      "tuplesdb.iwj.csv\n",
      "tuplesdb.iwk.csv\n",
      "tuplesdb.iwl.csv\n",
      "tuplesdb.iwm.csv\n",
      "tuplesdb.iwn.csv\n",
      "tuplesdb.iwo.csv\n",
      "tuplesdb.iwp.csv\n",
      "tuplesdb.iwq.csv\n",
      "tuplesdb.iwr.csv\n",
      "tuplesdb.iws.csv\n",
      "tuplesdb.iwt.csv\n",
      "tuplesdb.iwu.csv\n",
      "tuplesdb.iwv.csv\n",
      "tuplesdb.iww.csv\n",
      "tuplesdb.iwx.csv\n",
      "tuplesdb.iwy.csv\n",
      "tuplesdb.iwz.csv\n",
      "tuplesdb.ixa.csv\n",
      "tuplesdb.ixb.csv\n",
      "tuplesdb.ixc.csv\n",
      "tuplesdb.ixd.csv\n",
      "tuplesdb.ixe.csv\n",
      "tuplesdb.ixf.csv\n",
      "tuplesdb.ixg.csv\n",
      "tuplesdb.ixh.csv\n",
      "tuplesdb.ixi.csv\n",
      "tuplesdb.ixj.csv\n",
      "tuplesdb.ixk.csv\n",
      "tuplesdb.ixl.csv\n",
      "tuplesdb.ixm.csv\n",
      "tuplesdb.ixn.csv\n",
      "tuplesdb.ixo.csv\n",
      "tuplesdb.ixp.csv\n",
      "tuplesdb.ixq.csv\n",
      "tuplesdb.ixr.csv\n",
      "tuplesdb.ixs.csv\n",
      "tuplesdb.ixt.csv\n",
      "tuplesdb.ixu.csv\n",
      "tuplesdb.ixv.csv\n",
      "tuplesdb.ixw.csv\n",
      "tuplesdb.ixx.csv\n",
      "tuplesdb.ixy.csv\n",
      "tuplesdb.ixz.csv\n",
      "tuplesdb.iya.csv\n",
      "tuplesdb.iyb.csv\n",
      "tuplesdb.iyc.csv\n",
      "tuplesdb.iyd.csv\n",
      "tuplesdb.iye.csv\n",
      "tuplesdb.iyf.csv\n",
      "tuplesdb.iyg.csv\n",
      "tuplesdb.iyh.csv\n",
      "tuplesdb.iyi.csv\n",
      "tuplesdb.iyj.csv\n",
      "tuplesdb.iyk.csv\n",
      "tuplesdb.iyl.csv\n",
      "tuplesdb.iym.csv\n",
      "tuplesdb.iyn.csv\n",
      "tuplesdb.iyo.csv\n",
      "tuplesdb.iyp.csv\n",
      "tuplesdb.iyq.csv\n",
      "tuplesdb.iyr.csv\n",
      "tuplesdb.iys.csv\n",
      "tuplesdb.iyt.csv\n",
      "tuplesdb.iyu.csv\n",
      "tuplesdb.iyv.csv\n",
      "tuplesdb.iyw.csv\n",
      "tuplesdb.iyx.csv\n",
      "tuplesdb.iyy.csv\n",
      "tuplesdb.iyz.csv\n",
      "tuplesdb.iza.csv\n",
      "tuplesdb.izb.csv\n",
      "tuplesdb.izc.csv\n",
      "tuplesdb.izd.csv\n",
      "tuplesdb.ize.csv\n",
      "tuplesdb.izf.csv\n",
      "tuplesdb.izg.csv\n",
      "tuplesdb.izh.csv\n",
      "tuplesdb.izi.csv\n",
      "tuplesdb.izj.csv\n",
      "tuplesdb.izk.csv\n",
      "tuplesdb.izl.csv\n",
      "tuplesdb.izm.csv\n",
      "tuplesdb.izn.csv\n",
      "tuplesdb.izo.csv\n",
      "tuplesdb.izp.csv\n",
      "tuplesdb.izq.csv\n",
      "tuplesdb.izr.csv\n",
      "tuplesdb.izs.csv\n",
      "tuplesdb.izt.csv\n",
      "tuplesdb.izu.csv\n",
      "tuplesdb.izv.csv\n",
      "tuplesdb.izw.csv\n",
      "tuplesdb.izx.csv\n",
      "tuplesdb.izy.csv\n",
      "tuplesdb.izz.csv\n"
     ]
    }
   ],
   "source": [
    "for file in webisalod_files:\n",
    "    print(file)\n",
    "    data = pd.read_csv(webisalod+file, sep=\",\")\n",
    "    \n",
    "    # get subjects and objects\n",
    "    subjects.extend(data['instance'])\n",
    "    objects.extend(data['class'])"
   ]
  },
  {
   "cell_type": "markdown",
   "metadata": {},
   "source": [
    "# 2. Subjects"
   ]
  },
  {
   "cell_type": "markdown",
   "metadata": {},
   "source": [
    "## 2.1 All subjects"
   ]
  },
  {
   "cell_type": "code",
   "execution_count": 6,
   "metadata": {},
   "outputs": [
    {
     "data": {
      "text/plain": [
       "111320907"
      ]
     },
     "execution_count": 6,
     "metadata": {},
     "output_type": "execute_result"
    }
   ],
   "source": [
    "# get number of different subjects\n",
    "len(all_data['Subjects']) # 111,320,907"
   ]
  },
  {
   "cell_type": "markdown",
   "metadata": {},
   "source": [
    "## 2.1.1 Counter of subjects"
   ]
  },
  {
   "cell_type": "code",
   "execution_count": 36,
   "metadata": {},
   "outputs": [
    {
     "data": {
      "text/plain": [
       "[('time', 82139),\n",
       " ('people', 70038),\n",
       " ('thing', 69573),\n",
       " ('year', 69547),\n",
       " ('one', 65640),\n",
       " ('the', 65418),\n",
       " ('part', 61662),\n",
       " ('system', 60410),\n",
       " ('day', 57645),\n",
       " ('case', 57577)]"
      ]
     },
     "execution_count": 36,
     "metadata": {},
     "output_type": "execute_result"
    }
   ],
   "source": [
    "# get the 10 most common terms\n",
    "counter_subjects_terms = Counter(all_data['Subjects'])\n",
    "counter_subjects_terms.most_common(10)"
   ]
  },
  {
   "cell_type": "code",
   "execution_count": 40,
   "metadata": {},
   "outputs": [],
   "source": [
    "# show magnitude by sorting by value\n",
    "counter_objects_terms_dict = OrderedDict(counter_subjects_terms) # some terms only once"
   ]
  },
  {
   "cell_type": "code",
   "execution_count": 41,
   "metadata": {},
   "outputs": [
    {
     "data": {
      "text/html": [
       "<div>\n",
       "<style scoped>\n",
       "    .dataframe tbody tr th:only-of-type {\n",
       "        vertical-align: middle;\n",
       "    }\n",
       "\n",
       "    .dataframe tbody tr th {\n",
       "        vertical-align: top;\n",
       "    }\n",
       "\n",
       "    .dataframe thead th {\n",
       "        text-align: right;\n",
       "    }\n",
       "</style>\n",
       "<table border=\"1\" class=\"dataframe\">\n",
       "  <thead>\n",
       "    <tr style=\"text-align: right;\">\n",
       "      <th></th>\n",
       "      <th>Term</th>\n",
       "      <th>Frequency</th>\n",
       "    </tr>\n",
       "  </thead>\n",
       "  <tbody>\n",
       "    <tr>\n",
       "      <td>0</td>\n",
       "      <td>2/16/2002</td>\n",
       "      <td>2</td>\n",
       "    </tr>\n",
       "    <tr>\n",
       "      <td>1</td>\n",
       "      <td>1440-1940</td>\n",
       "      <td>2</td>\n",
       "    </tr>\n",
       "    <tr>\n",
       "      <td>2</td>\n",
       "      <td>1767-1780</td>\n",
       "      <td>3</td>\n",
       "    </tr>\n",
       "    <tr>\n",
       "      <td>3</td>\n",
       "      <td>1/30/2013</td>\n",
       "      <td>3</td>\n",
       "    </tr>\n",
       "    <tr>\n",
       "      <td>4</td>\n",
       "      <td>0726-1896</td>\n",
       "      <td>1</td>\n",
       "    </tr>\n",
       "  </tbody>\n",
       "</table>\n",
       "</div>"
      ],
      "text/plain": [
       "        Term  Frequency\n",
       "0  2/16/2002          2\n",
       "1  1440-1940          2\n",
       "2  1767-1780          3\n",
       "3  1/30/2013          3\n",
       "4  0726-1896          1"
      ]
     },
     "execution_count": 41,
     "metadata": {},
     "output_type": "execute_result"
    }
   ],
   "source": [
    "# show terms and their frequencies\n",
    "subjects_terms = pd.DataFrame({'Term': list(counter_objects_terms_dict.keys()),\n",
    "                              'Frequency': list(counter_objects_terms_dict.values())})\n",
    "subjects_terms.head()"
   ]
  },
  {
   "cell_type": "code",
   "execution_count": 42,
   "metadata": {},
   "outputs": [
    {
     "data": {
      "text/html": [
       "<div>\n",
       "<style scoped>\n",
       "    .dataframe tbody tr th:only-of-type {\n",
       "        vertical-align: middle;\n",
       "    }\n",
       "\n",
       "    .dataframe tbody tr th {\n",
       "        vertical-align: top;\n",
       "    }\n",
       "\n",
       "    .dataframe thead th {\n",
       "        text-align: right;\n",
       "    }\n",
       "</style>\n",
       "<table border=\"1\" class=\"dataframe\">\n",
       "  <thead>\n",
       "    <tr style=\"text-align: right;\">\n",
       "      <th></th>\n",
       "      <th>Term</th>\n",
       "      <th>Frequency</th>\n",
       "    </tr>\n",
       "  </thead>\n",
       "  <tbody>\n",
       "    <tr>\n",
       "      <td>9365959</td>\n",
       "      <td>time</td>\n",
       "      <td>82139</td>\n",
       "    </tr>\n",
       "    <tr>\n",
       "      <td>6931750</td>\n",
       "      <td>people</td>\n",
       "      <td>70038</td>\n",
       "    </tr>\n",
       "    <tr>\n",
       "      <td>9251008</td>\n",
       "      <td>thing</td>\n",
       "      <td>69573</td>\n",
       "    </tr>\n",
       "    <tr>\n",
       "      <td>10402580</td>\n",
       "      <td>year</td>\n",
       "      <td>69547</td>\n",
       "    </tr>\n",
       "    <tr>\n",
       "      <td>6561942</td>\n",
       "      <td>one</td>\n",
       "      <td>65640</td>\n",
       "    </tr>\n",
       "  </tbody>\n",
       "</table>\n",
       "</div>"
      ],
      "text/plain": [
       "            Term  Frequency\n",
       "9365959     time      82139\n",
       "6931750   people      70038\n",
       "9251008    thing      69573\n",
       "10402580    year      69547\n",
       "6561942      one      65640"
      ]
     },
     "execution_count": 42,
     "metadata": {},
     "output_type": "execute_result"
    }
   ],
   "source": [
    "# sort by frequency \n",
    "subjects_terms = subjects_terms.sort_values(by='Frequency', ascending=False)\n",
    "subjects_terms.head() # same as before -> sanity checked "
   ]
  },
  {
   "cell_type": "code",
   "execution_count": 44,
   "metadata": {},
   "outputs": [],
   "source": [
    "# get relative Frequency of words and limit to 200 most frequent terms\n",
    "subjects_terms['Rel_Frequency'] = subjects_terms['Frequency']/subjects_terms['Frequency'].sum()*100\n",
    "subjects_terms_top = subjects_terms.head(200)"
   ]
  },
  {
   "cell_type": "code",
   "execution_count": 45,
   "metadata": {},
   "outputs": [
    {
     "data": {
      "text/html": [
       "<div>\n",
       "<style scoped>\n",
       "    .dataframe tbody tr th:only-of-type {\n",
       "        vertical-align: middle;\n",
       "    }\n",
       "\n",
       "    .dataframe tbody tr th {\n",
       "        vertical-align: top;\n",
       "    }\n",
       "\n",
       "    .dataframe thead th {\n",
       "        text-align: right;\n",
       "    }\n",
       "</style>\n",
       "<table border=\"1\" class=\"dataframe\">\n",
       "  <thead>\n",
       "    <tr style=\"text-align: right;\">\n",
       "      <th></th>\n",
       "      <th>Term</th>\n",
       "      <th>Frequency</th>\n",
       "      <th>Rel_Frequency</th>\n",
       "    </tr>\n",
       "  </thead>\n",
       "  <tbody>\n",
       "    <tr>\n",
       "      <td>9365959</td>\n",
       "      <td>time</td>\n",
       "      <td>82139</td>\n",
       "      <td>0.073786</td>\n",
       "    </tr>\n",
       "    <tr>\n",
       "      <td>6931750</td>\n",
       "      <td>people</td>\n",
       "      <td>70038</td>\n",
       "      <td>0.062915</td>\n",
       "    </tr>\n",
       "    <tr>\n",
       "      <td>9251008</td>\n",
       "      <td>thing</td>\n",
       "      <td>69573</td>\n",
       "      <td>0.062498</td>\n",
       "    </tr>\n",
       "    <tr>\n",
       "      <td>10402580</td>\n",
       "      <td>year</td>\n",
       "      <td>69547</td>\n",
       "      <td>0.062474</td>\n",
       "    </tr>\n",
       "    <tr>\n",
       "      <td>6561942</td>\n",
       "      <td>one</td>\n",
       "      <td>65640</td>\n",
       "      <td>0.058965</td>\n",
       "    </tr>\n",
       "    <tr>\n",
       "      <td>...</td>\n",
       "      <td>...</td>\n",
       "      <td>...</td>\n",
       "      <td>...</td>\n",
       "    </tr>\n",
       "    <tr>\n",
       "      <td>5286117</td>\n",
       "      <td>look</td>\n",
       "      <td>23414</td>\n",
       "      <td>0.021033</td>\n",
       "    </tr>\n",
       "    <tr>\n",
       "      <td>8615480</td>\n",
       "      <td>so</td>\n",
       "      <td>23352</td>\n",
       "      <td>0.020977</td>\n",
       "    </tr>\n",
       "    <tr>\n",
       "      <td>3008013</td>\n",
       "      <td>fan</td>\n",
       "      <td>23323</td>\n",
       "      <td>0.020951</td>\n",
       "    </tr>\n",
       "    <tr>\n",
       "      <td>76620</td>\n",
       "      <td>d</td>\n",
       "      <td>23271</td>\n",
       "      <td>0.020904</td>\n",
       "    </tr>\n",
       "    <tr>\n",
       "      <td>4312821</td>\n",
       "      <td>in</td>\n",
       "      <td>23252</td>\n",
       "      <td>0.020887</td>\n",
       "    </tr>\n",
       "  </tbody>\n",
       "</table>\n",
       "<p>200 rows × 3 columns</p>\n",
       "</div>"
      ],
      "text/plain": [
       "            Term  Frequency  Rel_Frequency\n",
       "9365959     time      82139       0.073786\n",
       "6931750   people      70038       0.062915\n",
       "9251008    thing      69573       0.062498\n",
       "10402580    year      69547       0.062474\n",
       "6561942      one      65640       0.058965\n",
       "...          ...        ...            ...\n",
       "5286117     look      23414       0.021033\n",
       "8615480       so      23352       0.020977\n",
       "3008013      fan      23323       0.020951\n",
       "76620          d      23271       0.020904\n",
       "4312821       in      23252       0.020887\n",
       "\n",
       "[200 rows x 3 columns]"
      ]
     },
     "execution_count": 45,
     "metadata": {},
     "output_type": "execute_result"
    }
   ],
   "source": [
    "subjects_terms_top"
   ]
  },
  {
   "cell_type": "code",
   "execution_count": 58,
   "metadata": {},
   "outputs": [
    {
     "data": {
      "image/png": "[encoded data removed]",
      "text/plain": [
       "<Figure size 936x576 with 1 Axes>"
      ]
     },
     "metadata": {
      "needs_background": "light"
     },
     "output_type": "display_data"
    }
   ],
   "source": [
    "# show Zipf's law with bar chart\n",
    "y_pos = np.arange(len(subjects_terms_top))\n",
    "\n",
    "fig = plt.figure(figsize=(13,8))\n",
    "plt.bar(y_pos, subjects_terms_top['Frequency'])\n",
    "#plt.xticks(y_pos, subjects_terms['Term'])\n",
    "# don't show x-ticks since it is unreadable\n",
    "plt.tick_params(axis='x',which='both', bottom=False, top=False,labelbottom=False)\n",
    "plt.xlabel('Term', fontsize=14)\n",
    "plt.ylabel('Frequency', fontsize=14)\n",
    "plt.title('Subject Term Frequency in WebIsALOD for 200 most common Subjects', fontsize=14)\n",
    "plt.show()"
   ]
  },
  {
   "cell_type": "code",
   "execution_count": 47,
   "metadata": {},
   "outputs": [
    {
     "name": "stdout",
     "output_type": "stream",
     "text": [
      "The top 5 terms account for 0.3206378834121429% of all occurrences\n"
     ]
    }
   ],
   "source": [
    "# show how much top five terms contribute to frequency relatively\n",
    "print('The top 5 terms account for {}% of all occurrences'.format(subjects_terms_top.head()['Rel_Frequency'].sum()))"
   ]
  },
  {
   "cell_type": "code",
   "execution_count": 48,
   "metadata": {},
   "outputs": [
    {
     "name": "stdout",
     "output_type": "stream",
     "text": [
      "The top 5 terms account for 356937 of all occurrences\n"
     ]
    }
   ],
   "source": [
    "# show how much top five terms contribute to frequency absolutely\n",
    "print('The top 5 terms account for {} of all occurrences'.format(subjects_terms_top.head()['Frequency'].sum()))"
   ]
  },
  {
   "cell_type": "code",
   "execution_count": 50,
   "metadata": {},
   "outputs": [
    {
     "data": {
      "text/plain": [
       "12.382992890993483"
      ]
     },
     "execution_count": 50,
     "metadata": {},
     "output_type": "execute_result"
    }
   ],
   "source": [
    "# subset subjects which occur less or equal than five times\n",
    "subjects_less_than_five = subjects_terms[subjects_terms['Frequency'] <= 5]\n",
    "subjects_less_than_five.Rel_Frequency.sum()"
   ]
  },
  {
   "cell_type": "code",
   "execution_count": 51,
   "metadata": {},
   "outputs": [
    {
     "data": {
      "text/plain": [
       "13784860"
      ]
     },
     "execution_count": 51,
     "metadata": {},
     "output_type": "execute_result"
    }
   ],
   "source": [
    "subjects_less_than_five.Frequency.sum()"
   ]
  },
  {
   "cell_type": "markdown",
   "metadata": {},
   "source": [
    "### 2.1.2 Length of subject"
   ]
  },
  {
   "cell_type": "code",
   "execution_count": 102,
   "metadata": {},
   "outputs": [
    {
     "name": "stdout",
     "output_type": "stream",
     "text": [
      "111320907\n"
     ]
    }
   ],
   "source": [
    "length_subjects = []\n",
    "\n",
    "# get all lengths\n",
    "for subj in list(all_data['Subjects']):\n",
    "    # loop through all subjects\n",
    "    length_subjects.append(len(str(subj)))\n",
    "    \n",
    "print(len(length_subjects)) # sanity check"
   ]
  },
  {
   "cell_type": "code",
   "execution_count": 103,
   "metadata": {},
   "outputs": [
    {
     "data": {
      "text/plain": [
       "6.991664378013017"
      ]
     },
     "execution_count": 103,
     "metadata": {},
     "output_type": "execute_result"
    }
   ],
   "source": [
    "# print mean\n",
    "np.mean(length_subjects)"
   ]
  },
  {
   "cell_type": "markdown",
   "metadata": {},
   "source": [
    "## 2.2 Subjects without duplicates"
   ]
  },
  {
   "cell_type": "code",
   "execution_count": 5,
   "metadata": {},
   "outputs": [
    {
     "data": {
      "text/plain": [
       "10533636"
      ]
     },
     "execution_count": 5,
     "metadata": {},
     "output_type": "execute_result"
    }
   ],
   "source": [
    "# get wo duplicates\n",
    "subjects_wo_duplicates = list(set(subjects))\n",
    "len(subjects_wo_duplicates)"
   ]
  },
  {
   "cell_type": "code",
   "execution_count": 10,
   "metadata": {},
   "outputs": [],
   "source": [
    "# first letter of subjects\n",
    "subjects_first_letter = [str(x)[0] for x in subjects]"
   ]
  },
  {
   "cell_type": "code",
   "execution_count": 13,
   "metadata": {},
   "outputs": [
    {
     "data": {
      "text/plain": [
       "[('s', 11550601),\n",
       " ('p', 8453937),\n",
       " ('m', 7381439),\n",
       " ('a', 7281247),\n",
       " ('b', 6721223),\n",
       " ('c', 6638590),\n",
       " ('t', 6145387),\n",
       " ('d', 5783702),\n",
       " ('r', 5613686),\n",
       " ('f', 4761145)]"
      ]
     },
     "execution_count": 13,
     "metadata": {},
     "output_type": "execute_result"
    }
   ],
   "source": [
    "# get 10 most frequent letters\n",
    "counter_subjects = Counter(subjects_first_letter)\n",
    "counter_subjects.most_common(10)"
   ]
  },
  {
   "cell_type": "code",
   "execution_count": 6,
   "metadata": {},
   "outputs": [],
   "source": [
    "# how many tokens in subjects\n",
    "subjects_token = [len(str(x).split(' ')) for x in subjects]"
   ]
  },
  {
   "cell_type": "code",
   "execution_count": 7,
   "metadata": {},
   "outputs": [
    {
     "data": {
      "text/plain": [
       "1.0"
      ]
     },
     "execution_count": 7,
     "metadata": {},
     "output_type": "execute_result"
    }
   ],
   "source": [
    "np.mean(subjects_token)"
   ]
  },
  {
   "cell_type": "markdown",
   "metadata": {},
   "source": [
    "# 3. Objects"
   ]
  },
  {
   "cell_type": "markdown",
   "metadata": {},
   "source": [
    "## 3.1 Objects with duplicates"
   ]
  },
  {
   "cell_type": "code",
   "execution_count": 14,
   "metadata": {},
   "outputs": [],
   "source": [
    "# first letter of objects\n",
    "objects_first_letter = [str(x)[0] for x in objects]"
   ]
  },
  {
   "cell_type": "code",
   "execution_count": 15,
   "metadata": {},
   "outputs": [
    {
     "data": {
      "text/plain": [
       "[('s', 12128812),\n",
       " ('c', 11133437),\n",
       " ('p', 9998261),\n",
       " ('a', 7281844),\n",
       " ('m', 6769702),\n",
       " ('t', 6479541),\n",
       " ('d', 5782385),\n",
       " ('r', 5637120),\n",
       " ('b', 5580964),\n",
       " ('f', 5169434)]"
      ]
     },
     "execution_count": 15,
     "metadata": {},
     "output_type": "execute_result"
    }
   ],
   "source": [
    "# get 10 most frequent letters\n",
    "counter_objects = Counter(objects_first_letter)\n",
    "counter_objects.most_common(10)"
   ]
  },
  {
   "cell_type": "code",
   "execution_count": 16,
   "metadata": {},
   "outputs": [],
   "source": [
    "# how many tokens in objects\n",
    "objects_token = [len(str(x).split(' ')) for x in objects]"
   ]
  },
  {
   "cell_type": "code",
   "execution_count": 20,
   "metadata": {},
   "outputs": [
    {
     "data": {
      "text/plain": [
       "1.0"
      ]
     },
     "execution_count": 20,
     "metadata": {},
     "output_type": "execute_result"
    }
   ],
   "source": [
    "np.mean(objects_token)"
   ]
  },
  {
   "cell_type": "code",
   "execution_count": 26,
   "metadata": {},
   "outputs": [
    {
     "data": {
      "text/plain": [
       "1"
      ]
     },
     "execution_count": 26,
     "metadata": {},
     "output_type": "execute_result"
    }
   ],
   "source": [
    "len(objects[0].split(' '))"
   ]
  },
  {
   "cell_type": "markdown",
   "metadata": {},
   "source": [
    "### 3.1.1 Term Frequency"
   ]
  },
  {
   "cell_type": "code",
   "execution_count": 52,
   "metadata": {},
   "outputs": [
    {
     "data": {
      "text/plain": [
       "[('member', 280811),\n",
       " ('thing', 241721),\n",
       " ('part', 215144),\n",
       " ('place', 206761),\n",
       " ('company', 205749),\n",
       " ('number', 192409),\n",
       " ('example', 186573),\n",
       " ('group', 181879),\n",
       " ('system', 176611),\n",
       " ('man', 174512)]"
      ]
     },
     "execution_count": 52,
     "metadata": {},
     "output_type": "execute_result"
    }
   ],
   "source": [
    "# get the 10 most common terms for the objects\n",
    "counter_objects_terms = Counter(all_data['Objects'])\n",
    "counter_objects_terms.most_common(10)"
   ]
  },
  {
   "cell_type": "code",
   "execution_count": 53,
   "metadata": {},
   "outputs": [],
   "source": [
    "# show magnitude by sorting by value\n",
    "counter_objects_terms_dict = OrderedDict(counter_objects_terms) # some terms only once"
   ]
  },
  {
   "cell_type": "code",
   "execution_count": 54,
   "metadata": {},
   "outputs": [
    {
     "data": {
      "text/html": [
       "<div>\n",
       "<style scoped>\n",
       "    .dataframe tbody tr th:only-of-type {\n",
       "        vertical-align: middle;\n",
       "    }\n",
       "\n",
       "    .dataframe tbody tr th {\n",
       "        vertical-align: top;\n",
       "    }\n",
       "\n",
       "    .dataframe thead th {\n",
       "        text-align: right;\n",
       "    }\n",
       "</style>\n",
       "<table border=\"1\" class=\"dataframe\">\n",
       "  <thead>\n",
       "    <tr style=\"text-align: right;\">\n",
       "      <th></th>\n",
       "      <th>Term</th>\n",
       "      <th>Frequency</th>\n",
       "    </tr>\n",
       "  </thead>\n",
       "  <tbody>\n",
       "    <tr>\n",
       "      <td>0</td>\n",
       "      <td>personality</td>\n",
       "      <td>26983</td>\n",
       "    </tr>\n",
       "    <tr>\n",
       "      <td>1</td>\n",
       "      <td>declamation</td>\n",
       "      <td>143</td>\n",
       "    </tr>\n",
       "    <tr>\n",
       "      <td>2</td>\n",
       "      <td>publication</td>\n",
       "      <td>32444</td>\n",
       "    </tr>\n",
       "    <tr>\n",
       "      <td>3</td>\n",
       "      <td>institution</td>\n",
       "      <td>41439</td>\n",
       "    </tr>\n",
       "    <tr>\n",
       "      <td>4</td>\n",
       "      <td>residential</td>\n",
       "      <td>1949</td>\n",
       "    </tr>\n",
       "  </tbody>\n",
       "</table>\n",
       "</div>"
      ],
      "text/plain": [
       "          Term  Frequency\n",
       "0  personality      26983\n",
       "1  declamation        143\n",
       "2  publication      32444\n",
       "3  institution      41439\n",
       "4  residential       1949"
      ]
     },
     "execution_count": 54,
     "metadata": {},
     "output_type": "execute_result"
    }
   ],
   "source": [
    "# show terms and their frequencies\n",
    "objects_terms = pd.DataFrame({'Term': list(counter_objects_terms_dict.keys()),\n",
    "                              'Frequency': list(counter_objects_terms_dict.values())})\n",
    "objects_terms.head()"
   ]
  },
  {
   "cell_type": "code",
   "execution_count": 55,
   "metadata": {},
   "outputs": [
    {
     "data": {
      "text/html": [
       "<div>\n",
       "<style scoped>\n",
       "    .dataframe tbody tr th:only-of-type {\n",
       "        vertical-align: middle;\n",
       "    }\n",
       "\n",
       "    .dataframe tbody tr th {\n",
       "        vertical-align: top;\n",
       "    }\n",
       "\n",
       "    .dataframe thead th {\n",
       "        text-align: right;\n",
       "    }\n",
       "</style>\n",
       "<table border=\"1\" class=\"dataframe\">\n",
       "  <thead>\n",
       "    <tr style=\"text-align: right;\">\n",
       "      <th></th>\n",
       "      <th>Term</th>\n",
       "      <th>Frequency</th>\n",
       "    </tr>\n",
       "  </thead>\n",
       "  <tbody>\n",
       "    <tr>\n",
       "      <td>6976</td>\n",
       "      <td>member</td>\n",
       "      <td>280811</td>\n",
       "    </tr>\n",
       "    <tr>\n",
       "      <td>2670</td>\n",
       "      <td>thing</td>\n",
       "      <td>241721</td>\n",
       "    </tr>\n",
       "    <tr>\n",
       "      <td>12368</td>\n",
       "      <td>part</td>\n",
       "      <td>215144</td>\n",
       "    </tr>\n",
       "    <tr>\n",
       "      <td>2663</td>\n",
       "      <td>place</td>\n",
       "      <td>206761</td>\n",
       "    </tr>\n",
       "    <tr>\n",
       "      <td>93</td>\n",
       "      <td>company</td>\n",
       "      <td>205749</td>\n",
       "    </tr>\n",
       "  </tbody>\n",
       "</table>\n",
       "</div>"
      ],
      "text/plain": [
       "          Term  Frequency\n",
       "6976    member     280811\n",
       "2670     thing     241721\n",
       "12368     part     215144\n",
       "2663     place     206761\n",
       "93     company     205749"
      ]
     },
     "execution_count": 55,
     "metadata": {},
     "output_type": "execute_result"
    }
   ],
   "source": [
    "# sort by frequency \n",
    "objects_terms = objects_terms.sort_values(by='Frequency', ascending=False)\n",
    "objects_terms.head() # same as before -> sanity checked "
   ]
  },
  {
   "cell_type": "code",
   "execution_count": 56,
   "metadata": {},
   "outputs": [
    {
     "data": {
      "text/html": [
       "<div>\n",
       "<style scoped>\n",
       "    .dataframe tbody tr th:only-of-type {\n",
       "        vertical-align: middle;\n",
       "    }\n",
       "\n",
       "    .dataframe tbody tr th {\n",
       "        vertical-align: top;\n",
       "    }\n",
       "\n",
       "    .dataframe thead th {\n",
       "        text-align: right;\n",
       "    }\n",
       "</style>\n",
       "<table border=\"1\" class=\"dataframe\">\n",
       "  <thead>\n",
       "    <tr style=\"text-align: right;\">\n",
       "      <th></th>\n",
       "      <th>Term</th>\n",
       "      <th>Frequency</th>\n",
       "      <th>Rel_Frequency</th>\n",
       "    </tr>\n",
       "  </thead>\n",
       "  <tbody>\n",
       "    <tr>\n",
       "      <td>6976</td>\n",
       "      <td>member</td>\n",
       "      <td>280811</td>\n",
       "      <td>0.252254</td>\n",
       "    </tr>\n",
       "    <tr>\n",
       "      <td>2670</td>\n",
       "      <td>thing</td>\n",
       "      <td>241721</td>\n",
       "      <td>0.217139</td>\n",
       "    </tr>\n",
       "    <tr>\n",
       "      <td>12368</td>\n",
       "      <td>part</td>\n",
       "      <td>215144</td>\n",
       "      <td>0.193265</td>\n",
       "    </tr>\n",
       "    <tr>\n",
       "      <td>2663</td>\n",
       "      <td>place</td>\n",
       "      <td>206761</td>\n",
       "      <td>0.185734</td>\n",
       "    </tr>\n",
       "    <tr>\n",
       "      <td>93</td>\n",
       "      <td>company</td>\n",
       "      <td>205749</td>\n",
       "      <td>0.184825</td>\n",
       "    </tr>\n",
       "    <tr>\n",
       "      <td>...</td>\n",
       "      <td>...</td>\n",
       "      <td>...</td>\n",
       "      <td>...</td>\n",
       "    </tr>\n",
       "    <tr>\n",
       "      <td>12363</td>\n",
       "      <td>role</td>\n",
       "      <td>48439</td>\n",
       "      <td>0.043513</td>\n",
       "    </tr>\n",
       "    <tr>\n",
       "      <td>2709</td>\n",
       "      <td>guest</td>\n",
       "      <td>48378</td>\n",
       "      <td>0.043458</td>\n",
       "    </tr>\n",
       "    <tr>\n",
       "      <td>105</td>\n",
       "      <td>picture</td>\n",
       "      <td>48259</td>\n",
       "      <td>0.043351</td>\n",
       "    </tr>\n",
       "    <tr>\n",
       "      <td>2844</td>\n",
       "      <td>field</td>\n",
       "      <td>48226</td>\n",
       "      <td>0.043322</td>\n",
       "    </tr>\n",
       "    <tr>\n",
       "      <td>6823</td>\n",
       "      <td>location</td>\n",
       "      <td>48213</td>\n",
       "      <td>0.043310</td>\n",
       "    </tr>\n",
       "  </tbody>\n",
       "</table>\n",
       "<p>200 rows × 3 columns</p>\n",
       "</div>"
      ],
      "text/plain": [
       "           Term  Frequency  Rel_Frequency\n",
       "6976     member     280811       0.252254\n",
       "2670      thing     241721       0.217139\n",
       "12368      part     215144       0.193265\n",
       "2663      place     206761       0.185734\n",
       "93      company     205749       0.184825\n",
       "...         ...        ...            ...\n",
       "12363      role      48439       0.043513\n",
       "2709      guest      48378       0.043458\n",
       "105     picture      48259       0.043351\n",
       "2844      field      48226       0.043322\n",
       "6823   location      48213       0.043310\n",
       "\n",
       "[200 rows x 3 columns]"
      ]
     },
     "execution_count": 56,
     "metadata": {},
     "output_type": "execute_result"
    }
   ],
   "source": [
    "# get relative Frequency of words and limit to 200 most frequent terms\n",
    "objects_terms['Rel_Frequency'] = objects_terms['Frequency']/objects_terms['Frequency'].sum()*100\n",
    "objects_terms_top = objects_terms.head(200)\n",
    "objects_terms_top"
   ]
  },
  {
   "cell_type": "code",
   "execution_count": 57,
   "metadata": {},
   "outputs": [
    {
     "data": {
      "image/png": "[encoded data removed]",
      "text/plain": [
       "<Figure size 936x576 with 1 Axes>"
      ]
     },
     "metadata": {
      "needs_background": "light"
     },
     "output_type": "display_data"
    }
   ],
   "source": [
    "# show Zipf's law with bar chart\n",
    "y_pos = np.arange(len(objects_terms_top))\n",
    "\n",
    "fig = plt.figure(figsize=(13,8))\n",
    "plt.bar(y_pos, objects_terms_top['Frequency'])\n",
    "#plt.xticks(y_pos, subjects_terms['Term'])\n",
    "# don't show x-ticks since it is unreadable\n",
    "plt.tick_params(axis='x',which='both', bottom=False, top=False,labelbottom=False)\n",
    "plt.xlabel('Term', fontsize=14)\n",
    "plt.ylabel('Frequency', fontsize=14)\n",
    "plt.title('Object Term Frequency in WebIsALOD for 200 most common Objects', fontsize=14)\n",
    "plt.show()"
   ]
  },
  {
   "cell_type": "code",
   "execution_count": 95,
   "metadata": {},
   "outputs": [
    {
     "data": {
      "text/plain": [
       "Text(0, 0.5, 'Frequency')"
      ]
     },
     "execution_count": 95,
     "metadata": {},
     "output_type": "execute_result"
    },
    {
     "data": {
      "image/png": "[encoded data removed]",
      "text/plain": [
       "<Figure size 1008x432 with 2 Axes>"
      ]
     },
     "metadata": {
      "needs_background": "light"
     },
     "output_type": "display_data"
    }
   ],
   "source": [
    "# show Zipf's law with bar chart\n",
    "\n",
    "fig, (ax1, ax2) = plt.subplots(1, 2, figsize = (14,6))\n",
    "fig.suptitle('Term Frequency in WebIsALOD for 200 most common Subjects and Objects', fontsize=20)\n",
    "#fig.set_xlabel('Term')\n",
    "\n",
    "y_pos = np.arange(len(subjects_terms_top))\n",
    "\n",
    "#plt.subplot(1,2,2)\n",
    "#fig = plt.figure(figsize=(13,8))\n",
    "ax1.bar(y_pos, subjects_terms_top['Frequency'])\n",
    "#plt.xticks(y_pos, subjects_terms['Term'])\n",
    "# don't show x-ticks since it is unreadable\n",
    "ax1.set_ylim([0, objects_terms_top.Frequency.max()])\n",
    "ax1.tick_params(axis='x',which='both', bottom=False, top=False,labelbottom=False)\n",
    "ax1.set_xlabel('Term', fontsize=18)\n",
    "ax1.set_ylabel('Frequency', fontsize=18)\n",
    "#plt.title('Subject Term Frequency in WebIsALOD for 200 most common Subjects', fontsize=14)\n",
    "#plt.show()\n",
    "\n",
    "#y_pos = np.arange(len(objects_terms_top))\n",
    "ax2.bar(y_pos, objects_terms_top['Frequency'])\n",
    "#plt.xticks(y_pos, subjects_terms['Term'])\n",
    "# don't show x-ticks since it is unreadable\n",
    "ax2.tick_params(axis='x',which='both', bottom=False, top=False,labelbottom=False)\n",
    "ax2.set_xlabel('Term', fontsize=18)\n",
    "ax2.set_ylabel('Frequency', fontsize=18)\n",
    "#plt.title('Object Term Frequency in WebIsALOD for 200 most common Objects', fontsize=14)\n",
    "\n",
    "\n"
   ]
  },
  {
   "cell_type": "code",
   "execution_count": 59,
   "metadata": {},
   "outputs": [
    {
     "name": "stdout",
     "output_type": "stream",
     "text": [
      "The top 5 terms account for 1.0332165187982163% of all occurrences\n"
     ]
    }
   ],
   "source": [
    "# show how much top five terms contribute to frequency relatively\n",
    "print('The top 5 terms account for {}% of all occurrences'.format(objects_terms_top.head()['Rel_Frequency'].sum()))"
   ]
  },
  {
   "cell_type": "code",
   "execution_count": 60,
   "metadata": {},
   "outputs": [
    {
     "name": "stdout",
     "output_type": "stream",
     "text": [
      "The top 5 terms account for 1150186 of all occurrences\n"
     ]
    }
   ],
   "source": [
    "# show how much top five terms contribute to frequency absolutely\n",
    "print('The top 5 terms account for {} of all occurrences'.format(objects_terms_top.head()['Frequency'].sum()))"
   ]
  },
  {
   "cell_type": "code",
   "execution_count": 63,
   "metadata": {},
   "outputs": [
    {
     "data": {
      "text/plain": [
       "5.584931139664561"
      ]
     },
     "execution_count": 63,
     "metadata": {},
     "output_type": "execute_result"
    }
   ],
   "source": [
    "# subset subjects which occur less or equal than five times\n",
    "objects_less_than_five = objects_terms[objects_terms['Frequency'] <= 5]\n",
    "objects_less_than_five.Rel_Frequency.sum()"
   ]
  },
  {
   "cell_type": "code",
   "execution_count": 64,
   "metadata": {},
   "outputs": [
    {
     "data": {
      "text/plain": [
       "6217196"
      ]
     },
     "execution_count": 64,
     "metadata": {},
     "output_type": "execute_result"
    }
   ],
   "source": [
    "objects_less_than_five.Frequency.sum()"
   ]
  },
  {
   "cell_type": "markdown",
   "metadata": {},
   "source": [
    "## 3.1.2 Get Length of the Objects (without duplicates)"
   ]
  },
  {
   "cell_type": "markdown",
   "metadata": {},
   "source": [
    "Do the objects differ from the string length?"
   ]
  },
  {
   "cell_type": "code",
   "execution_count": 97,
   "metadata": {},
   "outputs": [
    {
     "name": "stdout",
     "output_type": "stream",
     "text": [
      "111320907\n"
     ]
    }
   ],
   "source": [
    "length_objects = []\n",
    "\n",
    "# get all lengths\n",
    "for obj in list(all_data['Objects']):\n",
    "    # loop through all objects\n",
    "    length_objects.append(len(str(obj)))\n",
    "    \n",
    "print(len(length_objects)) # sanity check"
   ]
  },
  {
   "cell_type": "code",
   "execution_count": 101,
   "metadata": {},
   "outputs": [
    {
     "data": {
      "text/plain": [
       "1"
      ]
     },
     "execution_count": 101,
     "metadata": {},
     "output_type": "execute_result"
    }
   ],
   "source": [
    "# get min length\n",
    "np.min(length_objects)"
   ]
  },
  {
   "cell_type": "code",
   "execution_count": 99,
   "metadata": {},
   "outputs": [
    {
     "data": {
      "text/plain": [
       "6.89888651374355"
      ]
     },
     "execution_count": 99,
     "metadata": {},
     "output_type": "execute_result"
    }
   ],
   "source": [
    "# get mean length\n",
    "np.mean(length_objects)"
   ]
  },
  {
   "cell_type": "code",
   "execution_count": 100,
   "metadata": {},
   "outputs": [
    {
     "data": {
      "text/plain": [
       "340"
      ]
     },
     "execution_count": 100,
     "metadata": {},
     "output_type": "execute_result"
    }
   ],
   "source": [
    "# get max length\n",
    "np.max(length_objects)"
   ]
  },
  {
   "cell_type": "markdown",
   "metadata": {},
   "source": [
    "## 3.2 Objects without duplicates"
   ]
  },
  {
   "cell_type": "code",
   "execution_count": 8,
   "metadata": {},
   "outputs": [
    {
     "data": {
      "text/plain": [
       "4616239"
      ]
     },
     "execution_count": 8,
     "metadata": {},
     "output_type": "execute_result"
    }
   ],
   "source": [
    "# get wo duplicates\n",
    "objects_wo_duplicates = list(set(objects))\n",
    "len(objects_wo_duplicates)"
   ]
  }
 ],
 "metadata": {
  "kernelspec": {
   "display_name": "Python 3",
   "language": "python",
   "name": "python3"
  },
  "language_info": {
   "codemirror_mode": {
    "name": "ipython",
    "version": 3
   },
   "file_extension": ".py",
   "mimetype": "text/x-python",
   "name": "python",
   "nbconvert_exporter": "python",
   "pygments_lexer": "ipython3",
   "version": "3.7.4"
  }
 },
 "nbformat": 4,
 "nbformat_minor": 2
}
